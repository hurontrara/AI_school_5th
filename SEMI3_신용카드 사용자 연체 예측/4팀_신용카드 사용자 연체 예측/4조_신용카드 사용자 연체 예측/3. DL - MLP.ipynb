{
 "cells": [
  {
   "cell_type": "markdown",
   "id": "0a2514f9",
   "metadata": {},
   "source": [
    "# Deep Learning Modeling"
   ]
  },
  {
   "cell_type": "markdown",
   "id": "50dcc478",
   "metadata": {},
   "source": [
    "### Tabnet install"
   ]
  },
  {
   "cell_type": "code",
   "execution_count": 19,
   "id": "2d506db1",
   "metadata": {},
   "outputs": [],
   "source": [
    "#!pip install --upgrade tabnet"
   ]
  },
  {
   "cell_type": "code",
   "execution_count": 20,
   "id": "2a635edc",
   "metadata": {},
   "outputs": [],
   "source": [
    "#! pip install git+https://github.com/titu1994/tf-TabNet.git"
   ]
  },
  {
   "cell_type": "markdown",
   "id": "ea69cbfe",
   "metadata": {},
   "source": [
    "# Library import"
   ]
  },
  {
   "cell_type": "code",
   "execution_count": 21,
   "id": "eaec5561",
   "metadata": {},
   "outputs": [],
   "source": [
    "# !pip install tensorboard\n",
    "import pandas as pd\n",
    "import numpy as np\n",
    "import datetime, os\n",
    "\n",
    "import tensorflow as tf\n",
    "import tensorflow.keras as keras\n",
    "from tensorflow.keras.layers import Dense, Dropout, Flatten, Input\n",
    "from tensorflow.keras import models, layers, activations, initializers, losses, optimizers, metrics, datasets, utils\n",
    "from tensorflow.keras.models import Sequential, load_model\n",
    "from tensorflow.keras.callbacks import TensorBoard\n",
    "\n",
    "from sklearn import model_selection\n",
    "\n",
    "import matplotlib.pyplot as plt\n",
    "\n",
    "from tabnet import TabNet, TabNetClassifier"
   ]
  },
  {
   "cell_type": "markdown",
   "id": "a7b3b48e",
   "metadata": {},
   "source": [
    "## Multi-Layer Perceptrons"
   ]
  },
  {
   "cell_type": "markdown",
   "id": "3963e69d",
   "metadata": {},
   "source": [
    "### 1. Data Loading & Preprocessing"
   ]
  },
  {
   "cell_type": "code",
   "execution_count": 22,
   "id": "e2067b33",
   "metadata": {},
   "outputs": [
    {
     "data": {
      "text/html": [
       "<div>\n",
       "<style scoped>\n",
       "    .dataframe tbody tr th:only-of-type {\n",
       "        vertical-align: middle;\n",
       "    }\n",
       "\n",
       "    .dataframe tbody tr th {\n",
       "        vertical-align: top;\n",
       "    }\n",
       "\n",
       "    .dataframe thead th {\n",
       "        text-align: right;\n",
       "    }\n",
       "</style>\n",
       "<table border=\"1\" class=\"dataframe\">\n",
       "  <thead>\n",
       "    <tr style=\"text-align: right;\">\n",
       "      <th></th>\n",
       "      <th>gender</th>\n",
       "      <th>car</th>\n",
       "      <th>reality</th>\n",
       "      <th>child_num</th>\n",
       "      <th>income_total</th>\n",
       "      <th>income_type</th>\n",
       "      <th>edu_type</th>\n",
       "      <th>family_type</th>\n",
       "      <th>house_type</th>\n",
       "      <th>work_phone</th>\n",
       "      <th>phone</th>\n",
       "      <th>email</th>\n",
       "      <th>occyp_type</th>\n",
       "      <th>family_size</th>\n",
       "      <th>begin_month</th>\n",
       "      <th>credit</th>\n",
       "      <th>Age</th>\n",
       "      <th>worked_year</th>\n",
       "    </tr>\n",
       "  </thead>\n",
       "  <tbody>\n",
       "    <tr>\n",
       "      <th>0</th>\n",
       "      <td>0</td>\n",
       "      <td>0</td>\n",
       "      <td>0</td>\n",
       "      <td>0</td>\n",
       "      <td>202500.0</td>\n",
       "      <td>3</td>\n",
       "      <td>1</td>\n",
       "      <td>0</td>\n",
       "      <td>2</td>\n",
       "      <td>0</td>\n",
       "      <td>0</td>\n",
       "      <td>0</td>\n",
       "      <td>0</td>\n",
       "      <td>2</td>\n",
       "      <td>-6</td>\n",
       "      <td>1</td>\n",
       "      <td>38</td>\n",
       "      <td>13</td>\n",
       "    </tr>\n",
       "    <tr>\n",
       "      <th>1</th>\n",
       "      <td>0</td>\n",
       "      <td>0</td>\n",
       "      <td>1</td>\n",
       "      <td>1</td>\n",
       "      <td>247500.0</td>\n",
       "      <td>3</td>\n",
       "      <td>0</td>\n",
       "      <td>2</td>\n",
       "      <td>0</td>\n",
       "      <td>0</td>\n",
       "      <td>0</td>\n",
       "      <td>1</td>\n",
       "      <td>0</td>\n",
       "      <td>3</td>\n",
       "      <td>-5</td>\n",
       "      <td>1</td>\n",
       "      <td>31</td>\n",
       "      <td>4</td>\n",
       "    </tr>\n",
       "  </tbody>\n",
       "</table>\n",
       "</div>"
      ],
      "text/plain": [
       "   gender  car  reality  child_num  income_total  income_type  edu_type  \\\n",
       "0       0    0        0          0      202500.0            3         1   \n",
       "1       0    0        1          1      247500.0            3         0   \n",
       "\n",
       "   family_type  house_type  work_phone  phone  email  occyp_type  family_size  \\\n",
       "0            0           2           0      0      0           0            2   \n",
       "1            2           0           0      0      1           0            3   \n",
       "\n",
       "   begin_month  credit  Age  worked_year  \n",
       "0           -6       1   38           13  \n",
       "1           -5       1   31            4  "
      ]
     },
     "execution_count": 22,
     "metadata": {},
     "output_type": "execute_result"
    }
   ],
   "source": [
    "df = pd.read_csv('preprocessing.csv')\n",
    "del df['Unnamed: 0']\n",
    "df.head(2)"
   ]
  },
  {
   "cell_type": "markdown",
   "id": "4a39dc2a",
   "metadata": {},
   "source": [
    "### 2. Split data (Train X / Test X / Train X / Test Y)"
   ]
  },
  {
   "cell_type": "code",
   "execution_count": 23,
   "id": "34aa3ebf",
   "metadata": {},
   "outputs": [],
   "source": [
    "df_target = df[['credit']].copy()\n",
    "df_feature = df.drop(['credit'], axis=1).copy()"
   ]
  },
  {
   "cell_type": "code",
   "execution_count": 24,
   "id": "21c29da5",
   "metadata": {},
   "outputs": [],
   "source": [
    "train_x, test_x, train_y, test_y = model_selection.train_test_split(df_feature, df_target, test_size=0.3, random_state=0)"
   ]
  },
  {
   "cell_type": "code",
   "execution_count": 25,
   "id": "8b254b4c",
   "metadata": {},
   "outputs": [
    {
     "name": "stdout",
     "output_type": "stream",
     "text": [
      "(18519, 17)\n",
      "(7938, 17)\n",
      "(18519, 1)\n",
      "(7938, 1)\n"
     ]
    }
   ],
   "source": [
    "print(train_x.shape)\n",
    "print(test_x.shape)\n",
    "print(train_y.shape)\n",
    "print(test_y.shape)"
   ]
  },
  {
   "cell_type": "markdown",
   "id": "16adecf3",
   "metadata": {},
   "source": [
    "### 3. Change normal labels to one-hot labels"
   ]
  },
  {
   "cell_type": "code",
   "execution_count": 26,
   "id": "e64f3f7e",
   "metadata": {},
   "outputs": [
    {
     "name": "stdout",
     "output_type": "stream",
     "text": [
      "(18519, 3)\n",
      "(7938, 3)\n"
     ]
    }
   ],
   "source": [
    "train_y = utils.to_categorical(train_y) # 0 or 1 -> one-hot vector\n",
    "test_y = utils.to_categorical(test_y) # 0 or 1 -> one-hot vector\n",
    "\n",
    "print(train_y.shape)\n",
    "print(test_y.shape)"
   ]
  },
  {
   "cell_type": "markdown",
   "id": "620e5a60",
   "metadata": {},
   "source": [
    "### 4. Build & Train the model"
   ]
  },
  {
   "cell_type": "code",
   "execution_count": 27,
   "id": "f21547ac",
   "metadata": {},
   "outputs": [],
   "source": [
    "os.environ['TF_CPP_MIN_LOG_LEVEL'] = '2' # https://stackoverflow.com/questions/35911252/disable-tensorflow-debugging-information"
   ]
  },
  {
   "cell_type": "markdown",
   "id": "22918c8c",
   "metadata": {},
   "source": [
    "2 Layer"
   ]
  },
  {
   "cell_type": "code",
   "execution_count": 28,
   "id": "67dba67e",
   "metadata": {},
   "outputs": [
    {
     "name": "stdout",
     "output_type": "stream",
     "text": [
      "Epoch 1/20\n",
      "130/130 [==============================] - 9s 61ms/step - loss: 1.1910 - categorical_accuracy: 0.5688 - val_loss: 0.9605 - val_categorical_accuracy: 0.6283\n",
      "Epoch 2/20\n",
      "130/130 [==============================] - 7s 55ms/step - loss: 0.9616 - categorical_accuracy: 0.6069 - val_loss: 0.9433 - val_categorical_accuracy: 0.6395\n",
      "Epoch 3/20\n",
      "130/130 [==============================] - 7s 51ms/step - loss: 0.9401 - categorical_accuracy: 0.6202 - val_loss: 0.9265 - val_categorical_accuracy: 0.6395\n",
      "Epoch 4/20\n",
      "130/130 [==============================] - 7s 57ms/step - loss: 0.9232 - categorical_accuracy: 0.6285 - val_loss: 0.9011 - val_categorical_accuracy: 0.6395\n",
      "Epoch 5/20\n",
      "130/130 [==============================] - 9s 68ms/step - loss: 0.9094 - categorical_accuracy: 0.6346 - val_loss: 0.9246 - val_categorical_accuracy: 0.6395\n",
      "Epoch 6/20\n",
      "130/130 [==============================] - 9s 72ms/step - loss: 0.9052 - categorical_accuracy: 0.6375 - val_loss: 0.9014 - val_categorical_accuracy: 0.6395\n",
      "Epoch 7/20\n",
      "130/130 [==============================] - 11s 88ms/step - loss: 0.9037 - categorical_accuracy: 0.6385 - val_loss: 0.9214 - val_categorical_accuracy: 0.6395\n",
      "Epoch 8/20\n",
      "130/130 [==============================] - 13s 99ms/step - loss: 0.8965 - categorical_accuracy: 0.6389 - val_loss: 0.9042 - val_categorical_accuracy: 0.6395\n",
      "Epoch 9/20\n",
      "130/130 [==============================] - 10s 79ms/step - loss: 0.8950 - categorical_accuracy: 0.6400 - val_loss: 0.8945 - val_categorical_accuracy: 0.6395\n",
      "Epoch 10/20\n",
      "130/130 [==============================] - 12s 93ms/step - loss: 0.8936 - categorical_accuracy: 0.6402 - val_loss: 0.9017 - val_categorical_accuracy: 0.6395\n",
      "Epoch 11/20\n",
      "130/130 [==============================] - 12s 89ms/step - loss: 0.8920 - categorical_accuracy: 0.6397 - val_loss: 0.9283 - val_categorical_accuracy: 0.5752\n",
      "Epoch 12/20\n",
      "130/130 [==============================] - 11s 84ms/step - loss: 0.8920 - categorical_accuracy: 0.6402 - val_loss: 0.9101 - val_categorical_accuracy: 0.6395\n",
      "Epoch 13/20\n",
      "130/130 [==============================] - 10s 80ms/step - loss: 0.8929 - categorical_accuracy: 0.6397 - val_loss: 0.8999 - val_categorical_accuracy: 0.6395\n",
      "Epoch 14/20\n",
      "130/130 [==============================] - 17s 134ms/step - loss: 0.8911 - categorical_accuracy: 0.6404 - val_loss: 0.9135 - val_categorical_accuracy: 0.6395\n",
      "Epoch 15/20\n",
      "130/130 [==============================] - 17s 133ms/step - loss: 0.8901 - categorical_accuracy: 0.6401 - val_loss: 0.8906 - val_categorical_accuracy: 0.6395\n",
      "Epoch 16/20\n",
      "130/130 [==============================] - 19s 149ms/step - loss: 0.8897 - categorical_accuracy: 0.6401 - val_loss: 0.9042 - val_categorical_accuracy: 0.6404\n",
      "Epoch 17/20\n",
      "130/130 [==============================] - 29s 225ms/step - loss: 0.8900 - categorical_accuracy: 0.6396 - val_loss: 0.9067 - val_categorical_accuracy: 0.6395\n",
      "Epoch 18/20\n",
      "130/130 [==============================] - 19s 143ms/step - loss: 0.8885 - categorical_accuracy: 0.6395 - val_loss: 0.9347 - val_categorical_accuracy: 0.6395\n",
      "Epoch 19/20\n",
      "130/130 [==============================] - 16s 122ms/step - loss: 0.8889 - categorical_accuracy: 0.6401 - val_loss: 0.9061 - val_categorical_accuracy: 0.6395\n",
      "Epoch 20/20\n",
      "130/130 [==============================] - 18s 142ms/step - loss: 0.8862 - categorical_accuracy: 0.6401 - val_loss: 0.9057 - val_categorical_accuracy: 0.6391\n",
      "249/249 [==============================] - 15s 61ms/step - loss: 0.8888 - categorical_accuracy: 0.6442\n",
      "===================================\n",
      "loss (cross-entropy) : 0.8887707591056824\n",
      "test accuracy : 0.6442429423332214\n"
     ]
    }
   ],
   "source": [
    "# Build up the \"Sequence\" of layers (Linear stack of layers)\n",
    "model = models.Sequential() \n",
    "\n",
    "# Dense-layer (with he-initialization)\n",
    "model.add(layers.Dense(input_dim=17, units=256, activation=None, kernel_initializer=initializers.he_uniform()))\n",
    "model.add(layers.BatchNormalization()) # Batch normalization\n",
    "model.add(layers.Activation('elu'))\n",
    "\n",
    "model.add(layers.Dense(units=512, activation=None, kernel_initializer=initializers.he_uniform()))\n",
    "model.add(layers.Activation('elu')) \n",
    "\n",
    "model.add(layers.Dense(units=512, activation=None, kernel_initializer=initializers.he_uniform()))\n",
    "model.add(layers.Activation('elu'))\n",
    "\n",
    "model.add(layers.Dense(units=256, activation=None, kernel_initializer=initializers.he_uniform()))\n",
    "model.add(layers.Activation('elu')) \n",
    "model.add(layers.Dropout(rate=0.5)) # Dropout\n",
    "\n",
    "model.add(layers.Dense(units=3, activation='softmax')) # Apply softmax function on model's output\n",
    "\n",
    "# Model Compile\n",
    "model.compile(optimizer=optimizers.Adam(),            # optimizer = Adam_optimizer\n",
    "              loss=losses.categorical_crossentropy,   # loss = categorical_crossentropy\n",
    "              metrics=[metrics.categorical_accuracy]) # metrics = categorical_accuracy\n",
    "\n",
    "# Fit the model on training data\n",
    "hist_model = model.fit(train_x, train_y, batch_size=100, epochs=20, validation_split=0.3) \n",
    "\n",
    "# Evaluate the model on test data\n",
    "\n",
    "result = model.evaluate(test_x, test_y)\n",
    "print('===================================')\n",
    "print('loss (cross-entropy) :', result[0])\n",
    "print('test accuracy :', result[1])"
   ]
  },
  {
   "cell_type": "code",
   "execution_count": 11,
   "id": "2c108218",
   "metadata": {},
   "outputs": [
    {
     "data": {
      "image/png": "[encoded data removed]",
      "text/plain": [
       "<Figure size 432x288 with 1 Axes>"
      ]
     },
     "metadata": {
      "needs_background": "light"
     },
     "output_type": "display_data"
    },
    {
     "data": {
      "image/png": "[encoded data removed]",
      "text/plain": [
       "<Figure size 432x288 with 1 Axes>"
      ]
     },
     "metadata": {
      "needs_background": "light"
     },
     "output_type": "display_data"
    }
   ],
   "source": [
    "# Visualize\n",
    "\n",
    "# Accuracy graph\n",
    "acc = hist_model.history['categorical_accuracy']\n",
    "val_acc = hist_model.history['val_categorical_accuracy']\n",
    "\n",
    "x_len = np.arange(len(acc))\n",
    "\n",
    "plt.plot(x_len, acc, marker='.', c='blue', label=\"Train-set Acc.\")\n",
    "plt.plot(x_len, val_acc, marker='.', c='red', label=\"Validation-set Acc.\")\n",
    "\n",
    "plt.legend(loc='lower right')\n",
    "plt.grid()\n",
    "plt.xlabel('epoch')\n",
    "plt.ylabel('Accuracy')\n",
    "plt.show()\n",
    "\n",
    "# Loss graph\n",
    "loss = hist_model.history['loss']\n",
    "val_loss = hist_model.history['val_loss']\n",
    "\n",
    "x_len = np.arange(len(acc))\n",
    "\n",
    "plt.plot(x_len, loss, marker='.', c='blue', label=\"Train-set loss.\")\n",
    "plt.plot(x_len, val_loss, marker='.', c='red', label=\"Validation-set loss.\")\n",
    "\n",
    "plt.legend(loc='upper right')\n",
    "plt.grid()\n",
    "plt.xlabel('epoch')\n",
    "plt.ylabel('Cross-entropy')\n",
    "plt.show()"
   ]
  },
  {
   "cell_type": "markdown",
   "id": "6ac8f345",
   "metadata": {},
   "source": [
    "3 Layers"
   ]
  },
  {
   "cell_type": "code",
   "execution_count": 12,
   "id": "64d6056a",
   "metadata": {},
   "outputs": [
    {
     "name": "stdout",
     "output_type": "stream",
     "text": [
      "Epoch 1/20\n",
      "130/130 [==============================] - 4s 29ms/step - loss: 1.2623 - categorical_accuracy: 0.5597 - val_loss: 0.9619 - val_categorical_accuracy: 0.6406\n",
      "Epoch 2/20\n",
      "130/130 [==============================] - 4s 27ms/step - loss: 0.9742 - categorical_accuracy: 0.5979 - val_loss: 0.9072 - val_categorical_accuracy: 0.6395\n",
      "Epoch 3/20\n",
      "130/130 [==============================] - 4s 27ms/step - loss: 0.9371 - categorical_accuracy: 0.6235 - val_loss: 0.9104 - val_categorical_accuracy: 0.6395\n",
      "Epoch 4/20\n",
      "130/130 [==============================] - 4s 27ms/step - loss: 0.9188 - categorical_accuracy: 0.6312 - val_loss: 0.9228 - val_categorical_accuracy: 0.6395\n",
      "Epoch 5/20\n",
      "130/130 [==============================] - 4s 27ms/step - loss: 0.9119 - categorical_accuracy: 0.6359 - val_loss: 0.8985 - val_categorical_accuracy: 0.6395\n",
      "Epoch 6/20\n",
      "130/130 [==============================] - 4s 27ms/step - loss: 0.9010 - categorical_accuracy: 0.6393 - val_loss: 0.9329 - val_categorical_accuracy: 0.6395\n",
      "Epoch 7/20\n",
      "130/130 [==============================] - 4s 31ms/step - loss: 0.8977 - categorical_accuracy: 0.6389 - val_loss: 0.8960 - val_categorical_accuracy: 0.6395\n",
      "Epoch 8/20\n",
      "130/130 [==============================] - 4s 28ms/step - loss: 0.8989 - categorical_accuracy: 0.6387 - val_loss: 0.9013 - val_categorical_accuracy: 0.6395\n",
      "Epoch 9/20\n",
      "130/130 [==============================] - 5s 39ms/step - loss: 0.8961 - categorical_accuracy: 0.6388 - val_loss: 0.8946 - val_categorical_accuracy: 0.6395\n",
      "Epoch 10/20\n",
      "130/130 [==============================] - 4s 27ms/step - loss: 0.8963 - categorical_accuracy: 0.6401 - val_loss: 0.8952 - val_categorical_accuracy: 0.6395\n",
      "Epoch 11/20\n",
      "130/130 [==============================] - 4s 27ms/step - loss: 0.8934 - categorical_accuracy: 0.6398 - val_loss: 0.8993 - val_categorical_accuracy: 0.6395\n",
      "Epoch 12/20\n",
      "130/130 [==============================] - 4s 29ms/step - loss: 0.8907 - categorical_accuracy: 0.6394 - val_loss: 0.8984 - val_categorical_accuracy: 0.6395\n",
      "Epoch 13/20\n",
      "130/130 [==============================] - 4s 32ms/step - loss: 0.8925 - categorical_accuracy: 0.6397 - val_loss: 0.9057 - val_categorical_accuracy: 0.6395\n",
      "Epoch 14/20\n",
      "130/130 [==============================] - 4s 31ms/step - loss: 0.8942 - categorical_accuracy: 0.6401 - val_loss: 0.9070 - val_categorical_accuracy: 0.6400\n",
      "Epoch 15/20\n",
      "130/130 [==============================] - 4s 29ms/step - loss: 0.8927 - categorical_accuracy: 0.6397 - val_loss: 0.8996 - val_categorical_accuracy: 0.6395\n",
      "Epoch 16/20\n",
      "130/130 [==============================] - 4s 29ms/step - loss: 0.8935 - categorical_accuracy: 0.6397 - val_loss: 0.9014 - val_categorical_accuracy: 0.6395\n",
      "Epoch 17/20\n",
      "130/130 [==============================] - 4s 29ms/step - loss: 0.8913 - categorical_accuracy: 0.6396 - val_loss: 1.1562 - val_categorical_accuracy: 0.4890\n",
      "Epoch 18/20\n",
      "130/130 [==============================] - 4s 30ms/step - loss: 0.8938 - categorical_accuracy: 0.6390 - val_loss: 0.8977 - val_categorical_accuracy: 0.6395\n",
      "Epoch 19/20\n",
      "130/130 [==============================] - 4s 29ms/step - loss: 0.8900 - categorical_accuracy: 0.6397 - val_loss: 0.8947 - val_categorical_accuracy: 0.6395\n",
      "Epoch 20/20\n",
      "130/130 [==============================] - 4s 29ms/step - loss: 0.8903 - categorical_accuracy: 0.6405 - val_loss: 0.8921 - val_categorical_accuracy: 0.6395\n",
      "249/249 [==============================] - 3s 11ms/step - loss: 0.8783 - categorical_accuracy: 0.6444\n",
      "===================================\n",
      "loss (cross-entropy) : 0.8833393454551697\n",
      "test accuracy : 0.6443688869476318\n"
     ]
    }
   ],
   "source": [
    "# Build up the \"Sequence\" of layers (Linear stack of layers)\n",
    "model_2 = models.Sequential()\n",
    "\n",
    "# Dense-layer (with he-initialization)\n",
    "model_2.add(layers.Dense(input_dim=17, units=256, activation=None, kernel_initializer=initializers.he_uniform())) # he-uniform initialization\n",
    "model_2.add(layers.BatchNormalization()) # Batch normalization\n",
    "model_2.add(layers.Activation('elu')) # elu\n",
    "\n",
    "model_2.add(layers.Dense(units=512, activation=None, kernel_initializer=initializers.he_uniform()))\n",
    "model_2.add(layers.Activation('elu')) \n",
    "\n",
    "model_2.add(layers.Dense(units=512, activation=None, kernel_initializer=initializers.he_uniform()))\n",
    "model_2.add(layers.Activation('elu'))\n",
    "\n",
    "model_2.add(layers.Dense(units=512, activation=None, kernel_initializer=initializers.he_uniform()))\n",
    "model_2.add(layers.Activation('elu'))\n",
    "\n",
    "model_2.add(layers.Dense(units=256, activation=None, kernel_initializer=initializers.he_uniform()))\n",
    "model_2.add(layers.Activation('elu')) \n",
    "model_2.add(layers.Dropout(rate=0.5)) # Dropout\n",
    "\n",
    "model_2.add(layers.Dense(units=3, activation='softmax')) # Apply softmax function on model's output\n",
    "\n",
    "# Model Compile\n",
    "model_2.compile(optimizer=optimizers.Adam(),             # optimizer = Adam_optimizer\n",
    "              loss=losses.categorical_crossentropy,      # loss = categorical_crossentropy\n",
    "              metrics=[metrics.categorical_accuracy])    # metrics = categorical_accuracy\n",
    "\n",
    "# Fit the model on training data\n",
    "hist_model2 = model_2.fit(train_x, train_y, batch_size=100, epochs=20, validation_split=0.3)\n",
    "\n",
    "# Evaluate the model on test data\n",
    "result2 = model_2.evaluate(test_x, test_y)\n",
    "print('===================================')\n",
    "print('loss (cross-entropy) :', result[0])\n",
    "print('test accuracy :', result[1])"
   ]
  },
  {
   "cell_type": "code",
   "execution_count": 13,
   "id": "92e8d472",
   "metadata": {
    "scrolled": false
   },
   "outputs": [
    {
     "data": {
      "image/png": "[encoded data removed]",
      "text/plain": [
       "<Figure size 432x288 with 1 Axes>"
      ]
     },
     "metadata": {
      "needs_background": "light"
     },
     "output_type": "display_data"
    },
    {
     "data": {
      "image/png": "[encoded data removed]",
      "text/plain": [
       "<Figure size 432x288 with 1 Axes>"
      ]
     },
     "metadata": {
      "needs_background": "light"
     },
     "output_type": "display_data"
    }
   ],
   "source": [
    "# Visualize\n",
    "\n",
    "# Accuracy graph\n",
    "acc = hist_model2.history['categorical_accuracy']\n",
    "val_acc = hist_model2.history['val_categorical_accuracy']\n",
    "\n",
    "x_len = np.arange(len(acc))\n",
    "\n",
    "plt.plot(x_len, acc, marker='.', c='blue', label=\"Train-set Acc.\")\n",
    "plt.plot(x_len, val_acc, marker='.', c='red', label=\"Validation-set Acc.\")\n",
    "\n",
    "plt.legend(loc='lower right')\n",
    "plt.grid()\n",
    "plt.xlabel('epoch')\n",
    "plt.ylabel('Accuracy')\n",
    "plt.show()\n",
    "\n",
    "# Loss graph\n",
    "loss = hist_model2.history['loss']\n",
    "val_loss = hist_model2.history['val_loss']\n",
    "\n",
    "x_len = np.arange(len(acc))\n",
    "\n",
    "plt.plot(x_len, loss, marker='.', c='blue', label=\"Train-set loss.\")\n",
    "plt.plot(x_len, val_loss, marker='.', c='red', label=\"Validation-set loss.\")\n",
    "\n",
    "plt.legend(loc='upper right')\n",
    "plt.grid()\n",
    "plt.xlabel('epoch')\n",
    "plt.ylabel('Cross-entropy')\n",
    "plt.show()"
   ]
  },
  {
   "cell_type": "markdown",
   "id": "a1954d22",
   "metadata": {},
   "source": [
    "4 Layer"
   ]
  },
  {
   "cell_type": "code",
   "execution_count": 14,
   "id": "b72c9128",
   "metadata": {},
   "outputs": [
    {
     "name": "stdout",
     "output_type": "stream",
     "text": [
      "Epoch 1/20\n",
      "130/130 [==============================] - 5s 33ms/step - loss: 1.2769 - categorical_accuracy: 0.5489 - val_loss: 0.9123 - val_categorical_accuracy: 0.6395\n",
      "Epoch 2/20\n",
      "130/130 [==============================] - 5s 36ms/step - loss: 0.9757 - categorical_accuracy: 0.6020 - val_loss: 0.9058 - val_categorical_accuracy: 0.6395\n",
      "Epoch 3/20\n",
      "130/130 [==============================] - 4s 32ms/step - loss: 0.9362 - categorical_accuracy: 0.6252 - val_loss: 0.9133 - val_categorical_accuracy: 0.6395\n",
      "Epoch 4/20\n",
      "130/130 [==============================] - 5s 36ms/step - loss: 0.9233 - categorical_accuracy: 0.6312 - val_loss: 0.9405 - val_categorical_accuracy: 0.6395\n",
      "Epoch 5/20\n",
      "130/130 [==============================] - 4s 34ms/step - loss: 0.9126 - categorical_accuracy: 0.6356 - val_loss: 0.8975 - val_categorical_accuracy: 0.6395\n",
      "Epoch 6/20\n",
      "130/130 [==============================] - 4s 31ms/step - loss: 0.9044 - categorical_accuracy: 0.6379 - val_loss: 0.8950 - val_categorical_accuracy: 0.6395\n",
      "Epoch 7/20\n",
      "130/130 [==============================] - 4s 31ms/step - loss: 0.9026 - categorical_accuracy: 0.6383 - val_loss: 0.9006 - val_categorical_accuracy: 0.6395\n",
      "Epoch 8/20\n",
      "130/130 [==============================] - 4s 32ms/step - loss: 0.8960 - categorical_accuracy: 0.6395 - val_loss: 0.9099 - val_categorical_accuracy: 0.6395\n",
      "Epoch 9/20\n",
      "130/130 [==============================] - 4s 31ms/step - loss: 0.8980 - categorical_accuracy: 0.6394 - val_loss: 0.8920 - val_categorical_accuracy: 0.6395\n",
      "Epoch 10/20\n",
      "130/130 [==============================] - 4s 31ms/step - loss: 0.8945 - categorical_accuracy: 0.6400 - val_loss: 0.8996 - val_categorical_accuracy: 0.6395\n",
      "Epoch 11/20\n",
      "130/130 [==============================] - 5s 35ms/step - loss: 0.8982 - categorical_accuracy: 0.6394 - val_loss: 0.8944 - val_categorical_accuracy: 0.6395\n",
      "Epoch 12/20\n",
      "130/130 [==============================] - 4s 31ms/step - loss: 0.8938 - categorical_accuracy: 0.6397 - val_loss: 0.9008 - val_categorical_accuracy: 0.6395\n",
      "Epoch 13/20\n",
      "130/130 [==============================] - 5s 35ms/step - loss: 0.9205 - categorical_accuracy: 0.6326 - val_loss: 0.9174 - val_categorical_accuracy: 0.6395\n",
      "Epoch 14/20\n",
      "130/130 [==============================] - 4s 32ms/step - loss: 0.8975 - categorical_accuracy: 0.6397 - val_loss: 0.8927 - val_categorical_accuracy: 0.6395\n",
      "Epoch 15/20\n",
      "130/130 [==============================] - 4s 30ms/step - loss: 0.8975 - categorical_accuracy: 0.6397 - val_loss: 0.9006 - val_categorical_accuracy: 0.6395\n",
      "Epoch 16/20\n",
      "130/130 [==============================] - 5s 36ms/step - loss: 0.8917 - categorical_accuracy: 0.6398 - val_loss: 0.9001 - val_categorical_accuracy: 0.6395\n",
      "Epoch 17/20\n",
      "130/130 [==============================] - 4s 32ms/step - loss: 0.8910 - categorical_accuracy: 0.6398 - val_loss: 0.8925 - val_categorical_accuracy: 0.6395\n",
      "Epoch 18/20\n",
      "130/130 [==============================] - 4s 32ms/step - loss: 0.8917 - categorical_accuracy: 0.6402 - val_loss: 0.8905 - val_categorical_accuracy: 0.6395\n",
      "Epoch 19/20\n",
      "130/130 [==============================] - 4s 31ms/step - loss: 0.8934 - categorical_accuracy: 0.6399 - val_loss: 0.8914 - val_categorical_accuracy: 0.6395\n",
      "Epoch 20/20\n",
      "130/130 [==============================] - 4s 31ms/step - loss: 0.8923 - categorical_accuracy: 0.6401 - val_loss: 0.8918 - val_categorical_accuracy: 0.6395\n",
      "249/249 [==============================] - 3s 12ms/step - loss: 0.8799 - categorical_accuracy: 0.6444\n",
      "===================================\n",
      "loss (cross-entropy) : 0.8833393454551697\n",
      "test accuracy : 0.6443688869476318\n"
     ]
    }
   ],
   "source": [
    "# Build up the \"Sequence\" of layers (Linear stack of layers)\n",
    "model_3 = models.Sequential()\n",
    "\n",
    "# Dense-layer (with he-initialization)\n",
    "model_3.add(layers.Dense(input_dim=17, units=256, activation=None, kernel_initializer=initializers.he_uniform())) # he-uniform initialization\n",
    "model_3.add(layers.BatchNormalization()) # Batch normalization\n",
    "model_3.add(layers.Activation('elu')) # elu\n",
    "\n",
    "model_3.add(layers.Dense(units=512, activation=None, kernel_initializer=initializers.he_uniform()))\n",
    "model_3.add(layers.Activation('elu'))\n",
    "\n",
    "model_3.add(layers.Dense(units=512, activation=None, kernel_initializer=initializers.he_uniform()))\n",
    "model_3.add(layers.Activation('elu'))\n",
    "\n",
    "model_3.add(layers.Dense(units=512, activation=None, kernel_initializer=initializers.he_uniform()))\n",
    "model_3.add(layers.Activation('elu'))\n",
    "\n",
    "model_3.add(layers.Dense(units=512, activation=None, kernel_initializer=initializers.he_uniform()))\n",
    "model_3.add(layers.Activation('elu'))\n",
    "\n",
    "model_3.add(layers.Dense(units=256, activation=None, kernel_initializer=initializers.he_uniform()))\n",
    "model_3.add(layers.Activation('elu')) \n",
    "model_3.add(layers.Dropout(rate=0.5)) # Dropout\n",
    "\n",
    "model_3.add(layers.Dense(units=3, activation='softmax')) # Apply softmax function on model's output\n",
    "\n",
    "# Model Compile\n",
    "model_3.compile(optimizer=optimizers.Adam(),             # optimizer = Adam_optimizer\n",
    "              loss=losses.categorical_crossentropy,      # loss = categorical_crossentropy\n",
    "              metrics=[metrics.categorical_accuracy])    # metrics = categorical_accuracy\n",
    "\n",
    "# Fit the model on training data\n",
    "hist_model3 = model_3.fit(train_x, train_y, batch_size=100, epochs=20, validation_split=0.3) \n",
    "\n",
    "# \"Evaluate\" the model on test data\n",
    "result3 = model_3.evaluate(test_x, test_y)\n",
    "print('===================================')\n",
    "print('loss (cross-entropy) :', result[0])\n",
    "print('test accuracy :', result[1])"
   ]
  },
  {
   "cell_type": "code",
   "execution_count": 15,
   "id": "0b36925f",
   "metadata": {
    "scrolled": false
   },
   "outputs": [
    {
     "data": {
      "image/png": "[encoded data removed]",
      "text/plain": [
       "<Figure size 432x288 with 1 Axes>"
      ]
     },
     "metadata": {
      "needs_background": "light"
     },
     "output_type": "display_data"
    },
    {
     "data": {
      "image/png": "[encoded data removed]",
      "text/plain": [
       "<Figure size 432x288 with 1 Axes>"
      ]
     },
     "metadata": {
      "needs_background": "light"
     },
     "output_type": "display_data"
    }
   ],
   "source": [
    "# Visualize\n",
    "\n",
    "# accuracy graph\n",
    "acc = hist_model3.history['categorical_accuracy']\n",
    "val_acc = hist_model3.history['val_categorical_accuracy']\n",
    "\n",
    "x_len = np.arange(len(acc))\n",
    "\n",
    "plt.plot(x_len, acc, marker='.', c='blue', label=\"Train-set Acc.\")\n",
    "plt.plot(x_len, val_acc, marker='.', c='red', label=\"Validation-set Acc.\")\n",
    "\n",
    "plt.legend(loc='lower right')\n",
    "plt.grid()\n",
    "plt.xlabel('epoch')\n",
    "plt.ylabel('Accuracy')\n",
    "plt.show()\n",
    "\n",
    "# loss graph\n",
    "loss = hist_model3.history['loss']\n",
    "val_loss = hist_model3.history['val_loss']\n",
    "\n",
    "x_len = np.arange(len(acc))\n",
    "\n",
    "plt.plot(x_len, loss, marker='.', c='blue', label=\"Train-set loss.\")\n",
    "plt.plot(x_len, val_loss, marker='.', c='red', label=\"Validation-set loss.\")\n",
    "\n",
    "plt.legend(loc='upper right')\n",
    "plt.grid()\n",
    "plt.xlabel('epoch')\n",
    "plt.ylabel('Cross-entropy')\n",
    "plt.show()"
   ]
  },
  {
   "cell_type": "code",
   "execution_count": 16,
   "id": "e2346828",
   "metadata": {},
   "outputs": [
    {
     "name": "stdout",
     "output_type": "stream",
     "text": [
      "Epoch 1/20\n",
      "130/130 [==============================] - 5s 38ms/step - loss: 1.3238 - categorical_accuracy: 0.5523 - val_loss: 0.9185 - val_categorical_accuracy: 0.6395\n",
      "Epoch 2/20\n",
      "130/130 [==============================] - 5s 40ms/step - loss: 0.9801 - categorical_accuracy: 0.6024 - val_loss: 0.9461 - val_categorical_accuracy: 0.6235\n",
      "Epoch 3/20\n",
      "130/130 [==============================] - 4s 34ms/step - loss: 0.9344 - categorical_accuracy: 0.6199 - val_loss: 0.9010 - val_categorical_accuracy: 0.6395\n",
      "Epoch 4/20\n",
      "130/130 [==============================] - 4s 34ms/step - loss: 0.9205 - categorical_accuracy: 0.6279 - val_loss: 0.9013 - val_categorical_accuracy: 0.6395\n",
      "Epoch 5/20\n",
      "130/130 [==============================] - 5s 37ms/step - loss: 0.9059 - categorical_accuracy: 0.6379 - val_loss: 0.9258 - val_categorical_accuracy: 0.6395\n",
      "Epoch 6/20\n",
      "130/130 [==============================] - 5s 38ms/step - loss: 0.9037 - categorical_accuracy: 0.6371 - val_loss: 0.9100 - val_categorical_accuracy: 0.6395\n",
      "Epoch 7/20\n",
      "130/130 [==============================] - 5s 37ms/step - loss: 0.9016 - categorical_accuracy: 0.6394 - val_loss: 0.8943 - val_categorical_accuracy: 0.6395\n",
      "Epoch 8/20\n",
      "130/130 [==============================] - 5s 40ms/step - loss: 0.8960 - categorical_accuracy: 0.6401 - val_loss: 0.8954 - val_categorical_accuracy: 0.6395\n",
      "Epoch 9/20\n",
      "130/130 [==============================] - 5s 39ms/step - loss: 0.8945 - categorical_accuracy: 0.6391 - val_loss: 0.8982 - val_categorical_accuracy: 0.6395\n",
      "Epoch 10/20\n",
      "130/130 [==============================] - 5s 39ms/step - loss: 0.8959 - categorical_accuracy: 0.6384 - val_loss: 0.8905 - val_categorical_accuracy: 0.6395\n",
      "Epoch 11/20\n",
      "130/130 [==============================] - 5s 39ms/step - loss: 0.8957 - categorical_accuracy: 0.6392 - val_loss: 0.8952 - val_categorical_accuracy: 0.6395\n",
      "Epoch 12/20\n",
      "130/130 [==============================] - 6s 45ms/step - loss: 0.8932 - categorical_accuracy: 0.6394 - val_loss: 0.8925 - val_categorical_accuracy: 0.6395\n",
      "Epoch 13/20\n",
      "130/130 [==============================] - 6s 43ms/step - loss: 0.8935 - categorical_accuracy: 0.6400 - val_loss: 0.8927 - val_categorical_accuracy: 0.6395\n",
      "Epoch 14/20\n",
      "130/130 [==============================] - 4s 34ms/step - loss: 0.8927 - categorical_accuracy: 0.6397 - val_loss: 0.8940 - val_categorical_accuracy: 0.6395\n",
      "Epoch 15/20\n",
      "130/130 [==============================] - 4s 31ms/step - loss: 0.8925 - categorical_accuracy: 0.6400 - val_loss: 0.9013 - val_categorical_accuracy: 0.6395\n",
      "Epoch 16/20\n",
      "130/130 [==============================] - 4s 32ms/step - loss: 0.8953 - categorical_accuracy: 0.6395 - val_loss: 0.8934 - val_categorical_accuracy: 0.6395\n",
      "Epoch 17/20\n",
      "130/130 [==============================] - 4s 33ms/step - loss: 0.8919 - categorical_accuracy: 0.6400 - val_loss: 0.8976 - val_categorical_accuracy: 0.6395\n",
      "Epoch 18/20\n",
      "130/130 [==============================] - 4s 34ms/step - loss: 0.8919 - categorical_accuracy: 0.6402 - val_loss: 0.9049 - val_categorical_accuracy: 0.6296\n",
      "Epoch 19/20\n",
      "130/130 [==============================] - 4s 31ms/step - loss: 0.8916 - categorical_accuracy: 0.6398 - val_loss: 0.8971 - val_categorical_accuracy: 0.6395\n",
      "Epoch 20/20\n",
      "130/130 [==============================] - 4s 32ms/step - loss: 0.8922 - categorical_accuracy: 0.6401 - val_loss: 0.9090 - val_categorical_accuracy: 0.6395\n",
      "249/249 [==============================] - 3s 13ms/step - loss: 0.8960 - categorical_accuracy: 0.6444\n",
      "===================================\n",
      "loss (cross-entropy) : 0.8833393454551697\n",
      "test accuracy : 0.6443688869476318\n"
     ]
    }
   ],
   "source": [
    "# Build up the \"Sequence\" of layers (Linear stack of layers)\n",
    "model_3 = models.Sequential()\n",
    "\n",
    "# Dense-layer (with he-initialization)\n",
    "model_3.add(layers.Dense(input_dim=17, units=256, activation=None, kernel_initializer=initializers.he_uniform())) # he-uniform initialization\n",
    "model_3.add(layers.BatchNormalization()) # Batch normalization\n",
    "model_3.add(layers.Activation('elu')) # elu\n",
    "\n",
    "model_3.add(layers.Dense(units=512, activation=None, kernel_initializer=initializers.he_uniform()))\n",
    "model_3.add(layers.Activation('elu'))\n",
    "\n",
    "model_3.add(layers.Dense(units=512, activation=None, kernel_initializer=initializers.he_uniform()))\n",
    "model_3.add(layers.Activation('elu'))\n",
    "\n",
    "model_3.add(layers.Dense(units=512, activation=None, kernel_initializer=initializers.he_uniform()))\n",
    "model_3.add(layers.Activation('elu'))\n",
    "\n",
    "model_3.add(layers.Dense(units=512, activation=None, kernel_initializer=initializers.he_uniform()))\n",
    "model_3.add(layers.Activation('elu'))\n",
    "\n",
    "model_3.add(layers.Dense(units=256, activation=None, kernel_initializer=initializers.he_uniform()))\n",
    "model_3.add(layers.Activation('elu')) \n",
    "model_3.add(layers.Dropout(rate=0.5)) # Dropout\n",
    "\n",
    "model_3.add(layers.Dense(units=3, activation='softmax')) # Apply softmax function on model's output\n",
    "\n",
    "# Model Compile\n",
    "model_3.compile(optimizer=optimizers.Adam(),             # optimizer = Adam_optimizer\n",
    "              loss=losses.categorical_crossentropy,      # loss = categorical_crossentropy\n",
    "              metrics=[metrics.categorical_accuracy])    # metrics = categorical_accuracy\n",
    "\n",
    "# Fit the model on training data\n",
    "hist_model3 = model_3.fit(train_x, train_y, batch_size=100, epochs=20, validation_split=0.3) \n",
    "\n",
    "# \"Evaluate\" the model on test data\n",
    "result3 = model_3.evaluate(test_x, test_y)\n",
    "print('===================================')\n",
    "print('loss (cross-entropy) :', result[0])\n",
    "print('test accuracy :', result[1])"
   ]
  },
  {
   "cell_type": "markdown",
   "id": "46a7c705",
   "metadata": {},
   "source": [
    "7 Layer"
   ]
  },
  {
   "cell_type": "code",
   "execution_count": 17,
   "id": "402403f2",
   "metadata": {},
   "outputs": [
    {
     "name": "stdout",
     "output_type": "stream",
     "text": [
      "Epoch 1/20\n",
      "130/130 [==============================] - 6s 45ms/step - loss: 1.4326 - categorical_accuracy: 0.5364 - val_loss: 0.9160 - val_categorical_accuracy: 0.6395\n",
      "Epoch 2/20\n",
      "130/130 [==============================] - 6s 45ms/step - loss: 0.9876 - categorical_accuracy: 0.5982 - val_loss: 0.9171 - val_categorical_accuracy: 0.6395\n",
      "Epoch 3/20\n",
      "130/130 [==============================] - 6s 44ms/step - loss: 0.9423 - categorical_accuracy: 0.6201 - val_loss: 0.8979 - val_categorical_accuracy: 0.6395\n",
      "Epoch 4/20\n",
      "130/130 [==============================] - 6s 43ms/step - loss: 0.9135 - categorical_accuracy: 0.6371 - val_loss: 0.9400 - val_categorical_accuracy: 0.6395\n",
      "Epoch 5/20\n",
      "130/130 [==============================] - 5s 42ms/step - loss: 0.9012 - categorical_accuracy: 0.6394 - val_loss: 0.9028 - val_categorical_accuracy: 0.6395\n",
      "Epoch 6/20\n",
      "130/130 [==============================] - 6s 44ms/step - loss: 0.8990 - categorical_accuracy: 0.6397 - val_loss: 0.8963 - val_categorical_accuracy: 0.6395\n",
      "Epoch 7/20\n",
      "130/130 [==============================] - 6s 46ms/step - loss: 0.8961 - categorical_accuracy: 0.6396 - val_loss: 0.9241 - val_categorical_accuracy: 0.6395\n",
      "Epoch 8/20\n",
      "130/130 [==============================] - 6s 44ms/step - loss: 0.9000 - categorical_accuracy: 0.6391 - val_loss: 0.8906 - val_categorical_accuracy: 0.6395\n",
      "Epoch 9/20\n",
      "130/130 [==============================] - 6s 47ms/step - loss: 0.8974 - categorical_accuracy: 0.6394 - val_loss: 0.9047 - val_categorical_accuracy: 0.6395\n",
      "Epoch 10/20\n",
      "130/130 [==============================] - 6s 46ms/step - loss: 0.8944 - categorical_accuracy: 0.6403 - val_loss: 0.8945 - val_categorical_accuracy: 0.6395\n",
      "Epoch 11/20\n",
      "130/130 [==============================] - 6s 46ms/step - loss: 0.8945 - categorical_accuracy: 0.6398 - val_loss: 0.9255 - val_categorical_accuracy: 0.6395\n",
      "Epoch 12/20\n",
      "130/130 [==============================] - 6s 46ms/step - loss: 0.8970 - categorical_accuracy: 0.6388 - val_loss: 0.8915 - val_categorical_accuracy: 0.6395\n",
      "Epoch 13/20\n",
      "130/130 [==============================] - 6s 48ms/step - loss: 0.8905 - categorical_accuracy: 0.6400 - val_loss: 0.8926 - val_categorical_accuracy: 0.6395\n",
      "Epoch 14/20\n",
      "130/130 [==============================] - 6s 44ms/step - loss: 0.8938 - categorical_accuracy: 0.6401 - val_loss: 0.9230 - val_categorical_accuracy: 0.6395\n",
      "Epoch 15/20\n",
      "130/130 [==============================] - 6s 45ms/step - loss: 0.8937 - categorical_accuracy: 0.6398 - val_loss: 0.8956 - val_categorical_accuracy: 0.6395\n",
      "Epoch 16/20\n",
      "130/130 [==============================] - 6s 46ms/step - loss: 0.8958 - categorical_accuracy: 0.6391 - val_loss: 0.8982 - val_categorical_accuracy: 0.6395\n",
      "Epoch 17/20\n",
      "130/130 [==============================] - 6s 45ms/step - loss: 0.8919 - categorical_accuracy: 0.6399 - val_loss: 0.9115 - val_categorical_accuracy: 0.6395\n",
      "Epoch 18/20\n",
      "130/130 [==============================] - 6s 44ms/step - loss: 0.8911 - categorical_accuracy: 0.6399 - val_loss: 0.9476 - val_categorical_accuracy: 0.6395\n",
      "Epoch 19/20\n",
      "130/130 [==============================] - 6s 44ms/step - loss: 0.9114 - categorical_accuracy: 0.6350 - val_loss: 0.9014 - val_categorical_accuracy: 0.6395\n",
      "Epoch 20/20\n",
      "130/130 [==============================] - 6s 42ms/step - loss: 0.8935 - categorical_accuracy: 0.6401 - val_loss: 0.9166 - val_categorical_accuracy: 0.6395\n",
      "249/249 [==============================] - 4s 17ms/step - loss: 0.9032 - categorical_accuracy: 0.6444\n",
      "===================================\n",
      "loss (cross-entropy) : 0.8833393454551697\n",
      "test accuracy : 0.6443688869476318\n"
     ]
    }
   ],
   "source": [
    "# Build up the \"Sequence\" of layers (Linear stack of layers)\n",
    "model_4 = models.Sequential()\n",
    "\n",
    "# Dense-layer (with he-initialization)\n",
    "model_4.add(layers.Dense(input_dim=17, units=256, activation=None, kernel_initializer=initializers.he_uniform())) # he-uniform initialization\n",
    "model_4.add(layers.BatchNormalization()) # Batch normalization\n",
    "model_4.add(layers.Activation('elu')) # elu\n",
    "\n",
    "model_4.add(layers.Dense(units=512, activation=None, kernel_initializer=initializers.he_uniform()))\n",
    "model_4.add(layers.Activation('elu'))\n",
    "\n",
    "model_4.add(layers.Dense(units=512, activation=None, kernel_initializer=initializers.he_uniform()))\n",
    "model_4.add(layers.Activation('elu'))\n",
    "\n",
    "model_4.add(layers.Dense(units=512, activation=None, kernel_initializer=initializers.he_uniform()))\n",
    "model_4.add(layers.Activation('elu'))\n",
    "\n",
    "model_4.add(layers.Dense(units=512, activation=None, kernel_initializer=initializers.he_uniform()))\n",
    "model_4.add(layers.Activation('elu'))\n",
    "\n",
    "model_4.add(layers.Dense(units=512, activation=None, kernel_initializer=initializers.he_uniform()))\n",
    "model_4.add(layers.Activation('elu'))\n",
    "\n",
    "model_4.add(layers.Dense(units=512, activation=None, kernel_initializer=initializers.he_uniform()))\n",
    "model_4.add(layers.Activation('elu'))\n",
    "\n",
    "model_4.add(layers.Dense(units=512, activation=None, kernel_initializer=initializers.he_uniform()))\n",
    "model_4.add(layers.Activation('elu'))\n",
    "\n",
    "model_4.add(layers.Dense(units=256, activation=None, kernel_initializer=initializers.he_uniform()))\n",
    "model_4.add(layers.Activation('elu')) \n",
    "model_4.add(layers.Dropout(rate=0.5)) # Dropout\n",
    "\n",
    "model_4.add(layers.Dense(units=3, activation='softmax')) # Apply softmax function on model's output\n",
    "\n",
    "# Model Compile\n",
    "model_4.compile(optimizer=optimizers.Adam(),             # optimizer = Adam_optimizer\n",
    "              loss=losses.categorical_crossentropy,      # loss = categorical_crossentropy\n",
    "              metrics=[metrics.categorical_accuracy])    # metrics = categorical_accuracy\n",
    "\n",
    "# Fit the model on training data\n",
    "hist_model4 = model_4.fit(train_x, train_y, batch_size=100, epochs=20, validation_split=0.3)\n",
    "\n",
    "# \"Evaluate\" the model on test data\n",
    "result4 = model_4.evaluate(test_x, test_y)\n",
    "print('===================================')\n",
    "print('loss (cross-entropy) :', result[0])\n",
    "print('test accuracy :', result[1])"
   ]
  },
  {
   "cell_type": "code",
   "execution_count": 18,
   "id": "18f0987a",
   "metadata": {},
   "outputs": [
    {
     "data": {
      "image/png": "[encoded data removed]",
      "text/plain": [
       "<Figure size 432x288 with 1 Axes>"
      ]
     },
     "metadata": {
      "needs_background": "light"
     },
     "output_type": "display_data"
    },
    {
     "data": {
      "image/png": "[encoded data removed]",
      "text/plain": [
       "<Figure size 432x288 with 1 Axes>"
      ]
     },
     "metadata": {
      "needs_background": "light"
     },
     "output_type": "display_data"
    }
   ],
   "source": [
    "# Visualize\n",
    "# accuracy graph\n",
    "acc = hist_model4.history['categorical_accuracy']\n",
    "val_acc = hist_model4.history['val_categorical_accuracy']\n",
    "\n",
    "x_len = np.arange(len(acc))\n",
    "\n",
    "plt.plot(x_len, acc, marker='.', c='blue', label=\"Train-set Acc.\")\n",
    "plt.plot(x_len, val_acc, marker='.', c='red', label=\"Validation-set Acc.\")\n",
    "\n",
    "plt.legend(loc='lower right')\n",
    "plt.grid()\n",
    "plt.xlabel('epoch')\n",
    "plt.ylabel('Accuracy')\n",
    "plt.show()\n",
    "\n",
    "# loss graph\n",
    "loss = hist_model4.history['loss']\n",
    "val_loss = hist_model4.history['val_loss']\n",
    "\n",
    "x_len = np.arange(len(acc))\n",
    "\n",
    "plt.plot(x_len, loss, marker='.', c='blue', label=\"Train-set loss.\")\n",
    "plt.plot(x_len, val_loss, marker='.', c='red', label=\"Validation-set loss.\")\n",
    "\n",
    "plt.legend(loc='upper right')\n",
    "plt.grid()\n",
    "plt.xlabel('epoch')\n",
    "plt.ylabel('Cross-entropy')\n",
    "plt.show()"
   ]
  }
 ],
 "metadata": {
  "kernelspec": {
   "display_name": "Python 3 (ipykernel)",
   "language": "python",
   "name": "python3"
  },
  "language_info": {
   "codemirror_mode": {
    "name": "ipython",
    "version": 3
   },
   "file_extension": ".py",
   "mimetype": "text/x-python",
   "name": "python",
   "nbconvert_exporter": "python",
   "pygments_lexer": "ipython3",
   "version": "3.8.13"
  }
 },
 "nbformat": 4,
 "nbformat_minor": 5
}
