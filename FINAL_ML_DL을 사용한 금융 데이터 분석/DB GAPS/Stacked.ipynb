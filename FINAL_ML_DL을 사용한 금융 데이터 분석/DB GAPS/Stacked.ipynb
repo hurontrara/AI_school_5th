{
 "cells": [
  {
   "cell_type": "code",
   "execution_count": 1,
   "id": "c583db47",
   "metadata": {},
   "outputs": [],
   "source": [
    "import FinanceDataReader as fdr\n",
    "import warnings\n",
    "warnings.filterwarnings(\"ignore\")\n",
    "\n",
    "import pandas as pd\n",
    "import numpy as np\n",
    "import matplotlib.pyplot as plt\n",
    "\n",
    "from sklearn.preprocessing import OneHotEncoder, StandardScaler\n",
    "from sklearn.compose import ColumnTransformer\n",
    "from sklearn.pipeline import Pipeline\n",
    "\n",
    "from sklearn.ensemble import GradientBoostingClassifier, GradientBoostingRegressor\n",
    "from sklearn.metrics import mean_squared_error\n",
    "from sklearn import model_selection, linear_model\n",
    "from sklearn.metrics import accuracy_score\n",
    "from sklearn.model_selection import GridSearchCV\n",
    "from sklearn.metrics import roc_curve, auc\n",
    "from sklearn import ensemble\n",
    "from vecstack import StackingTransformer\n",
    "from sklearn.svm import SVC, SVR\n",
    "from sklearn import ensemble\n",
    "from sklearn import cluster\n",
    "from sklearn.metrics import silhouette_score\n",
    "from sklearn.metrics import classification_report\n",
    "\n",
    "from xgboost import XGBClassifier, plot_importance\n",
    "from sklearn.ensemble import ExtraTreesClassifier\n",
    "from sklearn.ensemble import RandomForestClassifier \n",
    "from vecstack import stacking\n",
    "\n",
    "from xgboost import XGBClassifier, plot_importance\n",
    "from sklearn.ensemble import ExtraTreesClassifier\n",
    "from sklearn.ensemble import RandomForestClassifier \n",
    "from vecstack import stacking\n",
    "import hyperopt\n",
    "from hyperopt import fmin, tpe, hp, STATUS_OK, Trials\n",
    "from catboost import CatBoostClassifier, Pool\n",
    "from collections import Counter\n",
    "from sklearn.feature_selection import RFECV\n",
    "from PIL import Image\n",
    "from tensorflow.keras.models import Sequential\n",
    "from tensorflow.keras.layers import Dense, LSTM\n",
    "from sklearn.ensemble import VotingClassifier\n",
    "import os"
   ]
  },
  {
   "cell_type": "code",
   "execution_count": 2,
   "id": "d7adef18",
   "metadata": {},
   "outputs": [],
   "source": [
    "from tensorflow.keras import Sequential\n",
    "from tensorflow.keras.layers import Dense, LSTM\n",
    "import tensorflow as tf\n",
    "\n",
    "import tensorflow as tf\n",
    "tf.compat.v1.logging.set_verbosity(tf.compat.v1.logging.ERROR)\n",
    "\n",
    "from tensorflow import keras \n",
    "from tensorflow.keras import layers\n",
    "\n",
    "import keras_tuner as kt\n",
    "import numpy as np\n",
    "import IPython\n",
    "import cv2\n",
    "from sklearn.preprocessing import MinMaxScaler"
   ]
  },
  {
   "cell_type": "code",
   "execution_count": 3,
   "id": "9cd54632",
   "metadata": {},
   "outputs": [],
   "source": [
    "# model = Sequential()\n",
    "# model.add(LSTM(50,return_sequences=True, input_shape=(60,2)))\n",
    "# model.add(LSTM(50, return_sequences=False))\n",
    "# model.add(Dense(25))\n",
    "# model.add(Dense(2))"
   ]
  },
  {
   "cell_type": "code",
   "execution_count": 4,
   "id": "52a6a175",
   "metadata": {},
   "outputs": [],
   "source": [
    "# model.compile(optimizer='adam', loss='binary_crossentropy',metrics=['accuracy'])"
   ]
  },
  {
   "cell_type": "code",
   "execution_count": 5,
   "id": "cc5d2b06",
   "metadata": {},
   "outputs": [],
   "source": [
    "# model.load_weights('models/LSTM_model')"
   ]
  },
  {
   "cell_type": "markdown",
   "id": "90e36104",
   "metadata": {},
   "source": [
    "> 모델 임포트"
   ]
  },
  {
   "cell_type": "code",
   "execution_count": 6,
   "id": "28e1e12d",
   "metadata": {},
   "outputs": [],
   "source": [
    "def call_models():\n",
    "\n",
    "    cnn_model = tf.keras.models.load_model('models/cnn_final_model')\n",
    "    cat_model = CatBoostClassifier()\n",
    "    cat_model.load_model(\"models/Cat_model\")\n",
    "    \n",
    "    return cnn_model, cat_model\n"
   ]
  },
  {
   "cell_type": "code",
   "execution_count": 7,
   "id": "63462a92",
   "metadata": {},
   "outputs": [],
   "source": [
    "cnn_model, cat_model = call_models()"
   ]
  },
  {
   "cell_type": "markdown",
   "id": "02510516",
   "metadata": {},
   "source": [
    "> 1. CNN 모델 "
   ]
  },
  {
   "cell_type": "code",
   "execution_count": 8,
   "id": "d3097eb5",
   "metadata": {},
   "outputs": [],
   "source": [
    "def draw_picture_today(last_day):     #예측 후 삭제 과정 필요 # 20일로 일단 디폴트\n",
    "    \n",
    "    local_data = fdr.DataReader('069500', '2022', last_day)[-20:]\n",
    "\n",
    "\n",
    "    up = local_data[local_data.Close >= local_data.Open]\n",
    "    down = local_data[local_data.Close < local_data.Open]\n",
    "\n",
    "    width = 1\n",
    "    width2 = .1\n",
    "\n",
    "    col1 = 'red'\n",
    "    col2 = 'blue'\n",
    "\n",
    "    plt.cla()\n",
    "    plt.style.use('dark_background') \n",
    "    plt.figure(figsize=(1,1), dpi = 50)\n",
    "\n",
    "    plt.bar(up.index, up.Close-up.Open, width, bottom=up.Open, color=col1)\n",
    "    plt.bar(up.index, up.High-up.Close, width2, bottom=up.Close, color=col1)\n",
    "    plt.bar(up.index, up.Low-up.Open, width2, bottom=up.Open, color=col1)\n",
    "\n",
    "    plt.bar(down.index, down.Close-down.Open, width, bottom=down.Open, color=col2)\n",
    "    plt.bar(down.index, down.High-down.Open, width2, bottom=down.Open, color=col2)\n",
    "    plt.bar(down.index, down.Low-down.Close, width2, bottom=down.Close, color=col2)\n",
    "\n",
    "    plt.gca().axes.get_xaxis().set_visible(False)\n",
    "    plt.gca().axes.get_yaxis().set_visible(False)\n",
    "\n",
    "    plt.axis('off')\n",
    "\n",
    "    #         plt.savefig('drive/My Drive/datasets/datasets/{}_{}_{}.png'.format(variables, i, label), dpi = 1000)\n",
    "    plt.savefig('picture/picture.png')\n",
    "\n",
    "#     image = np.array([cv2.imread('picture/picture.png')])\n",
    "    # image = np.reshape(image, (1, image.shape[0], image.shape[1]))\n"
   ]
  },
  {
   "cell_type": "code",
   "execution_count": 9,
   "id": "6928a4d7",
   "metadata": {},
   "outputs": [],
   "source": [
    "def cnn_today_predict(last_day):\n",
    "    \n",
    "    global cnn_model\n",
    "    \n",
    "    draw_picture_today(last_day)\n",
    "    \n",
    "    image = np.array([cv2.imread('picture/picture.png')])\n",
    "\n",
    "    prediction = cnn_model.predict(image)\n",
    "    \n",
    "    return prediction"
   ]
  },
  {
   "cell_type": "markdown",
   "id": "a8098f54",
   "metadata": {},
   "source": [
    "> 2. 차트 모델"
   ]
  },
  {
   "cell_type": "code",
   "execution_count": null,
   "id": "154c45ec",
   "metadata": {},
   "outputs": [],
   "source": []
  },
  {
   "cell_type": "code",
   "execution_count": 10,
   "id": "86544280",
   "metadata": {},
   "outputs": [],
   "source": [
    "def get_RSI_14(data):\n",
    "    RSI_list = []\n",
    "    for i in range(15, len(data)):  # 15행 종가부터 시작\n",
    "        close = list(data.iloc[i - 14 : i + 1]['Close']) # [23665, 23572, 23676, ...]\n",
    "        positive = []\n",
    "        negative = []\n",
    "        for j in range(14):\n",
    "            diff = close[j + 1] - close[j]\n",
    "            if diff >= 0:\n",
    "                positive.append(diff)\n",
    "            else:\n",
    "                negative.append(diff)\n",
    "        \n",
    "        AU = np.sum(positive) / 13\n",
    "        AD = abs(np.sum(negative) / 13)\n",
    "        RSI = AU / (AU + AD)\n",
    "        RSI_list.append(RSI)\n",
    "        \n",
    "    while len(RSI_list) != len(data):\n",
    "        RSI_list.insert(0, 0)\n",
    "\n",
    "    return RSI_list\n",
    "\n",
    "def stocastic_k(data):   # 14 days\n",
    "    null_list = []\n",
    "    for i in range(len(data)):\n",
    "        calculate_low = np.array(data['Low'][i - 13 : i + 1])\n",
    "        calculate_high = np.array(data['High'][i - 13 : i + 1])\n",
    "        if str(calculate_low.mean()) == 'nan':\n",
    "            continue\n",
    "        else:\n",
    "            today = data.iloc[i]['Close']\n",
    "            mini = calculate_low.min()\n",
    "            high = calculate_high.max()\n",
    "            null_list.append((today - mini) / (high - mini))\n",
    "        \n",
    "    while len(null_list) != len(data):\n",
    "        null_list.insert(0, 0)\n",
    "    \n",
    "    return null_list\n",
    "\n",
    "\n",
    "def Bollinger(data):    # 20 , 2\n",
    "    null_list = []\n",
    "    for i in range(len(data)):\n",
    "        cal_list = data['Close'][i - 19 : i + 1]\n",
    "        high = cal_list.mean() + np.std(cal_list) * 2\n",
    "        low = cal_list.mean() - np.std(cal_list) * 2\n",
    "        position = (data['Close'][i] - low) /  (high - low)\n",
    "        null_list.append(position)\n",
    "    return null_list\n",
    "\n",
    "def last_day(code, year):\n",
    "    day = str(fdr.DataReader(str(code), str(year), str(year + 1)).index[-1])[:10]\n",
    "    print(day)\n",
    "    \n",
    "    return day\n",
    "\n",
    "def start_day(code, year):\n",
    "    day = str(fdr.DataReader(str(code), str(year), str(year + 1)).index[0])[:10]\n",
    "    print(day)\n",
    "    \n",
    "    return day\n",
    "\n",
    "def last_day_month(code, year, month):\n",
    "    day = str(fdr.DataReader(str(code), str(year) + '.' + str(month), str(year) + '.' + str(month + 1)).index[-1])[:10]\n",
    "    \n",
    "    return day\n",
    "def start_day_month(code, year, month):\n",
    "    day = str(fdr.DataReader(str(code), str(year) + '.' + str(month), str(year) + '.' + str(month + 1)).index[0])[:10]    \n",
    "    \n",
    "    return day\n",
    "\n",
    "def MACD_cat(data):\n",
    "    null_list = []\n",
    "    for i in range(1, len(data)):\n",
    "        if (data['MACD'][i] > 0) & (data['MACD'][i - 1] < 0):\n",
    "            null_list.append(1)\n",
    "        else:\n",
    "            null_list.append(0)\n",
    "    null_list.insert(0, 0)\n",
    "    return null_list"
   ]
  },
  {
   "cell_type": "code",
   "execution_count": 11,
   "id": "4f230fb5",
   "metadata": {},
   "outputs": [],
   "source": [
    "def all(data):\n",
    "    data['RSI'] = get_RSI_14(data)\n",
    "    data['STOCASTIC_K'] = stocastic_k(data)\n",
    "    data['STOCASTIC_D'] = data['STOCASTIC_K'].ewm(span = 5).mean()  # 5일\n",
    "    data['Bollinger'] = Bollinger(data)\n",
    "    data['MACD'] = data['Close'].ewm(span = 12).mean() - data['Close'].ewm(span = 26).mean()\n",
    "    data['MACD_SIGNAL'] = data['MACD'].ewm(span = 9).mean()\n",
    "    data['MACD_cat'] = MACD_cat(data)\n",
    "    data['Change+'] = list((data['Change'] > 0)[1 : len(data)].astype(int)) + [0]\n",
    "    \n",
    "    data['RSI_delta'] = data.RSI.diff().fillna(0)\n",
    "#     data['K_delta'] = data.STOCASTIC_K.diff().fillna(0)\n",
    "    data['D_delta'] = data.STOCASTIC_D.diff().fillna(0)\n",
    "    data['sto_diff'] = data['STOCASTIC_K'] - data['STOCASTIC_D']\n",
    "    data['B_delta'] = data.Bollinger.diff().fillna(0)\n",
    "    data['MACD_delta'] = data.MACD.diff().fillna(0)\n",
    "#     ma20 = new_gs['Adj Close'].rolling(window=20).mean()\n",
    "    data['MA5'] = data['Close'].rolling(window=5).mean()\n",
    "    data['MA20'] = data['Close'].rolling(window=20).mean()\n",
    "    data['MA5_adj'] = (data['MA5'] - data['Close']) / data['Close']\n",
    "    data['MA20_adj'] = (data['MA20'] - data['Close']) / data['Close']\n",
    "    data['MA_diff'] = (data['MA5'] - data['MA20']) / data['Close']"
   ]
  },
  {
   "cell_type": "code",
   "execution_count": 12,
   "id": "656f43ff",
   "metadata": {},
   "outputs": [],
   "source": [
    "def chart_today_predict(last_day):\n",
    "    global cat_model\n",
    "    mean = pd.read_csv('mean.csv', index_col = 0).drop('Change+', axis = 0)\n",
    "    std = pd.read_csv('std.csv', index_col = 0).drop('Change+', axis = 0)\n",
    "\n",
    "    data = fdr.DataReader('069500', '2022', last_day)\n",
    "    all(data)\n",
    "    \n",
    "    data.replace([np.inf, -np.inf], np.nan, inplace = True)\n",
    "    data.dropna(inplace = True)\n",
    "    data_1 = data.iloc[[-1]][['RSI', 'STOCASTIC_K', 'STOCASTIC_D', 'Bollinger', 'MACD',  'MACD_SIGNAL', 'MACD_cat', 'RSI_delta', 'D_delta', 'sto_diff', 'B_delta', 'MACD_delta',\n",
    "                       'MA5', 'MA20', 'MA5_adj', 'MA20_adj', 'MA_diff']]\n",
    "\n",
    "    data = data.iloc[-1][['RSI', 'STOCASTIC_K', 'STOCASTIC_D', 'Bollinger', 'MACD',  'MACD_SIGNAL', 'MACD_cat', 'RSI_delta', 'D_delta', 'sto_diff', 'B_delta', 'MACD_delta',\n",
    "                       'MA5', 'MA20', 'MA5_adj', 'MA20_adj', 'MA_diff']]\n",
    "\n",
    "    data_1.reset_index(drop = True, inplace = True)\n",
    "\n",
    "    data = (np.array(data) - np.array(mean['mean'])) / np.array(std['std'])\n",
    "\n",
    "    data_1.loc[0] = data  # 오늘자 표준화 완료된 데이터프레임\n",
    "\n",
    "    data_1['MACD_cat'] = 0\n",
    "\n",
    "    data_1.insert(6, 'MACD_cat2', 0)\n",
    "\n",
    "    data_1.drop('MA_diff', axis = 1, inplace = True)\n",
    "\n",
    "    prediction = cat_model.predict_proba(np.array(data_1))\n",
    "\n",
    "    return prediction"
   ]
  },
  {
   "cell_type": "markdown",
   "id": "1dfc1d5f",
   "metadata": {},
   "source": [
    "> 3. LSTM 모델"
   ]
  },
  {
   "cell_type": "code",
   "execution_count": 13,
   "id": "c9b3ad78",
   "metadata": {},
   "outputs": [],
   "source": [
    "def lstm_today_predict(last_day):\n",
    "\n",
    "    df = fdr.DataReader(\"069500\",start= '2012-01-01')\n",
    "    \n",
    "    target = []\n",
    "    for i in range(df.shape[0]):\n",
    "        if df['Change'][i] >0:\n",
    "            target.append(1)\n",
    "        else:\n",
    "            target.append(0)\n",
    "    df['Target'] = target\n",
    "    minmax = MinMaxScaler().fit(df.iloc[:, 0:7].astype('float32')) # Close index\n",
    "    scaled_data = minmax.transform(df.iloc[:, 0:7].astype('float32')) # Close index\n",
    "    scaled_data = pd.DataFrame(scaled_data)\n",
    "    train_data = scaled_data.iloc[0:-100,:]\n",
    "    #Split the data\n",
    "    x_train = []\n",
    "    y_train = []\n",
    "\n",
    "    for i in range(60, len(train_data)):\n",
    "        x_train.append(train_data.iloc[i-60:i,0:6])\n",
    "        y_train.append(train_data.iloc[i,6])\n",
    "    x_train, y_train = np.array(x_train), np.array(y_train)\n",
    "    x_train = np.reshape(x_train, (x_train.shape[0], x_train.shape[1],6))\n",
    "\n",
    "    model = Sequential()\n",
    "    model.add(LSTM(50,return_sequences=True, input_shape=(x_train.shape[1],6)))\n",
    "    model.add(LSTM(50, return_sequences=False))\n",
    "    model.add(Dense(25))\n",
    "    model.add(Dense(1))\n",
    "    #Compile the model\n",
    "    model.compile(loss='binary_crossentropy',metrics=['accuracy'])\n",
    "    \n",
    "    with tf.device('/GPU:0'):\n",
    "        model.fit(x_train, y_train, batch_size=100, epochs=10)\n",
    "    \n",
    "    local_data = fdr.DataReader(\"069500\", '2020', last_day)[-60:]\n",
    "    \n",
    "    local_data = np.array(local_data)\n",
    "    \n",
    "    local_data = np.reshape(local_data, (1, 60, 6))\n",
    "    \n",
    "    prediction = model.predict(local_data)\n",
    "    \n",
    "    return prediction"
   ]
  },
  {
   "cell_type": "code",
   "execution_count": 14,
   "id": "89092356",
   "metadata": {},
   "outputs": [],
   "source": [
    "from datetime import date, timedelta\n",
    "\n",
    "def today_model_fitting():  #\n",
    "    time = pd.datetime.now()\n",
    "    yesterday = date.today() - timedelta(1)\n",
    "    \n",
    "    \n",
    "    if (time.hour >= 0) & (time.hour < 15): # finance data reader상, 장중의 데이터로 예측을 해버리므로 잘못된 예측 가능... -> 3시부터 업뎃되도록 처리\n",
    "        last_day = str(yesterday)\n",
    "\n",
    "    else:\n",
    "        last_day = str(date.today())\n",
    "        \n",
    "    cnn_prediction = cnn_today_predict(last_day)    \n",
    "\n",
    "    chart_prediction = chart_today_predict(last_day)\n",
    "\n",
    "    lstm_prediction = lstm_today_predict(last_day)\n",
    "    \n",
    "    lstm_prediction = list(lstm_prediction)\n",
    "    \n",
    "    lstm_prediction.insert(0, (1 - lstm_prediction[0][0]))   \n",
    "    \n",
    "    one = lstm_prediction[1][0]\n",
    "    \n",
    "    zero = lstm_prediction[0]\n",
    "    \n",
    "    lstm_prediction = (zero, one)\n",
    "    \n",
    "    \n",
    "    print(cnn_prediction, 'CNN 예측')\n",
    "    print(chart_prediction, '차트 예측')\n",
    "    print(lstm_prediction, 'lstm 예측')\n",
    "    \n",
    "\n",
    "\n",
    "    \n",
    "\n",
    "    \n",
    "    \n",
    "\n",
    "\n",
    "    \n",
    "        "
   ]
  },
  {
   "cell_type": "code",
   "execution_count": 15,
   "id": "cee420fd",
   "metadata": {},
   "outputs": [],
   "source": [
    "# today_model_fitting()"
   ]
  },
  {
   "cell_type": "markdown",
   "id": "beaccacb",
   "metadata": {},
   "source": [
    "> Back_testing"
   ]
  },
  {
   "cell_type": "code",
   "execution_count": 16,
   "id": "ffce9a9e",
   "metadata": {},
   "outputs": [],
   "source": [
    "from datetime import datetime, timedelta\n",
    "from dateutil.relativedelta import relativedelta"
   ]
  },
  {
   "cell_type": "code",
   "execution_count": 17,
   "id": "b36d70fa",
   "metadata": {},
   "outputs": [],
   "source": [
    "# month_before = (datetime.strptime('2022-05-20', '%Y-%m-%d') - relativedelta(months = 2)).strftime('%Y-%m-%d')  # str # 3 / 20\n",
    "\n",
    "# local_data = fdr.DataReader('069500', month_before, '2022-05-25')\n",
    "\n",
    "# start_number = local_data.index.strftime(\"%Y-%m-%d\").tolist().index('2022-05-20')\n",
    "\n",
    "# end_number = len(local_data) \n",
    "\n",
    "# x = 0\n",
    "# y = 0\n",
    "\n",
    "# for i in range(start_number, end_number):\n",
    "\n",
    "#     data = local_data.iloc[i - 20 : i]\n",
    "#     change = (local_data.iloc[i]['Change'] > 0).astype(int)\n",
    "\n",
    "#     up = data[data.Close >= data.Open]\n",
    "#     down = data[data.Close < data.Open]\n",
    "\n",
    "#     width = 1\n",
    "#     width2 = .1\n",
    "\n",
    "#     col1 = 'red'\n",
    "#     col2 = 'blue'\n",
    "\n",
    "#     plt.cla()\n",
    "#     plt.style.use('dark_background') \n",
    "#     plt.figure(figsize=(1,1), dpi = 50)\n",
    "\n",
    "#     plt.bar(up.index, up.Close-up.Open, width, bottom=up.Open, color=col1)\n",
    "#     plt.bar(up.index, up.High-up.Close, width2, bottom=up.Close, color=col1)\n",
    "#     plt.bar(up.index, up.Low-up.Open, width2, bottom=up.Open, color=col1)\n",
    "\n",
    "#     plt.bar(down.index, down.Close-down.Open, width, bottom=down.Open, color=col2)\n",
    "#     plt.bar(down.index, down.High-down.Open, width2, bottom=down.Open, color=col2)\n",
    "#     plt.bar(down.index, down.Low-down.Close, width2, bottom=down.Close, color=col2)\n",
    "\n",
    "#     plt.gca().axes.get_xaxis().set_visible(False)\n",
    "#     plt.gca().axes.get_yaxis().set_visible(False)\n",
    "\n",
    "#     plt.axis('off')\n",
    "\n",
    "# #         plt.savefig('drive/My Drive/datasets/datasets/{}_{}_{}.png'.format(variables, i, label), dpi = 1000)\n",
    "#     plt.savefig('picture/picture')\n",
    "\n",
    "#     image = np.array([cv2.imread('picture/picture.png')])   # 50 50 3\n",
    "    \n",
    "#     null_array = np.array([[0, 0]])\n",
    "    \n",
    "#     if change > 0:\n",
    "#         null_array[0][1] = 1\n",
    "#     else:\n",
    "#         null_array[0][0] = 1\n",
    "#     result = cnn_model.evaluate(image, null_array)\n",
    "    \n",
    "#     x += result[1]\n",
    "#     y += 1\n",
    "    \n",
    "# #return x / y"
   ]
  },
  {
   "cell_type": "code",
   "execution_count": 18,
   "id": "0c2f58df",
   "metadata": {},
   "outputs": [],
   "source": [
    "# draw_picture_days('069500', '2022-05-02', '2022-05-26')"
   ]
  },
  {
   "cell_type": "code",
   "execution_count": 19,
   "id": "a0df4014",
   "metadata": {},
   "outputs": [],
   "source": [
    "def draw_picture_days(code, start_day, end_day):     #예측 후 삭제 과정 필요 # 20일로 일단 디폴트\n",
    "    \n",
    "    global cnn_model\n",
    "    \n",
    "    month_before = (datetime.strptime(start_day, '%Y-%m-%d') - relativedelta(months = 2)).strftime('%Y-%m-%d')  # str\n",
    "    \n",
    "    local_data = fdr.DataReader(code, month_before, end_day)\n",
    "    \n",
    "    start_number = local_data.index.strftime(\"%Y-%m-%d\").tolist().index(start_day)\n",
    "    \n",
    "    end_number = len(local_data) \n",
    "    \n",
    "    x = 0\n",
    "    y = 0\n",
    "    \n",
    "    for i in range(start_number, end_number):\n",
    "\n",
    "        data = local_data.iloc[i - 20 : i]\n",
    "        change_1 = local_data.iloc[i]['Change']\n",
    "        change = (local_data.iloc[i]['Change'] > 0).astype(int)\n",
    "\n",
    "        up = data[data.Close >= data.Open]\n",
    "        down = data[data.Close < data.Open]\n",
    "\n",
    "        width = 1\n",
    "        width2 = .1\n",
    "\n",
    "        col1 = 'red'\n",
    "        col2 = 'blue'\n",
    "\n",
    "        plt.cla()\n",
    "        plt.style.use('dark_background') \n",
    "        plt.figure(figsize=(1,1), dpi = 50)\n",
    "\n",
    "        plt.bar(up.index, up.Close-up.Open, width, bottom=up.Open, color=col1)\n",
    "        plt.bar(up.index, up.High-up.Close, width2, bottom=up.Close, color=col1)\n",
    "        plt.bar(up.index, up.Low-up.Open, width2, bottom=up.Open, color=col1)\n",
    "\n",
    "        plt.bar(down.index, down.Close-down.Open, width, bottom=down.Open, color=col2)\n",
    "        plt.bar(down.index, down.High-down.Open, width2, bottom=down.Open, color=col2)\n",
    "        plt.bar(down.index, down.Low-down.Close, width2, bottom=down.Close, color=col2)\n",
    "\n",
    "        plt.gca().axes.get_xaxis().set_visible(False)\n",
    "        plt.gca().axes.get_yaxis().set_visible(False)\n",
    "\n",
    "        plt.axis('off')\n",
    "\n",
    "    #         plt.savefig('drive/My Drive/datasets/datasets/{}_{}_{}.png'.format(variables, i, label), dpi = 1000)\n",
    "        plt.savefig('picture/picture.png')\n",
    "\n",
    "        image = np.array([cv2.imread('picture/picture.png')])   # 50 50 3\n",
    "\n",
    "        null_array = np.array([[0, 0]])\n",
    "\n",
    "        if change > 0:\n",
    "            null_array[0][1] = 1\n",
    "        else:\n",
    "            null_array[0][0] = 1\n",
    "            \n",
    "        result = cnn_model.evaluate(image, null_array)\n",
    "\n",
    "        x += result[1]\n",
    "        y += 1\n",
    "        \n",
    "    return x / y"
   ]
  },
  {
   "cell_type": "code",
   "execution_count": 20,
   "id": "d3a88d4d",
   "metadata": {},
   "outputs": [],
   "source": [
    "def draw_picture_days2(code, start_day, end_day):     #예측 후 삭제 과정 필요 # 20일로 일단 디폴트\n",
    "    \n",
    "    global cnn_model\n",
    "    \n",
    "    month_before = (datetime.strptime(start_day, '%Y-%m-%d') - relativedelta(months = 2)).strftime('%Y-%m-%d')  # str\n",
    "    \n",
    "    local_data = fdr.DataReader(code, month_before, end_day)\n",
    "    \n",
    "    start_number = local_data.index.strftime(\"%Y-%m-%d\").tolist().index(start_day)\n",
    "    \n",
    "    end_number = len(local_data) \n",
    "    \n",
    "    x = []\n",
    "    y = []\n",
    "    \n",
    "    for i in range(start_number, end_number):\n",
    "\n",
    "        data = local_data.iloc[i - 20 : i]\n",
    "        change_1 = local_data.iloc[i]['Change']\n",
    "        change = (local_data.iloc[i]['Change'] > 0).astype(int)\n",
    "\n",
    "        up = data[data.Close >= data.Open]\n",
    "        down = data[data.Close < data.Open]\n",
    "\n",
    "        width = 1\n",
    "        width2 = .1\n",
    "\n",
    "        col1 = 'red'\n",
    "        col2 = 'blue'\n",
    "\n",
    "        plt.cla()\n",
    "        plt.style.use('dark_background') \n",
    "        plt.figure(figsize=(1,1), dpi = 50)\n",
    "\n",
    "        plt.bar(up.index, up.Close-up.Open, width, bottom=up.Open, color=col1)\n",
    "        plt.bar(up.index, up.High-up.Close, width2, bottom=up.Close, color=col1)\n",
    "        plt.bar(up.index, up.Low-up.Open, width2, bottom=up.Open, color=col1)\n",
    "\n",
    "        plt.bar(down.index, down.Close-down.Open, width, bottom=down.Open, color=col2)\n",
    "        plt.bar(down.index, down.High-down.Open, width2, bottom=down.Open, color=col2)\n",
    "        plt.bar(down.index, down.Low-down.Close, width2, bottom=down.Close, color=col2)\n",
    "\n",
    "        plt.gca().axes.get_xaxis().set_visible(False)\n",
    "        plt.gca().axes.get_yaxis().set_visible(False)\n",
    "\n",
    "        plt.axis('off')\n",
    "\n",
    "    #         plt.savefig('drive/My Drive/datasets/datasets/{}_{}_{}.png'.format(variables, i, label), dpi = 1000)\n",
    "        plt.savefig('picture/picture.png')\n",
    "\n",
    "        image = np.array([cv2.imread('picture/picture.png')])   # 50 50 3\n",
    "\n",
    "        null_array = np.array([[0, 0]])\n",
    "\n",
    "        if change > 0:\n",
    "            null_array[0][1] = 1\n",
    "        else:\n",
    "            null_array[0][0] = 1\n",
    "            \n",
    "        result = cnn_model.predict(image)\n",
    "\n",
    "        x.append(result)\n",
    "        \n",
    "    return x"
   ]
  },
  {
   "cell_type": "code",
   "execution_count": 21,
   "id": "c3ac499b",
   "metadata": {},
   "outputs": [],
   "source": [
    "def draw_LSTM_accuracy(code, start_day, end_day):\n",
    "    data = fdr.DataReader(code, start_day, end_day)\n",
    "    all(data)\n",
    "    data.dropna(inplace = True)\n",
    "    data['Change+'] = list((data['Change'] > 0)[1 : len(data)].astype(int)) + [0]\n",
    "    data = data[:-2]\n",
    "\n",
    "    train_x = data[['Close', 'Volume', 'RSI', 'Bollinger', 'STOCASTIC_K', 'STOCASTIC_D', 'MACD']]\n",
    "    train_y = data['Change+']\n",
    "    \n",
    "    data = fdr.DataReader('069500', '2021.01.05', '2023')\n",
    "    all(data)\n",
    "    data.dropna(inplace = True)\n",
    "    data['Change+'] = list((data['Change'] > 0)[1 : len(data)].astype(int)) + [0]\n",
    "    data = data[:-2]            # 일종의 문법\n",
    "\n",
    "\n",
    "    test_x = data[['Close', 'Volume', 'RSI', 'Bollinger', 'STOCASTIC_K', 'STOCASTIC_D', 'MACD']]\n",
    "    test_y = data['Change+']\n",
    "\n",
    "    x_train = []\n",
    "    y_train = []\n",
    "\n",
    "    for i in range(20, len(train_x)):\n",
    "        if 0 not in list(train_x[i - 20 : i]['Volume']):\n",
    "            x_train.append(np.array(train_x[i - 20 : i]))\n",
    "            y_train.append(list(train_y)[i - 1])\n",
    "    \n",
    "    x_train, y_train = np.array(x_train), np.array(y_train)\n",
    "    \n",
    "    x_test = []\n",
    "    y_test = []\n",
    "\n",
    "    for i in range(20, len(test_x)):\n",
    "        x_test.append(test_x[i-20:i])\n",
    "        y_test.append(test_y[i - 1])\n",
    "    x_test, y_test = np.array(x_test), np.array(y_test)\n",
    "\n",
    "    num = np.array([0, 1])\n",
    "    num = 2\n",
    "    y_train = np.eye(num)[y_train]\n",
    "\n",
    "    num = np.unique(y_test, axis=0)\n",
    "    num = num.shape[0]\n",
    "    y_test = np.eye(num)[y_test]\n",
    "\n",
    "    model = Sequential()\n",
    "    model.add(LSTM(50,return_sequences=True, input_shape=(x_train.shape[1],x_train.shape[2])))\n",
    "    model.add(LSTM(50, return_sequences=False))\n",
    "    model.add(Dense(25))\n",
    "    model.add(Dense(1))\n",
    "\n",
    "    model.compile(optimizer='adam', loss='binary_crossentropy',metrics=['accuracy'])\n",
    "    \n",
    "#     with tf.device('/GPU:0'):\n",
    "    model.fit(x_train, y_train, batch_size=40, epochs=10)\n",
    "    \n",
    "#     return model.predict(x_test)\n",
    "    return 0.5"
   ]
  },
  {
   "cell_type": "code",
   "execution_count": 22,
   "id": "de23525f",
   "metadata": {},
   "outputs": [],
   "source": [
    "def back_testing(start_day, end_day, model, limit, country, code):  # ('2020-12-01', '2021-3-1', 'CNN', )\n",
    "\n",
    "    if model == 'Pole_Chart':\n",
    "        \n",
    "        cnn_accuracy = draw_picture_days(code, start_day, end_day)\n",
    "    \n",
    "        return cnn_accuracy\n",
    "\n",
    "    if model == 'Chart':\n",
    "        \n",
    "        chart_accuracy = draw_chart_accuracy(code, start_day, end_day)\n",
    "        \n",
    "        return chart_accuracy\n",
    "    \n",
    "    if model == 'LSTM':\n",
    "        \n",
    "        LSTM_accuracy = draw_LSTM_accuracy(code, start_day, end_day)\n",
    "        \n",
    "        return LSTM_accuracy\n",
    "    \n",
    "    if model == 'Stacking':\n",
    "        \n",
    "        Voting_accuracy = draw_stacking_accuracy(code, start_day, end_day)\n",
    "        \n",
    "        return Voting_accuracy"
   ]
  },
  {
   "cell_type": "code",
   "execution_count": 23,
   "id": "313e54a7",
   "metadata": {},
   "outputs": [],
   "source": [
    "def draw_stacking_accuracy(code, start_day, end_day):\n",
    "    a, y = draw_chart_accuracy2(code, start_day, end_day)\n",
    "    b = draw_picture_days2(code, start_day, end_day)\n",
    "    \n",
    "    x = []\n",
    "    for i, j in zip(a, b):\n",
    "        x.append(((i[0] + j[0][0]) / 2, (i[1] + j[0][1]) / 2))\n",
    "    for i in range(len(x)):\n",
    "        if x[i][0] > x[i][1]:\n",
    "            x[i] = 0\n",
    "        else:\n",
    "            x[i] = 1\n",
    "    return accuracy_score(x, list(y))\n",
    "#     return accuracy_score(x, y)"
   ]
  },
  {
   "cell_type": "code",
   "execution_count": 24,
   "id": "a1d55a29",
   "metadata": {},
   "outputs": [],
   "source": [
    "def draw_chart_accuracy(code, start_day, end_day):\n",
    "\n",
    "    try:\n",
    "        month_before = (datetime.strptime(start_day, '%Y-%m-%d') - relativedelta(months = 2)).strftime('%Y-%m-%d')  # str\n",
    "\n",
    "        data = fdr.DataReader(str(code), month_before, end_day)\n",
    "\n",
    "        all(data)\n",
    "\n",
    "        data.replace([np.inf, -np.inf], np.nan, inplace = True)\n",
    "\n",
    "        data.dropna(inplace = True)\n",
    "\n",
    "        data = data.loc[start_day :]            # 일종의 문법\n",
    "\n",
    "        y = data['Change+']\n",
    "\n",
    "        data = data[['RSI', 'STOCASTIC_K', 'STOCASTIC_D', 'Bollinger', 'MACD', 'MACD_cat', 'MACD_SIGNAL', 'RSI_delta', 'D_delta', 'sto_diff', 'B_delta', 'MACD_delta',\n",
    "                           'MA5', 'MA20', 'MA5_adj', 'MA20_adj']]\n",
    "\n",
    "        data.reset_index(drop = True, inplace = True)\n",
    "\n",
    "        mean = pd.read_csv('mean.csv', index_col = 0).drop('Change+', axis = 0).T\n",
    "        mean2 = mean.copy()\n",
    "        std = pd.read_csv('std.csv', index_col = 0).drop('Change+', axis = 0).T\n",
    "        std2 = std.copy()\n",
    "\n",
    "\n",
    "        while len(mean) != len(data):\n",
    "            mean = pd.concat([mean, mean2])\n",
    "            std = pd.concat([std, std2])\n",
    "\n",
    "        mean.reset_index(drop = True, inplace = True)\n",
    "\n",
    "        std.reset_index(drop = True, inplace = True)\n",
    "\n",
    "        mean = mean[['RSI', 'STOCASTIC_K', 'STOCASTIC_D', 'Bollinger', 'MACD',\n",
    "        'MACD_cat', 'MACD_SIGNAL', 'RSI_delta', 'D_delta', 'sto_diff', 'B_delta', 'MACD_delta',\n",
    "        'MA5', 'MA20', 'MA5_adj', 'MA20_adj', 'MA_diff']]\n",
    "\n",
    "        std = std[['RSI', 'STOCASTIC_K', 'STOCASTIC_D', 'Bollinger', 'MACD',\n",
    "        'MACD_cat', 'MACD_SIGNAL', 'RSI_delta', 'D_delta', 'sto_diff', 'B_delta', 'MACD_delta',\n",
    "        'MA5', 'MA20', 'MA5_adj', 'MA20_adj', 'MA_diff']]\n",
    "\n",
    "        mean.drop('MA_diff', axis = 1, inplace = True)\n",
    "\n",
    "        std.drop('MA_diff', axis = 1, inplace = True)\n",
    "\n",
    "        data = (data - mean) / std\n",
    "\n",
    "        data.drop('MACD_cat', axis = 1, inplace = True)\n",
    "\n",
    "        data['MACD_cat'] = 1\n",
    "\n",
    "        data['MACD_cat2'] = 0\n",
    "\n",
    "        prediction = cat_model.predict(np.array(data))\n",
    "        \n",
    "        accuracy = accuracy_score(y, prediction)\n",
    "        \n",
    "        return accuracy\n",
    "    \n",
    "    except:\n",
    "        return 0.5"
   ]
  },
  {
   "cell_type": "code",
   "execution_count": 25,
   "id": "ec1af071",
   "metadata": {},
   "outputs": [],
   "source": [
    "def draw_chart_accuracy2(code, start_day, end_day):\n",
    "\n",
    "    month_before = (datetime.strptime(start_day, '%Y-%m-%d') - relativedelta(months = 2)).strftime('%Y-%m-%d')  # str\n",
    "\n",
    "    data = fdr.DataReader(str(code), month_before, end_day)\n",
    "\n",
    "    all(data)\n",
    "\n",
    "    data.replace([np.inf, -np.inf], np.nan, inplace = True)\n",
    "\n",
    "    data.dropna(inplace = True)\n",
    "\n",
    "    data = data.loc[start_day :]            # 일종의 문법\n",
    "\n",
    "    y = data['Change+']\n",
    "\n",
    "    data = data[['RSI', 'STOCASTIC_K', 'STOCASTIC_D', 'Bollinger', 'MACD', 'MACD_cat', 'MACD_SIGNAL', 'RSI_delta', 'D_delta', 'sto_diff', 'B_delta', 'MACD_delta',\n",
    "                       'MA5', 'MA20', 'MA5_adj', 'MA20_adj']]\n",
    "\n",
    "    data.reset_index(drop = True, inplace = True)\n",
    "\n",
    "    mean = pd.read_csv('mean.csv', index_col = 0).drop('Change+', axis = 0).T\n",
    "    mean2 = mean.copy()\n",
    "    std = pd.read_csv('std.csv', index_col = 0).drop('Change+', axis = 0).T\n",
    "    std2 = std.copy()\n",
    "\n",
    "\n",
    "    while len(mean) != len(data):\n",
    "        mean = pd.concat([mean, mean2])\n",
    "        std = pd.concat([std, std2])\n",
    "\n",
    "    mean.reset_index(drop = True, inplace = True)\n",
    "\n",
    "    std.reset_index(drop = True, inplace = True)\n",
    "\n",
    "    mean = mean[['RSI', 'STOCASTIC_K', 'STOCASTIC_D', 'Bollinger', 'MACD',\n",
    "    'MACD_cat', 'MACD_SIGNAL', 'RSI_delta', 'D_delta', 'sto_diff', 'B_delta', 'MACD_delta',\n",
    "    'MA5', 'MA20', 'MA5_adj', 'MA20_adj', 'MA_diff']]\n",
    "\n",
    "    std = std[['RSI', 'STOCASTIC_K', 'STOCASTIC_D', 'Bollinger', 'MACD',\n",
    "    'MACD_cat', 'MACD_SIGNAL', 'RSI_delta', 'D_delta', 'sto_diff', 'B_delta', 'MACD_delta',\n",
    "    'MA5', 'MA20', 'MA5_adj', 'MA20_adj', 'MA_diff']]\n",
    "\n",
    "    mean.drop('MA_diff', axis = 1, inplace = True)\n",
    "\n",
    "    std.drop('MA_diff', axis = 1, inplace = True)\n",
    "\n",
    "    data = (data - mean) / std\n",
    "\n",
    "    data.drop('MACD_cat', axis = 1, inplace = True)\n",
    "\n",
    "    data['MACD_cat'] = 1\n",
    "\n",
    "    data['MACD_cat2'] = 0\n",
    "\n",
    "    prediction = cat_model.predict_proba(np.array(data))\n",
    "    \n",
    "    \n",
    "    \n",
    "    return prediction, y\n",
    "    "
   ]
  },
  {
   "cell_type": "code",
   "execution_count": 26,
   "id": "ae5d4023",
   "metadata": {},
   "outputs": [],
   "source": [
    "def back_testing(start_day, end_day, model, limit, country, code):  # ('2020-12-01', '2021-3-1', 'CNN', )\n",
    "\n",
    "    if model == 'Pole_Chart':\n",
    "        \n",
    "        cnn_accuracy = draw_picture_days(code, start_day, end_day)\n",
    "    \n",
    "        return cnn_accuracy\n",
    "\n",
    "    if model == 'Chart':\n",
    "        \n",
    "        chart_accuracy = draw_chart_accuracy(code, start_day, end_day)\n",
    "        \n",
    "        return chart_accuracy\n",
    "    \n",
    "    if model == 'LSTM':\n",
    "        \n",
    "        LSTM_accuracy = draw_LSTM_accuracy(code, start_day, end_day)\n",
    "        \n",
    "        return LSTM_accuracy\n",
    "    \n",
    "    if model == 'Stacking':\n",
    "        \n",
    "        Voting_accuracy = draw_stacking_accuracy(code, start_day, end_day)\n",
    "        \n",
    "        return Voting_accuracy"
   ]
  },
  {
   "cell_type": "code",
   "execution_count": 30,
   "id": "85b139e6",
   "metadata": {},
   "outputs": [
    {
     "name": "stdout",
     "output_type": "stream",
     "text": [
      "1/1 [==============================] - 0s 35ms/step - loss: 0.5531 - accuracy: 1.0000\n",
      "1/1 [==============================] - 0s 32ms/step - loss: 0.5531 - accuracy: 1.0000\n",
      "1/1 [==============================] - 0s 25ms/step - loss: 0.8886 - accuracy: 0.0000e+00\n",
      "1/1 [==============================] - 0s 25ms/step - loss: 0.5408 - accuracy: 1.0000\n",
      "1/1 [==============================] - 0s 31ms/step - loss: 0.8311 - accuracy: 0.0000e+00\n",
      "1/1 [==============================] - 0s 32ms/step - loss: 0.8632 - accuracy: 0.0000e+00\n",
      "1/1 [==============================] - 0s 23ms/step - loss: 0.5086 - accuracy: 1.0000\n",
      "1/1 [==============================] - 0s 26ms/step - loss: 0.4724 - accuracy: 1.0000\n",
      "1/1 [==============================] - 0s 33ms/step - loss: 0.5285 - accuracy: 1.0000\n",
      "1/1 [==============================] - 0s 23ms/step - loss: 0.5193 - accuracy: 1.0000\n",
      "1/1 [==============================] - 0s 25ms/step - loss: 0.5506 - accuracy: 1.0000\n",
      "1/1 [==============================] - 0s 24ms/step - loss: 0.9219 - accuracy: 0.0000e+00\n",
      "1/1 [==============================] - 0s 24ms/step - loss: 0.5475 - accuracy: 1.0000\n",
      "1/1 [==============================] - 0s 30ms/step - loss: 0.5932 - accuracy: 1.0000\n",
      "1/1 [==============================] - 0s 28ms/step - loss: 0.5530 - accuracy: 1.0000\n",
      "1/1 [==============================] - 0s 33ms/step - loss: 0.4822 - accuracy: 1.0000\n",
      "1/1 [==============================] - 0s 28ms/step - loss: 0.4598 - accuracy: 1.0000\n",
      "1/1 [==============================] - 0s 38ms/step - loss: 1.0210 - accuracy: 0.0000e+00\n",
      "1/1 [==============================] - 0s 42ms/step - loss: 0.9984 - accuracy: 0.0000e+00\n",
      "1/1 [==============================] - 0s 22ms/step - loss: 0.9984 - accuracy: 0.0000e+00\n",
      "1/1 [==============================] - 0s 31ms/step - loss: 0.5443 - accuracy: 1.0000\n",
      "1/1 [==============================] - 0s 28ms/step - loss: 0.8269 - accuracy: 0.0000e+00\n",
      "1/1 [==============================] - 0s 27ms/step - loss: 0.8269 - accuracy: 0.0000e+00\n",
      "1/1 [==============================] - 0s 35ms/step - loss: 0.8827 - accuracy: 0.0000e+00\n",
      "1/1 [==============================] - 0s 30ms/step - loss: 0.6039 - accuracy: 1.0000\n",
      "1/1 [==============================] - 0s 36ms/step - loss: 0.5982 - accuracy: 1.0000\n",
      "1/1 [==============================] - 0s 21ms/step - loss: 0.5832 - accuracy: 1.0000\n",
      "1/1 [==============================] - 0s 25ms/step - loss: 0.9100 - accuracy: 0.0000e+00\n",
      "1/1 [==============================] - 0s 26ms/step - loss: 0.8982 - accuracy: 0.0000e+00\n",
      "1/1 [==============================] - 0s 26ms/step - loss: 0.5285 - accuracy: 1.0000\n",
      "1/1 [==============================] - 0s 27ms/step - loss: 0.8076 - accuracy: 0.0000e+00\n",
      "1/1 [==============================] - 0s 23ms/step - loss: 0.6009 - accuracy: 1.0000\n",
      "1/1 [==============================] - 0s 32ms/step - loss: 0.8280 - accuracy: 0.0000e+00\n",
      "1/1 [==============================] - 0s 25ms/step - loss: 0.5773 - accuracy: 1.0000\n",
      "1/1 [==============================] - 0s 24ms/step - loss: 0.8489 - accuracy: 0.0000e+00\n",
      "1/1 [==============================] - 0s 26ms/step - loss: 0.8737 - accuracy: 0.0000e+00\n",
      "1/1 [==============================] - 0s 36ms/step - loss: 0.6127 - accuracy: 1.0000\n",
      "1/1 [==============================] - 0s 21ms/step - loss: 0.7334 - accuracy: 0.0000e+00\n",
      "1/1 [==============================] - 0s 28ms/step - loss: 0.5970 - accuracy: 1.0000\n",
      "1/1 [==============================] - 0s 31ms/step - loss: 0.5705 - accuracy: 1.0000\n",
      "1/1 [==============================] - 0s 20ms/step - loss: 0.5479 - accuracy: 1.0000\n",
      "1/1 [==============================] - 0s 26ms/step - loss: 1.0643 - accuracy: 0.0000e+00\n",
      "1/1 [==============================] - 0s 26ms/step - loss: 0.4580 - accuracy: 1.0000\n",
      "1/1 [==============================] - 0s 29ms/step - loss: 0.5676 - accuracy: 1.0000\n",
      "1/1 [==============================] - 0s 30ms/step - loss: 0.5422 - accuracy: 1.0000\n",
      "1/1 [==============================] - 0s 22ms/step - loss: 0.8555 - accuracy: 0.0000e+00\n",
      "1/1 [==============================] - 0s 28ms/step - loss: 0.8930 - accuracy: 0.0000e+00\n",
      "1/1 [==============================] - 0s 25ms/step - loss: 0.8406 - accuracy: 0.0000e+00\n",
      "1/1 [==============================] - 0s 25ms/step - loss: 0.5959 - accuracy: 1.0000\n",
      "1/1 [==============================] - 0s 26ms/step - loss: 0.8646 - accuracy: 0.0000e+00\n",
      "1/1 [==============================] - 0s 33ms/step - loss: 0.8888 - accuracy: 0.0000e+00\n",
      "1/1 [==============================] - 0s 25ms/step - loss: 0.5488 - accuracy: 1.0000\n",
      "1/1 [==============================] - 0s 27ms/step - loss: 0.5301 - accuracy: 1.0000\n",
      "1/1 [==============================] - 0s 26ms/step - loss: 0.8632 - accuracy: 0.0000e+00\n",
      "1/1 [==============================] - 0s 33ms/step - loss: 0.8632 - accuracy: 0.0000e+00\n",
      "1/1 [==============================] - 0s 39ms/step - loss: 0.8813 - accuracy: 0.0000e+00\n",
      "1/1 [==============================] - 0s 26ms/step - loss: 0.8813 - accuracy: 0.0000e+00\n",
      "1/1 [==============================] - 0s 29ms/step - loss: 0.5581 - accuracy: 1.0000\n",
      "1/1 [==============================] - 0s 36ms/step - loss: 0.8417 - accuracy: 0.0000e+00\n",
      "1/1 [==============================] - 0s 24ms/step - loss: 0.6305 - accuracy: 1.0000\n",
      "1/1 [==============================] - 0s 37ms/step - loss: 0.6461 - accuracy: 1.0000\n",
      "1/1 [==============================] - 0s 35ms/step - loss: 0.5730 - accuracy: 1.0000\n",
      "1/1 [==============================] - 0s 33ms/step - loss: 0.8298 - accuracy: 0.0000e+00\n",
      "1/1 [==============================] - 0s 38ms/step - loss: 0.5488 - accuracy: 1.0000\n",
      "1/1 [==============================] - 0s 33ms/step - loss: 0.5318 - accuracy: 1.0000\n",
      "1/1 [==============================] - 0s 26ms/step - loss: 0.7848 - accuracy: 0.0000e+00\n",
      "1/1 [==============================] - 0s 26ms/step - loss: 0.5673 - accuracy: 1.0000\n",
      "1/1 [==============================] - 0s 25ms/step - loss: 0.5932 - accuracy: 1.0000\n",
      "1/1 [==============================] - 0s 36ms/step - loss: 0.8126 - accuracy: 0.0000e+00\n",
      "1/1 [==============================] - 0s 34ms/step - loss: 0.8617 - accuracy: 0.0000e+00\n",
      "1/1 [==============================] - 0s 34ms/step - loss: 0.5666 - accuracy: 1.0000\n",
      "1/1 [==============================] - 0s 32ms/step - loss: 0.8269 - accuracy: 0.0000e+00\n",
      "1/1 [==============================] - 0s 23ms/step - loss: 0.5752 - accuracy: 1.0000\n",
      "1/1 [==============================] - 0s 32ms/step - loss: 0.5759 - accuracy: 1.0000\n",
      "1/1 [==============================] - 0s 33ms/step - loss: 0.8207 - accuracy: 0.0000e+00\n",
      "1/1 [==============================] - 0s 23ms/step - loss: 0.5746 - accuracy: 1.0000\n",
      "1/1 [==============================] - 0s 26ms/step - loss: 0.8668 - accuracy: 0.0000e+00\n",
      "1/1 [==============================] - 0s 23ms/step - loss: 0.8406 - accuracy: 0.0000e+00\n",
      "1/1 [==============================] - 0s 34ms/step - loss: 0.5965 - accuracy: 1.0000\n",
      "1/1 [==============================] - 0s 27ms/step - loss: 0.5240 - accuracy: 1.0000\n",
      "1/1 [==============================] - 0s 22ms/step - loss: 0.8071 - accuracy: 0.0000e+00\n",
      "1/1 [==============================] - 0s 32ms/step - loss: 0.5240 - accuracy: 1.0000\n",
      "1/1 [==============================] - 0s 22ms/step - loss: 0.5647 - accuracy: 1.0000\n",
      "1/1 [==============================] - 0s 24ms/step - loss: 0.5103 - accuracy: 1.0000\n",
      "1/1 [==============================] - 0s 29ms/step - loss: 0.5350 - accuracy: 1.0000\n",
      "1/1 [==============================] - 0s 23ms/step - loss: 0.5965 - accuracy: 1.0000\n",
      "1/1 [==============================] - 0s 27ms/step - loss: 0.8368 - accuracy: 0.0000e+00\n",
      "1/1 [==============================] - 0s 22ms/step - loss: 0.5730 - accuracy: 1.0000\n",
      "1/1 [==============================] - 0s 18ms/step - loss: 0.8635 - accuracy: 0.0000e+00\n",
      "1/1 [==============================] - 0s 20ms/step - loss: 0.8448 - accuracy: 0.0000e+00\n",
      "1/1 [==============================] - 0s 32ms/step - loss: 0.5422 - accuracy: 1.0000\n",
      "1/1 [==============================] - 0s 24ms/step - loss: 0.8339 - accuracy: 0.0000e+00\n",
      "1/1 [==============================] - 0s 27ms/step - loss: 0.9213 - accuracy: 0.0000e+00\n"
     ]
    },
    {
     "name": "stdout",
     "output_type": "stream",
     "text": [
      "1/1 [==============================] - 0s 22ms/step - loss: 0.5062 - accuracy: 1.0000\n",
      "1/1 [==============================] - 0s 22ms/step - loss: 0.8530 - accuracy: 0.0000e+00\n",
      "1/1 [==============================] - 0s 23ms/step - loss: 0.5785 - accuracy: 1.0000\n",
      "1/1 [==============================] - 0s 28ms/step - loss: 0.8595 - accuracy: 0.0000e+00\n",
      "Epoch 1/10\n",
      "2/2 [==============================] - 3s 30ms/step - loss: 7.7125 - accuracy: 0.5000\n",
      "Epoch 2/10\n",
      "2/2 [==============================] - 0s 31ms/step - loss: 7.7125 - accuracy: 0.5000\n",
      "Epoch 3/10\n",
      "2/2 [==============================] - 0s 29ms/step - loss: 7.7125 - accuracy: 0.5000\n",
      "Epoch 4/10\n",
      "2/2 [==============================] - 0s 24ms/step - loss: 7.7125 - accuracy: 0.5000\n",
      "Epoch 5/10\n",
      "2/2 [==============================] - 0s 25ms/step - loss: 7.7125 - accuracy: 0.5000\n",
      "Epoch 6/10\n",
      "2/2 [==============================] - 0s 24ms/step - loss: 7.7125 - accuracy: 0.5000\n",
      "Epoch 7/10\n",
      "2/2 [==============================] - 0s 26ms/step - loss: 7.7125 - accuracy: 0.5000\n",
      "Epoch 8/10\n",
      "2/2 [==============================] - 0s 25ms/step - loss: 7.7125 - accuracy: 0.5000\n",
      "Epoch 9/10\n",
      "2/2 [==============================] - 0s 24ms/step - loss: 7.7125 - accuracy: 0.5000\n",
      "Epoch 10/10\n",
      "2/2 [==============================] - 0s 25ms/step - loss: 7.7125 - accuracy: 0.5000\n",
      "캔들 차트 모델의 2022년 코스피 예측률은 :  0.5463917525773195\n",
      "차트 지표 모델의 2022년 코스피 예측률은 :  0.5360824742268041\n",
      "LSTM 모델의 2022년 코스피 예측률은 :  0.5\n",
      "보팅 모델의 2022년 코스피 예측률은 :  0.5463917525773195\n"
     ]
    },
    {
     "data": {
      "image/png": "[encoded data removed]",
      "text/plain": [
       "<Figure size 432x288 with 1 Axes>"
      ]
     },
     "metadata": {},
     "output_type": "display_data"
    },
    {
     "data": {
      "image/png": "[encoded data removed]",
      "text/plain": [
       "<Figure size 50x50 with 1 Axes>"
      ]
     },
     "metadata": {},
     "output_type": "display_data"
    },
    {
     "data": {
      "image/png": "[encoded data removed]",
      "text/plain": [
       "<Figure size 50x50 with 1 Axes>"
      ]
     },
     "metadata": {},
     "output_type": "display_data"
    },
    {
     "data": {
      "image/png": "[encoded data removed]",
      "text/plain": [
       "<Figure size 50x50 with 1 Axes>"
      ]
     },
     "metadata": {},
     "output_type": "display_data"
    },
    {
     "data": {
      "image/png": "[encoded data removed]",
      "text/plain": [
       "<Figure size 50x50 with 1 Axes>"
      ]
     },
     "metadata": {},
     "output_type": "display_data"
    },
    {
     "data": {
      "image/png": "[encoded data removed]",
      "text/plain": [
       "<Figure size 50x50 with 1 Axes>"
      ]
     },
     "metadata": {},
     "output_type": "display_data"
    },
    {
     "data": {
      "image/png": "[encoded data removed]",
      "text/plain": [
       "<Figure size 50x50 with 1 Axes>"
      ]
     },
     "metadata": {},
     "output_type": "display_data"
    },
    {
     "data": {
      "image/png": "[encoded data removed]",
      "text/plain": [
       "<Figure size 50x50 with 1 Axes>"
      ]
     },
     "metadata": {},
     "output_type": "display_data"
    },
    {
     "data": {
      "image/png": "[encoded data removed]",
      "text/plain": [
       "<Figure size 50x50 with 1 Axes>"
      ]
     },
     "metadata": {},
     "output_type": "display_data"
    },
    {
     "data": {
      "image/png": "[encoded data removed]",
      "text/plain": [
       "<Figure size 50x50 with 1 Axes>"
      ]
     },
     "metadata": {},
     "output_type": "display_data"
    },
    {
     "data": {
      "image/png": "[encoded data removed]",
      "text/plain": [
       "<Figure size 50x50 with 1 Axes>"
      ]
     },
     "metadata": {},
     "output_type": "display_data"
    },
    {
     "data": {
      "image/png": "[encoded data removed]",
      "text/plain": [
       "<Figure size 50x50 with 1 Axes>"
      ]
     },
     "metadata": {},
     "output_type": "display_data"
    },
    {
     "data": {
      "image/png": "[encoded data removed]",
      "text/plain": [
       "<Figure size 50x50 with 1 Axes>"
      ]
     },
     "metadata": {},
     "output_type": "display_data"
    },
    {
     "data": {
      "image/png": "[encoded data removed]",
      "text/plain": [
       "<Figure size 50x50 with 1 Axes>"
      ]
     },
     "metadata": {},
     "output_type": "display_data"
    },
    {
     "data": {
      "image/png": "[encoded data removed]",
      "text/plain": [
       "<Figure size 50x50 with 1 Axes>"
      ]
     },
     "metadata": {},
     "output_type": "display_data"
    },
    {
     "data": {
      "image/png": "[encoded data removed]",
      "text/plain": [
       "<Figure size 50x50 with 1 Axes>"
      ]
     },
     "metadata": {},
     "output_type": "display_data"
    },
    {
     "data": {
      "image/png": "[encoded data removed]",
      "text/plain": [
       "<Figure size 50x50 with 1 Axes>"
      ]
     },
     "metadata": {},
     "output_type": "display_data"
    },
    {
     "data": {
      "image/png": "[encoded data removed]",
      "text/plain": [
       "<Figure size 50x50 with 1 Axes>"
      ]
     },
     "metadata": {},
     "output_type": "display_data"
    },
    {
     "data": {
      "image/png": "[encoded data removed]",
      "text/plain": [
       "<Figure size 50x50 with 1 Axes>"
      ]
     },
     "metadata": {},
     "output_type": "display_data"
    },
    {
     "data": {
      "image/png": "[encoded data removed]",
      "text/plain": [
       "<Figure size 50x50 with 1 Axes>"
      ]
     },
     "metadata": {},
     "output_type": "display_data"
    },
    {
     "data": {
      "image/png": "[encoded data removed]",
      "text/plain": [
       "<Figure size 50x50 with 1 Axes>"
      ]
     },
     "metadata": {},
     "output_type": "display_data"
    },
    {
     "data": {
      "image/png": "[encoded data removed]",
      "text/plain": [
       "<Figure size 50x50 with 1 Axes>"
      ]
     },
     "metadata": {},
     "output_type": "display_data"
    },
    {
     "data": {
      "image/png": "[encoded data removed]",
      "text/plain": [
       "<Figure size 50x50 with 1 Axes>"
      ]
     },
     "metadata": {},
     "output_type": "display_data"
    },
    {
     "data": {
      "image/png": "[encoded data removed]",
      "text/plain": [
       "<Figure size 50x50 with 1 Axes>"
      ]
     },
     "metadata": {},
     "output_type": "display_data"
    },
    {
     "data": {
      "image/png": "[encoded data removed]",
      "text/plain": [
       "<Figure size 50x50 with 1 Axes>"
      ]
     },
     "metadata": {},
     "output_type": "display_data"
    },
    {
     "data": {
      "image/png": "[encoded data removed]",
      "text/plain": [
       "<Figure size 50x50 with 1 Axes>"
      ]
     },
     "metadata": {},
     "output_type": "display_data"
    },
    {
     "data": {
      "image/png": "[encoded data removed]",
      "text/plain": [
       "<Figure size 50x50 with 1 Axes>"
      ]
     },
     "metadata": {},
     "output_type": "display_data"
    },
    {
     "data": {
      "image/png": "[encoded data removed]",
      "text/plain": [
       "<Figure size 50x50 with 1 Axes>"
      ]
     },
     "metadata": {},
     "output_type": "display_data"
    },
    {
     "data": {
      "image/png": "[encoded data removed]",
      "text/plain": [
       "<Figure size 50x50 with 1 Axes>"
      ]
     },
     "metadata": {},
     "output_type": "display_data"
    },
    {
     "data": {
      "image/png": "[encoded data removed]",
      "text/plain": [
       "<Figure size 50x50 with 1 Axes>"
      ]
     },
     "metadata": {},
     "output_type": "display_data"
    },
    {
     "data": {
      "image/png": "[encoded data removed]",
      "text/plain": [
       "<Figure size 50x50 with 1 Axes>"
      ]
     },
     "metadata": {},
     "output_type": "display_data"
    },
    {
     "data": {
      "image/png": "[encoded data removed]",
      "text/plain": [
       "<Figure size 50x50 with 1 Axes>"
      ]
     },
     "metadata": {},
     "output_type": "display_data"
    },
    {
     "data": {
      "image/png": "[encoded data removed]",
      "text/plain": [
       "<Figure size 50x50 with 1 Axes>"
      ]
     },
     "metadata": {},
     "output_type": "display_data"
    },
    {
     "data": {
      "image/png": "[encoded data removed]",
      "text/plain": [
       "<Figure size 50x50 with 1 Axes>"
      ]
     },
     "metadata": {},
     "output_type": "display_data"
    },
    {
     "data": {
      "image/png": "[encoded data removed]",
      "text/plain": [
       "<Figure size 50x50 with 1 Axes>"
      ]
     },
     "metadata": {},
     "output_type": "display_data"
    },
    {
     "data": {
      "image/png": "[encoded data removed]",
      "text/plain": [
       "<Figure size 50x50 with 1 Axes>"
      ]
     },
     "metadata": {},
     "output_type": "display_data"
    },
    {
     "data": {
      "image/png": "[encoded data removed]",
      "text/plain": [
       "<Figure size 50x50 with 1 Axes>"
      ]
     },
     "metadata": {},
     "output_type": "display_data"
    },
    {
     "data": {
      "image/png": "[encoded data removed]",
      "text/plain": [
       "<Figure size 50x50 with 1 Axes>"
      ]
     },
     "metadata": {},
     "output_type": "display_data"
    },
    {
     "data": {
      "image/png": "[encoded data removed]",
      "text/plain": [
       "<Figure size 50x50 with 1 Axes>"
      ]
     },
     "metadata": {},
     "output_type": "display_data"
    },
    {
     "data": {
      "image/png": "[encoded data removed]",
      "text/plain": [
       "<Figure size 50x50 with 1 Axes>"
      ]
     },
     "metadata": {},
     "output_type": "display_data"
    },
    {
     "data": {
      "image/png": "[encoded data removed]",
      "text/plain": [
       "<Figure size 50x50 with 1 Axes>"
      ]
     },
     "metadata": {},
     "output_type": "display_data"
    },
    {
     "data": {
      "image/png": "[encoded data removed]",
      "text/plain": [
       "<Figure size 50x50 with 1 Axes>"
      ]
     },
     "metadata": {},
     "output_type": "display_data"
    },
    {
     "data": {
      "image/png": "[encoded data removed]",
      "text/plain": [
       "<Figure size 50x50 with 1 Axes>"
      ]
     },
     "metadata": {},
     "output_type": "display_data"
    },
    {
     "data": {
      "image/png": "[encoded data removed]",
      "text/plain": [
       "<Figure size 50x50 with 1 Axes>"
      ]
     },
     "metadata": {},
     "output_type": "display_data"
    },
    {
     "data": {
      "image/png": "[encoded data removed]",
      "text/plain": [
       "<Figure size 50x50 with 1 Axes>"
      ]
     },
     "metadata": {},
     "output_type": "display_data"
    },
    {
     "data": {
      "image/png": "[encoded data removed]",
      "text/plain": [
       "<Figure size 50x50 with 1 Axes>"
      ]
     },
     "metadata": {},
     "output_type": "display_data"
    },
    {
     "data": {
      "image/png": "[encoded data removed]",
      "text/plain": [
       "<Figure size 50x50 with 1 Axes>"
      ]
     },
     "metadata": {},
     "output_type": "display_data"
    },
    {
     "data": {
      "image/png": "[encoded data removed]",
      "text/plain": [
       "<Figure size 50x50 with 1 Axes>"
      ]
     },
     "metadata": {},
     "output_type": "display_data"
    },
    {
     "data": {
      "image/png": "[encoded data removed]",
      "text/plain": [
       "<Figure size 50x50 with 1 Axes>"
      ]
     },
     "metadata": {},
     "output_type": "display_data"
    },
    {
     "data": {
      "image/png": "[encoded data removed]",
      "text/plain": [
       "<Figure size 50x50 with 1 Axes>"
      ]
     },
     "metadata": {},
     "output_type": "display_data"
    },
    {
     "data": {
      "image/png": "[encoded data removed]",
      "text/plain": [
       "<Figure size 50x50 with 1 Axes>"
      ]
     },
     "metadata": {},
     "output_type": "display_data"
    },
    {
     "data": {
      "image/png": "[encoded data removed]",
      "text/plain": [
       "<Figure size 50x50 with 1 Axes>"
      ]
     },
     "metadata": {},
     "output_type": "display_data"
    },
    {
     "data": {
      "image/png": "[encoded data removed]",
      "text/plain": [
       "<Figure size 50x50 with 1 Axes>"
      ]
     },
     "metadata": {},
     "output_type": "display_data"
    },
    {
     "data": {
      "image/png": "[encoded data removed]",
      "text/plain": [
       "<Figure size 50x50 with 1 Axes>"
      ]
     },
     "metadata": {},
     "output_type": "display_data"
    },
    {
     "data": {
      "image/png": "[encoded data removed]",
      "text/plain": [
       "<Figure size 50x50 with 1 Axes>"
      ]
     },
     "metadata": {},
     "output_type": "display_data"
    },
    {
     "data": {
      "image/png": "[encoded data removed]",
      "text/plain": [
       "<Figure size 50x50 with 1 Axes>"
      ]
     },
     "metadata": {},
     "output_type": "display_data"
    },
    {
     "data": {
      "image/png": "[encoded data removed]",
      "text/plain": [
       "<Figure size 50x50 with 1 Axes>"
      ]
     },
     "metadata": {},
     "output_type": "display_data"
    },
    {
     "data": {
      "image/png": "[encoded data removed]",
      "text/plain": [
       "<Figure size 50x50 with 1 Axes>"
      ]
     },
     "metadata": {},
     "output_type": "display_data"
    },
    {
     "data": {
      "image/png": "[encoded data removed]",
      "text/plain": [
       "<Figure size 50x50 with 1 Axes>"
      ]
     },
     "metadata": {},
     "output_type": "display_data"
    },
    {
     "data": {
      "image/png": "[encoded data removed]",
      "text/plain": [
       "<Figure size 50x50 with 1 Axes>"
      ]
     },
     "metadata": {},
     "output_type": "display_data"
    },
    {
     "data": {
      "image/png": "[encoded data removed]",
      "text/plain": [
       "<Figure size 50x50 with 1 Axes>"
      ]
     },
     "metadata": {},
     "output_type": "display_data"
    },
    {
     "data": {
      "image/png": "[encoded data removed]",
      "text/plain": [
       "<Figure size 50x50 with 1 Axes>"
      ]
     },
     "metadata": {},
     "output_type": "display_data"
    },
    {
     "data": {
      "image/png": "[encoded data removed]",
      "text/plain": [
       "<Figure size 50x50 with 1 Axes>"
      ]
     },
     "metadata": {},
     "output_type": "display_data"
    },
    {
     "data": {
      "image/png": "[encoded data removed]",
      "text/plain": [
       "<Figure size 50x50 with 1 Axes>"
      ]
     },
     "metadata": {},
     "output_type": "display_data"
    },
    {
     "data": {
      "image/png": "[encoded data removed]",
      "text/plain": [
       "<Figure size 50x50 with 1 Axes>"
      ]
     },
     "metadata": {},
     "output_type": "display_data"
    },
    {
     "data": {
      "image/png": "[encoded data removed]",
      "text/plain": [
       "<Figure size 50x50 with 1 Axes>"
      ]
     },
     "metadata": {},
     "output_type": "display_data"
    },
    {
     "data": {
      "image/png": "[encoded data removed]",
      "text/plain": [
       "<Figure size 50x50 with 1 Axes>"
      ]
     },
     "metadata": {},
     "output_type": "display_data"
    },
    {
     "data": {
      "image/png": "[encoded data removed]",
      "text/plain": [
       "<Figure size 50x50 with 1 Axes>"
      ]
     },
     "metadata": {},
     "output_type": "display_data"
    },
    {
     "data": {
      "image/png": "[encoded data removed]",
      "text/plain": [
       "<Figure size 50x50 with 1 Axes>"
      ]
     },
     "metadata": {},
     "output_type": "display_data"
    },
    {
     "data": {
      "image/png": "[encoded data removed]",
      "text/plain": [
       "<Figure size 50x50 with 1 Axes>"
      ]
     },
     "metadata": {},
     "output_type": "display_data"
    },
    {
     "data": {
      "image/png": "[encoded data removed]",
      "text/plain": [
       "<Figure size 50x50 with 1 Axes>"
      ]
     },
     "metadata": {},
     "output_type": "display_data"
    },
    {
     "data": {
      "image/png": "[encoded data removed]",
      "text/plain": [
       "<Figure size 50x50 with 1 Axes>"
      ]
     },
     "metadata": {},
     "output_type": "display_data"
    },
    {
     "data": {
      "image/png": "[encoded data removed]",
      "text/plain": [
       "<Figure size 50x50 with 1 Axes>"
      ]
     },
     "metadata": {},
     "output_type": "display_data"
    },
    {
     "data": {
      "image/png": "[encoded data removed]",
      "text/plain": [
       "<Figure size 50x50 with 1 Axes>"
      ]
     },
     "metadata": {},
     "output_type": "display_data"
    },
    {
     "data": {
      "image/png": "[encoded data removed]",
      "text/plain": [
       "<Figure size 50x50 with 1 Axes>"
      ]
     },
     "metadata": {},
     "output_type": "display_data"
    },
    {
     "data": {
      "image/png": "[encoded data removed]",
      "text/plain": [
       "<Figure size 50x50 with 1 Axes>"
      ]
     },
     "metadata": {},
     "output_type": "display_data"
    },
    {
     "data": {
      "image/png": "[encoded data removed]",
      "text/plain": [
       "<Figure size 50x50 with 1 Axes>"
      ]
     },
     "metadata": {},
     "output_type": "display_data"
    },
    {
     "data": {
      "image/png": "[encoded data removed]",
      "text/plain": [
       "<Figure size 50x50 with 1 Axes>"
      ]
     },
     "metadata": {},
     "output_type": "display_data"
    },
    {
     "data": {
      "image/png": "[encoded data removed]",
      "text/plain": [
       "<Figure size 50x50 with 1 Axes>"
      ]
     },
     "metadata": {},
     "output_type": "display_data"
    },
    {
     "data": {
      "image/png": "[encoded data removed]",
      "text/plain": [
       "<Figure size 50x50 with 1 Axes>"
      ]
     },
     "metadata": {},
     "output_type": "display_data"
    },
    {
     "data": {
      "image/png": "[encoded data removed]",
      "text/plain": [
       "<Figure size 50x50 with 1 Axes>"
      ]
     },
     "metadata": {},
     "output_type": "display_data"
    },
    {
     "data": {
      "image/png": "[encoded data removed]",
      "text/plain": [
       "<Figure size 50x50 with 1 Axes>"
      ]
     },
     "metadata": {},
     "output_type": "display_data"
    },
    {
     "data": {
      "image/png": "[encoded data removed]",
      "text/plain": [
       "<Figure size 50x50 with 1 Axes>"
      ]
     },
     "metadata": {},
     "output_type": "display_data"
    },
    {
     "data": {
      "image/png": "[encoded data removed]",
      "text/plain": [
       "<Figure size 50x50 with 1 Axes>"
      ]
     },
     "metadata": {},
     "output_type": "display_data"
    },
    {
     "data": {
      "image/png": "[encoded data removed]",
      "text/plain": [
       "<Figure size 50x50 with 1 Axes>"
      ]
     },
     "metadata": {},
     "output_type": "display_data"
    },
    {
     "data": {
      "image/png": "[encoded data removed]",
      "text/plain": [
       "<Figure size 50x50 with 1 Axes>"
      ]
     },
     "metadata": {},
     "output_type": "display_data"
    },
    {
     "data": {
      "image/png": "[encoded data removed]",
      "text/plain": [
       "<Figure size 50x50 with 1 Axes>"
      ]
     },
     "metadata": {},
     "output_type": "display_data"
    },
    {
     "data": {
      "image/png": "[encoded data removed]",
      "text/plain": [
       "<Figure size 50x50 with 1 Axes>"
      ]
     },
     "metadata": {},
     "output_type": "display_data"
    },
    {
     "data": {
      "image/png": "[encoded data removed]",
      "text/plain": [
       "<Figure size 50x50 with 1 Axes>"
      ]
     },
     "metadata": {},
     "output_type": "display_data"
    },
    {
     "data": {
      "image/png": "[encoded data removed]",
      "text/plain": [
       "<Figure size 50x50 with 1 Axes>"
      ]
     },
     "metadata": {},
     "output_type": "display_data"
    },
    {
     "data": {
      "image/png": "[encoded data removed]",
      "text/plain": [
       "<Figure size 50x50 with 1 Axes>"
      ]
     },
     "metadata": {},
     "output_type": "display_data"
    },
    {
     "data": {
      "image/png": "[encoded data removed]",
      "text/plain": [
       "<Figure size 50x50 with 1 Axes>"
      ]
     },
     "metadata": {},
     "output_type": "display_data"
    },
    {
     "data": {
      "image/png": "[encoded data removed]",
      "text/plain": [
       "<Figure size 50x50 with 1 Axes>"
      ]
     },
     "metadata": {},
     "output_type": "display_data"
    },
    {
     "data": {
      "image/png": "[encoded data removed]",
      "text/plain": [
       "<Figure size 50x50 with 1 Axes>"
      ]
     },
     "metadata": {},
     "output_type": "display_data"
    },
    {
     "data": {
      "image/png": "[encoded data removed]",
      "text/plain": [
       "<Figure size 50x50 with 1 Axes>"
      ]
     },
     "metadata": {},
     "output_type": "display_data"
    },
    {
     "data": {
      "image/png": "[encoded data removed]",
      "text/plain": [
       "<Figure size 50x50 with 1 Axes>"
      ]
     },
     "metadata": {},
     "output_type": "display_data"
    },
    {
     "data": {
      "image/png": "[encoded data removed]",
      "text/plain": [
       "<Figure size 50x50 with 1 Axes>"
      ]
     },
     "metadata": {},
     "output_type": "display_data"
    },
    {
     "data": {
      "image/png": "[encoded data removed]",
      "text/plain": [
       "<Figure size 50x50 with 1 Axes>"
      ]
     },
     "metadata": {},
     "output_type": "display_data"
    },
    {
     "data": {
      "image/png": "[encoded data removed]",
      "text/plain": [
       "<Figure size 50x50 with 1 Axes>"
      ]
     },
     "metadata": {},
     "output_type": "display_data"
    },
    {
     "data": {
      "image/png": "[encoded data removed]",
      "text/plain": [
       "<Figure size 50x50 with 1 Axes>"
      ]
     },
     "metadata": {},
     "output_type": "display_data"
    },
    {
     "data": {
      "image/png": "[encoded data removed]",
      "text/plain": [
       "<Figure size 50x50 with 1 Axes>"
      ]
     },
     "metadata": {},
     "output_type": "display_data"
    },
    {
     "data": {
      "image/png": "[encoded data removed]",
      "text/plain": [
       "<Figure size 50x50 with 1 Axes>"
      ]
     },
     "metadata": {},
     "output_type": "display_data"
    },
    {
     "data": {
      "image/png": "[encoded data removed]",
      "text/plain": [
       "<Figure size 50x50 with 1 Axes>"
      ]
     },
     "metadata": {},
     "output_type": "display_data"
    },
    {
     "data": {
      "image/png": "[encoded data removed]",
      "text/plain": [
       "<Figure size 50x50 with 1 Axes>"
      ]
     },
     "metadata": {},
     "output_type": "display_data"
    },
    {
     "data": {
      "image/png": "[encoded data removed]",
      "text/plain": [
       "<Figure size 50x50 with 1 Axes>"
      ]
     },
     "metadata": {},
     "output_type": "display_data"
    },
    {
     "data": {
      "image/png": "[encoded data removed]",
      "text/plain": [
       "<Figure size 50x50 with 1 Axes>"
      ]
     },
     "metadata": {},
     "output_type": "display_data"
    },
    {
     "data": {
      "image/png": "[encoded data removed]",
      "text/plain": [
       "<Figure size 50x50 with 1 Axes>"
      ]
     },
     "metadata": {},
     "output_type": "display_data"
    },
    {
     "data": {
      "image/png": "[encoded data removed]",
      "text/plain": [
       "<Figure size 50x50 with 1 Axes>"
      ]
     },
     "metadata": {},
     "output_type": "display_data"
    },
    {
     "data": {
      "image/png": "[encoded data removed]",
      "text/plain": [
       "<Figure size 50x50 with 1 Axes>"
      ]
     },
     "metadata": {},
     "output_type": "display_data"
    },
    {
     "data": {
      "image/png": "[encoded data removed]",
      "text/plain": [
       "<Figure size 50x50 with 1 Axes>"
      ]
     },
     "metadata": {},
     "output_type": "display_data"
    },
    {
     "data": {
      "image/png": "[encoded data removed]",
      "text/plain": [
       "<Figure size 50x50 with 1 Axes>"
      ]
     },
     "metadata": {},
     "output_type": "display_data"
    },
    {
     "data": {
      "image/png": "[encoded data removed]",
      "text/plain": [
       "<Figure size 50x50 with 1 Axes>"
      ]
     },
     "metadata": {},
     "output_type": "display_data"
    },
    {
     "data": {
      "image/png": "[encoded data removed]",
      "text/plain": [
       "<Figure size 50x50 with 1 Axes>"
      ]
     },
     "metadata": {},
     "output_type": "display_data"
    },
    {
     "data": {
      "image/png": "[encoded data removed]",
      "text/plain": [
       "<Figure size 50x50 with 1 Axes>"
      ]
     },
     "metadata": {},
     "output_type": "display_data"
    },
    {
     "data": {
      "image/png": "[encoded data removed]",
      "text/plain": [
       "<Figure size 50x50 with 1 Axes>"
      ]
     },
     "metadata": {},
     "output_type": "display_data"
    },
    {
     "data": {
      "image/png": "[encoded data removed]",
      "text/plain": [
       "<Figure size 50x50 with 1 Axes>"
      ]
     },
     "metadata": {},
     "output_type": "display_data"
    },
    {
     "data": {
      "image/png": "[encoded data removed]",
      "text/plain": [
       "<Figure size 50x50 with 1 Axes>"
      ]
     },
     "metadata": {},
     "output_type": "display_data"
    },
    {
     "data": {
      "image/png": "[encoded data removed]",
      "text/plain": [
       "<Figure size 50x50 with 1 Axes>"
      ]
     },
     "metadata": {},
     "output_type": "display_data"
    },
    {
     "data": {
      "image/png": "[encoded data removed]",
      "text/plain": [
       "<Figure size 50x50 with 1 Axes>"
      ]
     },
     "metadata": {},
     "output_type": "display_data"
    },
    {
     "data": {
      "image/png": "[encoded data removed]",
      "text/plain": [
       "<Figure size 50x50 with 1 Axes>"
      ]
     },
     "metadata": {},
     "output_type": "display_data"
    },
    {
     "data": {
      "image/png": "[encoded data removed]",
      "text/plain": [
       "<Figure size 50x50 with 1 Axes>"
      ]
     },
     "metadata": {},
     "output_type": "display_data"
    },
    {
     "data": {
      "image/png": "[encoded data removed]",
      "text/plain": [
       "<Figure size 50x50 with 1 Axes>"
      ]
     },
     "metadata": {},
     "output_type": "display_data"
    },
    {
     "data": {
      "image/png": "[encoded data removed]",
      "text/plain": [
       "<Figure size 50x50 with 1 Axes>"
      ]
     },
     "metadata": {},
     "output_type": "display_data"
    },
    {
     "data": {
      "image/png": "[encoded data removed]",
      "text/plain": [
       "<Figure size 50x50 with 1 Axes>"
      ]
     },
     "metadata": {},
     "output_type": "display_data"
    },
    {
     "data": {
      "image/png": "[encoded data removed]",
      "text/plain": [
       "<Figure size 50x50 with 1 Axes>"
      ]
     },
     "metadata": {},
     "output_type": "display_data"
    },
    {
     "data": {
      "image/png": "[encoded data removed]",
      "text/plain": [
       "<Figure size 50x50 with 1 Axes>"
      ]
     },
     "metadata": {},
     "output_type": "display_data"
    },
    {
     "data": {
      "image/png": "[encoded data removed]",
      "text/plain": [
       "<Figure size 50x50 with 1 Axes>"
      ]
     },
     "metadata": {},
     "output_type": "display_data"
    },
    {
     "data": {
      "image/png": "[encoded data removed]",
      "text/plain": [
       "<Figure size 50x50 with 1 Axes>"
      ]
     },
     "metadata": {},
     "output_type": "display_data"
    },
    {
     "data": {
      "image/png": "[encoded data removed]",
      "text/plain": [
       "<Figure size 50x50 with 1 Axes>"
      ]
     },
     "metadata": {},
     "output_type": "display_data"
    },
    {
     "data": {
      "image/png": "[encoded data removed]",
      "text/plain": [
       "<Figure size 50x50 with 1 Axes>"
      ]
     },
     "metadata": {},
     "output_type": "display_data"
    },
    {
     "data": {
      "image/png": "[encoded data removed]",
      "text/plain": [
       "<Figure size 50x50 with 1 Axes>"
      ]
     },
     "metadata": {},
     "output_type": "display_data"
    },
    {
     "data": {
      "image/png": "[encoded data removed]",
      "text/plain": [
       "<Figure size 50x50 with 1 Axes>"
      ]
     },
     "metadata": {},
     "output_type": "display_data"
    },
    {
     "data": {
      "image/png": "[encoded data removed]",
      "text/plain": [
       "<Figure size 50x50 with 1 Axes>"
      ]
     },
     "metadata": {},
     "output_type": "display_data"
    },
    {
     "data": {
      "image/png": "[encoded data removed]",
      "text/plain": [
       "<Figure size 50x50 with 1 Axes>"
      ]
     },
     "metadata": {},
     "output_type": "display_data"
    },
    {
     "data": {
      "image/png": "[encoded data removed]",
      "text/plain": [
       "<Figure size 50x50 with 1 Axes>"
      ]
     },
     "metadata": {},
     "output_type": "display_data"
    },
    {
     "data": {
      "image/png": "[encoded data removed]",
      "text/plain": [
       "<Figure size 50x50 with 1 Axes>"
      ]
     },
     "metadata": {},
     "output_type": "display_data"
    },
    {
     "data": {
      "image/png": "[encoded data removed]",
      "text/plain": [
       "<Figure size 50x50 with 1 Axes>"
      ]
     },
     "metadata": {},
     "output_type": "display_data"
    },
    {
     "data": {
      "image/png": "[encoded data removed]",
      "text/plain": [
       "<Figure size 50x50 with 1 Axes>"
      ]
     },
     "metadata": {},
     "output_type": "display_data"
    },
    {
     "data": {
      "image/png": "[encoded data removed]",
      "text/plain": [
       "<Figure size 50x50 with 1 Axes>"
      ]
     },
     "metadata": {},
     "output_type": "display_data"
    },
    {
     "data": {
      "image/png": "[encoded data removed]",
      "text/plain": [
       "<Figure size 50x50 with 1 Axes>"
      ]
     },
     "metadata": {},
     "output_type": "display_data"
    },
    {
     "data": {
      "image/png": "[encoded data removed]",
      "text/plain": [
       "<Figure size 50x50 with 1 Axes>"
      ]
     },
     "metadata": {},
     "output_type": "display_data"
    },
    {
     "data": {
      "image/png": "[encoded data removed]",
      "text/plain": [
       "<Figure size 50x50 with 1 Axes>"
      ]
     },
     "metadata": {},
     "output_type": "display_data"
    },
    {
     "data": {
      "image/png": "[encoded data removed]",
      "text/plain": [
       "<Figure size 50x50 with 1 Axes>"
      ]
     },
     "metadata": {},
     "output_type": "display_data"
    },
    {
     "data": {
      "image/png": "[encoded data removed]",
      "text/plain": [
       "<Figure size 50x50 with 1 Axes>"
      ]
     },
     "metadata": {},
     "output_type": "display_data"
    },
    {
     "data": {
      "image/png": "[encoded data removed]",
      "text/plain": [
       "<Figure size 50x50 with 1 Axes>"
      ]
     },
     "metadata": {},
     "output_type": "display_data"
    },
    {
     "data": {
      "image/png": "[encoded data removed]",
      "text/plain": [
       "<Figure size 50x50 with 1 Axes>"
      ]
     },
     "metadata": {},
     "output_type": "display_data"
    },
    {
     "data": {
      "image/png": "[encoded data removed]",
      "text/plain": [
       "<Figure size 50x50 with 1 Axes>"
      ]
     },
     "metadata": {},
     "output_type": "display_data"
    },
    {
     "data": {
      "image/png": "[encoded data removed]",
      "text/plain": [
       "<Figure size 50x50 with 1 Axes>"
      ]
     },
     "metadata": {},
     "output_type": "display_data"
    },
    {
     "data": {
      "image/png": "[encoded data removed]",
      "text/plain": [
       "<Figure size 50x50 with 1 Axes>"
      ]
     },
     "metadata": {},
     "output_type": "display_data"
    },
    {
     "data": {
      "image/png": "[encoded data removed]",
      "text/plain": [
       "<Figure size 50x50 with 1 Axes>"
      ]
     },
     "metadata": {},
     "output_type": "display_data"
    },
    {
     "data": {
      "image/png": "[encoded data removed]",
      "text/plain": [
       "<Figure size 50x50 with 1 Axes>"
      ]
     },
     "metadata": {},
     "output_type": "display_data"
    },
    {
     "data": {
      "image/png": "[encoded data removed]",
      "text/plain": [
       "<Figure size 50x50 with 1 Axes>"
      ]
     },
     "metadata": {},
     "output_type": "display_data"
    },
    {
     "data": {
      "image/png": "[encoded data removed]",
      "text/plain": [
       "<Figure size 50x50 with 1 Axes>"
      ]
     },
     "metadata": {},
     "output_type": "display_data"
    },
    {
     "data": {
      "image/png": "[encoded data removed]",
      "text/plain": [
       "<Figure size 50x50 with 1 Axes>"
      ]
     },
     "metadata": {},
     "output_type": "display_data"
    },
    {
     "data": {
      "image/png": "[encoded data removed]",
      "text/plain": [
       "<Figure size 50x50 with 1 Axes>"
      ]
     },
     "metadata": {},
     "output_type": "display_data"
    },
    {
     "data": {
      "image/png": "[encoded data removed]",
      "text/plain": [
       "<Figure size 50x50 with 1 Axes>"
      ]
     },
     "metadata": {},
     "output_type": "display_data"
    },
    {
     "data": {
      "image/png": "[encoded data removed]",
      "text/plain": [
       "<Figure size 50x50 with 1 Axes>"
      ]
     },
     "metadata": {},
     "output_type": "display_data"
    },
    {
     "data": {
      "image/png": "[encoded data removed]",
      "text/plain": [
       "<Figure size 50x50 with 1 Axes>"
      ]
     },
     "metadata": {},
     "output_type": "display_data"
    },
    {
     "data": {
      "image/png": "[encoded data removed]",
      "text/plain": [
       "<Figure size 50x50 with 1 Axes>"
      ]
     },
     "metadata": {},
     "output_type": "display_data"
    },
    {
     "data": {
      "image/png": "[encoded data removed]",
      "text/plain": [
       "<Figure size 50x50 with 1 Axes>"
      ]
     },
     "metadata": {},
     "output_type": "display_data"
    },
    {
     "data": {
      "image/png": "[encoded data removed]",
      "text/plain": [
       "<Figure size 50x50 with 1 Axes>"
      ]
     },
     "metadata": {},
     "output_type": "display_data"
    },
    {
     "data": {
      "image/png": "[encoded data removed]",
      "text/plain": [
       "<Figure size 50x50 with 1 Axes>"
      ]
     },
     "metadata": {},
     "output_type": "display_data"
    },
    {
     "data": {
      "image/png": "[encoded data removed]",
      "text/plain": [
       "<Figure size 50x50 with 1 Axes>"
      ]
     },
     "metadata": {},
     "output_type": "display_data"
    },
    {
     "data": {
      "image/png": "[encoded data removed]",
      "text/plain": [
       "<Figure size 50x50 with 1 Axes>"
      ]
     },
     "metadata": {},
     "output_type": "display_data"
    },
    {
     "data": {
      "image/png": "[encoded data removed]",
      "text/plain": [
       "<Figure size 50x50 with 1 Axes>"
      ]
     },
     "metadata": {},
     "output_type": "display_data"
    },
    {
     "data": {
      "image/png": "[encoded data removed]",
      "text/plain": [
       "<Figure size 50x50 with 1 Axes>"
      ]
     },
     "metadata": {},
     "output_type": "display_data"
    },
    {
     "data": {
      "image/png": "[encoded data removed]",
      "text/plain": [
       "<Figure size 50x50 with 1 Axes>"
      ]
     },
     "metadata": {},
     "output_type": "display_data"
    },
    {
     "data": {
      "image/png": "[encoded data removed]",
      "text/plain": [
       "<Figure size 50x50 with 1 Axes>"
      ]
     },
     "metadata": {},
     "output_type": "display_data"
    },
    {
     "data": {
      "image/png": "[encoded data removed]",
      "text/plain": [
       "<Figure size 50x50 with 1 Axes>"
      ]
     },
     "metadata": {},
     "output_type": "display_data"
    },
    {
     "data": {
      "image/png": "[encoded data removed]",
      "text/plain": [
       "<Figure size 50x50 with 1 Axes>"
      ]
     },
     "metadata": {},
     "output_type": "display_data"
    },
    {
     "data": {
      "image/png": "[encoded data removed]",
      "text/plain": [
       "<Figure size 50x50 with 1 Axes>"
      ]
     },
     "metadata": {},
     "output_type": "display_data"
    },
    {
     "data": {
      "image/png": "[encoded data removed]",
      "text/plain": [
       "<Figure size 50x50 with 1 Axes>"
      ]
     },
     "metadata": {},
     "output_type": "display_data"
    },
    {
     "data": {
      "image/png": "[encoded data removed]",
      "text/plain": [
       "<Figure size 50x50 with 1 Axes>"
      ]
     },
     "metadata": {},
     "output_type": "display_data"
    },
    {
     "data": {
      "image/png": "[encoded data removed]",
      "text/plain": [
       "<Figure size 50x50 with 1 Axes>"
      ]
     },
     "metadata": {},
     "output_type": "display_data"
    },
    {
     "data": {
      "image/png": "[encoded data removed]",
      "text/plain": [
       "<Figure size 50x50 with 1 Axes>"
      ]
     },
     "metadata": {},
     "output_type": "display_data"
    },
    {
     "data": {
      "image/png": "[encoded data removed]",
      "text/plain": [
       "<Figure size 50x50 with 1 Axes>"
      ]
     },
     "metadata": {},
     "output_type": "display_data"
    },
    {
     "data": {
      "image/png": "[encoded data removed]",
      "text/plain": [
       "<Figure size 50x50 with 1 Axes>"
      ]
     },
     "metadata": {},
     "output_type": "display_data"
    },
    {
     "data": {
      "image/png": "[encoded data removed]",
      "text/plain": [
       "<Figure size 50x50 with 1 Axes>"
      ]
     },
     "metadata": {},
     "output_type": "display_data"
    },
    {
     "data": {
      "image/png": "[encoded data removed]",
      "text/plain": [
       "<Figure size 50x50 with 1 Axes>"
      ]
     },
     "metadata": {},
     "output_type": "display_data"
    },
    {
     "data": {
      "image/png": "[encoded data removed]",
      "text/plain": [
       "<Figure size 50x50 with 1 Axes>"
      ]
     },
     "metadata": {},
     "output_type": "display_data"
    },
    {
     "data": {
      "image/png": "[encoded data removed]",
      "text/plain": [
       "<Figure size 50x50 with 1 Axes>"
      ]
     },
     "metadata": {},
     "output_type": "display_data"
    },
    {
     "data": {
      "image/png": "[encoded data removed]",
      "text/plain": [
       "<Figure size 50x50 with 1 Axes>"
      ]
     },
     "metadata": {},
     "output_type": "display_data"
    },
    {
     "data": {
      "image/png": "[encoded data removed]",
      "text/plain": [
       "<Figure size 50x50 with 1 Axes>"
      ]
     },
     "metadata": {},
     "output_type": "display_data"
    },
    {
     "data": {
      "image/png": "[encoded data removed]",
      "text/plain": [
       "<Figure size 50x50 with 1 Axes>"
      ]
     },
     "metadata": {},
     "output_type": "display_data"
    },
    {
     "data": {
      "image/png": "[encoded data removed]",
      "text/plain": [
       "<Figure size 50x50 with 1 Axes>"
      ]
     },
     "metadata": {},
     "output_type": "display_data"
    },
    {
     "data": {
      "image/png": "[encoded data removed]",
      "text/plain": [
       "<Figure size 50x50 with 1 Axes>"
      ]
     },
     "metadata": {},
     "output_type": "display_data"
    },
    {
     "data": {
      "image/png": "[encoded data removed]",
      "text/plain": [
       "<Figure size 50x50 with 1 Axes>"
      ]
     },
     "metadata": {},
     "output_type": "display_data"
    },
    {
     "data": {
      "image/png": "[encoded data removed]",
      "text/plain": [
       "<Figure size 50x50 with 1 Axes>"
      ]
     },
     "metadata": {},
     "output_type": "display_data"
    },
    {
     "data": {
      "image/png": "[encoded data removed]",
      "text/plain": [
       "<Figure size 50x50 with 1 Axes>"
      ]
     },
     "metadata": {},
     "output_type": "display_data"
    },
    {
     "data": {
      "image/png": "[encoded data removed]",
      "text/plain": [
       "<Figure size 50x50 with 1 Axes>"
      ]
     },
     "metadata": {},
     "output_type": "display_data"
    },
    {
     "data": {
      "image/png": "[encoded data removed]",
      "text/plain": [
       "<Figure size 50x50 with 1 Axes>"
      ]
     },
     "metadata": {},
     "output_type": "display_data"
    },
    {
     "data": {
      "image/png": "[encoded data removed]",
      "text/plain": [
       "<Figure size 50x50 with 1 Axes>"
      ]
     },
     "metadata": {},
     "output_type": "display_data"
    },
    {
     "data": {
      "image/png": "[encoded data removed]",
      "text/plain": [
       "<Figure size 50x50 with 1 Axes>"
      ]
     },
     "metadata": {},
     "output_type": "display_data"
    },
    {
     "data": {
      "image/png": "[encoded data removed]",
      "text/plain": [
       "<Figure size 50x50 with 1 Axes>"
      ]
     },
     "metadata": {},
     "output_type": "display_data"
    },
    {
     "data": {
      "image/png": "[encoded data removed]",
      "text/plain": [
       "<Figure size 50x50 with 1 Axes>"
      ]
     },
     "metadata": {},
     "output_type": "display_data"
    }
   ],
   "source": [
    "a = back_testing('2022-01-05', '2022-05-27', 'Pole_Chart', 'limit', 'country', '069500')\n",
    "b = back_testing('2022-01-05', '2022-05-27', 'Chart', 'limit', 'country', '069500')\n",
    "c = back_testing('2022-01-05', '2022-05-27', 'LSTM', 'limit', 'country', '069500')       # 주의 사항에 60일 이상부터 가능하다고....\n",
    "d = back_testing('2022-01-05', '2022-05-27', 'Stacking', 'limit', 'country', '069500')\n",
    "print('캔들 차트 모델의 2022년 코스피 예측률은 : ', a)\n",
    "print('차트 지표 모델의 2022년 코스피 예측률은 : ', b)\n",
    "print('LSTM 모델의 2022년 코스피 예측률은 : ', c)\n",
    "print('보팅 모델의 2022년 코스피 예측률은 : ', d)"
   ]
  },
  {
   "cell_type": "code",
   "execution_count": null,
   "id": "b7cdb60c",
   "metadata": {},
   "outputs": [],
   "source": []
  }
 ],
 "metadata": {
  "kernelspec": {
   "display_name": "Python 3",
   "language": "python",
   "name": "python3"
  },
  "language_info": {
   "codemirror_mode": {
    "name": "ipython",
    "version": 3
   },
   "file_extension": ".py",
   "mimetype": "text/x-python",
   "name": "python",
   "nbconvert_exporter": "python",
   "pygments_lexer": "ipython3",
   "version": "3.8.8"
  }
 },
 "nbformat": 4,
 "nbformat_minor": 5
}
