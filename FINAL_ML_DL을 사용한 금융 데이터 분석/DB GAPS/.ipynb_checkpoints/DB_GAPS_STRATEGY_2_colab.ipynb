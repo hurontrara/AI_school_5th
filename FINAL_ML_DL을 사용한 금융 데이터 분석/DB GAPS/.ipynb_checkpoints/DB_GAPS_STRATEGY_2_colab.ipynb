{
  "cells": [
    {
      "cell_type": "code",
      "source": [
        "# !pip3 install --upgrade pip"
      ],
      "metadata": {
        "colab": {
          "base_uri": "https://localhost:8080/"
        },
        "id": "m0y2719ZVbw9",
        "outputId": "5aa7f337-6ffd-4309-bc57-4652641575ea"
      },
      "id": "m0y2719ZVbw9",
      "execution_count": null,
      "outputs": [
        {
          "output_type": "stream",
          "name": "stdout",
          "text": [
            "Requirement already satisfied: pip in /usr/local/lib/python3.7/dist-packages (22.1.1)\n",
            "\u001b[33mWARNING: Running pip as the 'root' user can result in broken permissions and conflicting behaviour with the system package manager. It is recommended to use a virtual environment instead: https://pip.pypa.io/warnings/venv\u001b[0m\u001b[33m\n",
            "\u001b[0m"
          ]
        }
      ]
    },
    {
      "cell_type": "code",
      "source": [
        "!pip install -U finance-datareader\n",
        "!pip install pykrx"
      ],
      "metadata": {
        "colab": {
          "base_uri": "https://localhost:8080/"
        },
        "id": "CjDG6U4GWRSo",
        "outputId": "0954502f-8994-4116-ccf0-b074298de33c"
      },
      "id": "CjDG6U4GWRSo",
      "execution_count": null,
      "outputs": [
        {
          "output_type": "stream",
          "name": "stdout",
          "text": [
            "Requirement already satisfied: finance-datareader in /usr/local/lib/python3.7/dist-packages (0.9.33)\n",
            "Requirement already satisfied: lxml in /usr/local/lib/python3.7/dist-packages (from finance-datareader) (4.2.6)\n",
            "Requirement already satisfied: tqdm in /usr/local/lib/python3.7/dist-packages (from finance-datareader) (4.64.0)\n",
            "Requirement already satisfied: requests-file in /usr/local/lib/python3.7/dist-packages (from finance-datareader) (1.5.1)\n",
            "Requirement already satisfied: requests>=2.3.0 in /usr/local/lib/python3.7/dist-packages (from finance-datareader) (2.23.0)\n",
            "Requirement already satisfied: pandas>=0.19.2 in /usr/local/lib/python3.7/dist-packages (from finance-datareader) (1.3.5)\n",
            "Requirement already satisfied: numpy>=1.17.3 in /usr/local/lib/python3.7/dist-packages (from pandas>=0.19.2->finance-datareader) (1.21.6)\n",
            "Requirement already satisfied: pytz>=2017.3 in /usr/local/lib/python3.7/dist-packages (from pandas>=0.19.2->finance-datareader) (2022.1)\n",
            "Requirement already satisfied: python-dateutil>=2.7.3 in /usr/local/lib/python3.7/dist-packages (from pandas>=0.19.2->finance-datareader) (2.8.2)\n",
            "Requirement already satisfied: six>=1.5 in /usr/local/lib/python3.7/dist-packages (from python-dateutil>=2.7.3->pandas>=0.19.2->finance-datareader) (1.15.0)\n",
            "Requirement already satisfied: urllib3!=1.25.0,!=1.25.1,<1.26,>=1.21.1 in /usr/local/lib/python3.7/dist-packages (from requests>=2.3.0->finance-datareader) (1.24.3)\n",
            "Requirement already satisfied: idna<3,>=2.5 in /usr/local/lib/python3.7/dist-packages (from requests>=2.3.0->finance-datareader) (2.10)\n",
            "Requirement already satisfied: certifi>=2017.4.17 in /usr/local/lib/python3.7/dist-packages (from requests>=2.3.0->finance-datareader) (2021.10.8)\n",
            "Requirement already satisfied: chardet<4,>=3.0.2 in /usr/local/lib/python3.7/dist-packages (from requests>=2.3.0->finance-datareader) (3.0.4)\n",
            "Requirement already satisfied: pykrx in /usr/local/lib/python3.7/dist-packages (1.0.33)\n",
            "Requirement already satisfied: numpy in /usr/local/lib/python3.7/dist-packages (from pykrx) (1.21.6)\n",
            "Requirement already satisfied: datetime in /usr/local/lib/python3.7/dist-packages (from pykrx) (4.4)\n",
            "Requirement already satisfied: requests in /usr/local/lib/python3.7/dist-packages (from pykrx) (2.23.0)\n",
            "Requirement already satisfied: xlrd in /usr/local/lib/python3.7/dist-packages (from pykrx) (1.1.0)\n",
            "Requirement already satisfied: deprecated in /usr/local/lib/python3.7/dist-packages (from pykrx) (1.2.13)\n",
            "Requirement already satisfied: pandas in /usr/local/lib/python3.7/dist-packages (from pykrx) (1.3.5)\n",
            "Requirement already satisfied: zope.interface in /usr/local/lib/python3.7/dist-packages (from datetime->pykrx) (5.4.0)\n",
            "Requirement already satisfied: pytz in /usr/local/lib/python3.7/dist-packages (from datetime->pykrx) (2022.1)\n",
            "Requirement already satisfied: wrapt<2,>=1.10 in /usr/local/lib/python3.7/dist-packages (from deprecated->pykrx) (1.14.1)\n",
            "Requirement already satisfied: python-dateutil>=2.7.3 in /usr/local/lib/python3.7/dist-packages (from pandas->pykrx) (2.8.2)\n",
            "Requirement already satisfied: six>=1.5 in /usr/local/lib/python3.7/dist-packages (from python-dateutil>=2.7.3->pandas->pykrx) (1.15.0)\n",
            "Requirement already satisfied: urllib3!=1.25.0,!=1.25.1,<1.26,>=1.21.1 in /usr/local/lib/python3.7/dist-packages (from requests->pykrx) (1.24.3)\n",
            "Requirement already satisfied: chardet<4,>=3.0.2 in /usr/local/lib/python3.7/dist-packages (from requests->pykrx) (3.0.4)\n",
            "Requirement already satisfied: idna<3,>=2.5 in /usr/local/lib/python3.7/dist-packages (from requests->pykrx) (2.10)\n",
            "Requirement already satisfied: certifi>=2017.4.17 in /usr/local/lib/python3.7/dist-packages (from requests->pykrx) (2021.10.8)\n",
            "Requirement already satisfied: setuptools in /usr/local/lib/python3.7/dist-packages (from zope.interface->datetime->pykrx) (57.4.0)\n"
          ]
        }
      ]
    },
    {
      "cell_type": "code",
      "execution_count": null,
      "id": "d48f2713",
      "metadata": {
        "id": "d48f2713"
      },
      "outputs": [],
      "source": [
        "import FinanceDataReader as fdr\n",
        "import warnings\n",
        "warnings.filterwarnings(\"ignore\")\n",
        "\n",
        "import pandas as pd\n",
        "import numpy as np\n",
        "import matplotlib.pyplot as plt\n",
        "\n",
        "from sklearn.ensemble import GradientBoostingClassifier, GradientBoostingRegressor\n",
        "from sklearn.metrics import mean_squared_error\n",
        "from sklearn import model_selection, linear_model\n",
        "from sklearn.metrics import accuracy_score\n",
        "from sklearn.model_selection import GridSearchCV\n",
        "from sklearn.metrics import roc_curve, auc\n",
        "from sklearn import ensemble\n",
        "from sklearn.svm import SVC, SVR\n",
        "from sklearn import ensemble\n",
        "from sklearn import cluster\n",
        "from sklearn.metrics import silhouette_score\n",
        "from sklearn.metrics import classification_report\n",
        "from sklearn.model_selection import train_test_split\n",
        "\n",
        "from xgboost import XGBClassifier, plot_importance\n",
        "from sklearn.ensemble import ExtraTreesClassifier\n",
        "from sklearn.ensemble import RandomForestClassifier \n",
        "\n",
        "from xgboost import XGBClassifier, plot_importance\n",
        "from sklearn.ensemble import ExtraTreesClassifier\n",
        "from sklearn.ensemble import RandomForestClassifier \n",
        "\n",
        "from PIL import Image\n"
      ]
    },
    {
      "cell_type": "code",
      "execution_count": null,
      "id": "c402236c",
      "metadata": {
        "id": "c402236c"
      },
      "outputs": [],
      "source": [
        "# candle = go.Candlestick(\n",
        "# \tx=df_kospi.index,\n",
        "# \topen=df_kospi['Open'],\n",
        "# \thigh=df_kospi['High'],\n",
        "# \tlow=df_kospi['Low'],\n",
        "# \tclose=df_kospi['Close'],\n",
        "#     increasing_line_color = 'red', # 상승봉 스타일링\n",
        "#     decreasing_line_color = 'blue' # 하락봉 스타일링\n",
        "# )"
      ]
    },
    {
      "cell_type": "code",
      "source": [
        "variables = 0"
      ],
      "metadata": {
        "id": "dZFRK6C4IYIm"
      },
      "id": "dZFRK6C4IYIm",
      "execution_count": null,
      "outputs": []
    },
    {
      "cell_type": "code",
      "execution_count": null,
      "id": "ac84c557",
      "metadata": {
        "id": "ac84c557"
      },
      "outputs": [],
      "source": [
        "def draw_pictures(data, days):\n",
        "    global variable\n",
        "    for i in range(days, len(data)+ 1):\n",
        "        local_data = data.iloc[i - days : i]\n",
        "        label = str(data.iloc[i - 1]['Change+'])\n",
        "        \n",
        "        up = local_data[local_data.Close >= local_data.Open]\n",
        "        down = local_data[local_data.Close < local_data.Open]\n",
        "        \n",
        "        width = 1\n",
        "        width2 = .1\n",
        "        \n",
        "        col1 = 'red'\n",
        "        col2 = 'blue'\n",
        "        \n",
        "        plt.cla()\n",
        "        plt.style.use('dark_background') \n",
        "        plt.figure(figsize=(0.3,0.3))\n",
        "\n",
        "        plt.bar(up.index, up.Close-up.Open, width, bottom=up.Open, color=col1)\n",
        "        plt.bar(up.index, up.High-up.Close, width2, bottom=up.Close, color=col1)\n",
        "        plt.bar(up.index, up.Low-up.Open, width2, bottom=up.Open, color=col1)\n",
        "\n",
        "        plt.bar(down.index, down.Close-down.Open, width, bottom=down.Open, color=col2)\n",
        "        plt.bar(down.index, down.High-down.Open, width2, bottom=down.Open, color=col2)\n",
        "        plt.bar(down.index, down.Low-down.Close, width2, bottom=down.Close, color=col2)\n",
        "        \n",
        "        plt.gca().axes.get_xaxis().set_visible(False)\n",
        "        plt.gca().axes.get_yaxis().set_visible(False)\n",
        "        \n",
        "        plt.axis('off')\n",
        "        \n",
        "        plt.savefig('drive/My Drive/datasets/datasets/{}_{}_{}.png'.format(variables, i, label), dpi = 1000)\n",
        "\n",
        "        variable += 1"
      ]
    },
    {
      "cell_type": "code",
      "execution_count": null,
      "id": "68dd103c",
      "metadata": {
        "id": "68dd103c"
      },
      "outputs": [],
      "source": [
        "def make_data_draw_pictures(code, start, end):\n",
        "\n",
        "    global variables\n",
        "\n",
        "    variables = code\n",
        "    \n",
        "    data = fdr.DataReader(code, start, end)\n",
        "    \n",
        "    data.reset_index(drop=True, inplace = True)\n",
        "    \n",
        "    data['Change+'] = list((data['Change'] > 0)[1 : len(data)].astype(int)) + [0]\n",
        "    \n",
        "    draw_pictures(data, 20)"
      ]
    },
    {
      "cell_type": "code",
      "source": [
        "from pykrx import stock\n",
        "\n",
        "df = stock.get_market_cap_by_ticker(\"20210105\")\n",
        "\n",
        "company_list = df.index[130 : 140]"
      ],
      "metadata": {
        "id": "pDV7QIFsY96O",
        "colab": {
          "base_uri": "https://localhost:8080/"
        },
        "outputId": "90b74d90-7564-4d0b-db72-2509a6a0ab30"
      },
      "id": "pDV7QIFsY96O",
      "execution_count": null,
      "outputs": [
        {
          "output_type": "stream",
          "name": "stdout",
          "text": [
            "No Korean fonts found. Please install the font shown belowbecause Hangul can be broken on the chart.\n",
            " - NanumBarunGothic font is required.\n",
            "\n",
            "    1) font install\n",
            "\n",
            "    !sudo apt-get install -y fonts-nanum\n",
            "    !sudo fc-cache -fv\n",
            "    !rm ~/.cache/matplotlib -rf\n",
            "\n",
            "    2) runtime restart if colab\n",
            "    \n",
            "PYKRX works fine regardless of font installation.\n"
          ]
        }
      ]
    },
    {
      "cell_type": "code",
      "execution_count": null,
      "id": "1c2ccd92",
      "metadata": {
        "colab": {
          "base_uri": "https://localhost:8080/"
        },
        "id": "1c2ccd92",
        "outputId": "0f1c6b0d-f4d8-4d9a-c18e-6a6a579b9698"
      },
      "outputs": [
        {
          "output_type": "stream",
          "name": "stdout",
          "text": [
            "Drive already mounted at /content/drive; to attempt to forcibly remount, call drive.mount(\"/content/drive\", force_remount=True).\n",
            "012510\n",
            "204320\n",
            "112610\n",
            "042660\n",
            "005830\n",
            "051915\n",
            "253450\n",
            "241560\n",
            "095700\n",
            "023530\n",
            "028670\n",
            "000210\n",
            "307950\n",
            "036460\n",
            "001040\n",
            "081660\n",
            "028050\n"
          ]
        }
      ],
      "source": [
        "# make_data_draw_pictures('069500', '2020.01.01', '2020.03.01')\n",
        "from google.colab import drive\n",
        "drive.mount('/content/drive')\n",
        "\n",
        "for i in company_list:\n",
        "  make_data_draw_pictures(str(i), '2015', '2021')\n",
        "  print(i)"
      ]
    },
    {
      "cell_type": "code",
      "source": [
        "!unzip \"drive/MyDrive/datasets/datasets.zip\" -d \"drive/MyDrive/datasets\""
      ],
      "metadata": {
        "id": "rFbB5RerYLsX"
      },
      "id": "rFbB5RerYLsX",
      "execution_count": null,
      "outputs": []
    },
    {
      "cell_type": "markdown",
      "source": [
        "# 새 섹션"
      ],
      "metadata": {
        "id": "im-n4QSe-ZM-"
      },
      "id": "im-n4QSe-ZM-"
    },
    {
      "cell_type": "markdown",
      "id": "ac2424c6",
      "metadata": {
        "id": "ac2424c6"
      },
      "source": [
        "### ----------------------------"
      ]
    },
    {
      "cell_type": "code",
      "execution_count": null,
      "id": "ec278c06",
      "metadata": {
        "id": "ec278c06"
      },
      "outputs": [],
      "source": [
        "import glob\n",
        "import numpy as np\n",
        "\n",
        "# paths = glob.glob('./datasets/*.png')\n",
        "paths = glob.glob('drive/MyDrive/datasets/datasets/*.png')\n",
        "# paths = np.random.permutation(paths)\n",
        "train = np.array([plt.imread(paths[i]) for i in range(len(paths))])\n",
        "# label = np.array([path[i].split('/')[2] for i in range(len(path))])\n",
        "# print(train.shape, label.shape)\n",
        "# train[1].shape"
      ]
    },
    {
      "cell_type": "code",
      "execution_count": null,
      "id": "3b3806d2",
      "metadata": {
        "id": "3b3806d2"
      },
      "outputs": [],
      "source": [
        "y = []\n",
        "for path in paths:\n",
        "    if path[-7] == '1':\n",
        "        y.append(1)\n",
        "    elif path[-7] == '0':\n",
        "        y.append(0)\n",
        "    if len(y) == 20000:\n",
        "        break"
      ]
    },
    {
      "cell_type": "code",
      "source": [
        "# from collections import Counter\n",
        "\n",
        "# Counter(y)"
      ],
      "metadata": {
        "id": "Mi2JcuFMBDXC"
      },
      "id": "Mi2JcuFMBDXC",
      "execution_count": null,
      "outputs": []
    },
    {
      "cell_type": "code",
      "execution_count": null,
      "id": "f7950741",
      "metadata": {
        "id": "f7950741"
      },
      "outputs": [],
      "source": [
        "import tensorflow as tf\n",
        "\n",
        "import tensorflow.keras as keras\n",
        "\n",
        "from keras.datasets import mnist\n",
        "from tensorflow.keras.models import Sequential, load_model\n",
        "from tensorflow.keras.layers import Dense, Dropout, Flatten, Input\n",
        "from tensorflow.keras.layers import Conv2D, MaxPooling2D\n",
        "from tensorflow.keras.callbacks import TensorBoard\n",
        "\n",
        "import numpy as np\n",
        "import matplotlib.pyplot as plt\n",
        "\n",
        "import datetime, os\n",
        "from PIL import Image"
      ]
    },
    {
      "cell_type": "code",
      "execution_count": null,
      "id": "ae4be862",
      "metadata": {
        "id": "ae4be862",
        "outputId": "cb498225-78c8-4a12-9008-a6230d3c55c2",
        "colab": {
          "base_uri": "https://localhost:8080/"
        }
      },
      "outputs": [
        {
          "output_type": "execute_result",
          "data": {
            "text/plain": [
              "(20000, 2)"
            ]
          },
          "metadata": {},
          "execution_count": 9
        }
      ],
      "source": [
        "y_train = keras.utils.to_categorical(y, 2)\n",
        "# y_train = y_train.reshape(len(y), 1)\n",
        "y_train.shape"
      ]
    },
    {
      "cell_type": "code",
      "execution_count": null,
      "id": "92eb5a9b",
      "metadata": {
        "id": "92eb5a9b",
        "outputId": "7b9e43aa-39b0-4873-ba98-2e425ecac5be",
        "colab": {
          "base_uri": "https://localhost:8080/"
        }
      },
      "outputs": [
        {
          "output_type": "execute_result",
          "data": {
            "text/plain": [
              "(20000,)"
            ]
          },
          "metadata": {},
          "execution_count": 23
        }
      ],
      "source": [
        "train.shape"
      ]
    },
    {
      "cell_type": "code",
      "execution_count": null,
      "id": "ae09aa92",
      "metadata": {
        "id": "ae09aa92",
        "outputId": "74fd7e22-4d7d-4d14-9f88-246b6f7f35a8",
        "colab": {
          "base_uri": "https://localhost:8080/"
        }
      },
      "outputs": [
        {
          "output_type": "stream",
          "name": "stdout",
          "text": [
            "Model: \"sequential\"\n",
            "_________________________________________________________________\n",
            " Layer (type)                Output Shape              Param #   \n",
            "=================================================================\n",
            " conv2d (Conv2D)             (None, 88, 88, 32)        1184      \n",
            "                                                                 \n",
            " max_pooling2d (MaxPooling2D  (None, 44, 44, 32)       0         \n",
            " )                                                               \n",
            "                                                                 \n",
            " conv2d_1 (Conv2D)           (None, 42, 42, 48)        13872     \n",
            "                                                                 \n",
            " max_pooling2d_1 (MaxPooling  (None, 21, 21, 48)       0         \n",
            " 2D)                                                             \n",
            "                                                                 \n",
            " conv2d_2 (Conv2D)           (None, 19, 19, 64)        27712     \n",
            "                                                                 \n",
            " max_pooling2d_2 (MaxPooling  (None, 9, 9, 64)         0         \n",
            " 2D)                                                             \n",
            "                                                                 \n",
            " conv2d_3 (Conv2D)           (None, 7, 7, 96)          55392     \n",
            "                                                                 \n",
            " max_pooling2d_3 (MaxPooling  (None, 3, 3, 96)         0         \n",
            " 2D)                                                             \n",
            "                                                                 \n",
            " flatten (Flatten)           (None, 864)               0         \n",
            "                                                                 \n",
            " dense (Dense)               (None, 16)                13840     \n",
            "                                                                 \n",
            " dropout (Dropout)           (None, 16)                0         \n",
            "                                                                 \n",
            " dense_1 (Dense)             (None, 2)                 34        \n",
            "                                                                 \n",
            "=================================================================\n",
            "Total params: 112,034\n",
            "Trainable params: 112,034\n",
            "Non-trainable params: 0\n",
            "_________________________________________________________________\n"
          ]
        }
      ],
      "source": [
        "model = Sequential()\n",
        "model.add(Conv2D(32, kernel_size=(3, 3), activation='relu', input_shape=(90, 90, 4)))\n",
        "model.add(MaxPooling2D(pool_size=(2, 2)))\n",
        "model.add(Conv2D(48, (3, 3), activation='relu'))\n",
        "model.add(MaxPooling2D(pool_size=(2, 2)))\n",
        "model.add(Conv2D(64, (3, 3), activation='relu'))\n",
        "model.add(MaxPooling2D(pool_size=(2, 2)))\n",
        "model.add(Conv2D(96, (3, 3), activation='relu'))\n",
        "model.add(MaxPooling2D(pool_size=(2, 2)))\n",
        "model.add(Flatten())\n",
        "model.add(Dense(16, activation='relu'))  # 수정 필요\n",
        "model.add(Dropout(0.5))\n",
        "model.add(Dense(2, activation='softmax'))\n",
        "\n",
        "model.compile(loss=keras.losses.categorical_crossentropy,\n",
        "              optimizer=keras.optimizers.Adadelta(), \n",
        "              metrics=['accuracy'])\n",
        "model.summary()"
      ]
    },
    {
      "cell_type": "code",
      "execution_count": null,
      "id": "6023ccab",
      "metadata": {
        "id": "6023ccab"
      },
      "outputs": [],
      "source": [
        "x_train, x_test, y_train, y_test = train_test_split(train, y_train, test_size = .2, random_state = 42)"
      ]
    },
    {
      "cell_type": "code",
      "source": [
        "y_train.shape"
      ],
      "metadata": {
        "colab": {
          "base_uri": "https://localhost:8080/"
        },
        "id": "77-V5sKkEGad",
        "outputId": "a1c5fd60-0200-4ad8-ce35-964d7bfb7393"
      },
      "id": "77-V5sKkEGad",
      "execution_count": null,
      "outputs": [
        {
          "output_type": "execute_result",
          "data": {
            "text/plain": [
              "(16000, 2)"
            ]
          },
          "metadata": {},
          "execution_count": 13
        }
      ]
    },
    {
      "cell_type": "code",
      "source": [
        "x_test.shape"
      ],
      "metadata": {
        "id": "aMr1ypIAEGYX",
        "colab": {
          "base_uri": "https://localhost:8080/"
        },
        "outputId": "6513cc12-27ec-4c1c-c649-469bcb9b2d79"
      },
      "id": "aMr1ypIAEGYX",
      "execution_count": null,
      "outputs": [
        {
          "output_type": "execute_result",
          "data": {
            "text/plain": [
              "(4000,)"
            ]
          },
          "metadata": {},
          "execution_count": 16
        }
      ]
    },
    {
      "cell_type": "code",
      "execution_count": null,
      "id": "d4308e30",
      "metadata": {
        "id": "d4308e30",
        "outputId": "93236330-b33c-4b33-d54c-d23214d6b0ec",
        "colab": {
          "base_uri": "https://localhost:8080/",
          "height": 360
        }
      },
      "outputs": [
        {
          "output_type": "error",
          "ename": "ValueError",
          "evalue": "ignored",
          "traceback": [
            "\u001b[0;31m---------------------------------------------------------------------------\u001b[0m",
            "\u001b[0;31mValueError\u001b[0m                                Traceback (most recent call last)",
            "\u001b[0;32m<ipython-input-14-5e3170b5ac74>\u001b[0m in \u001b[0;36m<module>\u001b[0;34m()\u001b[0m\n\u001b[1;32m      5\u001b[0m           \u001b[0mepochs\u001b[0m\u001b[0;34m=\u001b[0m\u001b[0mepochs\u001b[0m\u001b[0;34m,\u001b[0m\u001b[0;34m\u001b[0m\u001b[0;34m\u001b[0m\u001b[0m\n\u001b[1;32m      6\u001b[0m           \u001b[0mbatch_size\u001b[0m\u001b[0;34m=\u001b[0m\u001b[0mbatch_size\u001b[0m\u001b[0;34m,\u001b[0m\u001b[0;34m\u001b[0m\u001b[0;34m\u001b[0m\u001b[0m\n\u001b[0;32m----> 7\u001b[0;31m           validation_data=(x_test, y_test))\n\u001b[0m",
            "\u001b[0;32m/usr/local/lib/python3.7/dist-packages/keras/utils/traceback_utils.py\u001b[0m in \u001b[0;36merror_handler\u001b[0;34m(*args, **kwargs)\u001b[0m\n\u001b[1;32m     65\u001b[0m     \u001b[0;32mexcept\u001b[0m \u001b[0mException\u001b[0m \u001b[0;32mas\u001b[0m \u001b[0me\u001b[0m\u001b[0;34m:\u001b[0m  \u001b[0;31m# pylint: disable=broad-except\u001b[0m\u001b[0;34m\u001b[0m\u001b[0;34m\u001b[0m\u001b[0m\n\u001b[1;32m     66\u001b[0m       \u001b[0mfiltered_tb\u001b[0m \u001b[0;34m=\u001b[0m \u001b[0m_process_traceback_frames\u001b[0m\u001b[0;34m(\u001b[0m\u001b[0me\u001b[0m\u001b[0;34m.\u001b[0m\u001b[0m__traceback__\u001b[0m\u001b[0;34m)\u001b[0m\u001b[0;34m\u001b[0m\u001b[0;34m\u001b[0m\u001b[0m\n\u001b[0;32m---> 67\u001b[0;31m       \u001b[0;32mraise\u001b[0m \u001b[0me\u001b[0m\u001b[0;34m.\u001b[0m\u001b[0mwith_traceback\u001b[0m\u001b[0;34m(\u001b[0m\u001b[0mfiltered_tb\u001b[0m\u001b[0;34m)\u001b[0m \u001b[0;32mfrom\u001b[0m \u001b[0;32mNone\u001b[0m\u001b[0;34m\u001b[0m\u001b[0;34m\u001b[0m\u001b[0m\n\u001b[0m\u001b[1;32m     68\u001b[0m     \u001b[0;32mfinally\u001b[0m\u001b[0;34m:\u001b[0m\u001b[0;34m\u001b[0m\u001b[0;34m\u001b[0m\u001b[0m\n\u001b[1;32m     69\u001b[0m       \u001b[0;32mdel\u001b[0m \u001b[0mfiltered_tb\u001b[0m\u001b[0;34m\u001b[0m\u001b[0;34m\u001b[0m\u001b[0m\n",
            "\u001b[0;32m/usr/local/lib/python3.7/dist-packages/tensorflow/python/framework/constant_op.py\u001b[0m in \u001b[0;36mconvert_to_eager_tensor\u001b[0;34m(value, ctx, dtype)\u001b[0m\n\u001b[1;32m    100\u001b[0m       \u001b[0mdtype\u001b[0m \u001b[0;34m=\u001b[0m \u001b[0mdtypes\u001b[0m\u001b[0;34m.\u001b[0m\u001b[0mas_dtype\u001b[0m\u001b[0;34m(\u001b[0m\u001b[0mdtype\u001b[0m\u001b[0;34m)\u001b[0m\u001b[0;34m.\u001b[0m\u001b[0mas_datatype_enum\u001b[0m\u001b[0;34m\u001b[0m\u001b[0;34m\u001b[0m\u001b[0m\n\u001b[1;32m    101\u001b[0m   \u001b[0mctx\u001b[0m\u001b[0;34m.\u001b[0m\u001b[0mensure_initialized\u001b[0m\u001b[0;34m(\u001b[0m\u001b[0;34m)\u001b[0m\u001b[0;34m\u001b[0m\u001b[0;34m\u001b[0m\u001b[0m\n\u001b[0;32m--> 102\u001b[0;31m   \u001b[0;32mreturn\u001b[0m \u001b[0mops\u001b[0m\u001b[0;34m.\u001b[0m\u001b[0mEagerTensor\u001b[0m\u001b[0;34m(\u001b[0m\u001b[0mvalue\u001b[0m\u001b[0;34m,\u001b[0m \u001b[0mctx\u001b[0m\u001b[0;34m.\u001b[0m\u001b[0mdevice_name\u001b[0m\u001b[0;34m,\u001b[0m \u001b[0mdtype\u001b[0m\u001b[0;34m)\u001b[0m\u001b[0;34m\u001b[0m\u001b[0;34m\u001b[0m\u001b[0m\n\u001b[0m\u001b[1;32m    103\u001b[0m \u001b[0;34m\u001b[0m\u001b[0m\n\u001b[1;32m    104\u001b[0m \u001b[0;34m\u001b[0m\u001b[0m\n",
            "\u001b[0;31mValueError\u001b[0m: Failed to convert a NumPy array to a Tensor (Unsupported object type numpy.ndarray)."
          ]
        }
      ],
      "source": [
        "batch_size = 1600\n",
        "epochs = 12\n",
        "\n",
        "model.fit(x_train, y_train,\n",
        "          epochs=epochs,\n",
        "          batch_size=batch_size,\n",
        "          validation_data=(x_test, y_test))\n"
      ]
    },
    {
      "cell_type": "code",
      "source": [
        ""
      ],
      "metadata": {
        "id": "mKlvsa3lufUR"
      },
      "id": "mKlvsa3lufUR",
      "execution_count": null,
      "outputs": []
    },
    {
      "cell_type": "code",
      "execution_count": null,
      "id": "72626592",
      "metadata": {
        "id": "72626592"
      },
      "outputs": [],
      "source": [
        "type(train)"
      ]
    }
  ],
  "metadata": {
    "kernelspec": {
      "display_name": "Python 3",
      "language": "python",
      "name": "python3"
    },
    "language_info": {
      "codemirror_mode": {
        "name": "ipython",
        "version": 3
      },
      "file_extension": ".py",
      "mimetype": "text/x-python",
      "name": "python",
      "nbconvert_exporter": "python",
      "pygments_lexer": "ipython3",
      "version": "3.8.8"
    },
    "colab": {
      "name": "DB_GAPS_STRATEGY_2.ipynb",
      "provenance": [],
      "collapsed_sections": []
    },
    "accelerator": "GPU"
  },
  "nbformat": 4,
  "nbformat_minor": 5
}