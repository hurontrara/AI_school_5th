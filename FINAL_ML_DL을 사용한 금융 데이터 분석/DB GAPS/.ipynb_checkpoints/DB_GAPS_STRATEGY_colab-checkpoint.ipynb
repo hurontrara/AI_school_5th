{
 "cells": [
  {
   "cell_type": "code",
   "execution_count": null,
   "id": "28ba4271",
   "metadata": {
    "id": "28ba4271"
   },
   "outputs": [],
   "source": [
    "# # RSI \n",
    "# 가격이 전일 가격보다 상승한 날의 상승분은 U(up) 값이라고 하고,\n",
    "# 가격이 전일 가격보다 하락한 날의 하락분은 D(down) 값이라고 한다.\n",
    "# U값과 D값의 평균값을 구하여 그것을 각각 AU(average ups)와 AD(average downs)라 한다.\n",
    "# AU를 AD값으로 나눈 것을 RS(relative strength) 값이라고 한다. RS 값이 크다는 것은 일정 기간 하락한 폭보다 상승한 폭이 크다는 것을 의미한다.\n",
    "# 다음 계산에 의하여 RSI 값을 구한다.\n",
    "\n",
    "# RSI 계산 공식 :\n",
    "\n",
    "# RSI = RS / (1 + RS)\n",
    "\n",
    "# 또는, 다음과 같이 구해도 결과는 동일하다.\n",
    "\n",
    "# RSI = AU / (AU + AD)\n",
    "\n",
    "# 대체로 이 값은 백분율로 나타낸다.\n",
    "\n",
    "# 이 지표의 파라메터로는 기간을 며칠 동안으로 할 것인가가 있다. Welles Wilder는 14일을 사용할 것을 권유했다. 대체로 사용되는 값은 9일, 14~15일, 25~28일 등이다.\n",
    "\n",
    "# RSI 그래프는 이동평균선을 함께 나타내는 것이 보통이며, 이동평균선을 며칠선으로 할 것인가 역시 파라메터로 주어진다. RSI를 15일에 대하여 구하고 5일 이동평균선을 함께 표시하는 경우 그래프에 (15, 5)라고 표시해주는 것이 일반적이다.\n",
    "\n",
    "# 유사한 지표로는 스토캐스틱이 있다. RSI 그래프의 형태는 fast stochastic과 비슷하게 나온다.\n",
    "\n",
    "# 스토캐스틱 %K = (현재가격 - N일중 최저가)/(N일중 최고가 - N일중 최저가) * 100\n",
    "# 스토캐스틱 %D = m일 동안 %K 평균 = Slow %K\n",
    "# 이는 패스트 스토캐스틱 : 슬로우 캐스틱도 고려해볼것"
   ]
  },
  {
   "cell_type": "markdown",
   "id": "0f7e5c39",
   "metadata": {
    "id": "0f7e5c39"
   },
   "source": [
    "> 기본적 전처리"
   ]
  },
  {
   "cell_type": "code",
   "execution_count": 9,
   "id": "GZ3lg0aGB1zM",
   "metadata": {
    "colab": {
     "base_uri": "https://localhost:8080/"
    },
    "executionInfo": {
     "elapsed": 3733,
     "status": "ok",
     "timestamp": 1653532821879,
     "user": {
      "displayName": "최선빈",
      "userId": "10702276653678963302"
     },
     "user_tz": -540
    },
    "id": "GZ3lg0aGB1zM",
    "outputId": "874254a8-b1c1-4e62-ab6a-d442fc508791"
   },
   "outputs": [
    {
     "name": "stdout",
     "output_type": "stream",
     "text": [
      "Looking in indexes: https://pypi.org/simple, https://us-python.pkg.dev/colab-wheels/public/simple/\n",
      "Collecting finance-datareader\n",
      "  Downloading finance_datareader-0.9.33-py3-none-any.whl (48 kB)\n",
      "\u001b[K     |████████████████████████████████| 48 kB 2.8 MB/s \n",
      "\u001b[?25hRequirement already satisfied: requests>=2.3.0 in /usr/local/lib/python3.7/dist-packages (from finance-datareader) (2.23.0)\n",
      "Requirement already satisfied: lxml in /usr/local/lib/python3.7/dist-packages (from finance-datareader) (4.2.6)\n",
      "Collecting requests-file\n",
      "  Downloading requests_file-1.5.1-py2.py3-none-any.whl (3.7 kB)\n",
      "Requirement already satisfied: pandas>=0.19.2 in /usr/local/lib/python3.7/dist-packages (from finance-datareader) (1.3.5)\n",
      "Requirement already satisfied: tqdm in /usr/local/lib/python3.7/dist-packages (from finance-datareader) (4.64.0)\n",
      "Requirement already satisfied: python-dateutil>=2.7.3 in /usr/local/lib/python3.7/dist-packages (from pandas>=0.19.2->finance-datareader) (2.8.2)\n",
      "Requirement already satisfied: pytz>=2017.3 in /usr/local/lib/python3.7/dist-packages (from pandas>=0.19.2->finance-datareader) (2022.1)\n",
      "Requirement already satisfied: numpy>=1.17.3 in /usr/local/lib/python3.7/dist-packages (from pandas>=0.19.2->finance-datareader) (1.21.6)\n",
      "Requirement already satisfied: six>=1.5 in /usr/local/lib/python3.7/dist-packages (from python-dateutil>=2.7.3->pandas>=0.19.2->finance-datareader) (1.15.0)\n",
      "Requirement already satisfied: urllib3!=1.25.0,!=1.25.1,<1.26,>=1.21.1 in /usr/local/lib/python3.7/dist-packages (from requests>=2.3.0->finance-datareader) (1.24.3)\n",
      "Requirement already satisfied: idna<3,>=2.5 in /usr/local/lib/python3.7/dist-packages (from requests>=2.3.0->finance-datareader) (2.10)\n",
      "Requirement already satisfied: chardet<4,>=3.0.2 in /usr/local/lib/python3.7/dist-packages (from requests>=2.3.0->finance-datareader) (3.0.4)\n",
      "Requirement already satisfied: certifi>=2017.4.17 in /usr/local/lib/python3.7/dist-packages (from requests>=2.3.0->finance-datareader) (2022.5.18.1)\n",
      "Installing collected packages: requests-file, finance-datareader\n",
      "Successfully installed finance-datareader-0.9.33 requests-file-1.5.1\n"
     ]
    }
   ],
   "source": [
    "pip install -U finance-datareader\n"
   ]
  },
  {
   "cell_type": "code",
   "execution_count": 10,
   "id": "28wVkvZqCPCS",
   "metadata": {
    "colab": {
     "base_uri": "https://localhost:8080/"
    },
    "executionInfo": {
     "elapsed": 3552,
     "status": "ok",
     "timestamp": 1653532825427,
     "user": {
      "displayName": "최선빈",
      "userId": "10702276653678963302"
     },
     "user_tz": -540
    },
    "id": "28wVkvZqCPCS",
    "outputId": "32113cc5-20e1-43eb-b22c-59841a9b2e3c"
   },
   "outputs": [
    {
     "name": "stdout",
     "output_type": "stream",
     "text": [
      "Looking in indexes: https://pypi.org/simple, https://us-python.pkg.dev/colab-wheels/public/simple/\n",
      "Requirement already satisfied: tensorflow==2.8.0 in /usr/local/lib/python3.7/dist-packages (2.8.0+zzzcolab20220506162203)\n",
      "Requirement already satisfied: gast>=0.2.1 in /usr/local/lib/python3.7/dist-packages (from tensorflow==2.8.0) (0.5.3)\n",
      "Requirement already satisfied: numpy>=1.20 in /usr/local/lib/python3.7/dist-packages (from tensorflow==2.8.0) (1.21.6)\n",
      "Requirement already satisfied: keras<2.9,>=2.8.0rc0 in /usr/local/lib/python3.7/dist-packages (from tensorflow==2.8.0) (2.8.0)\n",
      "Requirement already satisfied: grpcio<2.0,>=1.24.3 in /usr/local/lib/python3.7/dist-packages (from tensorflow==2.8.0) (1.46.1)\n",
      "Requirement already satisfied: astunparse>=1.6.0 in /usr/local/lib/python3.7/dist-packages (from tensorflow==2.8.0) (1.6.3)\n",
      "Collecting tf-estimator-nightly==2.8.0.dev2021122109\n",
      "  Downloading tf_estimator_nightly-2.8.0.dev2021122109-py2.py3-none-any.whl (462 kB)\n",
      "\u001b[K     |████████████████████████████████| 462 kB 32.4 MB/s \n",
      "\u001b[?25hRequirement already satisfied: opt-einsum>=2.3.2 in /usr/local/lib/python3.7/dist-packages (from tensorflow==2.8.0) (3.3.0)\n",
      "Requirement already satisfied: six>=1.12.0 in /usr/local/lib/python3.7/dist-packages (from tensorflow==2.8.0) (1.15.0)\n",
      "Requirement already satisfied: termcolor>=1.1.0 in /usr/local/lib/python3.7/dist-packages (from tensorflow==2.8.0) (1.1.0)\n",
      "Requirement already satisfied: tensorboard<2.9,>=2.8 in /usr/local/lib/python3.7/dist-packages (from tensorflow==2.8.0) (2.8.0)\n",
      "Requirement already satisfied: absl-py>=0.4.0 in /usr/local/lib/python3.7/dist-packages (from tensorflow==2.8.0) (1.0.0)\n",
      "Requirement already satisfied: flatbuffers>=1.12 in /usr/local/lib/python3.7/dist-packages (from tensorflow==2.8.0) (2.0)\n",
      "Requirement already satisfied: protobuf>=3.9.2 in /usr/local/lib/python3.7/dist-packages (from tensorflow==2.8.0) (3.17.3)\n",
      "Requirement already satisfied: keras-preprocessing>=1.1.1 in /usr/local/lib/python3.7/dist-packages (from tensorflow==2.8.0) (1.1.2)\n",
      "Requirement already satisfied: setuptools in /usr/local/lib/python3.7/dist-packages (from tensorflow==2.8.0) (57.4.0)\n",
      "Requirement already satisfied: google-pasta>=0.1.1 in /usr/local/lib/python3.7/dist-packages (from tensorflow==2.8.0) (0.2.0)\n",
      "Requirement already satisfied: libclang>=9.0.1 in /usr/local/lib/python3.7/dist-packages (from tensorflow==2.8.0) (14.0.1)\n",
      "Requirement already satisfied: wrapt>=1.11.0 in /usr/local/lib/python3.7/dist-packages (from tensorflow==2.8.0) (1.14.1)\n",
      "Requirement already satisfied: tensorflow-io-gcs-filesystem>=0.23.1 in /usr/local/lib/python3.7/dist-packages (from tensorflow==2.8.0) (0.26.0)\n",
      "Requirement already satisfied: typing-extensions>=3.6.6 in /usr/local/lib/python3.7/dist-packages (from tensorflow==2.8.0) (4.2.0)\n",
      "Requirement already satisfied: h5py>=2.9.0 in /usr/local/lib/python3.7/dist-packages (from tensorflow==2.8.0) (3.1.0)\n",
      "Requirement already satisfied: wheel<1.0,>=0.23.0 in /usr/local/lib/python3.7/dist-packages (from astunparse>=1.6.0->tensorflow==2.8.0) (0.37.1)\n",
      "Requirement already satisfied: cached-property in /usr/local/lib/python3.7/dist-packages (from h5py>=2.9.0->tensorflow==2.8.0) (1.5.2)\n",
      "Requirement already satisfied: requests<3,>=2.21.0 in /usr/local/lib/python3.7/dist-packages (from tensorboard<2.9,>=2.8->tensorflow==2.8.0) (2.23.0)\n",
      "Requirement already satisfied: tensorboard-plugin-wit>=1.6.0 in /usr/local/lib/python3.7/dist-packages (from tensorboard<2.9,>=2.8->tensorflow==2.8.0) (1.8.1)\n",
      "Requirement already satisfied: markdown>=2.6.8 in /usr/local/lib/python3.7/dist-packages (from tensorboard<2.9,>=2.8->tensorflow==2.8.0) (3.3.7)\n",
      "Requirement already satisfied: google-auth-oauthlib<0.5,>=0.4.1 in /usr/local/lib/python3.7/dist-packages (from tensorboard<2.9,>=2.8->tensorflow==2.8.0) (0.4.6)\n",
      "Requirement already satisfied: werkzeug>=0.11.15 in /usr/local/lib/python3.7/dist-packages (from tensorboard<2.9,>=2.8->tensorflow==2.8.0) (1.0.1)\n",
      "Requirement already satisfied: tensorboard-data-server<0.7.0,>=0.6.0 in /usr/local/lib/python3.7/dist-packages (from tensorboard<2.9,>=2.8->tensorflow==2.8.0) (0.6.1)\n",
      "Requirement already satisfied: google-auth<3,>=1.6.3 in /usr/local/lib/python3.7/dist-packages (from tensorboard<2.9,>=2.8->tensorflow==2.8.0) (1.35.0)\n",
      "Requirement already satisfied: cachetools<5.0,>=2.0.0 in /usr/local/lib/python3.7/dist-packages (from google-auth<3,>=1.6.3->tensorboard<2.9,>=2.8->tensorflow==2.8.0) (4.2.4)\n",
      "Requirement already satisfied: rsa<5,>=3.1.4 in /usr/local/lib/python3.7/dist-packages (from google-auth<3,>=1.6.3->tensorboard<2.9,>=2.8->tensorflow==2.8.0) (4.8)\n",
      "Requirement already satisfied: pyasn1-modules>=0.2.1 in /usr/local/lib/python3.7/dist-packages (from google-auth<3,>=1.6.3->tensorboard<2.9,>=2.8->tensorflow==2.8.0) (0.2.8)\n",
      "Requirement already satisfied: requests-oauthlib>=0.7.0 in /usr/local/lib/python3.7/dist-packages (from google-auth-oauthlib<0.5,>=0.4.1->tensorboard<2.9,>=2.8->tensorflow==2.8.0) (1.3.1)\n",
      "Requirement already satisfied: importlib-metadata>=4.4 in /usr/local/lib/python3.7/dist-packages (from markdown>=2.6.8->tensorboard<2.9,>=2.8->tensorflow==2.8.0) (4.11.3)\n",
      "Requirement already satisfied: zipp>=0.5 in /usr/local/lib/python3.7/dist-packages (from importlib-metadata>=4.4->markdown>=2.6.8->tensorboard<2.9,>=2.8->tensorflow==2.8.0) (3.8.0)\n",
      "Requirement already satisfied: pyasn1<0.5.0,>=0.4.6 in /usr/local/lib/python3.7/dist-packages (from pyasn1-modules>=0.2.1->google-auth<3,>=1.6.3->tensorboard<2.9,>=2.8->tensorflow==2.8.0) (0.4.8)\n",
      "Requirement already satisfied: certifi>=2017.4.17 in /usr/local/lib/python3.7/dist-packages (from requests<3,>=2.21.0->tensorboard<2.9,>=2.8->tensorflow==2.8.0) (2022.5.18.1)\n",
      "Requirement already satisfied: chardet<4,>=3.0.2 in /usr/local/lib/python3.7/dist-packages (from requests<3,>=2.21.0->tensorboard<2.9,>=2.8->tensorflow==2.8.0) (3.0.4)\n",
      "Requirement already satisfied: urllib3!=1.25.0,!=1.25.1,<1.26,>=1.21.1 in /usr/local/lib/python3.7/dist-packages (from requests<3,>=2.21.0->tensorboard<2.9,>=2.8->tensorflow==2.8.0) (1.24.3)\n",
      "Requirement already satisfied: idna<3,>=2.5 in /usr/local/lib/python3.7/dist-packages (from requests<3,>=2.21.0->tensorboard<2.9,>=2.8->tensorflow==2.8.0) (2.10)\n",
      "Requirement already satisfied: oauthlib>=3.0.0 in /usr/local/lib/python3.7/dist-packages (from requests-oauthlib>=0.7.0->google-auth-oauthlib<0.5,>=0.4.1->tensorboard<2.9,>=2.8->tensorflow==2.8.0) (3.2.0)\n",
      "Installing collected packages: tf-estimator-nightly\n",
      "Successfully installed tf-estimator-nightly-2.8.0.dev2021122109\n"
     ]
    }
   ],
   "source": [
    "pip install tensorflow==2.8.0"
   ]
  },
  {
   "cell_type": "code",
   "execution_count": 6,
   "id": "dec6ce5b",
   "metadata": {
    "executionInfo": {
     "elapsed": 1441,
     "status": "ok",
     "timestamp": 1653532828748,
     "user": {
      "displayName": "최선빈",
      "userId": "10702276653678963302"
     },
     "user_tz": -540
    },
    "id": "dec6ce5b"
   },
   "outputs": [],
   "source": [
    "import FinanceDataReader as fdr\n",
    "import warnings\n",
    "warnings.filterwarnings(\"ignore\")\n",
    "\n",
    "import pandas as pd\n",
    "import numpy as np\n",
    "import matplotlib.pyplot as plt\n",
    "\n",
    "from sklearn.preprocessing import OneHotEncoder, StandardScaler\n",
    "from sklearn.compose import ColumnTransformer\n",
    "from sklearn.pipeline import Pipeline\n",
    "\n",
    "from sklearn.ensemble import GradientBoostingClassifier, GradientBoostingRegressor\n",
    "from sklearn.metrics import mean_squared_error\n",
    "from sklearn import model_selection, linear_model\n",
    "from sklearn.metrics import accuracy_score\n",
    "from sklearn.model_selection import GridSearchCV\n",
    "from sklearn.metrics import roc_curve, auc\n",
    "from sklearn import ensemble\n",
    "from sklearn.svm import SVC, SVR\n",
    "from sklearn import ensemble\n",
    "from sklearn import cluster\n",
    "from sklearn.metrics import silhouette_score\n",
    "from sklearn.metrics import classification_report\n",
    "\n",
    "\n",
    "from xgboost import XGBClassifier, plot_importance\n",
    "from sklearn.ensemble import ExtraTreesClassifier\n",
    "from sklearn.ensemble import RandomForestClassifier \n",
    "from collections import Counter"
   ]
  },
  {
   "cell_type": "code",
   "execution_count": 5,
   "id": "08f3f9f0",
   "metadata": {
    "executionInfo": {
     "elapsed": 1,
     "status": "ok",
     "timestamp": 1653532810051,
     "user": {
      "displayName": "최선빈",
      "userId": "10702276653678963302"
     },
     "user_tz": -540
    },
    "id": "08f3f9f0"
   },
   "outputs": [],
   "source": [
    "ETF_dict = {'KODEX_200' : '069500', '코스닥150' : '232080', 'S&P500' : '143850', 'Euro_stoxx' : '195930', 'Nikkei225' : '238720', 'CSI300' : '192090', \n",
    "           'Gold' : '132030', 'WTI' : '130680', 'KODEX_Inverse' : '114800', 'Dollar' : '138230', 'Dollar_Inverse' : '139660'}"
   ]
  },
  {
   "cell_type": "code",
   "execution_count": 12,
   "id": "b24a9b0f",
   "metadata": {
    "executionInfo": {
     "elapsed": 260,
     "status": "ok",
     "timestamp": 1653532831293,
     "user": {
      "displayName": "최선빈",
      "userId": "10702276653678963302"
     },
     "user_tz": -540
    },
    "id": "b24a9b0f"
   },
   "outputs": [],
   "source": [
    "def get_RSI_14(data):\n",
    "    RSI_list = []\n",
    "    for i in range(15, len(data)):  # 15행 종가부터 시작\n",
    "        close = list(data.iloc[i - 14 : i + 1]['Close']) # [23665, 23572, 23676, ...]\n",
    "        positive = []\n",
    "        negative = []\n",
    "        for j in range(14):\n",
    "            diff = close[j + 1] - close[j]\n",
    "            if diff >= 0:\n",
    "                positive.append(diff)\n",
    "            else:\n",
    "                negative.append(diff)\n",
    "        \n",
    "        AU = np.sum(positive) / 13\n",
    "        AD = abs(np.sum(negative) / 13)\n",
    "        RSI = AU / (AU + AD)\n",
    "        RSI_list.append(RSI)\n",
    "        \n",
    "    while len(RSI_list) != len(data):\n",
    "        RSI_list.insert(0, 0)\n",
    "\n",
    "    return RSI_list\n",
    "\n",
    "def stocastic_k(data):   # 14 days\n",
    "    null_list = []\n",
    "    for i in range(len(data)):\n",
    "        calculate_low = np.array(data['Low'][i - 13 : i + 1])\n",
    "        calculate_high = np.array(data['High'][i - 13 : i + 1])\n",
    "        if str(calculate_low.mean()) == 'nan':\n",
    "            continue\n",
    "        else:\n",
    "            today = data.iloc[i]['Close']\n",
    "            mini = calculate_low.min()\n",
    "            high = calculate_high.max()\n",
    "            null_list.append((today - mini) / (high - mini))\n",
    "        \n",
    "    while len(null_list) != len(data):\n",
    "        null_list.insert(0, 0)\n",
    "    \n",
    "    return null_list\n",
    "\n",
    "\n",
    "def Bollinger(data):    # 20 , 2\n",
    "    null_list = []\n",
    "    for i in range(len(data)):\n",
    "        cal_list = data['Close'][i - 19 : i + 1]\n",
    "        high = cal_list.mean() + np.std(cal_list) * 2\n",
    "        low = cal_list.mean() - np.std(cal_list) * 2\n",
    "        position = (data['Close'][i] - low) /  (high - low)\n",
    "        null_list.append(position)\n",
    "    return null_list\n",
    "\n",
    "def last_day(code, year):\n",
    "    day = str(fdr.DataReader(str(code), str(year), str(year + 1)).index[-1])[:10]\n",
    "    print(day)\n",
    "    \n",
    "    return day\n",
    "\n",
    "def start_day(code, year):\n",
    "    day = str(fdr.DataReader(str(code), str(year), str(year + 1)).index[0])[:10]\n",
    "    print(day)\n",
    "    \n",
    "    return day\n",
    "\n",
    "def last_day_month(code, year, month):\n",
    "    day = str(fdr.DataReader(str(code), str(year) + '.' + str(month), str(year) + '.' + str(month + 1)).index[-1])[:10]\n",
    "    \n",
    "    return day\n",
    "def start_day_month(code, year, month):\n",
    "    day = str(fdr.DataReader(str(code), str(year) + '.' + str(month), str(year) + '.' + str(month + 1)).index[0])[:10]    \n",
    "    \n",
    "    return day\n",
    "\n",
    "def MACD_cat(data):\n",
    "    null_list = []\n",
    "    for i in range(1, len(data)):\n",
    "        if (data['MACD'][i] > 0) & (data['MACD'][i - 1] < 0):\n",
    "            null_list.append(1)\n",
    "        else:\n",
    "            null_list.append(0)\n",
    "    null_list.insert(0, 0)\n",
    "    return null_list\n",
    "\n",
    "# def MACD_ocs(data):\n",
    "#     null_list = []\n",
    "#     null_list2 = []\n",
    "#     cont_list = data['MACD'] - data['MACD_SIGNAL']\n",
    "#     for i in range(1, cont_list):\n",
    "        "
   ]
  },
  {
   "cell_type": "code",
   "execution_count": 13,
   "id": "da1bd56c",
   "metadata": {
    "executionInfo": {
     "elapsed": 249,
     "status": "ok",
     "timestamp": 1653532833048,
     "user": {
      "displayName": "최선빈",
      "userId": "10702276653678963302"
     },
     "user_tz": -540
    },
    "id": "da1bd56c"
   },
   "outputs": [],
   "source": [
    "def all(data):\n",
    "    data['RSI'] = get_RSI_14(data)\n",
    "    data['STOCASTIC_K'] = stocastic_k(data)\n",
    "    data['STOCASTIC_D'] = data['STOCASTIC_K'].ewm(span = 5).mean()  # 5일\n",
    "    data['Bollinger'] = Bollinger(data)\n",
    "    data['MACD'] = data['Close'].ewm(span = 12).mean() - data['Close'].ewm(span = 26).mean()\n",
    "    data['MACD_SIGNAL'] = data['MACD'].ewm(span = 9).mean()\n",
    "    data['MACD_cat'] = MACD_cat(data)\n",
    "    data['Change+'] = list((data['Change'] > 0)[1 : len(data)].astype(int)) + [0]\n",
    "    \n",
    "    data['RSI_delta'] = data.RSI.diff().fillna(0)\n",
    "#     data['K_delta'] = data.STOCASTIC_K.diff().fillna(0)\n",
    "    data['D_delta'] = data.STOCASTIC_D.diff().fillna(0)\n",
    "    data['sto_diff'] = data['STOCASTIC_K'] - data['STOCASTIC_D']\n",
    "    data['B_delta'] = data.Bollinger.diff().fillna(0)\n",
    "    data['MACD_delta'] = data.MACD.diff().fillna(0)\n",
    "#     ma20 = new_gs['Adj Close'].rolling(window=20).mean()\n",
    "    data['MA5'] = data['Close'].rolling(window=5).mean()\n",
    "    data['MA20'] = data['Close'].rolling(window=20).mean()\n",
    "    data['MA5_adj'] = (data['MA5'] - data['Close']) / data['Close']\n",
    "    data['MA20_adj'] = (data['MA20'] - data['Close']) / data['Close']\n",
    "    data['MA_diff'] = (data['MA5'] - data['MA20']) / data['Close']"
   ]
  },
  {
   "cell_type": "code",
   "execution_count": 14,
   "id": "8cd533f7",
   "metadata": {
    "executionInfo": {
     "elapsed": 11367,
     "status": "ok",
     "timestamp": 1653532850665,
     "user": {
      "displayName": "최선빈",
      "userId": "10702276653678963302"
     },
     "user_tz": -540
    },
    "id": "8cd533f7"
   },
   "outputs": [],
   "source": [
    "df_kospi = fdr.DataReader('069500', '2000', '2022')\n",
    "all(df_kospi)\n",
    "df_kospi.dropna(inplace = True)\n",
    "df_kospi = df_kospi[29 : ]            # 일종의 문법"
   ]
  },
  {
   "cell_type": "code",
   "execution_count": 15,
   "id": "f6272c3d",
   "metadata": {
    "executionInfo": {
     "elapsed": 1718,
     "status": "ok",
     "timestamp": 1653532870039,
     "user": {
      "displayName": "최선빈",
      "userId": "10702276653678963302"
     },
     "user_tz": -540
    },
    "id": "f6272c3d"
   },
   "outputs": [],
   "source": [
    "df_kospi3 = fdr.DataReader('069500', '2021.12.05', '2023')\n",
    "all(df_kospi3)\n",
    "df_kospi3 = df_kospi3.iloc[26 : ]"
   ]
  },
  {
   "cell_type": "code",
   "execution_count": null,
   "id": "794b0553",
   "metadata": {
    "id": "794b0553"
   },
   "outputs": [],
   "source": []
  },
  {
   "cell_type": "code",
   "execution_count": null,
   "id": "d4b80930",
   "metadata": {
    "id": "d4b80930",
    "outputId": "b5fa42ed-bc6a-4ee0-c734-42edafd421ad"
   },
   "outputs": [
    {
     "name": "stdout",
     "output_type": "stream",
     "text": [
      "1\n",
      "2\n",
      "3\n",
      "4\n",
      "5\n",
      "6\n",
      "7\n",
      "8\n",
      "9\n",
      "10\n",
      "11\n",
      "12\n",
      "13\n",
      "14\n",
      "15\n",
      "16\n",
      "17\n",
      "18\n",
      "19\n",
      "20\n",
      "21\n",
      "22\n",
      "23\n",
      "24\n",
      "25\n",
      "26\n",
      "27\n",
      "28\n",
      "29\n",
      "30\n",
      "31\n",
      "32\n",
      "33\n",
      "34\n",
      "35\n",
      "36\n",
      "37\n",
      "38\n",
      "39\n",
      "40\n",
      "41\n",
      "42\n",
      "43\n",
      "44\n",
      "45\n",
      "46\n",
      "47\n",
      "48\n",
      "49\n",
      "50\n",
      "51\n",
      "52\n",
      "53\n",
      "54\n",
      "55\n",
      "56\n",
      "57\n",
      "58\n",
      "59\n",
      "60\n",
      "61\n",
      "62\n",
      "63\n",
      "64\n",
      "65\n",
      "66\n",
      "67\n",
      "68\n",
      "69\n",
      "70\n",
      "71\n",
      "72\n",
      "73\n",
      "74\n",
      "75\n",
      "76\n",
      "77\n",
      "78\n",
      "79\n",
      "80\n",
      "81\n",
      "82\n",
      "83\n",
      "84\n",
      "85\n",
      "86\n",
      "87\n",
      "88\n",
      "89\n",
      "90\n",
      "91\n",
      "92\n",
      "93\n",
      "94\n",
      "95\n",
      "96\n",
      "97\n",
      "98\n",
      "99\n",
      "100\n",
      "101\n",
      "102\n",
      "103\n",
      "104\n",
      "105\n",
      "106\n",
      "107\n",
      "108\n",
      "109\n",
      "110\n",
      "111\n",
      "112\n",
      "113\n",
      "114\n",
      "115\n",
      "116\n",
      "117\n",
      "118\n",
      "119\n",
      "120\n",
      "121\n",
      "122\n",
      "123\n",
      "124\n",
      "125\n",
      "126\n",
      "127\n",
      "128\n",
      "129\n",
      "130\n",
      "131\n",
      "132\n",
      "133\n",
      "134\n",
      "135\n",
      "136\n",
      "137\n",
      "138\n",
      "139\n",
      "140\n",
      "141\n",
      "142\n",
      "143\n",
      "144\n",
      "145\n",
      "146\n",
      "147\n",
      "148\n",
      "149\n",
      "150\n",
      "151\n",
      "152\n",
      "153\n",
      "154\n",
      "155\n",
      "156\n",
      "157\n",
      "158\n",
      "159\n",
      "160\n",
      "161\n",
      "162\n",
      "163\n",
      "164\n",
      "165\n",
      "166\n",
      "167\n",
      "168\n",
      "169\n",
      "170\n",
      "171\n",
      "172\n",
      "173\n",
      "174\n",
      "175\n",
      "176\n",
      "177\n",
      "178\n",
      "179\n",
      "180\n",
      "181\n",
      "182\n",
      "183\n",
      "184\n",
      "185\n",
      "186\n",
      "187\n",
      "188\n",
      "189\n",
      "190\n",
      "191\n",
      "192\n",
      "193\n",
      "194\n",
      "195\n",
      "196\n",
      "197\n",
      "198\n",
      "199\n",
      "200\n",
      "201\n",
      "202\n",
      "203\n",
      "204\n",
      "205\n",
      "206\n",
      "207\n",
      "208\n",
      "209\n",
      "210\n",
      "211\n",
      "212\n",
      "213\n",
      "214\n",
      "215\n",
      "216\n",
      "217\n",
      "218\n",
      "219\n",
      "220\n",
      "221\n",
      "222\n",
      "223\n",
      "224\n",
      "225\n",
      "226\n",
      "227\n",
      "228\n",
      "229\n",
      "230\n",
      "231\n",
      "232\n",
      "233\n",
      "234\n",
      "235\n",
      "236\n",
      "237\n",
      "238\n",
      "239\n",
      "240\n",
      "241\n",
      "242\n",
      "243\n",
      "244\n",
      "245\n",
      "246\n",
      "247\n",
      "248\n",
      "249\n",
      "250\n",
      "251\n",
      "252\n",
      "253\n",
      "254\n",
      "255\n",
      "256\n",
      "257\n",
      "258\n",
      "259\n",
      "260\n",
      "261\n",
      "262\n",
      "263\n",
      "264\n",
      "265\n",
      "266\n",
      "267\n",
      "268\n",
      "269\n",
      "270\n",
      "271\n",
      "272\n",
      "273\n",
      "274\n",
      "275\n",
      "276\n",
      "277\n",
      "278\n",
      "279\n",
      "280\n",
      "281\n",
      "282\n",
      "283\n",
      "284\n",
      "285\n",
      "286\n",
      "287\n",
      "288\n",
      "289\n",
      "290\n",
      "291\n",
      "292\n",
      "293\n",
      "294\n",
      "295\n",
      "296\n",
      "297\n",
      "298\n",
      "299\n",
      "300\n"
     ]
    }
   ],
   "source": [
    "# result2 = pd.concat([df1,df2], ignore_index=True)\n",
    "from pykrx import stock\n",
    "stock_code = stock.get_market_ticker_list(date=\"20201020\", market=\"KOSPI\")\n",
    "\n",
    "np.random.shuffle(stock_code)\n",
    "\n",
    "company_list = stock_code[:300]\n",
    "\n",
    "j = 1\n",
    "for i in company_list:\n",
    "    print(j)\n",
    "    data = fdr.DataReader(i, '2000', '2021')\n",
    "    if len(data) < 30:\n",
    "        continue\n",
    "    else:\n",
    "        all(data)\n",
    "        data = data.dropna()\n",
    "        df_kospi = pd.concat([df_kospi, data[29:]])\n",
    "    j += 1\n",
    "\n",
    "df_kospi.dropna(inplace = True)\n",
    "\n",
    "df_kospi.replace([np.inf, -np.inf], np.nan, inplace = True)\n",
    "# df_kospi.replace([np.inf, -np.inf], np.nan).dropna(axis=0, inplace = True)\n",
    "df_kospi.dropna(inplace = True)"
   ]
  },
  {
   "cell_type": "code",
   "execution_count": null,
   "id": "74dbb349",
   "metadata": {
    "id": "74dbb349"
   },
   "outputs": [],
   "source": [
    "# df_kospi.to_csv('shuffle_300.csv')"
   ]
  },
  {
   "cell_type": "code",
   "execution_count": null,
   "id": "b1d6811f",
   "metadata": {
    "id": "b1d6811f"
   },
   "outputs": [],
   "source": []
  },
  {
   "cell_type": "code",
   "execution_count": 16,
   "id": "5112360c",
   "metadata": {
    "colab": {
     "base_uri": "https://localhost:8080/",
     "height": 394
    },
    "executionInfo": {
     "elapsed": 274,
     "status": "ok",
     "timestamp": 1653532878112,
     "user": {
      "displayName": "최선빈",
      "userId": "10702276653678963302"
     },
     "user_tz": -540
    },
    "id": "5112360c",
    "outputId": "964cbd8a-1d5e-4c18-d9bf-ab27a93aadcf"
   },
   "outputs": [
    {
     "data": {
      "text/html": [
       "\n",
       "  <div id=\"df-5d8bf602-5c77-4267-a636-199e02805b1e\">\n",
       "    <div class=\"colab-df-container\">\n",
       "      <div>\n",
       "<style scoped>\n",
       "    .dataframe tbody tr th:only-of-type {\n",
       "        vertical-align: middle;\n",
       "    }\n",
       "\n",
       "    .dataframe tbody tr th {\n",
       "        vertical-align: top;\n",
       "    }\n",
       "\n",
       "    .dataframe thead th {\n",
       "        text-align: right;\n",
       "    }\n",
       "</style>\n",
       "<table border=\"1\" class=\"dataframe\">\n",
       "  <thead>\n",
       "    <tr style=\"text-align: right;\">\n",
       "      <th></th>\n",
       "      <th>Open</th>\n",
       "      <th>High</th>\n",
       "      <th>Low</th>\n",
       "      <th>Close</th>\n",
       "      <th>Volume</th>\n",
       "      <th>Change</th>\n",
       "      <th>RSI</th>\n",
       "      <th>STOCASTIC_K</th>\n",
       "      <th>STOCASTIC_D</th>\n",
       "      <th>Bollinger</th>\n",
       "      <th>...</th>\n",
       "      <th>RSI_delta</th>\n",
       "      <th>D_delta</th>\n",
       "      <th>sto_diff</th>\n",
       "      <th>B_delta</th>\n",
       "      <th>MACD_delta</th>\n",
       "      <th>MA5</th>\n",
       "      <th>MA20</th>\n",
       "      <th>MA5_adj</th>\n",
       "      <th>MA20_adj</th>\n",
       "      <th>MA_diff</th>\n",
       "    </tr>\n",
       "  </thead>\n",
       "  <tbody>\n",
       "    <tr>\n",
       "      <th>count</th>\n",
       "      <td>4707.000000</td>\n",
       "      <td>4707.000000</td>\n",
       "      <td>4707.000000</td>\n",
       "      <td>4707.000000</td>\n",
       "      <td>4.707000e+03</td>\n",
       "      <td>4707.000000</td>\n",
       "      <td>4707.000000</td>\n",
       "      <td>4707.000000</td>\n",
       "      <td>4707.000000</td>\n",
       "      <td>4707.000000</td>\n",
       "      <td>...</td>\n",
       "      <td>4707.000000</td>\n",
       "      <td>4707.000000</td>\n",
       "      <td>4707.000000</td>\n",
       "      <td>4707.000000</td>\n",
       "      <td>4707.000000</td>\n",
       "      <td>4707.000000</td>\n",
       "      <td>4707.000000</td>\n",
       "      <td>4707.000000</td>\n",
       "      <td>4707.000000</td>\n",
       "      <td>4707.000000</td>\n",
       "    </tr>\n",
       "    <tr>\n",
       "      <th>mean</th>\n",
       "      <td>20251.780327</td>\n",
       "      <td>20375.659018</td>\n",
       "      <td>20115.175271</td>\n",
       "      <td>20259.096240</td>\n",
       "      <td>5.147068e+06</td>\n",
       "      <td>0.000478</td>\n",
       "      <td>0.542900</td>\n",
       "      <td>0.599492</td>\n",
       "      <td>0.599340</td>\n",
       "      <td>0.563670</td>\n",
       "      <td>...</td>\n",
       "      <td>0.000010</td>\n",
       "      <td>0.000076</td>\n",
       "      <td>0.000152</td>\n",
       "      <td>0.000029</td>\n",
       "      <td>0.031486</td>\n",
       "      <td>20245.016444</td>\n",
       "      <td>20192.721202</td>\n",
       "      <td>-0.000605</td>\n",
       "      <td>-0.002892</td>\n",
       "      <td>0.002287</td>\n",
       "    </tr>\n",
       "    <tr>\n",
       "      <th>std</th>\n",
       "      <td>8110.358395</td>\n",
       "      <td>8143.927497</td>\n",
       "      <td>8070.771350</td>\n",
       "      <td>8100.922487</td>\n",
       "      <td>4.463771e+06</td>\n",
       "      <td>0.013361</td>\n",
       "      <td>0.173004</td>\n",
       "      <td>0.313091</td>\n",
       "      <td>0.264419</td>\n",
       "      <td>0.329971</td>\n",
       "      <td>...</td>\n",
       "      <td>0.065819</td>\n",
       "      <td>0.068467</td>\n",
       "      <td>0.136934</td>\n",
       "      <td>0.159453</td>\n",
       "      <td>31.883596</td>\n",
       "      <td>8093.415127</td>\n",
       "      <td>8067.574659</td>\n",
       "      <td>0.014700</td>\n",
       "      <td>0.032667</td>\n",
       "      <td>0.025380</td>\n",
       "    </tr>\n",
       "    <tr>\n",
       "      <th>min</th>\n",
       "      <td>4868.000000</td>\n",
       "      <td>4886.000000</td>\n",
       "      <td>4692.000000</td>\n",
       "      <td>4750.000000</td>\n",
       "      <td>1.785650e+05</td>\n",
       "      <td>-0.118635</td>\n",
       "      <td>0.023613</td>\n",
       "      <td>0.000309</td>\n",
       "      <td>0.043712</td>\n",
       "      <td>-0.446418</td>\n",
       "      <td>...</td>\n",
       "      <td>-0.311843</td>\n",
       "      <td>-0.268086</td>\n",
       "      <td>-0.536173</td>\n",
       "      <td>-0.869866</td>\n",
       "      <td>-262.534722</td>\n",
       "      <td>4849.000000</td>\n",
       "      <td>4991.250000</td>\n",
       "      <td>-0.114969</td>\n",
       "      <td>-0.116164</td>\n",
       "      <td>-0.226882</td>\n",
       "    </tr>\n",
       "    <tr>\n",
       "      <th>25%</th>\n",
       "      <td>14318.000000</td>\n",
       "      <td>14401.000000</td>\n",
       "      <td>14189.000000</td>\n",
       "      <td>14319.500000</td>\n",
       "      <td>1.694748e+06</td>\n",
       "      <td>-0.005578</td>\n",
       "      <td>0.419207</td>\n",
       "      <td>0.322359</td>\n",
       "      <td>0.367655</td>\n",
       "      <td>0.301382</td>\n",
       "      <td>...</td>\n",
       "      <td>-0.037939</td>\n",
       "      <td>-0.039815</td>\n",
       "      <td>-0.079631</td>\n",
       "      <td>-0.084097</td>\n",
       "      <td>-15.872927</td>\n",
       "      <td>14315.400000</td>\n",
       "      <td>14249.925000</td>\n",
       "      <td>-0.008911</td>\n",
       "      <td>-0.021939</td>\n",
       "      <td>-0.009186</td>\n",
       "    </tr>\n",
       "    <tr>\n",
       "      <th>50%</th>\n",
       "      <td>21204.000000</td>\n",
       "      <td>21301.000000</td>\n",
       "      <td>21091.000000</td>\n",
       "      <td>21220.000000</td>\n",
       "      <td>4.321219e+06</td>\n",
       "      <td>0.000765</td>\n",
       "      <td>0.545557</td>\n",
       "      <td>0.657627</td>\n",
       "      <td>0.650349</td>\n",
       "      <td>0.620887</td>\n",
       "      <td>...</td>\n",
       "      <td>-0.000043</td>\n",
       "      <td>0.004439</td>\n",
       "      <td>0.008878</td>\n",
       "      <td>-0.002032</td>\n",
       "      <td>1.894383</td>\n",
       "      <td>21209.800000</td>\n",
       "      <td>21256.850000</td>\n",
       "      <td>-0.001782</td>\n",
       "      <td>-0.006445</td>\n",
       "      <td>0.005099</td>\n",
       "    </tr>\n",
       "    <tr>\n",
       "      <th>75%</th>\n",
       "      <td>24118.500000</td>\n",
       "      <td>24243.000000</td>\n",
       "      <td>24019.000000</td>\n",
       "      <td>24131.500000</td>\n",
       "      <td>7.231939e+06</td>\n",
       "      <td>0.007075</td>\n",
       "      <td>0.665735</td>\n",
       "      <td>0.888140</td>\n",
       "      <td>0.840977</td>\n",
       "      <td>0.835883</td>\n",
       "      <td>...</td>\n",
       "      <td>0.038595</td>\n",
       "      <td>0.042930</td>\n",
       "      <td>0.085861</td>\n",
       "      <td>0.094285</td>\n",
       "      <td>16.507119</td>\n",
       "      <td>24148.500000</td>\n",
       "      <td>24067.425000</td>\n",
       "      <td>0.006568</td>\n",
       "      <td>0.012383</td>\n",
       "      <td>0.017412</td>\n",
       "    </tr>\n",
       "    <tr>\n",
       "      <th>max</th>\n",
       "      <td>43167.000000</td>\n",
       "      <td>43758.000000</td>\n",
       "      <td>43050.000000</td>\n",
       "      <td>43145.000000</td>\n",
       "      <td>6.222654e+07</td>\n",
       "      <td>0.149422</td>\n",
       "      <td>0.997510</td>\n",
       "      <td>1.060606</td>\n",
       "      <td>0.998166</td>\n",
       "      <td>1.266308</td>\n",
       "      <td>...</td>\n",
       "      <td>0.259859</td>\n",
       "      <td>0.259278</td>\n",
       "      <td>0.518557</td>\n",
       "      <td>0.678688</td>\n",
       "      <td>211.835161</td>\n",
       "      <td>43004.400000</td>\n",
       "      <td>42731.700000</td>\n",
       "      <td>0.187374</td>\n",
       "      <td>0.376730</td>\n",
       "      <td>0.086153</td>\n",
       "    </tr>\n",
       "  </tbody>\n",
       "</table>\n",
       "<p>8 rows × 24 columns</p>\n",
       "</div>\n",
       "      <button class=\"colab-df-convert\" onclick=\"convertToInteractive('df-5d8bf602-5c77-4267-a636-199e02805b1e')\"\n",
       "              title=\"Convert this dataframe to an interactive table.\"\n",
       "              style=\"display:none;\">\n",
       "        \n",
       "  <svg xmlns=\"http://www.w3.org/2000/svg\" height=\"24px\"viewBox=\"0 0 24 24\"\n",
       "       width=\"24px\">\n",
       "    <path d=\"M0 0h24v24H0V0z\" fill=\"none\"/>\n",
       "    <path d=\"M18.56 5.44l.94 2.06.94-2.06 2.06-.94-2.06-.94-.94-2.06-.94 2.06-2.06.94zm-11 1L8.5 8.5l.94-2.06 2.06-.94-2.06-.94L8.5 2.5l-.94 2.06-2.06.94zm10 10l.94 2.06.94-2.06 2.06-.94-2.06-.94-.94-2.06-.94 2.06-2.06.94z\"/><path d=\"M17.41 7.96l-1.37-1.37c-.4-.4-.92-.59-1.43-.59-.52 0-1.04.2-1.43.59L10.3 9.45l-7.72 7.72c-.78.78-.78 2.05 0 2.83L4 21.41c.39.39.9.59 1.41.59.51 0 1.02-.2 1.41-.59l7.78-7.78 2.81-2.81c.8-.78.8-2.07 0-2.86zM5.41 20L4 18.59l7.72-7.72 1.47 1.35L5.41 20z\"/>\n",
       "  </svg>\n",
       "      </button>\n",
       "      \n",
       "  <style>\n",
       "    .colab-df-container {\n",
       "      display:flex;\n",
       "      flex-wrap:wrap;\n",
       "      gap: 12px;\n",
       "    }\n",
       "\n",
       "    .colab-df-convert {\n",
       "      background-color: #E8F0FE;\n",
       "      border: none;\n",
       "      border-radius: 50%;\n",
       "      cursor: pointer;\n",
       "      display: none;\n",
       "      fill: #1967D2;\n",
       "      height: 32px;\n",
       "      padding: 0 0 0 0;\n",
       "      width: 32px;\n",
       "    }\n",
       "\n",
       "    .colab-df-convert:hover {\n",
       "      background-color: #E2EBFA;\n",
       "      box-shadow: 0px 1px 2px rgba(60, 64, 67, 0.3), 0px 1px 3px 1px rgba(60, 64, 67, 0.15);\n",
       "      fill: #174EA6;\n",
       "    }\n",
       "\n",
       "    [theme=dark] .colab-df-convert {\n",
       "      background-color: #3B4455;\n",
       "      fill: #D2E3FC;\n",
       "    }\n",
       "\n",
       "    [theme=dark] .colab-df-convert:hover {\n",
       "      background-color: #434B5C;\n",
       "      box-shadow: 0px 1px 3px 1px rgba(0, 0, 0, 0.15);\n",
       "      filter: drop-shadow(0px 1px 2px rgba(0, 0, 0, 0.3));\n",
       "      fill: #FFFFFF;\n",
       "    }\n",
       "  </style>\n",
       "\n",
       "      <script>\n",
       "        const buttonEl =\n",
       "          document.querySelector('#df-5d8bf602-5c77-4267-a636-199e02805b1e button.colab-df-convert');\n",
       "        buttonEl.style.display =\n",
       "          google.colab.kernel.accessAllowed ? 'block' : 'none';\n",
       "\n",
       "        async function convertToInteractive(key) {\n",
       "          const element = document.querySelector('#df-5d8bf602-5c77-4267-a636-199e02805b1e');\n",
       "          const dataTable =\n",
       "            await google.colab.kernel.invokeFunction('convertToInteractive',\n",
       "                                                     [key], {});\n",
       "          if (!dataTable) return;\n",
       "\n",
       "          const docLinkHtml = 'Like what you see? Visit the ' +\n",
       "            '<a target=\"_blank\" href=https://colab.research.google.com/notebooks/data_table.ipynb>data table notebook</a>'\n",
       "            + ' to learn more about interactive tables.';\n",
       "          element.innerHTML = '';\n",
       "          dataTable['output_type'] = 'display_data';\n",
       "          await google.colab.output.renderOutput(dataTable, element);\n",
       "          const docLink = document.createElement('div');\n",
       "          docLink.innerHTML = docLinkHtml;\n",
       "          element.appendChild(docLink);\n",
       "        }\n",
       "      </script>\n",
       "    </div>\n",
       "  </div>\n",
       "  "
      ],
      "text/plain": [
       "               Open          High           Low         Close        Volume  \\\n",
       "count   4707.000000   4707.000000   4707.000000   4707.000000  4.707000e+03   \n",
       "mean   20251.780327  20375.659018  20115.175271  20259.096240  5.147068e+06   \n",
       "std     8110.358395   8143.927497   8070.771350   8100.922487  4.463771e+06   \n",
       "min     4868.000000   4886.000000   4692.000000   4750.000000  1.785650e+05   \n",
       "25%    14318.000000  14401.000000  14189.000000  14319.500000  1.694748e+06   \n",
       "50%    21204.000000  21301.000000  21091.000000  21220.000000  4.321219e+06   \n",
       "75%    24118.500000  24243.000000  24019.000000  24131.500000  7.231939e+06   \n",
       "max    43167.000000  43758.000000  43050.000000  43145.000000  6.222654e+07   \n",
       "\n",
       "            Change          RSI  STOCASTIC_K  STOCASTIC_D    Bollinger  ...  \\\n",
       "count  4707.000000  4707.000000  4707.000000  4707.000000  4707.000000  ...   \n",
       "mean      0.000478     0.542900     0.599492     0.599340     0.563670  ...   \n",
       "std       0.013361     0.173004     0.313091     0.264419     0.329971  ...   \n",
       "min      -0.118635     0.023613     0.000309     0.043712    -0.446418  ...   \n",
       "25%      -0.005578     0.419207     0.322359     0.367655     0.301382  ...   \n",
       "50%       0.000765     0.545557     0.657627     0.650349     0.620887  ...   \n",
       "75%       0.007075     0.665735     0.888140     0.840977     0.835883  ...   \n",
       "max       0.149422     0.997510     1.060606     0.998166     1.266308  ...   \n",
       "\n",
       "         RSI_delta      D_delta     sto_diff      B_delta   MACD_delta  \\\n",
       "count  4707.000000  4707.000000  4707.000000  4707.000000  4707.000000   \n",
       "mean      0.000010     0.000076     0.000152     0.000029     0.031486   \n",
       "std       0.065819     0.068467     0.136934     0.159453    31.883596   \n",
       "min      -0.311843    -0.268086    -0.536173    -0.869866  -262.534722   \n",
       "25%      -0.037939    -0.039815    -0.079631    -0.084097   -15.872927   \n",
       "50%      -0.000043     0.004439     0.008878    -0.002032     1.894383   \n",
       "75%       0.038595     0.042930     0.085861     0.094285    16.507119   \n",
       "max       0.259859     0.259278     0.518557     0.678688   211.835161   \n",
       "\n",
       "                MA5          MA20      MA5_adj     MA20_adj      MA_diff  \n",
       "count   4707.000000   4707.000000  4707.000000  4707.000000  4707.000000  \n",
       "mean   20245.016444  20192.721202    -0.000605    -0.002892     0.002287  \n",
       "std     8093.415127   8067.574659     0.014700     0.032667     0.025380  \n",
       "min     4849.000000   4991.250000    -0.114969    -0.116164    -0.226882  \n",
       "25%    14315.400000  14249.925000    -0.008911    -0.021939    -0.009186  \n",
       "50%    21209.800000  21256.850000    -0.001782    -0.006445     0.005099  \n",
       "75%    24148.500000  24067.425000     0.006568     0.012383     0.017412  \n",
       "max    43004.400000  42731.700000     0.187374     0.376730     0.086153  \n",
       "\n",
       "[8 rows x 24 columns]"
      ]
     },
     "execution_count": 16,
     "metadata": {},
     "output_type": "execute_result"
    }
   ],
   "source": [
    "df_kospi.describe()"
   ]
  },
  {
   "cell_type": "markdown",
   "id": "87c3c0b8",
   "metadata": {
    "id": "87c3c0b8"
   },
   "source": [
    " > 모델링 : 실험1 (기본적 전처리만, 2010~2021 -> 2022) : 57%"
   ]
  },
  {
   "cell_type": "code",
   "execution_count": null,
   "id": "7caf9507",
   "metadata": {
    "id": "7caf9507"
   },
   "outputs": [],
   "source": [
    "# train_x = df_x.loc[: last_day('069500', 2021)]\n",
    "# train_y = df_y.loc[: last_day('069500', 2021)]\n",
    "# test_x = df_x.loc[start_day('069500', 2022) :]\n",
    "# test_y = df_y.loc[start_day('069500', 2022) :]"
   ]
  },
  {
   "cell_type": "code",
   "execution_count": null,
   "id": "80dda8a8",
   "metadata": {
    "id": "80dda8a8"
   },
   "outputs": [],
   "source": [
    "# # regularization candiate 정의\n",
    "# reg_candidate = [1e-5, 1e-4, 1e-3, 1e-2, 0.1, 1, 5, 10, 100]\n",
    "\n",
    "# # space 정의, Hyperparameter의 이름을 key 값으로 입력\n",
    "# space={'max_depth': hp.quniform(\"max_depth\", 4, 20, 2),\n",
    "#        'learning_rate': hp.quniform ('learning_rate', 0.001, 0.01, 0.001),\n",
    "#        'reg_alpha' : hp.choice('reg_alpha', reg_candidate),\n",
    "#        'reg_lambda' : hp.choice('reg_lambda', reg_candidate),\n",
    "#        'subsample': hp.quniform('subsample', 0.6, 1, 0.05),\n",
    "#        'colsample_bytree' : hp.quniform('colsample_bytree', 0.6, 1, 0.05),\n",
    "#        'min_child_weight' : hp.quniform('min_child_weight', 1, 10, 1),\n",
    "#        'n_estimators': hp.quniform('n_estimators', 300, 3000, 300)}\n",
    "\n",
    "# # 목적 함수 정의\n",
    "# # n_estimators, max_depth와 같은 반드시 int 타입을 가져야 하는 hyperparamter는 int로 타입 캐스팅 합니다.\n",
    "# def hyperparameter_tuning(space):\n",
    "#     model=XGBClassifier(n_estimators =int(space['n_estimators']), \n",
    "#                        max_depth = int(space['max_depth']), \n",
    "#                        learning_rate = space['learning_rate'],\n",
    "#                        reg_alpha = space['reg_alpha'],\n",
    "#                        reg_lambda = space['reg_lambda'],\n",
    "#                        subsample = space['subsample'],\n",
    "#                        colsample_bytree = space['colsample_bytree'], \n",
    "#                        min_child_weight = int(space['min_child_weight']),\n",
    "#                        random_state=42,)\n",
    "    \n",
    "#     evaluation = [(train_x, train_y), (test_x, test_y)]\n",
    "    \n",
    "#     model.fit(train_x, train_y,\n",
    "#               eval_set=evaluation, \n",
    "#               eval_metric='auc',\n",
    "#               verbose=0)\n",
    "\n",
    "#     accuracy = accuracy_score(model.predict(test_x), test_y)\n",
    "#     # 평가 방식 선정\n",
    "#     return {'loss': 1 - accuracy, 'status': STATUS_OK, 'model': model}\n",
    "\n",
    "# # Trials 객체 선언합니다.\n",
    "# trials = Trials()\n",
    "# # best에 최적의 하이퍼 파라미터를 return 받습니다.\n",
    "# best = fmin(fn=hyperparameter_tuning,\n",
    "#             space=space,\n",
    "#             algo=tpe.suggest,\n",
    "#             max_evals=50, # 최대 반복 횟수를 지정합니다.\n",
    "#             trials=trials)\n",
    "\n",
    "# # 최적화된 결과를 int로 변환해야하는 파라미터는 타입 변환을 수행합니다.\n",
    "# best['max_depth'] = int(best['max_depth'])\n",
    "# best['min_child_weight'] = int(best['min_child_weight'])\n",
    "# best['n_estimators'] = int(best['n_estimators'])\n",
    "# best['reg_alpha'] = reg_candidate[int(best['reg_alpha'])]\n",
    "# best['reg_lambda'] = reg_candidate[int(best['reg_lambda'])]\n",
    "# print (best)"
   ]
  },
  {
   "cell_type": "markdown",
   "id": "c3154367",
   "metadata": {
    "id": "c3154367"
   },
   "source": [
    "> 실험 2 : 2022 -> 2022"
   ]
  },
  {
   "cell_type": "code",
   "execution_count": null,
   "id": "15e79380",
   "metadata": {
    "id": "15e79380"
   },
   "outputs": [],
   "source": [
    "# start_day_month('069500', 2022, 1)\n",
    "# last_day_month('069500', 2022, 1)"
   ]
  },
  {
   "cell_type": "code",
   "execution_count": null,
   "id": "71185922",
   "metadata": {
    "id": "71185922"
   },
   "outputs": [],
   "source": [
    "# train_x = df_x.loc[start_day_month('069500', 2022, 1) : last_day_month('069500', 2022, 4)]\n",
    "# train_y = df_y.loc[start_day_month('069500', 2022, 1) : last_day_month('069500', 2022, 4)]\n",
    "# test_x = df_x.loc[start_day_month('069500', 2022, 5) : last_day_month('069500', 2022, 5)]\n",
    "# test_y = df_y.loc[start_day_month('069500', 2022, 5) : last_day_month('069500', 2022, 5)]"
   ]
  },
  {
   "cell_type": "code",
   "execution_count": null,
   "id": "c522833f",
   "metadata": {
    "id": "c522833f"
   },
   "outputs": [],
   "source": [
    "# model = XGBClassifier()\n",
    "# model.fit(train_x, train_y)\n",
    "# accuracy_score(model.predict(train_x), train_y) "
   ]
  },
  {
   "cell_type": "code",
   "execution_count": null,
   "id": "c16d3670",
   "metadata": {
    "id": "c16d3670"
   },
   "outputs": [],
   "source": [
    "# model_cat = CatBoostClassifier()\n",
    "# model_cat.fit(train_x, train_y)"
   ]
  },
  {
   "cell_type": "code",
   "execution_count": null,
   "id": "f9a8c22d",
   "metadata": {
    "id": "f9a8c22d"
   },
   "outputs": [],
   "source": [
    "# accuracy_score(model.predict(test_x), test_y) "
   ]
  },
  {
   "cell_type": "markdown",
   "id": "07a73c43",
   "metadata": {
    "id": "07a73c43"
   },
   "source": [
    "> 실험 3 : Standard Scaling"
   ]
  },
  {
   "cell_type": "markdown",
   "id": "02ec1330",
   "metadata": {
    "id": "02ec1330"
   },
   "source": [
    "<!-- numeric_features = list(train_x.columns)\n",
    "numeric_transformer = StandardScaler()\n",
    "\n",
    "categorical_features = []\n",
    "categorical_transformer = OneHotEncoder(categories='auto')\n",
    "\n",
    "preprocessor = ColumnTransformer(\n",
    "    transformers = [ ('num', numeric_transformer, numeric_features),\n",
    "        ('passthrough', 'passthrough', categorical_features)])\n",
    "\n",
    "preprocessor_pipe = Pipeline(steps=[('preprocessor', preprocessor)])\n",
    "\n",
    "preprocessor_pipe.fit(train_x)\n",
    "\n",
    "x_train_transformed = preprocessor_pipe.transform(train_x)\n",
    "x_test_transformed = preprocessor_pipe.transform(test_x) -->"
   ]
  },
  {
   "cell_type": "code",
   "execution_count": null,
   "id": "5f307766",
   "metadata": {
    "id": "5f307766",
    "outputId": "5f3860b1-9907-41f7-ef3b-8832e13a1ad5"
   },
   "outputs": [
    {
     "ename": "NameError",
     "evalue": "name 'train_x' is not defined",
     "output_type": "error",
     "traceback": [
      "\u001b[1;31m---------------------------------------------------------------------------\u001b[0m",
      "\u001b[1;31mNameError\u001b[0m                                 Traceback (most recent call last)",
      "\u001b[1;32m<ipython-input-16-b99a883946b1>\u001b[0m in \u001b[0;36m<module>\u001b[1;34m\u001b[0m\n\u001b[1;32m----> 1\u001b[1;33m \u001b[0mlist\u001b[0m\u001b[1;33m(\u001b[0m\u001b[0mtrain_x\u001b[0m\u001b[1;33m.\u001b[0m\u001b[0mcolumns\u001b[0m\u001b[1;33m)\u001b[0m\u001b[1;33m\u001b[0m\u001b[1;33m\u001b[0m\u001b[0m\n\u001b[0m",
      "\u001b[1;31mNameError\u001b[0m: name 'train_x' is not defined"
     ]
    }
   ],
   "source": [
    "# list(train_x.columns)"
   ]
  },
  {
   "cell_type": "code",
   "execution_count": null,
   "id": "7a2670ea",
   "metadata": {
    "id": "7a2670ea"
   },
   "outputs": [],
   "source": [
    "# numeric_features = list(train_x.columns)\n",
    "# numeric_transformer = StandardScaler() # cf) RobustScaler\n",
    "\n",
    "# categorical_features = []\n",
    "# categorical_transformer = OneHotEncoder(categories='auto') # categories='auto' : just for ignoring warning messages\n",
    "\n",
    "# preprocessor = ColumnTransformer(\n",
    "#     transformers = [ ('num', numeric_transformer, numeric_features),\n",
    "#         ('passthrough', 'passthrough', categorical_features)])\n",
    "\n",
    "# preprocessor_pipe = Pipeline(steps=[('preprocessor', preprocessor)])\n",
    "\n",
    "# preprocessor_pipe.fit(train_x)\n",
    "\n",
    "# x_train_transformed = preprocessor_pipe.transform(train_x)\n",
    "# x_test_transformed = preprocessor_pipe.transform(test_x)\n"
   ]
  },
  {
   "cell_type": "code",
   "execution_count": null,
   "id": "1c4757c6",
   "metadata": {
    "id": "1c4757c6"
   },
   "outputs": [],
   "source": [
    "# model = XGBClassifier(learning_rate=0.001,max_depth=5,n_estimators=100)\n",
    "# model.fit(x_train_transformed, train_y)\n",
    "# accuracy_score(model.predict(x_test_transformed), test_y) "
   ]
  },
  {
   "cell_type": "markdown",
   "id": "408ecd69",
   "metadata": {
    "id": "408ecd69"
   },
   "source": [
    "> 실험 4 :"
   ]
  },
  {
   "cell_type": "code",
   "execution_count": null,
   "id": "c6fbd6d3",
   "metadata": {
    "id": "c6fbd6d3"
   },
   "outputs": [],
   "source": [
    "# train_x = df_x.loc[: last_day('069500', 2020)]\n",
    "# train_y = df_y.loc[: last_day('069500', 2020)]\n",
    "# test_x = df_x.loc[start_day('069500', 2021) : last_day('069500', 2021)]\n",
    "# test_y = df_y.loc[start_day('069500', 2021) : last_day('069500', 2021)]"
   ]
  },
  {
   "cell_type": "code",
   "execution_count": 17,
   "id": "81430b26",
   "metadata": {
    "executionInfo": {
     "elapsed": 266,
     "status": "ok",
     "timestamp": 1653532896629,
     "user": {
      "displayName": "최선빈",
      "userId": "10702276653678963302"
     },
     "user_tz": -540
    },
    "id": "81430b26"
   },
   "outputs": [],
   "source": [
    "train_x = df_kospi[['RSI', 'STOCASTIC_K', 'STOCASTIC_D', 'Bollinger', 'MACD', 'MACD_cat', 'MACD_SIGNAL', 'RSI_delta', 'D_delta', 'sto_diff', 'B_delta', 'MACD_delta',\n",
    "                   'MA5', 'MA20', 'MA5_adj', 'MA20_adj']]\n",
    "train_y = df_kospi['Change+']\n",
    "test_x = df_kospi3[['RSI', 'STOCASTIC_K', 'STOCASTIC_D', 'Bollinger', 'MACD', 'MACD_cat', 'MACD_SIGNAL', 'RSI_delta', 'D_delta', 'sto_diff', 'B_delta', 'MACD_delta',\n",
    "                   'MA5', 'MA20', 'MA5_adj', 'MA20_adj']]\n",
    "test_y = df_kospi3['Change+']"
   ]
  },
  {
   "cell_type": "code",
   "execution_count": 18,
   "id": "9dbf6f87",
   "metadata": {
    "executionInfo": {
     "elapsed": 1,
     "status": "ok",
     "timestamp": 1653532898281,
     "user": {
      "displayName": "최선빈",
      "userId": "10702276653678963302"
     },
     "user_tz": -540
    },
    "id": "9dbf6f87"
   },
   "outputs": [],
   "source": [
    "numeric_features = ['RSI', 'STOCASTIC_K', 'STOCASTIC_D', 'Bollinger', 'MACD', 'MACD_SIGNAL', 'RSI_delta', 'D_delta', 'sto_diff', 'B_delta', 'MACD_delta', 'MA5', 'MA20',\n",
    "                   'MA5_adj', 'MA20_adj']\n",
    "numeric_transformer = StandardScaler() # cf) RobustScaler\n",
    "\n",
    "categorical_features = ['MACD_cat']\n",
    "categorical_transformer = OneHotEncoder(categories='auto') # categories='auto' : just for ignoring warning messages\n",
    "\n",
    "preprocessor = ColumnTransformer(\n",
    "    transformers = [ ('num', numeric_transformer, numeric_features),\n",
    "        ('passthrough', categorical_transformer, categorical_features)])\n",
    "\n",
    "preprocessor_pipe = Pipeline(steps=[('preprocessor', preprocessor)])\n",
    "\n",
    "preprocessor_pipe.fit(train_x)\n",
    "\n",
    "train_x = preprocessor_pipe.transform(train_x)\n",
    "test_x = preprocessor_pipe.transform(test_x)"
   ]
  },
  {
   "cell_type": "code",
   "execution_count": null,
   "id": "0b32ec84",
   "metadata": {
    "id": "0b32ec84"
   },
   "outputs": [],
   "source": [
    "cat = CatBoostClassifier()                                    # 학습 데이터 더 많아야 됨\n",
    "cat.fit(train_x, train_y)\n",
    "accuracy_score(cat.predict(test_x), test_y)"
   ]
  },
  {
   "cell_type": "code",
   "execution_count": null,
   "id": "97adcce8",
   "metadata": {
    "id": "97adcce8",
    "outputId": "6d035d7f-e8eb-4346-9351-93118ec079de"
   },
   "outputs": [
    {
     "data": {
      "text/plain": [
       "0.5810779595633218"
      ]
     },
     "execution_count": 63,
     "metadata": {},
     "output_type": "execute_result"
    }
   ],
   "source": [
    "accuracy_score(cat.predict(train_x), train_y)"
   ]
  },
  {
   "cell_type": "code",
   "execution_count": null,
   "id": "a95d2696",
   "metadata": {
    "id": "a95d2696"
   },
   "outputs": [],
   "source": [
    "pred_train = xgb.predict_proba(test_x)\n",
    "\n",
    "test_x\n",
    "\n",
    "fpr, tpr, _ = roc_curve(y_true=test_y, y_score=pred_train[:,1])\n",
    "roc_auc = auc(fpr, tpr)\n",
    "print('Roc_AUC : ', roc_auc)  \n",
    "\n",
    "plt.figure(figsize=(10, 10))\n",
    "\n",
    "plt.plot(fpr, tpr, color='darkorange', lw=2, label='ROC curve (area = %0.2f)' % roc_auc)\n",
    "plt.plot([0, 1], [0, 1], color='navy', lw=2, linestyle='--')\n",
    "\n",
    "plt.xlim([0.0, 1.0])\n",
    "plt.ylim([0.0, 1.05])\n",
    "plt.xlabel('False Positive Rate')\n",
    "plt.ylabel('True Positive Rate')\n",
    "plt.legend(loc=\"lower right\")\n",
    "plt.title(\"ROC curve\")\n",
    "\n",
    "plt.show()\n",
    "\n",
    "ft_importance_values = xgb.feature_importances_\n",
    "\n",
    "ft_importance_values"
   ]
  },
  {
   "cell_type": "code",
   "execution_count": null,
   "id": "57b7a5ec",
   "metadata": {
    "id": "57b7a5ec",
    "outputId": "f34d24ed-3567-4442-8fd1-d5a589f91177"
   },
   "outputs": [
    {
     "data": {
      "text/plain": [
       "(1458923, 16)"
      ]
     },
     "execution_count": 69,
     "metadata": {},
     "output_type": "execute_result"
    }
   ],
   "source": [
    "train_x.shape"
   ]
  },
  {
   "cell_type": "markdown",
   "id": "ebe47b24",
   "metadata": {
    "id": "ebe47b24"
   },
   "source": [
    "> LSTM을 쓰면;?"
   ]
  },
  {
   "cell_type": "code",
   "execution_count": 33,
   "id": "439aeaf6",
   "metadata": {},
   "outputs": [],
   "source": [
    "df_kospi = fdr.DataReader('069500', '2000', '2022')\n",
    "# all(df_kospi)\n",
    "df_kospi.dropna(inplace = True)\n",
    "df_kospi['Change+'] = list((df_kospi['Change'] > 0)[1 : len(df_kospi)].astype(int)) + [0]\n",
    "df_kospi = df_kospi[:-2]   \n",
    "\n",
    "train_x = df_kospi[['Close', 'Volume']]\n",
    "train_y = df_kospi['Change+']\n",
    "\n",
    "\n",
    "df_kospi = fdr.DataReader('069500', '2021.12.01', '2023')\n",
    "# all(df_kospi)\n",
    "df_kospi.dropna(inplace = True)\n",
    "df_kospi['Change+'] = list((df_kospi['Change'] > 0)[1 : len(df_kospi)].astype(int)) + [0]\n",
    "df_kospi = df_kospi[:-2]            # 일종의 문법\n",
    "\n",
    "\n",
    "test_x = df_kospi[['Close', 'Volume']]\n",
    "test_y = df_kospi['Change+']\n",
    "\n"
   ]
  },
  {
   "cell_type": "code",
   "execution_count": null,
   "id": "f58c75a0",
   "metadata": {},
   "outputs": [],
   "source": []
  },
  {
   "cell_type": "code",
   "execution_count": 34,
   "id": "ec1e3bed",
   "metadata": {},
   "outputs": [],
   "source": [
    "x_train = []\n",
    "y_train = []\n",
    "\n",
    "for i in range(20, len(train_x)):\n",
    "    x_train.append(np.array(train_x[i - 20 : i]))\n",
    "    y_train.append(list(train_y)[i - 1])"
   ]
  },
  {
   "cell_type": "code",
   "execution_count": 35,
   "id": "a1b86361",
   "metadata": {
    "executionInfo": {
     "elapsed": 1,
     "status": "ok",
     "timestamp": 1653532904920,
     "user": {
      "displayName": "최선빈",
      "userId": "10702276653678963302"
     },
     "user_tz": -540
    },
    "id": "a1b86361"
   },
   "outputs": [],
   "source": [
    "x_train, y_train = np.array(x_train), np.array(y_train)"
   ]
  },
  {
   "cell_type": "code",
   "execution_count": 36,
   "id": "2c00dcd8",
   "metadata": {
    "colab": {
     "base_uri": "https://localhost:8080/"
    },
    "executionInfo": {
     "elapsed": 3,
     "status": "ok",
     "timestamp": 1653531222365,
     "user": {
      "displayName": "최선빈",
      "userId": "10702276653678963302"
     },
     "user_tz": -540
    },
    "id": "2c00dcd8",
    "outputId": "f86b51ad-11ea-47a3-af33-b6a0686501f8"
   },
   "outputs": [
    {
     "data": {
      "text/plain": [
       "(4732, 20, 2)"
      ]
     },
     "execution_count": 36,
     "metadata": {},
     "output_type": "execute_result"
    }
   ],
   "source": [
    "x_train.shape"
   ]
  },
  {
   "cell_type": "code",
   "execution_count": 37,
   "id": "4b33be6e",
   "metadata": {
    "colab": {
     "base_uri": "https://localhost:8080/"
    },
    "executionInfo": {
     "elapsed": 4,
     "status": "ok",
     "timestamp": 1653532906961,
     "user": {
      "displayName": "최선빈",
      "userId": "10702276653678963302"
     },
     "user_tz": -540
    },
    "id": "4b33be6e",
    "outputId": "35d63b0f-f4dc-4aa0-a9b8-29fd237c5836"
   },
   "outputs": [
    {
     "name": "stdout",
     "output_type": "stream",
     "text": [
      "(4732, 20, 2)\n",
      "(4732,)\n"
     ]
    }
   ],
   "source": [
    "print(x_train.shape)\n",
    "print(y_train.shape)"
   ]
  },
  {
   "cell_type": "code",
   "execution_count": 38,
   "id": "9b773c50",
   "metadata": {
    "colab": {
     "base_uri": "https://localhost:8080/"
    },
    "executionInfo": {
     "elapsed": 3,
     "status": "ok",
     "timestamp": 1653532906961,
     "user": {
      "displayName": "최선빈",
      "userId": "10702276653678963302"
     },
     "user_tz": -540
    },
    "id": "9b773c50",
    "outputId": "3f1c2509-e1e5-4a90-a25c-82733fba2f69"
   },
   "outputs": [
    {
     "name": "stdout",
     "output_type": "stream",
     "text": [
      "(99, 20, 2)\n",
      "(99,)\n"
     ]
    }
   ],
   "source": [
    "x_test = []\n",
    "y_test = []\n",
    "\n",
    "for i in range(20, len(test_x)):\n",
    "    x_test.append(test_x[i-20:i])\n",
    "    y_test.append(test_y[i - 1])\n",
    "x_test, y_test = np.array(x_test), np.array(y_test)\n",
    "\n",
    "print(x_test.shape)\n",
    "print(y_test.shape)"
   ]
  },
  {
   "cell_type": "code",
   "execution_count": 62,
   "id": "b03a6a41",
   "metadata": {},
   "outputs": [
    {
     "ename": "IndexError",
     "evalue": "arrays used as indices must be of integer (or boolean) type",
     "output_type": "error",
     "traceback": [
      "\u001b[1;31m---------------------------------------------------------------------------\u001b[0m",
      "\u001b[1;31mIndexError\u001b[0m                                Traceback (most recent call last)",
      "\u001b[1;32m<ipython-input-62-0f383673f4ef>\u001b[0m in \u001b[0;36m<module>\u001b[1;34m\u001b[0m\n\u001b[0;32m      1\u001b[0m \u001b[0mnum\u001b[0m \u001b[1;33m=\u001b[0m \u001b[0mnp\u001b[0m\u001b[1;33m.\u001b[0m\u001b[0munique\u001b[0m\u001b[1;33m(\u001b[0m\u001b[0my_train\u001b[0m\u001b[1;33m,\u001b[0m \u001b[0maxis\u001b[0m\u001b[1;33m=\u001b[0m\u001b[1;36m0\u001b[0m\u001b[1;33m)\u001b[0m\u001b[1;33m\u001b[0m\u001b[1;33m\u001b[0m\u001b[0m\n\u001b[0;32m      2\u001b[0m \u001b[0mnum\u001b[0m \u001b[1;33m=\u001b[0m \u001b[0mnum\u001b[0m\u001b[1;33m.\u001b[0m\u001b[0mshape\u001b[0m\u001b[1;33m[\u001b[0m\u001b[1;36m0\u001b[0m\u001b[1;33m]\u001b[0m\u001b[1;33m\u001b[0m\u001b[1;33m\u001b[0m\u001b[0m\n\u001b[1;32m----> 3\u001b[1;33m \u001b[0my_train\u001b[0m \u001b[1;33m=\u001b[0m \u001b[0mnp\u001b[0m\u001b[1;33m.\u001b[0m\u001b[0meye\u001b[0m\u001b[1;33m(\u001b[0m\u001b[0mnum\u001b[0m\u001b[1;33m)\u001b[0m\u001b[1;33m[\u001b[0m\u001b[0my_train\u001b[0m\u001b[1;33m]\u001b[0m\u001b[1;33m\u001b[0m\u001b[1;33m\u001b[0m\u001b[0m\n\u001b[0m\u001b[0;32m      4\u001b[0m \u001b[1;33m\u001b[0m\u001b[0m\n\u001b[0;32m      5\u001b[0m \u001b[0mnum\u001b[0m \u001b[1;33m=\u001b[0m \u001b[0mnp\u001b[0m\u001b[1;33m.\u001b[0m\u001b[0munique\u001b[0m\u001b[1;33m(\u001b[0m\u001b[0my_test\u001b[0m\u001b[1;33m,\u001b[0m \u001b[0maxis\u001b[0m\u001b[1;33m=\u001b[0m\u001b[1;36m0\u001b[0m\u001b[1;33m)\u001b[0m\u001b[1;33m\u001b[0m\u001b[1;33m\u001b[0m\u001b[0m\n",
      "\u001b[1;31mIndexError\u001b[0m: arrays used as indices must be of integer (or boolean) type"
     ]
    }
   ],
   "source": [
    "num = np.unique(y_train, axis=0)\n",
    "num = num.shape[0]\n",
    "y_train = np.eye(num)[y_train]\n",
    "\n",
    "num = np.unique(y_test, axis=0)\n",
    "num = num.shape[0]\n",
    "y_test = np.eye(num)[y_test]"
   ]
  },
  {
   "cell_type": "code",
   "execution_count": 50,
   "id": "640f35d9",
   "metadata": {
    "executionInfo": {
     "elapsed": 293,
     "status": "ok",
     "timestamp": 1653529637978,
     "user": {
      "displayName": "최선빈",
      "userId": "10702276653678963302"
     },
     "user_tz": -540
    },
    "id": "640f35d9"
   },
   "outputs": [],
   "source": [
    "# numeric_features = ['RSI', 'STOCASTIC_K', 'STOCASTIC_D', 'Bollinger', 'MACD', 'MACD_SIGNAL', 'RSI_delta', 'D_delta', 'sto_diff', 'B_delta', 'MACD_delta', 'MA5', 'MA20',\n",
    "#                    'MA5_adj', 'MA20_adj']\n",
    "# numeric_transformer = StandardScaler() # cf) RobustScaler\n",
    "\n",
    "# categorical_features = ['MACD_cat']\n",
    "# categorical_transformer = OneHotEncoder(categories='auto') # categories='auto' : just for ignoring warning messages\n",
    "\n",
    "# preprocessor = ColumnTransformer(\n",
    "#     transformers = [ ('num', numeric_transformer, numeric_features),\n",
    "#         ('passthrough', categorical_transformer, categorical_features)])\n",
    "\n",
    "# preprocessor_pipe = Pipeline(steps=[('preprocessor', preprocessor)])\n",
    "\n",
    "# preprocessor_pipe.fit(train_x)\n",
    "\n",
    "# train_x = preprocessor_pipe.transform(train_x)\n",
    "# test_x = preprocessor_pipe.transform(test_x)"
   ]
  },
  {
   "cell_type": "code",
   "execution_count": 7,
   "id": "6e8c3e4d",
   "metadata": {
    "executionInfo": {
     "elapsed": 1892,
     "status": "ok",
     "timestamp": 1653532915475,
     "user": {
      "displayName": "최선빈",
      "userId": "10702276653678963302"
     },
     "user_tz": -540
    },
    "id": "6e8c3e4d"
   },
   "outputs": [],
   "source": [
    "from tensorflow.keras import Sequential\n",
    "from tensorflow.keras.layers import Dense, LSTM\n",
    "import tensorflow as tf"
   ]
  },
  {
   "cell_type": "code",
   "execution_count": 39,
   "id": "537bfad8",
   "metadata": {
    "executionInfo": {
     "elapsed": 1230,
     "status": "ok",
     "timestamp": 1653529688203,
     "user": {
      "displayName": "최선빈",
      "userId": "10702276653678963302"
     },
     "user_tz": -540
    },
    "id": "537bfad8"
   },
   "outputs": [],
   "source": [
    "model = Sequential()\n",
    "model.add(LSTM(50,return_sequences=True, input_shape=(x_train.shape[1],x_train.shape[2])))\n",
    "model.add(LSTM(50, return_sequences=False))\n",
    "model.add(Dense(25))\n",
    "model.add(Dense(1))\n",
    "\n",
    "model.compile(optimizer='adam', loss='binary_crossentropy',metrics=['accuracy'])"
   ]
  },
  {
   "cell_type": "code",
   "execution_count": 40,
   "id": "8bd2419f",
   "metadata": {
    "colab": {
     "base_uri": "https://localhost:8080/"
    },
    "executionInfo": {
     "elapsed": 32167,
     "status": "ok",
     "timestamp": 1653529730038,
     "user": {
      "displayName": "최선빈",
      "userId": "10702276653678963302"
     },
     "user_tz": -540
    },
    "id": "8bd2419f",
    "outputId": "ecd83f39-1438-4c99-d777-7a1728b650ee"
   },
   "outputs": [
    {
     "name": "stdout",
     "output_type": "stream",
     "text": [
      "Epoch 1/10\n",
      "119/119 [==============================] - 9s 15ms/step - loss: 0.7102 - accuracy: 0.5068\n",
      "Epoch 2/10\n",
      "119/119 [==============================] - 2s 13ms/step - loss: 0.6959 - accuracy: 0.5080\n",
      "Epoch 3/10\n",
      "119/119 [==============================] - 2s 13ms/step - loss: 0.6975 - accuracy: 0.5089\n",
      "Epoch 4/10\n",
      "119/119 [==============================] - 1s 12ms/step - loss: 0.6948 - accuracy: 0.5237\n",
      "Epoch 5/10\n",
      "119/119 [==============================] - 1s 12ms/step - loss: 0.6959 - accuracy: 0.5131\n",
      "Epoch 6/10\n",
      "119/119 [==============================] - 1s 12ms/step - loss: 0.6983 - accuracy: 0.5152\n",
      "Epoch 7/10\n",
      "119/119 [==============================] - 1s 12ms/step - loss: 0.6934 - accuracy: 0.5152\n",
      "Epoch 8/10\n",
      "119/119 [==============================] - 1s 12ms/step - loss: 0.6945 - accuracy: 0.5101\n",
      "Epoch 9/10\n",
      "119/119 [==============================] - 1s 12ms/step - loss: 0.6934 - accuracy: 0.5173\n",
      "Epoch 10/10\n",
      "119/119 [==============================] - 1s 12ms/step - loss: 0.6949 - accuracy: 0.5106\n"
     ]
    },
    {
     "data": {
      "text/plain": [
       "<tensorflow.python.keras.callbacks.History at 0x23e6e304d90>"
      ]
     },
     "execution_count": 40,
     "metadata": {},
     "output_type": "execute_result"
    }
   ],
   "source": [
    "model.fit(x_train, y_train, batch_size=40, epochs=10)"
   ]
  },
  {
   "cell_type": "markdown",
   "id": "7777562d",
   "metadata": {
    "id": "7777562d"
   },
   "source": [
    "> 튜닝?"
   ]
  },
  {
   "cell_type": "code",
   "execution_count": 28,
   "id": "_1JsB-jtDgDk",
   "metadata": {
    "colab": {
     "base_uri": "https://localhost:8080/"
    },
    "executionInfo": {
     "elapsed": 4263,
     "status": "ok",
     "timestamp": 1653532942579,
     "user": {
      "displayName": "최선빈",
      "userId": "10702276653678963302"
     },
     "user_tz": -540
    },
    "id": "_1JsB-jtDgDk",
    "outputId": "df97c743-bcf8-40b2-b318-37d6e9ab0576"
   },
   "outputs": [
    {
     "name": "stdout",
     "output_type": "stream",
     "text": [
      "Looking in indexes: https://pypi.org/simple, https://us-python.pkg.dev/colab-wheels/public/simple/\n",
      "Collecting keras-tuner\n",
      "  Downloading keras_tuner-1.1.2-py3-none-any.whl (133 kB)\n",
      "\u001b[K     |████████████████████████████████| 133 kB 8.4 MB/s \n",
      "\u001b[?25hRequirement already satisfied: requests in /usr/local/lib/python3.7/dist-packages (from keras-tuner) (2.23.0)\n",
      "Requirement already satisfied: ipython in /usr/local/lib/python3.7/dist-packages (from keras-tuner) (5.5.0)\n",
      "Requirement already satisfied: numpy in /usr/local/lib/python3.7/dist-packages (from keras-tuner) (1.21.6)\n",
      "Requirement already satisfied: tensorboard in /usr/local/lib/python3.7/dist-packages (from keras-tuner) (2.8.0)\n",
      "Collecting kt-legacy\n",
      "  Downloading kt_legacy-1.0.4-py3-none-any.whl (9.6 kB)\n",
      "Requirement already satisfied: packaging in /usr/local/lib/python3.7/dist-packages (from keras-tuner) (21.3)\n",
      "Requirement already satisfied: pickleshare in /usr/local/lib/python3.7/dist-packages (from ipython->keras-tuner) (0.7.5)\n",
      "Requirement already satisfied: simplegeneric>0.8 in /usr/local/lib/python3.7/dist-packages (from ipython->keras-tuner) (0.8.1)\n",
      "Requirement already satisfied: traitlets>=4.2 in /usr/local/lib/python3.7/dist-packages (from ipython->keras-tuner) (5.1.1)\n",
      "Requirement already satisfied: setuptools>=18.5 in /usr/local/lib/python3.7/dist-packages (from ipython->keras-tuner) (57.4.0)\n",
      "Requirement already satisfied: pygments in /usr/local/lib/python3.7/dist-packages (from ipython->keras-tuner) (2.6.1)\n",
      "Requirement already satisfied: decorator in /usr/local/lib/python3.7/dist-packages (from ipython->keras-tuner) (4.4.2)\n",
      "Requirement already satisfied: pexpect in /usr/local/lib/python3.7/dist-packages (from ipython->keras-tuner) (4.8.0)\n",
      "Requirement already satisfied: prompt-toolkit<2.0.0,>=1.0.4 in /usr/local/lib/python3.7/dist-packages (from ipython->keras-tuner) (1.0.18)\n",
      "Requirement already satisfied: wcwidth in /usr/local/lib/python3.7/dist-packages (from prompt-toolkit<2.0.0,>=1.0.4->ipython->keras-tuner) (0.2.5)\n",
      "Requirement already satisfied: six>=1.9.0 in /usr/local/lib/python3.7/dist-packages (from prompt-toolkit<2.0.0,>=1.0.4->ipython->keras-tuner) (1.15.0)\n",
      "Requirement already satisfied: pyparsing!=3.0.5,>=2.0.2 in /usr/local/lib/python3.7/dist-packages (from packaging->keras-tuner) (3.0.9)\n",
      "Requirement already satisfied: ptyprocess>=0.5 in /usr/local/lib/python3.7/dist-packages (from pexpect->ipython->keras-tuner) (0.7.0)\n",
      "Requirement already satisfied: idna<3,>=2.5 in /usr/local/lib/python3.7/dist-packages (from requests->keras-tuner) (2.10)\n",
      "Requirement already satisfied: urllib3!=1.25.0,!=1.25.1,<1.26,>=1.21.1 in /usr/local/lib/python3.7/dist-packages (from requests->keras-tuner) (1.24.3)\n",
      "Requirement already satisfied: chardet<4,>=3.0.2 in /usr/local/lib/python3.7/dist-packages (from requests->keras-tuner) (3.0.4)\n",
      "Requirement already satisfied: certifi>=2017.4.17 in /usr/local/lib/python3.7/dist-packages (from requests->keras-tuner) (2022.5.18.1)\n",
      "Requirement already satisfied: google-auth<3,>=1.6.3 in /usr/local/lib/python3.7/dist-packages (from tensorboard->keras-tuner) (1.35.0)\n",
      "Requirement already satisfied: protobuf>=3.6.0 in /usr/local/lib/python3.7/dist-packages (from tensorboard->keras-tuner) (3.17.3)\n",
      "Requirement already satisfied: tensorboard-plugin-wit>=1.6.0 in /usr/local/lib/python3.7/dist-packages (from tensorboard->keras-tuner) (1.8.1)\n",
      "Requirement already satisfied: absl-py>=0.4 in /usr/local/lib/python3.7/dist-packages (from tensorboard->keras-tuner) (1.0.0)\n",
      "Requirement already satisfied: markdown>=2.6.8 in /usr/local/lib/python3.7/dist-packages (from tensorboard->keras-tuner) (3.3.7)\n",
      "Requirement already satisfied: tensorboard-data-server<0.7.0,>=0.6.0 in /usr/local/lib/python3.7/dist-packages (from tensorboard->keras-tuner) (0.6.1)\n",
      "Requirement already satisfied: wheel>=0.26 in /usr/local/lib/python3.7/dist-packages (from tensorboard->keras-tuner) (0.37.1)\n",
      "Requirement already satisfied: grpcio>=1.24.3 in /usr/local/lib/python3.7/dist-packages (from tensorboard->keras-tuner) (1.46.1)\n",
      "Requirement already satisfied: werkzeug>=0.11.15 in /usr/local/lib/python3.7/dist-packages (from tensorboard->keras-tuner) (1.0.1)\n",
      "Requirement already satisfied: google-auth-oauthlib<0.5,>=0.4.1 in /usr/local/lib/python3.7/dist-packages (from tensorboard->keras-tuner) (0.4.6)\n",
      "Requirement already satisfied: cachetools<5.0,>=2.0.0 in /usr/local/lib/python3.7/dist-packages (from google-auth<3,>=1.6.3->tensorboard->keras-tuner) (4.2.4)\n",
      "Requirement already satisfied: pyasn1-modules>=0.2.1 in /usr/local/lib/python3.7/dist-packages (from google-auth<3,>=1.6.3->tensorboard->keras-tuner) (0.2.8)\n",
      "Requirement already satisfied: rsa<5,>=3.1.4 in /usr/local/lib/python3.7/dist-packages (from google-auth<3,>=1.6.3->tensorboard->keras-tuner) (4.8)\n",
      "Requirement already satisfied: requests-oauthlib>=0.7.0 in /usr/local/lib/python3.7/dist-packages (from google-auth-oauthlib<0.5,>=0.4.1->tensorboard->keras-tuner) (1.3.1)\n",
      "Requirement already satisfied: importlib-metadata>=4.4 in /usr/local/lib/python3.7/dist-packages (from markdown>=2.6.8->tensorboard->keras-tuner) (4.11.3)\n",
      "Requirement already satisfied: typing-extensions>=3.6.4 in /usr/local/lib/python3.7/dist-packages (from importlib-metadata>=4.4->markdown>=2.6.8->tensorboard->keras-tuner) (4.2.0)\n",
      "Requirement already satisfied: zipp>=0.5 in /usr/local/lib/python3.7/dist-packages (from importlib-metadata>=4.4->markdown>=2.6.8->tensorboard->keras-tuner) (3.8.0)\n",
      "Requirement already satisfied: pyasn1<0.5.0,>=0.4.6 in /usr/local/lib/python3.7/dist-packages (from pyasn1-modules>=0.2.1->google-auth<3,>=1.6.3->tensorboard->keras-tuner) (0.4.8)\n",
      "Requirement already satisfied: oauthlib>=3.0.0 in /usr/local/lib/python3.7/dist-packages (from requests-oauthlib>=0.7.0->google-auth-oauthlib<0.5,>=0.4.1->tensorboard->keras-tuner) (3.2.0)\n",
      "Installing collected packages: kt-legacy, keras-tuner\n",
      "Successfully installed keras-tuner-1.1.2 kt-legacy-1.0.4\n"
     ]
    }
   ],
   "source": [
    "pip install keras-tuner"
   ]
  },
  {
   "cell_type": "code",
   "execution_count": 41,
   "id": "8dd2460c",
   "metadata": {
    "executionInfo": {
     "elapsed": 397,
     "status": "ok",
     "timestamp": 1653532944601,
     "user": {
      "displayName": "최선빈",
      "userId": "10702276653678963302"
     },
     "user_tz": -540
    },
    "id": "8dd2460c"
   },
   "outputs": [],
   "source": [
    "import tensorflow as tf\n",
    "tf.compat.v1.logging.set_verbosity(tf.compat.v1.logging.ERROR)\n",
    "\n",
    "from tensorflow import keras \n",
    "from tensorflow.keras import layers\n",
    "\n",
    "import keras_tuner as kt\n",
    "import numpy as np\n",
    "import IPython\n",
    "from tensorflow.keras.layers import Dropout\n",
    "from tensorflow.keras.layers import Flatten"
   ]
  },
  {
   "cell_type": "code",
   "execution_count": 64,
   "id": "fbbee147",
   "metadata": {
    "executionInfo": {
     "elapsed": 279,
     "status": "ok",
     "timestamp": 1653534291950,
     "user": {
      "displayName": "최선빈",
      "userId": "10702276653678963302"
     },
     "user_tz": -540
    },
    "id": "fbbee147"
   },
   "outputs": [],
   "source": [
    "def model_builder(hp):\n",
    "    \n",
    "\n",
    "    model = keras.Sequential()\n",
    "    model.add(LSTM(hp.Int('input_unit',min_value=32,max_value=512,step=32),return_sequences=True, input_shape=(x_train.shape[1],x_train.shape[2])))\n",
    "    for i in range(hp.Int('n_layers', 1, 4)):\n",
    "        model.add(LSTM(hp.Int(f'lstm_{i}_units',min_value=32,max_value=512,step=32),return_sequences=True))\n",
    "    model.add(Dropout(hp.Float('Dropout_rate',min_value=0,max_value=0.5,step=0.1)))\n",
    "\n",
    "    # model.add(Dense(25, activation=hp.Choice('dense_activation',values=['relu', 'sigmoid'],default='relu')))\n",
    "\n",
    "    model.add(Flatten())\n",
    "    model.add(Dense(2, activation=hp.Choice('dense_activation',values=['softmax'],default='softmax')))\n",
    "\n",
    "    \n",
    "\n",
    "\n",
    "  # Tune the learning rate for the optimizer \n",
    "  # Choose an optimal value from 0.01, 0.001, or 0.0001\n",
    "\n",
    "    model.compile(optimizer = keras.optimizers.Adam(),\n",
    "                loss = 'binary_crossentropy', \n",
    "                metrics = ['accuracy'])\n",
    "\n",
    "    return model"
   ]
  },
  {
   "cell_type": "code",
   "execution_count": 65,
   "id": "f6bd5f8b",
   "metadata": {
    "colab": {
     "base_uri": "https://localhost:8080/"
    },
    "executionInfo": {
     "elapsed": 659,
     "status": "ok",
     "timestamp": 1653534294977,
     "user": {
      "displayName": "최선빈",
      "userId": "10702276653678963302"
     },
     "user_tz": -540
    },
    "id": "f6bd5f8b",
    "outputId": "666b4df3-73a5-461e-f883-5a44fd25d6b7"
   },
   "outputs": [
    {
     "name": "stdout",
     "output_type": "stream",
     "text": [
      "Search space summary\n",
      "Default search space size: 5\n",
      "input_unit (Int)\n",
      "{'default': None, 'conditions': [], 'min_value': 32, 'max_value': 512, 'step': 32, 'sampling': None}\n",
      "n_layers (Int)\n",
      "{'default': None, 'conditions': [], 'min_value': 1, 'max_value': 4, 'step': 1, 'sampling': None}\n",
      "lstm_0_units (Int)\n",
      "{'default': None, 'conditions': [], 'min_value': 32, 'max_value': 512, 'step': 32, 'sampling': None}\n",
      "Dropout_rate (Float)\n",
      "{'default': 0.0, 'conditions': [], 'min_value': 0.0, 'max_value': 0.5, 'step': 0.1, 'sampling': None}\n",
      "dense_activation (Choice)\n",
      "{'default': 'softmax', 'conditions': [], 'values': ['softmax'], 'ordered': False}\n"
     ]
    }
   ],
   "source": [
    "tuner = kt.BayesianOptimization(model_builder,\n",
    "                                objective = 'val_loss', # Hyper-params tuning을 위한 목적함수 설정 (metric to minimize or maximize)\n",
    "                                max_trials = 50, # 서로 다른 Hyper-params 조합으로 시도할 총 Trial 횟수 설정\n",
    "                                directory = 'models', # Path to the working directory\n",
    "                                project_name = 'mymodel2'\n",
    "                                ) # Name to use as directory name for files saved by this Tuner\n",
    "tuner.search_space_summary()"
   ]
  },
  {
   "cell_type": "code",
   "execution_count": 67,
   "id": "9b1fd3ba",
   "metadata": {
    "colab": {
     "base_uri": "https://localhost:8080/",
     "height": 1000
    },
    "executionInfo": {
     "elapsed": 1280282,
     "status": "error",
     "timestamp": 1653534251905,
     "user": {
      "displayName": "최선빈",
      "userId": "10702276653678963302"
     },
     "user_tz": -540
    },
    "id": "9b1fd3ba",
    "outputId": "eff8ddfc-ff73-4f9c-ca12-868d8478d3dc"
   },
   "outputs": [
    {
     "name": "stdout",
     "output_type": "stream",
     "text": [
      "\n",
      "Search: Running Trial #1\n",
      "\n",
      "Value             |Best Value So Far |Hyperparameter\n",
      "96                |?                 |input_unit\n",
      "3                 |?                 |n_layers\n",
      "416               |?                 |lstm_0_units\n",
      "0.1               |?                 |Dropout_rate\n",
      "softmax           |?                 |dense_activation\n",
      "\n",
      "Epoch 1/20\n",
      "148/148 [==============================] - 12s 38ms/step - loss: 0.6933 - accuracy: 0.5163 - val_loss: 0.6982 - val_accuracy: 0.4444\n",
      "Epoch 2/20\n",
      "148/148 [==============================] - 4s 24ms/step - loss: 0.6923 - accuracy: 0.5283 - val_loss: 0.7004 - val_accuracy: 0.4444\n",
      "Epoch 3/20\n",
      "148/148 [==============================] - 3s 23ms/step - loss: 0.6915 - accuracy: 0.5315 - val_loss: 0.7064 - val_accuracy: 0.4444\n",
      "Epoch 4/20\n",
      "148/148 [==============================] - 3s 23ms/step - loss: 0.6921 - accuracy: 0.5285 - val_loss: 0.6999 - val_accuracy: 0.4444\n",
      "Epoch 5/20\n",
      "148/148 [==============================] - 3s 23ms/step - loss: 0.6917 - accuracy: 0.5313 - val_loss: 0.7025 - val_accuracy: 0.4444\n",
      "Epoch 6/20\n",
      "148/148 [==============================] - 3s 23ms/step - loss: 0.6915 - accuracy: 0.5313 - val_loss: 0.7055 - val_accuracy: 0.4444\n",
      "Epoch 7/20\n",
      "148/148 [==============================] - 3s 23ms/step - loss: 0.6917 - accuracy: 0.5313 - val_loss: 0.7028 - val_accuracy: 0.4444\n",
      "Epoch 8/20\n",
      "148/148 [==============================] - 3s 23ms/step - loss: 0.6916 - accuracy: 0.5313 - val_loss: 0.6992 - val_accuracy: 0.4444\n",
      "Epoch 9/20\n",
      "148/148 [==============================] - 3s 23ms/step - loss: 0.6916 - accuracy: 0.5313 - val_loss: 0.6997 - val_accuracy: 0.4444\n",
      "Epoch 10/20\n",
      "100/148 [===================>..........] - ETA: 1s - loss: 0.6909 - accuracy: 0.5356 ETA: 1s - loss: 0.6913 - accura"
     ]
    },
    {
     "ename": "KeyboardInterrupt",
     "evalue": "",
     "output_type": "error",
     "traceback": [
      "\u001b[1;31m---------------------------------------------------------------------------\u001b[0m",
      "\u001b[1;31mKeyboardInterrupt\u001b[0m                         Traceback (most recent call last)",
      "\u001b[1;32m<ipython-input-67-6b54713c66d0>\u001b[0m in \u001b[0;36m<module>\u001b[1;34m\u001b[0m\n\u001b[1;32m----> 1\u001b[1;33m tuner.search(\n\u001b[0m\u001b[0;32m      2\u001b[0m         \u001b[0mx\u001b[0m\u001b[1;33m=\u001b[0m\u001b[0mx_train\u001b[0m\u001b[1;33m,\u001b[0m\u001b[1;33m\u001b[0m\u001b[1;33m\u001b[0m\u001b[0m\n\u001b[0;32m      3\u001b[0m         \u001b[0my\u001b[0m\u001b[1;33m=\u001b[0m\u001b[0my_train\u001b[0m\u001b[1;33m,\u001b[0m\u001b[1;33m\u001b[0m\u001b[1;33m\u001b[0m\u001b[0m\n\u001b[0;32m      4\u001b[0m         \u001b[0mepochs\u001b[0m\u001b[1;33m=\u001b[0m\u001b[1;36m20\u001b[0m\u001b[1;33m,\u001b[0m\u001b[1;33m\u001b[0m\u001b[1;33m\u001b[0m\u001b[0m\n\u001b[0;32m      5\u001b[0m         \u001b[0mbatch_size\u001b[0m\u001b[1;33m=\u001b[0m\u001b[1;36m32\u001b[0m\u001b[1;33m,\u001b[0m\u001b[1;33m\u001b[0m\u001b[1;33m\u001b[0m\u001b[0m\n",
      "\u001b[1;32mC:\\ProgramData\\Anaconda3\\lib\\site-packages\\keras_tuner\\engine\\base_tuner.py\u001b[0m in \u001b[0;36msearch\u001b[1;34m(self, *fit_args, **fit_kwargs)\u001b[0m\n\u001b[0;32m    177\u001b[0m \u001b[1;33m\u001b[0m\u001b[0m\n\u001b[0;32m    178\u001b[0m             \u001b[0mself\u001b[0m\u001b[1;33m.\u001b[0m\u001b[0mon_trial_begin\u001b[0m\u001b[1;33m(\u001b[0m\u001b[0mtrial\u001b[0m\u001b[1;33m)\u001b[0m\u001b[1;33m\u001b[0m\u001b[1;33m\u001b[0m\u001b[0m\n\u001b[1;32m--> 179\u001b[1;33m             \u001b[0mresults\u001b[0m \u001b[1;33m=\u001b[0m \u001b[0mself\u001b[0m\u001b[1;33m.\u001b[0m\u001b[0mrun_trial\u001b[0m\u001b[1;33m(\u001b[0m\u001b[0mtrial\u001b[0m\u001b[1;33m,\u001b[0m \u001b[1;33m*\u001b[0m\u001b[0mfit_args\u001b[0m\u001b[1;33m,\u001b[0m \u001b[1;33m**\u001b[0m\u001b[0mfit_kwargs\u001b[0m\u001b[1;33m)\u001b[0m\u001b[1;33m\u001b[0m\u001b[1;33m\u001b[0m\u001b[0m\n\u001b[0m\u001b[0;32m    180\u001b[0m             \u001b[1;31m# `results` is None indicates user updated oracle in `run_trial()`.\u001b[0m\u001b[1;33m\u001b[0m\u001b[1;33m\u001b[0m\u001b[1;33m\u001b[0m\u001b[0m\n\u001b[0;32m    181\u001b[0m             \u001b[1;32mif\u001b[0m \u001b[0mresults\u001b[0m \u001b[1;32mis\u001b[0m \u001b[1;32mNone\u001b[0m\u001b[1;33m:\u001b[0m\u001b[1;33m\u001b[0m\u001b[1;33m\u001b[0m\u001b[0m\n",
      "\u001b[1;32mC:\\ProgramData\\Anaconda3\\lib\\site-packages\\keras_tuner\\engine\\tuner.py\u001b[0m in \u001b[0;36mrun_trial\u001b[1;34m(self, trial, *args, **kwargs)\u001b[0m\n\u001b[0;32m    292\u001b[0m             \u001b[0mcallbacks\u001b[0m\u001b[1;33m.\u001b[0m\u001b[0mappend\u001b[0m\u001b[1;33m(\u001b[0m\u001b[0mmodel_checkpoint\u001b[0m\u001b[1;33m)\u001b[0m\u001b[1;33m\u001b[0m\u001b[1;33m\u001b[0m\u001b[0m\n\u001b[0;32m    293\u001b[0m             \u001b[0mcopied_kwargs\u001b[0m\u001b[1;33m[\u001b[0m\u001b[1;34m\"callbacks\"\u001b[0m\u001b[1;33m]\u001b[0m \u001b[1;33m=\u001b[0m \u001b[0mcallbacks\u001b[0m\u001b[1;33m\u001b[0m\u001b[1;33m\u001b[0m\u001b[0m\n\u001b[1;32m--> 294\u001b[1;33m             \u001b[0mobj_value\u001b[0m \u001b[1;33m=\u001b[0m \u001b[0mself\u001b[0m\u001b[1;33m.\u001b[0m\u001b[0m_build_and_fit_model\u001b[0m\u001b[1;33m(\u001b[0m\u001b[0mtrial\u001b[0m\u001b[1;33m,\u001b[0m \u001b[1;33m*\u001b[0m\u001b[0margs\u001b[0m\u001b[1;33m,\u001b[0m \u001b[1;33m**\u001b[0m\u001b[0mcopied_kwargs\u001b[0m\u001b[1;33m)\u001b[0m\u001b[1;33m\u001b[0m\u001b[1;33m\u001b[0m\u001b[0m\n\u001b[0m\u001b[0;32m    295\u001b[0m \u001b[1;33m\u001b[0m\u001b[0m\n\u001b[0;32m    296\u001b[0m             \u001b[0mhistories\u001b[0m\u001b[1;33m.\u001b[0m\u001b[0mappend\u001b[0m\u001b[1;33m(\u001b[0m\u001b[0mobj_value\u001b[0m\u001b[1;33m)\u001b[0m\u001b[1;33m\u001b[0m\u001b[1;33m\u001b[0m\u001b[0m\n",
      "\u001b[1;32mC:\\ProgramData\\Anaconda3\\lib\\site-packages\\keras_tuner\\engine\\tuner.py\u001b[0m in \u001b[0;36m_build_and_fit_model\u001b[1;34m(self, trial, *args, **kwargs)\u001b[0m\n\u001b[0;32m    220\u001b[0m         \u001b[0mhp\u001b[0m \u001b[1;33m=\u001b[0m \u001b[0mtrial\u001b[0m\u001b[1;33m.\u001b[0m\u001b[0mhyperparameters\u001b[0m\u001b[1;33m\u001b[0m\u001b[1;33m\u001b[0m\u001b[0m\n\u001b[0;32m    221\u001b[0m         \u001b[0mmodel\u001b[0m \u001b[1;33m=\u001b[0m \u001b[0mself\u001b[0m\u001b[1;33m.\u001b[0m\u001b[0m_try_build\u001b[0m\u001b[1;33m(\u001b[0m\u001b[0mhp\u001b[0m\u001b[1;33m)\u001b[0m\u001b[1;33m\u001b[0m\u001b[1;33m\u001b[0m\u001b[0m\n\u001b[1;32m--> 222\u001b[1;33m         \u001b[0mresults\u001b[0m \u001b[1;33m=\u001b[0m \u001b[0mself\u001b[0m\u001b[1;33m.\u001b[0m\u001b[0mhypermodel\u001b[0m\u001b[1;33m.\u001b[0m\u001b[0mfit\u001b[0m\u001b[1;33m(\u001b[0m\u001b[0mhp\u001b[0m\u001b[1;33m,\u001b[0m \u001b[0mmodel\u001b[0m\u001b[1;33m,\u001b[0m \u001b[1;33m*\u001b[0m\u001b[0margs\u001b[0m\u001b[1;33m,\u001b[0m \u001b[1;33m**\u001b[0m\u001b[0mkwargs\u001b[0m\u001b[1;33m)\u001b[0m\u001b[1;33m\u001b[0m\u001b[1;33m\u001b[0m\u001b[0m\n\u001b[0m\u001b[0;32m    223\u001b[0m         return tuner_utils.convert_to_metrics_dict(\n\u001b[0;32m    224\u001b[0m             \u001b[0mresults\u001b[0m\u001b[1;33m,\u001b[0m \u001b[0mself\u001b[0m\u001b[1;33m.\u001b[0m\u001b[0moracle\u001b[0m\u001b[1;33m.\u001b[0m\u001b[0mobjective\u001b[0m\u001b[1;33m,\u001b[0m \u001b[1;34m\"HyperModel.fit()\"\u001b[0m\u001b[1;33m\u001b[0m\u001b[1;33m\u001b[0m\u001b[0m\n",
      "\u001b[1;32mC:\\ProgramData\\Anaconda3\\lib\\site-packages\\keras_tuner\\engine\\hypermodel.py\u001b[0m in \u001b[0;36mfit\u001b[1;34m(self, hp, model, *args, **kwargs)\u001b[0m\n\u001b[0;32m    135\u001b[0m             \u001b[0mIf\u001b[0m \u001b[1;32mreturn\u001b[0m \u001b[0ma\u001b[0m \u001b[0mfloat\u001b[0m\u001b[1;33m,\u001b[0m \u001b[0mit\u001b[0m \u001b[0mshould\u001b[0m \u001b[0mbe\u001b[0m \u001b[0mthe\u001b[0m\u001b[0;31m \u001b[0m\u001b[0;31m`\u001b[0m\u001b[0mobjective\u001b[0m\u001b[0;31m`\u001b[0m \u001b[0mvalue\u001b[0m\u001b[1;33m.\u001b[0m\u001b[1;33m\u001b[0m\u001b[1;33m\u001b[0m\u001b[0m\n\u001b[0;32m    136\u001b[0m         \"\"\"\n\u001b[1;32m--> 137\u001b[1;33m         \u001b[1;32mreturn\u001b[0m \u001b[0mmodel\u001b[0m\u001b[1;33m.\u001b[0m\u001b[0mfit\u001b[0m\u001b[1;33m(\u001b[0m\u001b[1;33m*\u001b[0m\u001b[0margs\u001b[0m\u001b[1;33m,\u001b[0m \u001b[1;33m**\u001b[0m\u001b[0mkwargs\u001b[0m\u001b[1;33m)\u001b[0m\u001b[1;33m\u001b[0m\u001b[1;33m\u001b[0m\u001b[0m\n\u001b[0m\u001b[0;32m    138\u001b[0m \u001b[1;33m\u001b[0m\u001b[0m\n\u001b[0;32m    139\u001b[0m \u001b[1;33m\u001b[0m\u001b[0m\n",
      "\u001b[1;32mC:\\ProgramData\\Anaconda3\\lib\\site-packages\\tensorflow\\python\\keras\\engine\\training.py\u001b[0m in \u001b[0;36mfit\u001b[1;34m(self, x, y, batch_size, epochs, verbose, callbacks, validation_split, validation_data, shuffle, class_weight, sample_weight, initial_epoch, steps_per_epoch, validation_steps, validation_batch_size, validation_freq, max_queue_size, workers, use_multiprocessing)\u001b[0m\n\u001b[0;32m   1186\u001b[0m               \u001b[0mlogs\u001b[0m \u001b[1;33m=\u001b[0m \u001b[0mtmp_logs\u001b[0m  \u001b[1;31m# No error, now safe to assign to logs.\u001b[0m\u001b[1;33m\u001b[0m\u001b[1;33m\u001b[0m\u001b[0m\n\u001b[0;32m   1187\u001b[0m               \u001b[0mend_step\u001b[0m \u001b[1;33m=\u001b[0m \u001b[0mstep\u001b[0m \u001b[1;33m+\u001b[0m \u001b[0mdata_handler\u001b[0m\u001b[1;33m.\u001b[0m\u001b[0mstep_increment\u001b[0m\u001b[1;33m\u001b[0m\u001b[1;33m\u001b[0m\u001b[0m\n\u001b[1;32m-> 1188\u001b[1;33m               \u001b[0mcallbacks\u001b[0m\u001b[1;33m.\u001b[0m\u001b[0mon_train_batch_end\u001b[0m\u001b[1;33m(\u001b[0m\u001b[0mend_step\u001b[0m\u001b[1;33m,\u001b[0m \u001b[0mlogs\u001b[0m\u001b[1;33m)\u001b[0m\u001b[1;33m\u001b[0m\u001b[1;33m\u001b[0m\u001b[0m\n\u001b[0m\u001b[0;32m   1189\u001b[0m               \u001b[1;32mif\u001b[0m \u001b[0mself\u001b[0m\u001b[1;33m.\u001b[0m\u001b[0mstop_training\u001b[0m\u001b[1;33m:\u001b[0m\u001b[1;33m\u001b[0m\u001b[1;33m\u001b[0m\u001b[0m\n\u001b[0;32m   1190\u001b[0m                 \u001b[1;32mbreak\u001b[0m\u001b[1;33m\u001b[0m\u001b[1;33m\u001b[0m\u001b[0m\n",
      "\u001b[1;32mC:\\ProgramData\\Anaconda3\\lib\\site-packages\\tensorflow\\python\\keras\\callbacks.py\u001b[0m in \u001b[0;36mon_train_batch_end\u001b[1;34m(self, batch, logs)\u001b[0m\n\u001b[0;32m    455\u001b[0m     \"\"\"\n\u001b[0;32m    456\u001b[0m     \u001b[1;32mif\u001b[0m \u001b[0mself\u001b[0m\u001b[1;33m.\u001b[0m\u001b[0m_should_call_train_batch_hooks\u001b[0m\u001b[1;33m:\u001b[0m\u001b[1;33m\u001b[0m\u001b[1;33m\u001b[0m\u001b[0m\n\u001b[1;32m--> 457\u001b[1;33m       \u001b[0mself\u001b[0m\u001b[1;33m.\u001b[0m\u001b[0m_call_batch_hook\u001b[0m\u001b[1;33m(\u001b[0m\u001b[0mModeKeys\u001b[0m\u001b[1;33m.\u001b[0m\u001b[0mTRAIN\u001b[0m\u001b[1;33m,\u001b[0m \u001b[1;34m'end'\u001b[0m\u001b[1;33m,\u001b[0m \u001b[0mbatch\u001b[0m\u001b[1;33m,\u001b[0m \u001b[0mlogs\u001b[0m\u001b[1;33m=\u001b[0m\u001b[0mlogs\u001b[0m\u001b[1;33m)\u001b[0m\u001b[1;33m\u001b[0m\u001b[1;33m\u001b[0m\u001b[0m\n\u001b[0m\u001b[0;32m    458\u001b[0m \u001b[1;33m\u001b[0m\u001b[0m\n\u001b[0;32m    459\u001b[0m   \u001b[1;32mdef\u001b[0m \u001b[0mon_test_batch_begin\u001b[0m\u001b[1;33m(\u001b[0m\u001b[0mself\u001b[0m\u001b[1;33m,\u001b[0m \u001b[0mbatch\u001b[0m\u001b[1;33m,\u001b[0m \u001b[0mlogs\u001b[0m\u001b[1;33m=\u001b[0m\u001b[1;32mNone\u001b[0m\u001b[1;33m)\u001b[0m\u001b[1;33m:\u001b[0m\u001b[1;33m\u001b[0m\u001b[1;33m\u001b[0m\u001b[0m\n",
      "\u001b[1;32mC:\\ProgramData\\Anaconda3\\lib\\site-packages\\tensorflow\\python\\keras\\callbacks.py\u001b[0m in \u001b[0;36m_call_batch_hook\u001b[1;34m(self, mode, hook, batch, logs)\u001b[0m\n\u001b[0;32m    315\u001b[0m       \u001b[0mself\u001b[0m\u001b[1;33m.\u001b[0m\u001b[0m_call_batch_begin_hook\u001b[0m\u001b[1;33m(\u001b[0m\u001b[0mmode\u001b[0m\u001b[1;33m,\u001b[0m \u001b[0mbatch\u001b[0m\u001b[1;33m,\u001b[0m \u001b[0mlogs\u001b[0m\u001b[1;33m)\u001b[0m\u001b[1;33m\u001b[0m\u001b[1;33m\u001b[0m\u001b[0m\n\u001b[0;32m    316\u001b[0m     \u001b[1;32melif\u001b[0m \u001b[0mhook\u001b[0m \u001b[1;33m==\u001b[0m \u001b[1;34m'end'\u001b[0m\u001b[1;33m:\u001b[0m\u001b[1;33m\u001b[0m\u001b[1;33m\u001b[0m\u001b[0m\n\u001b[1;32m--> 317\u001b[1;33m       \u001b[0mself\u001b[0m\u001b[1;33m.\u001b[0m\u001b[0m_call_batch_end_hook\u001b[0m\u001b[1;33m(\u001b[0m\u001b[0mmode\u001b[0m\u001b[1;33m,\u001b[0m \u001b[0mbatch\u001b[0m\u001b[1;33m,\u001b[0m \u001b[0mlogs\u001b[0m\u001b[1;33m)\u001b[0m\u001b[1;33m\u001b[0m\u001b[1;33m\u001b[0m\u001b[0m\n\u001b[0m\u001b[0;32m    318\u001b[0m     \u001b[1;32melse\u001b[0m\u001b[1;33m:\u001b[0m\u001b[1;33m\u001b[0m\u001b[1;33m\u001b[0m\u001b[0m\n\u001b[0;32m    319\u001b[0m       \u001b[1;32mraise\u001b[0m \u001b[0mValueError\u001b[0m\u001b[1;33m(\u001b[0m\u001b[1;34m'Unrecognized hook: {}'\u001b[0m\u001b[1;33m.\u001b[0m\u001b[0mformat\u001b[0m\u001b[1;33m(\u001b[0m\u001b[0mhook\u001b[0m\u001b[1;33m)\u001b[0m\u001b[1;33m)\u001b[0m\u001b[1;33m\u001b[0m\u001b[1;33m\u001b[0m\u001b[0m\n",
      "\u001b[1;32mC:\\ProgramData\\Anaconda3\\lib\\site-packages\\tensorflow\\python\\keras\\callbacks.py\u001b[0m in \u001b[0;36m_call_batch_end_hook\u001b[1;34m(self, mode, batch, logs)\u001b[0m\n\u001b[0;32m    335\u001b[0m       \u001b[0mself\u001b[0m\u001b[1;33m.\u001b[0m\u001b[0m_batch_times\u001b[0m\u001b[1;33m.\u001b[0m\u001b[0mappend\u001b[0m\u001b[1;33m(\u001b[0m\u001b[0mbatch_time\u001b[0m\u001b[1;33m)\u001b[0m\u001b[1;33m\u001b[0m\u001b[1;33m\u001b[0m\u001b[0m\n\u001b[0;32m    336\u001b[0m \u001b[1;33m\u001b[0m\u001b[0m\n\u001b[1;32m--> 337\u001b[1;33m     \u001b[0mself\u001b[0m\u001b[1;33m.\u001b[0m\u001b[0m_call_batch_hook_helper\u001b[0m\u001b[1;33m(\u001b[0m\u001b[0mhook_name\u001b[0m\u001b[1;33m,\u001b[0m \u001b[0mbatch\u001b[0m\u001b[1;33m,\u001b[0m \u001b[0mlogs\u001b[0m\u001b[1;33m)\u001b[0m\u001b[1;33m\u001b[0m\u001b[1;33m\u001b[0m\u001b[0m\n\u001b[0m\u001b[0;32m    338\u001b[0m \u001b[1;33m\u001b[0m\u001b[0m\n\u001b[0;32m    339\u001b[0m     \u001b[1;32mif\u001b[0m \u001b[0mlen\u001b[0m\u001b[1;33m(\u001b[0m\u001b[0mself\u001b[0m\u001b[1;33m.\u001b[0m\u001b[0m_batch_times\u001b[0m\u001b[1;33m)\u001b[0m \u001b[1;33m>=\u001b[0m \u001b[0mself\u001b[0m\u001b[1;33m.\u001b[0m\u001b[0m_num_batches_for_timing_check\u001b[0m\u001b[1;33m:\u001b[0m\u001b[1;33m\u001b[0m\u001b[1;33m\u001b[0m\u001b[0m\n",
      "\u001b[1;32mC:\\ProgramData\\Anaconda3\\lib\\site-packages\\tensorflow\\python\\keras\\callbacks.py\u001b[0m in \u001b[0;36m_call_batch_hook_helper\u001b[1;34m(self, hook_name, batch, logs)\u001b[0m\n\u001b[0;32m    370\u001b[0m       \u001b[0mstart_time\u001b[0m \u001b[1;33m=\u001b[0m \u001b[0mtime\u001b[0m\u001b[1;33m.\u001b[0m\u001b[0mtime\u001b[0m\u001b[1;33m(\u001b[0m\u001b[1;33m)\u001b[0m\u001b[1;33m\u001b[0m\u001b[1;33m\u001b[0m\u001b[0m\n\u001b[0;32m    371\u001b[0m \u001b[1;33m\u001b[0m\u001b[0m\n\u001b[1;32m--> 372\u001b[1;33m     \u001b[0mlogs\u001b[0m \u001b[1;33m=\u001b[0m \u001b[0mself\u001b[0m\u001b[1;33m.\u001b[0m\u001b[0m_process_logs\u001b[0m\u001b[1;33m(\u001b[0m\u001b[0mlogs\u001b[0m\u001b[1;33m,\u001b[0m \u001b[0mis_batch_hook\u001b[0m\u001b[1;33m=\u001b[0m\u001b[1;32mTrue\u001b[0m\u001b[1;33m)\u001b[0m\u001b[1;33m\u001b[0m\u001b[1;33m\u001b[0m\u001b[0m\n\u001b[0m\u001b[0;32m    373\u001b[0m     \u001b[1;32mfor\u001b[0m \u001b[0mcallback\u001b[0m \u001b[1;32min\u001b[0m \u001b[0mself\u001b[0m\u001b[1;33m.\u001b[0m\u001b[0mcallbacks\u001b[0m\u001b[1;33m:\u001b[0m\u001b[1;33m\u001b[0m\u001b[1;33m\u001b[0m\u001b[0m\n\u001b[0;32m    374\u001b[0m       \u001b[0mhook\u001b[0m \u001b[1;33m=\u001b[0m \u001b[0mgetattr\u001b[0m\u001b[1;33m(\u001b[0m\u001b[0mcallback\u001b[0m\u001b[1;33m,\u001b[0m \u001b[0mhook_name\u001b[0m\u001b[1;33m)\u001b[0m\u001b[1;33m\u001b[0m\u001b[1;33m\u001b[0m\u001b[0m\n",
      "\u001b[1;32mC:\\ProgramData\\Anaconda3\\lib\\site-packages\\tensorflow\\python\\keras\\callbacks.py\u001b[0m in \u001b[0;36m_process_logs\u001b[1;34m(self, logs, is_batch_hook)\u001b[0m\n\u001b[0;32m    290\u001b[0m     \u001b[1;32mif\u001b[0m \u001b[0mis_batch_hook\u001b[0m \u001b[1;32mand\u001b[0m \u001b[0mself\u001b[0m\u001b[1;33m.\u001b[0m\u001b[0m_batch_hooks_support_tf_logs\u001b[0m\u001b[1;33m:\u001b[0m\u001b[1;33m\u001b[0m\u001b[1;33m\u001b[0m\u001b[0m\n\u001b[0;32m    291\u001b[0m       \u001b[1;32mreturn\u001b[0m \u001b[0mlogs\u001b[0m\u001b[1;33m\u001b[0m\u001b[1;33m\u001b[0m\u001b[0m\n\u001b[1;32m--> 292\u001b[1;33m     \u001b[1;32mreturn\u001b[0m \u001b[0mtf_utils\u001b[0m\u001b[1;33m.\u001b[0m\u001b[0msync_to_numpy_or_python_type\u001b[0m\u001b[1;33m(\u001b[0m\u001b[0mlogs\u001b[0m\u001b[1;33m)\u001b[0m\u001b[1;33m\u001b[0m\u001b[1;33m\u001b[0m\u001b[0m\n\u001b[0m\u001b[0;32m    293\u001b[0m \u001b[1;33m\u001b[0m\u001b[0m\n\u001b[0;32m    294\u001b[0m   \u001b[1;32mdef\u001b[0m \u001b[0mappend\u001b[0m\u001b[1;33m(\u001b[0m\u001b[0mself\u001b[0m\u001b[1;33m,\u001b[0m \u001b[0mcallback\u001b[0m\u001b[1;33m)\u001b[0m\u001b[1;33m:\u001b[0m\u001b[1;33m\u001b[0m\u001b[1;33m\u001b[0m\u001b[0m\n",
      "\u001b[1;32mC:\\ProgramData\\Anaconda3\\lib\\site-packages\\tensorflow\\python\\keras\\utils\\tf_utils.py\u001b[0m in \u001b[0;36msync_to_numpy_or_python_type\u001b[1;34m(tensors)\u001b[0m\n\u001b[0;32m    517\u001b[0m     \u001b[1;32mreturn\u001b[0m \u001b[0mt\u001b[0m  \u001b[1;31m# Don't turn ragged or sparse tensors to NumPy.\u001b[0m\u001b[1;33m\u001b[0m\u001b[1;33m\u001b[0m\u001b[0m\n\u001b[0;32m    518\u001b[0m \u001b[1;33m\u001b[0m\u001b[0m\n\u001b[1;32m--> 519\u001b[1;33m   \u001b[1;32mreturn\u001b[0m \u001b[0mnest\u001b[0m\u001b[1;33m.\u001b[0m\u001b[0mmap_structure\u001b[0m\u001b[1;33m(\u001b[0m\u001b[0m_to_single_numpy_or_python_type\u001b[0m\u001b[1;33m,\u001b[0m \u001b[0mtensors\u001b[0m\u001b[1;33m)\u001b[0m\u001b[1;33m\u001b[0m\u001b[1;33m\u001b[0m\u001b[0m\n\u001b[0m\u001b[0;32m    520\u001b[0m \u001b[1;33m\u001b[0m\u001b[0m\n\u001b[0;32m    521\u001b[0m \u001b[1;33m\u001b[0m\u001b[0m\n",
      "\u001b[1;32mC:\\ProgramData\\Anaconda3\\lib\\site-packages\\tensorflow\\python\\util\\nest.py\u001b[0m in \u001b[0;36mmap_structure\u001b[1;34m(func, *structure, **kwargs)\u001b[0m\n\u001b[0;32m    865\u001b[0m \u001b[1;33m\u001b[0m\u001b[0m\n\u001b[0;32m    866\u001b[0m   return pack_sequence_as(\n\u001b[1;32m--> 867\u001b[1;33m       \u001b[0mstructure\u001b[0m\u001b[1;33m[\u001b[0m\u001b[1;36m0\u001b[0m\u001b[1;33m]\u001b[0m\u001b[1;33m,\u001b[0m \u001b[1;33m[\u001b[0m\u001b[0mfunc\u001b[0m\u001b[1;33m(\u001b[0m\u001b[1;33m*\u001b[0m\u001b[0mx\u001b[0m\u001b[1;33m)\u001b[0m \u001b[1;32mfor\u001b[0m \u001b[0mx\u001b[0m \u001b[1;32min\u001b[0m \u001b[0mentries\u001b[0m\u001b[1;33m]\u001b[0m\u001b[1;33m,\u001b[0m\u001b[1;33m\u001b[0m\u001b[1;33m\u001b[0m\u001b[0m\n\u001b[0m\u001b[0;32m    868\u001b[0m       expand_composites=expand_composites)\n\u001b[0;32m    869\u001b[0m \u001b[1;33m\u001b[0m\u001b[0m\n",
      "\u001b[1;32mC:\\ProgramData\\Anaconda3\\lib\\site-packages\\tensorflow\\python\\util\\nest.py\u001b[0m in \u001b[0;36m<listcomp>\u001b[1;34m(.0)\u001b[0m\n\u001b[0;32m    865\u001b[0m \u001b[1;33m\u001b[0m\u001b[0m\n\u001b[0;32m    866\u001b[0m   return pack_sequence_as(\n\u001b[1;32m--> 867\u001b[1;33m       \u001b[0mstructure\u001b[0m\u001b[1;33m[\u001b[0m\u001b[1;36m0\u001b[0m\u001b[1;33m]\u001b[0m\u001b[1;33m,\u001b[0m \u001b[1;33m[\u001b[0m\u001b[0mfunc\u001b[0m\u001b[1;33m(\u001b[0m\u001b[1;33m*\u001b[0m\u001b[0mx\u001b[0m\u001b[1;33m)\u001b[0m \u001b[1;32mfor\u001b[0m \u001b[0mx\u001b[0m \u001b[1;32min\u001b[0m \u001b[0mentries\u001b[0m\u001b[1;33m]\u001b[0m\u001b[1;33m,\u001b[0m\u001b[1;33m\u001b[0m\u001b[1;33m\u001b[0m\u001b[0m\n\u001b[0m\u001b[0;32m    868\u001b[0m       expand_composites=expand_composites)\n\u001b[0;32m    869\u001b[0m \u001b[1;33m\u001b[0m\u001b[0m\n",
      "\u001b[1;32mC:\\ProgramData\\Anaconda3\\lib\\site-packages\\tensorflow\\python\\keras\\utils\\tf_utils.py\u001b[0m in \u001b[0;36m_to_single_numpy_or_python_type\u001b[1;34m(t)\u001b[0m\n\u001b[0;32m    513\u001b[0m   \u001b[1;32mdef\u001b[0m \u001b[0m_to_single_numpy_or_python_type\u001b[0m\u001b[1;33m(\u001b[0m\u001b[0mt\u001b[0m\u001b[1;33m)\u001b[0m\u001b[1;33m:\u001b[0m\u001b[1;33m\u001b[0m\u001b[1;33m\u001b[0m\u001b[0m\n\u001b[0;32m    514\u001b[0m     \u001b[1;32mif\u001b[0m \u001b[0misinstance\u001b[0m\u001b[1;33m(\u001b[0m\u001b[0mt\u001b[0m\u001b[1;33m,\u001b[0m \u001b[0mops\u001b[0m\u001b[1;33m.\u001b[0m\u001b[0mTensor\u001b[0m\u001b[1;33m)\u001b[0m\u001b[1;33m:\u001b[0m\u001b[1;33m\u001b[0m\u001b[1;33m\u001b[0m\u001b[0m\n\u001b[1;32m--> 515\u001b[1;33m       \u001b[0mx\u001b[0m \u001b[1;33m=\u001b[0m \u001b[0mt\u001b[0m\u001b[1;33m.\u001b[0m\u001b[0mnumpy\u001b[0m\u001b[1;33m(\u001b[0m\u001b[1;33m)\u001b[0m\u001b[1;33m\u001b[0m\u001b[1;33m\u001b[0m\u001b[0m\n\u001b[0m\u001b[0;32m    516\u001b[0m       \u001b[1;32mreturn\u001b[0m \u001b[0mx\u001b[0m\u001b[1;33m.\u001b[0m\u001b[0mitem\u001b[0m\u001b[1;33m(\u001b[0m\u001b[1;33m)\u001b[0m \u001b[1;32mif\u001b[0m \u001b[0mnp\u001b[0m\u001b[1;33m.\u001b[0m\u001b[0mndim\u001b[0m\u001b[1;33m(\u001b[0m\u001b[0mx\u001b[0m\u001b[1;33m)\u001b[0m \u001b[1;33m==\u001b[0m \u001b[1;36m0\u001b[0m \u001b[1;32melse\u001b[0m \u001b[0mx\u001b[0m\u001b[1;33m\u001b[0m\u001b[1;33m\u001b[0m\u001b[0m\n\u001b[0;32m    517\u001b[0m     \u001b[1;32mreturn\u001b[0m \u001b[0mt\u001b[0m  \u001b[1;31m# Don't turn ragged or sparse tensors to NumPy.\u001b[0m\u001b[1;33m\u001b[0m\u001b[1;33m\u001b[0m\u001b[0m\n",
      "\u001b[1;32mC:\\ProgramData\\Anaconda3\\lib\\site-packages\\tensorflow\\python\\framework\\ops.py\u001b[0m in \u001b[0;36mnumpy\u001b[1;34m(self)\u001b[0m\n\u001b[0;32m   1092\u001b[0m     \"\"\"\n\u001b[0;32m   1093\u001b[0m     \u001b[1;31m# TODO(slebedev): Consider avoiding a copy for non-CPU or remote tensors.\u001b[0m\u001b[1;33m\u001b[0m\u001b[1;33m\u001b[0m\u001b[1;33m\u001b[0m\u001b[0m\n\u001b[1;32m-> 1094\u001b[1;33m     \u001b[0mmaybe_arr\u001b[0m \u001b[1;33m=\u001b[0m \u001b[0mself\u001b[0m\u001b[1;33m.\u001b[0m\u001b[0m_numpy\u001b[0m\u001b[1;33m(\u001b[0m\u001b[1;33m)\u001b[0m  \u001b[1;31m# pylint: disable=protected-access\u001b[0m\u001b[1;33m\u001b[0m\u001b[1;33m\u001b[0m\u001b[0m\n\u001b[0m\u001b[0;32m   1095\u001b[0m     \u001b[1;32mreturn\u001b[0m \u001b[0mmaybe_arr\u001b[0m\u001b[1;33m.\u001b[0m\u001b[0mcopy\u001b[0m\u001b[1;33m(\u001b[0m\u001b[1;33m)\u001b[0m \u001b[1;32mif\u001b[0m \u001b[0misinstance\u001b[0m\u001b[1;33m(\u001b[0m\u001b[0mmaybe_arr\u001b[0m\u001b[1;33m,\u001b[0m \u001b[0mnp\u001b[0m\u001b[1;33m.\u001b[0m\u001b[0mndarray\u001b[0m\u001b[1;33m)\u001b[0m \u001b[1;32melse\u001b[0m \u001b[0mmaybe_arr\u001b[0m\u001b[1;33m\u001b[0m\u001b[1;33m\u001b[0m\u001b[0m\n\u001b[0;32m   1096\u001b[0m \u001b[1;33m\u001b[0m\u001b[0m\n",
      "\u001b[1;32mC:\\ProgramData\\Anaconda3\\lib\\site-packages\\tensorflow\\python\\framework\\ops.py\u001b[0m in \u001b[0;36m_numpy\u001b[1;34m(self)\u001b[0m\n\u001b[0;32m   1058\u001b[0m   \u001b[1;32mdef\u001b[0m \u001b[0m_numpy\u001b[0m\u001b[1;33m(\u001b[0m\u001b[0mself\u001b[0m\u001b[1;33m)\u001b[0m\u001b[1;33m:\u001b[0m\u001b[1;33m\u001b[0m\u001b[1;33m\u001b[0m\u001b[0m\n\u001b[0;32m   1059\u001b[0m     \u001b[1;32mtry\u001b[0m\u001b[1;33m:\u001b[0m\u001b[1;33m\u001b[0m\u001b[1;33m\u001b[0m\u001b[0m\n\u001b[1;32m-> 1060\u001b[1;33m       \u001b[1;32mreturn\u001b[0m \u001b[0mself\u001b[0m\u001b[1;33m.\u001b[0m\u001b[0m_numpy_internal\u001b[0m\u001b[1;33m(\u001b[0m\u001b[1;33m)\u001b[0m\u001b[1;33m\u001b[0m\u001b[1;33m\u001b[0m\u001b[0m\n\u001b[0m\u001b[0;32m   1061\u001b[0m     \u001b[1;32mexcept\u001b[0m \u001b[0mcore\u001b[0m\u001b[1;33m.\u001b[0m\u001b[0m_NotOkStatusException\u001b[0m \u001b[1;32mas\u001b[0m \u001b[0me\u001b[0m\u001b[1;33m:\u001b[0m  \u001b[1;31m# pylint: disable=protected-access\u001b[0m\u001b[1;33m\u001b[0m\u001b[1;33m\u001b[0m\u001b[0m\n\u001b[0;32m   1062\u001b[0m       \u001b[0msix\u001b[0m\u001b[1;33m.\u001b[0m\u001b[0mraise_from\u001b[0m\u001b[1;33m(\u001b[0m\u001b[0mcore\u001b[0m\u001b[1;33m.\u001b[0m\u001b[0m_status_to_exception\u001b[0m\u001b[1;33m(\u001b[0m\u001b[0me\u001b[0m\u001b[1;33m.\u001b[0m\u001b[0mcode\u001b[0m\u001b[1;33m,\u001b[0m \u001b[0me\u001b[0m\u001b[1;33m.\u001b[0m\u001b[0mmessage\u001b[0m\u001b[1;33m)\u001b[0m\u001b[1;33m,\u001b[0m \u001b[1;32mNone\u001b[0m\u001b[1;33m)\u001b[0m  \u001b[1;31m# pylint: disable=protected-access\u001b[0m\u001b[1;33m\u001b[0m\u001b[1;33m\u001b[0m\u001b[0m\n",
      "\u001b[1;31mKeyboardInterrupt\u001b[0m: "
     ]
    }
   ],
   "source": [
    "tuner.search(\n",
    "        x=x_train,\n",
    "        y=y_train,\n",
    "        epochs=20,\n",
    "        batch_size=32,\n",
    "        validation_data=(x_test,y_test),\n",
    ")"
   ]
  },
  {
   "cell_type": "code",
   "execution_count": 66,
   "id": "0R0m32zxVRHf",
   "metadata": {
    "colab": {
     "base_uri": "https://localhost:8080/"
    },
    "executionInfo": {
     "elapsed": 5283,
     "status": "ok",
     "timestamp": 1653534538961,
     "user": {
      "displayName": "최선빈",
      "userId": "10702276653678963302"
     },
     "user_tz": -540
    },
    "id": "0R0m32zxVRHf",
    "outputId": "ab1562d1-838c-48bb-fccb-33a50da09e61"
   },
   "outputs": [
    {
     "ename": "IndexError",
     "evalue": "list index out of range",
     "output_type": "error",
     "traceback": [
      "\u001b[1;31m---------------------------------------------------------------------------\u001b[0m",
      "\u001b[1;31mIndexError\u001b[0m                                Traceback (most recent call last)",
      "\u001b[1;32m<ipython-input-66-0de441458222>\u001b[0m in \u001b[0;36m<module>\u001b[1;34m\u001b[0m\n\u001b[0;32m      1\u001b[0m \u001b[0mmodels\u001b[0m \u001b[1;33m=\u001b[0m \u001b[0mtuner\u001b[0m\u001b[1;33m.\u001b[0m\u001b[0mget_best_models\u001b[0m\u001b[1;33m(\u001b[0m\u001b[1;33m)\u001b[0m \u001b[1;31m# Keras Sequential models\u001b[0m\u001b[1;33m\u001b[0m\u001b[1;33m\u001b[0m\u001b[0m\n\u001b[1;32m----> 2\u001b[1;33m \u001b[0mtop_model\u001b[0m \u001b[1;33m=\u001b[0m \u001b[0mmodels\u001b[0m\u001b[1;33m[\u001b[0m\u001b[1;36m0\u001b[0m\u001b[1;33m]\u001b[0m\u001b[1;33m\u001b[0m\u001b[1;33m\u001b[0m\u001b[0m\n\u001b[0m\u001b[0;32m      3\u001b[0m \u001b[0mtop_model\u001b[0m\u001b[1;33m.\u001b[0m\u001b[0msummary\u001b[0m\u001b[1;33m(\u001b[0m\u001b[1;33m)\u001b[0m\u001b[1;33m\u001b[0m\u001b[1;33m\u001b[0m\u001b[0m\n\u001b[0;32m      4\u001b[0m \u001b[0mprint\u001b[0m\u001b[1;33m(\u001b[0m\u001b[1;33m)\u001b[0m\u001b[1;33m\u001b[0m\u001b[1;33m\u001b[0m\u001b[0m\n\u001b[0;32m      5\u001b[0m \u001b[1;33m\u001b[0m\u001b[0m\n",
      "\u001b[1;31mIndexError\u001b[0m: list index out of range"
     ]
    }
   ],
   "source": [
    "models = tuner.get_best_models() # Keras Sequential models\n",
    "top_model = models[0]\n",
    "top_model.summary()\n",
    "print()\n",
    "\n",
    "results = top_model.evaluate(x_test, y_test)\n",
    "print('Cross-entropy :', results[0])\n",
    "print('Accuracy :', results[1])"
   ]
  }
 ],
 "metadata": {
  "accelerator": "GPU",
  "colab": {
   "collapsed_sections": [],
   "name": "DB_GAPS_STRATEGY.ipynb",
   "provenance": []
  },
  "kernelspec": {
   "display_name": "Python 3",
   "language": "python",
   "name": "python3"
  },
  "language_info": {
   "codemirror_mode": {
    "name": "ipython",
    "version": 3
   },
   "file_extension": ".py",
   "mimetype": "text/x-python",
   "name": "python",
   "nbconvert_exporter": "python",
   "pygments_lexer": "ipython3",
   "version": "3.8.8"
  }
 },
 "nbformat": 4,
 "nbformat_minor": 5
}
