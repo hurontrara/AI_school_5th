{
 "cells": [
  {
   "cell_type": "code",
   "execution_count": 1,
   "id": "24fbd811",
   "metadata": {},
   "outputs": [],
   "source": [
    "#!pip install pandas_datareader"
   ]
  },
  {
   "cell_type": "code",
   "execution_count": 2,
   "id": "7aeced1e",
   "metadata": {},
   "outputs": [],
   "source": [
    "#!pip install finance-datareader"
   ]
  },
  {
   "cell_type": "code",
   "execution_count": 1,
   "id": "d91332a4",
   "metadata": {
    "ExecuteTime": {
     "end_time": "2022-05-21T14:31:01.579082Z",
     "start_time": "2022-05-21T14:30:59.613646Z"
    }
   },
   "outputs": [
    {
     "ename": "AttributeError",
     "evalue": "module 'tensorflow.compat.v2.__internal__' has no attribute 'register_clear_session_function'",
     "output_type": "error",
     "traceback": [
      "\u001b[1;31m---------------------------------------------------------------------------\u001b[0m",
      "\u001b[1;31mAttributeError\u001b[0m                            Traceback (most recent call last)",
      "\u001b[1;32m<ipython-input-1-908188514bce>\u001b[0m in \u001b[0;36m<module>\u001b[1;34m\u001b[0m\n\u001b[0;32m      6\u001b[0m \u001b[1;32mimport\u001b[0m \u001b[0mnumpy\u001b[0m \u001b[1;32mas\u001b[0m \u001b[0mnp\u001b[0m\u001b[1;33m\u001b[0m\u001b[1;33m\u001b[0m\u001b[0m\n\u001b[0;32m      7\u001b[0m \u001b[1;33m\u001b[0m\u001b[0m\n\u001b[1;32m----> 8\u001b[1;33m \u001b[1;32mfrom\u001b[0m \u001b[0mkeras\u001b[0m\u001b[1;33m.\u001b[0m\u001b[0mmodels\u001b[0m \u001b[1;32mimport\u001b[0m \u001b[0mSequential\u001b[0m\u001b[1;33m\u001b[0m\u001b[1;33m\u001b[0m\u001b[0m\n\u001b[0m\u001b[0;32m      9\u001b[0m \u001b[1;32mfrom\u001b[0m \u001b[0mkeras\u001b[0m\u001b[1;33m.\u001b[0m\u001b[0mlayers\u001b[0m \u001b[1;32mimport\u001b[0m \u001b[0mLSTM\u001b[0m\u001b[1;33m,\u001b[0m \u001b[0mDropout\u001b[0m\u001b[1;33m,\u001b[0m \u001b[0mDense\u001b[0m\u001b[1;33m,\u001b[0m \u001b[0mActivation\u001b[0m\u001b[1;33m,\u001b[0m \u001b[0mConv1D\u001b[0m\u001b[1;33m\u001b[0m\u001b[1;33m\u001b[0m\u001b[0m\n\u001b[0;32m     10\u001b[0m \u001b[1;33m\u001b[0m\u001b[0m\n",
      "\u001b[1;32mC:\\ProgramData\\Anaconda3\\lib\\site-packages\\keras\\__init__.py\u001b[0m in \u001b[0;36m<module>\u001b[1;34m\u001b[0m\n\u001b[0;32m     22\u001b[0m \u001b[1;32mfrom\u001b[0m \u001b[0mkeras\u001b[0m \u001b[1;32mimport\u001b[0m \u001b[0mdistribute\u001b[0m\u001b[1;33m\u001b[0m\u001b[1;33m\u001b[0m\u001b[0m\n\u001b[0;32m     23\u001b[0m \u001b[1;33m\u001b[0m\u001b[0m\n\u001b[1;32m---> 24\u001b[1;33m \u001b[1;32mfrom\u001b[0m \u001b[0mkeras\u001b[0m \u001b[1;32mimport\u001b[0m \u001b[0mmodels\u001b[0m\u001b[1;33m\u001b[0m\u001b[1;33m\u001b[0m\u001b[0m\n\u001b[0m\u001b[0;32m     25\u001b[0m \u001b[1;33m\u001b[0m\u001b[0m\n\u001b[0;32m     26\u001b[0m \u001b[1;32mfrom\u001b[0m \u001b[0mkeras\u001b[0m\u001b[1;33m.\u001b[0m\u001b[0mengine\u001b[0m\u001b[1;33m.\u001b[0m\u001b[0minput_layer\u001b[0m \u001b[1;32mimport\u001b[0m \u001b[0mInput\u001b[0m\u001b[1;33m\u001b[0m\u001b[1;33m\u001b[0m\u001b[0m\n",
      "\u001b[1;32mC:\\ProgramData\\Anaconda3\\lib\\site-packages\\keras\\models\\__init__.py\u001b[0m in \u001b[0;36m<module>\u001b[1;34m\u001b[0m\n\u001b[0;32m     16\u001b[0m \u001b[1;31m# pylint: disable=g-bad-import-order\u001b[0m\u001b[1;33m\u001b[0m\u001b[1;33m\u001b[0m\u001b[1;33m\u001b[0m\u001b[0m\n\u001b[0;32m     17\u001b[0m \u001b[1;33m\u001b[0m\u001b[0m\n\u001b[1;32m---> 18\u001b[1;33m \u001b[1;32mfrom\u001b[0m \u001b[0mkeras\u001b[0m\u001b[1;33m.\u001b[0m\u001b[0mengine\u001b[0m\u001b[1;33m.\u001b[0m\u001b[0mfunctional\u001b[0m \u001b[1;32mimport\u001b[0m \u001b[0mFunctional\u001b[0m\u001b[1;33m\u001b[0m\u001b[1;33m\u001b[0m\u001b[0m\n\u001b[0m\u001b[0;32m     19\u001b[0m \u001b[1;32mfrom\u001b[0m \u001b[0mkeras\u001b[0m\u001b[1;33m.\u001b[0m\u001b[0mengine\u001b[0m\u001b[1;33m.\u001b[0m\u001b[0msequential\u001b[0m \u001b[1;32mimport\u001b[0m \u001b[0mSequential\u001b[0m\u001b[1;33m\u001b[0m\u001b[1;33m\u001b[0m\u001b[0m\n\u001b[0;32m     20\u001b[0m \u001b[1;32mfrom\u001b[0m \u001b[0mkeras\u001b[0m\u001b[1;33m.\u001b[0m\u001b[0mengine\u001b[0m\u001b[1;33m.\u001b[0m\u001b[0mtraining\u001b[0m \u001b[1;32mimport\u001b[0m \u001b[0mModel\u001b[0m\u001b[1;33m\u001b[0m\u001b[1;33m\u001b[0m\u001b[0m\n",
      "\u001b[1;32mC:\\ProgramData\\Anaconda3\\lib\\site-packages\\keras\\engine\\functional.py\u001b[0m in \u001b[0;36m<module>\u001b[1;34m\u001b[0m\n\u001b[0;32m     21\u001b[0m \u001b[1;32mimport\u001b[0m \u001b[0mitertools\u001b[0m\u001b[1;33m\u001b[0m\u001b[1;33m\u001b[0m\u001b[0m\n\u001b[0;32m     22\u001b[0m \u001b[1;32mimport\u001b[0m \u001b[0mwarnings\u001b[0m\u001b[1;33m\u001b[0m\u001b[1;33m\u001b[0m\u001b[0m\n\u001b[1;32m---> 23\u001b[1;33m \u001b[1;32mfrom\u001b[0m \u001b[0mkeras\u001b[0m \u001b[1;32mimport\u001b[0m \u001b[0mbackend\u001b[0m\u001b[1;33m\u001b[0m\u001b[1;33m\u001b[0m\u001b[0m\n\u001b[0m\u001b[0;32m     24\u001b[0m \u001b[1;32mfrom\u001b[0m \u001b[0mkeras\u001b[0m\u001b[1;33m.\u001b[0m\u001b[0mdtensor\u001b[0m \u001b[1;32mimport\u001b[0m \u001b[0mlayout_map\u001b[0m \u001b[1;32mas\u001b[0m \u001b[0mlayout_map_lib\u001b[0m\u001b[1;33m\u001b[0m\u001b[1;33m\u001b[0m\u001b[0m\n\u001b[0;32m     25\u001b[0m \u001b[1;32mfrom\u001b[0m \u001b[0mkeras\u001b[0m\u001b[1;33m.\u001b[0m\u001b[0mengine\u001b[0m \u001b[1;32mimport\u001b[0m \u001b[0mbase_layer\u001b[0m\u001b[1;33m\u001b[0m\u001b[1;33m\u001b[0m\u001b[0m\n",
      "\u001b[1;32mC:\\ProgramData\\Anaconda3\\lib\\site-packages\\keras\\backend.py\u001b[0m in \u001b[0;36m<module>\u001b[1;34m\u001b[0m\n\u001b[0;32m    299\u001b[0m \u001b[1;31m# Inject the clear_session function to keras_deps to remove the dependency\u001b[0m\u001b[1;33m\u001b[0m\u001b[1;33m\u001b[0m\u001b[1;33m\u001b[0m\u001b[0m\n\u001b[0;32m    300\u001b[0m \u001b[1;31m# from TFLite to Keras.\u001b[0m\u001b[1;33m\u001b[0m\u001b[1;33m\u001b[0m\u001b[1;33m\u001b[0m\u001b[0m\n\u001b[1;32m--> 301\u001b[1;33m \u001b[0mtf\u001b[0m\u001b[1;33m.\u001b[0m\u001b[0m__internal__\u001b[0m\u001b[1;33m.\u001b[0m\u001b[0mregister_clear_session_function\u001b[0m\u001b[1;33m(\u001b[0m\u001b[0mclear_session\u001b[0m\u001b[1;33m)\u001b[0m\u001b[1;33m\u001b[0m\u001b[1;33m\u001b[0m\u001b[0m\n\u001b[0m\u001b[0;32m    302\u001b[0m \u001b[1;33m\u001b[0m\u001b[0m\n\u001b[0;32m    303\u001b[0m \u001b[1;33m\u001b[0m\u001b[0m\n",
      "\u001b[1;31mAttributeError\u001b[0m: module 'tensorflow.compat.v2.__internal__' has no attribute 'register_clear_session_function'"
     ]
    }
   ],
   "source": [
    "import warnings\n",
    "import FinanceDataReader as fdr\n",
    "import matplotlib.pyplot as plt\n",
    "from matplotlib.figure import Figure\n",
    "import pandas as pd\n",
    "import numpy as np\n",
    "\n",
    "from keras.models import Sequential\n",
    "from keras.layers import LSTM, Dropout, Dense, Activation, Conv1D\n",
    "\n",
    "warnings.filterwarnings('ignore')"
   ]
  },
  {
   "cell_type": "code",
   "execution_count": null,
   "id": "b22b46c7",
   "metadata": {},
   "outputs": [],
   "source": [
    "import pandas_datareader as pdr"
   ]
  },
  {
   "cell_type": "code",
   "execution_count": null,
   "id": "cb05ab5e",
   "metadata": {},
   "outputs": [],
   "source": [
    "from sklearn.preprocessing import MinMaxScaler"
   ]
  },
  {
   "cell_type": "code",
   "execution_count": 6,
   "id": "575e52ec",
   "metadata": {},
   "outputs": [],
   "source": [
    "# https://github.com/FinanceData/FinanceDataReader\n",
    "# 금, 은과 같은 현물, 달러와 같은 화폐 데이터"
   ]
  },
  {
   "cell_type": "markdown",
   "id": "a7afd965",
   "metadata": {},
   "source": [
    "# Read Data"
   ]
  },
  {
   "cell_type": "code",
   "execution_count": 3,
   "id": "a2a0e49c",
   "metadata": {
    "ExecuteTime": {
     "end_time": "2022-05-19T15:05:44.470836Z",
     "start_time": "2022-05-19T15:05:40.753939Z"
    },
    "scrolled": true
   },
   "outputs": [
    {
     "data": {
      "text/html": [
       "<div>\n",
       "<style scoped>\n",
       "    .dataframe tbody tr th:only-of-type {\n",
       "        vertical-align: middle;\n",
       "    }\n",
       "\n",
       "    .dataframe tbody tr th {\n",
       "        vertical-align: top;\n",
       "    }\n",
       "\n",
       "    .dataframe thead th {\n",
       "        text-align: right;\n",
       "    }\n",
       "</style>\n",
       "<table border=\"1\" class=\"dataframe\">\n",
       "  <thead>\n",
       "    <tr style=\"text-align: right;\">\n",
       "      <th></th>\n",
       "      <th>Open</th>\n",
       "      <th>High</th>\n",
       "      <th>Low</th>\n",
       "      <th>Close</th>\n",
       "      <th>Volume</th>\n",
       "      <th>Change</th>\n",
       "    </tr>\n",
       "    <tr>\n",
       "      <th>Date</th>\n",
       "      <th></th>\n",
       "      <th></th>\n",
       "      <th></th>\n",
       "      <th></th>\n",
       "      <th></th>\n",
       "      <th></th>\n",
       "    </tr>\n",
       "  </thead>\n",
       "  <tbody>\n",
       "    <tr>\n",
       "      <th>2007-01-03</th>\n",
       "      <td>14451</td>\n",
       "      <td>14455</td>\n",
       "      <td>14195</td>\n",
       "      <td>14232</td>\n",
       "      <td>1106268</td>\n",
       "      <td>-0.014268</td>\n",
       "    </tr>\n",
       "    <tr>\n",
       "      <th>2007-01-04</th>\n",
       "      <td>14181</td>\n",
       "      <td>14219</td>\n",
       "      <td>13952</td>\n",
       "      <td>14029</td>\n",
       "      <td>927311</td>\n",
       "      <td>-0.014264</td>\n",
       "    </tr>\n",
       "    <tr>\n",
       "      <th>2007-01-05</th>\n",
       "      <td>14058</td>\n",
       "      <td>14065</td>\n",
       "      <td>13818</td>\n",
       "      <td>13929</td>\n",
       "      <td>2322080</td>\n",
       "      <td>-0.007128</td>\n",
       "    </tr>\n",
       "    <tr>\n",
       "      <th>2007-01-08</th>\n",
       "      <td>13907</td>\n",
       "      <td>13907</td>\n",
       "      <td>13727</td>\n",
       "      <td>13783</td>\n",
       "      <td>1869083</td>\n",
       "      <td>-0.010482</td>\n",
       "    </tr>\n",
       "    <tr>\n",
       "      <th>2007-01-09</th>\n",
       "      <td>13795</td>\n",
       "      <td>13859</td>\n",
       "      <td>13766</td>\n",
       "      <td>13828</td>\n",
       "      <td>828783</td>\n",
       "      <td>0.003265</td>\n",
       "    </tr>\n",
       "    <tr>\n",
       "      <th>...</th>\n",
       "      <td>...</td>\n",
       "      <td>...</td>\n",
       "      <td>...</td>\n",
       "      <td>...</td>\n",
       "      <td>...</td>\n",
       "      <td>...</td>\n",
       "    </tr>\n",
       "    <tr>\n",
       "      <th>2022-05-19</th>\n",
       "      <td>34125</td>\n",
       "      <td>34450</td>\n",
       "      <td>34060</td>\n",
       "      <td>34370</td>\n",
       "      <td>6054919</td>\n",
       "      <td>-0.014339</td>\n",
       "    </tr>\n",
       "    <tr>\n",
       "      <th>2022-05-20</th>\n",
       "      <td>34515</td>\n",
       "      <td>35025</td>\n",
       "      <td>34485</td>\n",
       "      <td>34985</td>\n",
       "      <td>4661990</td>\n",
       "      <td>0.017894</td>\n",
       "    </tr>\n",
       "    <tr>\n",
       "      <th>2022-05-23</th>\n",
       "      <td>35135</td>\n",
       "      <td>35225</td>\n",
       "      <td>34915</td>\n",
       "      <td>35100</td>\n",
       "      <td>5876025</td>\n",
       "      <td>0.003287</td>\n",
       "    </tr>\n",
       "    <tr>\n",
       "      <th>2022-05-24</th>\n",
       "      <td>34950</td>\n",
       "      <td>35030</td>\n",
       "      <td>34450</td>\n",
       "      <td>34450</td>\n",
       "      <td>5416640</td>\n",
       "      <td>-0.018519</td>\n",
       "    </tr>\n",
       "    <tr>\n",
       "      <th>2022-05-25</th>\n",
       "      <td>34660</td>\n",
       "      <td>34825</td>\n",
       "      <td>34430</td>\n",
       "      <td>34595</td>\n",
       "      <td>3548710</td>\n",
       "      <td>0.004209</td>\n",
       "    </tr>\n",
       "  </tbody>\n",
       "</table>\n",
       "<p>3805 rows × 6 columns</p>\n",
       "</div>"
      ],
      "text/plain": [
       "             Open   High    Low  Close   Volume    Change\n",
       "Date                                                     \n",
       "2007-01-03  14451  14455  14195  14232  1106268 -0.014268\n",
       "2007-01-04  14181  14219  13952  14029   927311 -0.014264\n",
       "2007-01-05  14058  14065  13818  13929  2322080 -0.007128\n",
       "2007-01-08  13907  13907  13727  13783  1869083 -0.010482\n",
       "2007-01-09  13795  13859  13766  13828   828783  0.003265\n",
       "...           ...    ...    ...    ...      ...       ...\n",
       "2022-05-19  34125  34450  34060  34370  6054919 -0.014339\n",
       "2022-05-20  34515  35025  34485  34985  4661990  0.017894\n",
       "2022-05-23  35135  35225  34915  35100  5876025  0.003287\n",
       "2022-05-24  34950  35030  34450  34450  5416640 -0.018519\n",
       "2022-05-25  34660  34825  34430  34595  3548710  0.004209\n",
       "\n",
       "[3805 rows x 6 columns]"
      ]
     },
     "execution_count": 3,
     "metadata": {},
     "output_type": "execute_result"
    }
   ],
   "source": [
    "# finance datareader로부터 데이터 불러오기\n",
    "\n",
    "# Ford(F), 1980-01-01 ~ 2019-12-30 (40년 데이터)\n",
    "#ford = fdr.DataReader('F', '1980-01-01', '2019-12-30')\n",
    "data = fdr.DataReader('069500',start='2007-01-03')\n",
    "data"
   ]
  },
  {
   "cell_type": "code",
   "execution_count": 4,
   "id": "1cb9b61a",
   "metadata": {},
   "outputs": [
    {
     "data": {
      "text/html": [
       "<div>\n",
       "<style scoped>\n",
       "    .dataframe tbody tr th:only-of-type {\n",
       "        vertical-align: middle;\n",
       "    }\n",
       "\n",
       "    .dataframe tbody tr th {\n",
       "        vertical-align: top;\n",
       "    }\n",
       "\n",
       "    .dataframe thead th {\n",
       "        text-align: right;\n",
       "    }\n",
       "</style>\n",
       "<table border=\"1\" class=\"dataframe\">\n",
       "  <thead>\n",
       "    <tr style=\"text-align: right;\">\n",
       "      <th></th>\n",
       "      <th>Open</th>\n",
       "      <th>High</th>\n",
       "      <th>Low</th>\n",
       "      <th>Close</th>\n",
       "      <th>Volume</th>\n",
       "      <th>Change</th>\n",
       "    </tr>\n",
       "    <tr>\n",
       "      <th>Date</th>\n",
       "      <th></th>\n",
       "      <th></th>\n",
       "      <th></th>\n",
       "      <th></th>\n",
       "      <th></th>\n",
       "      <th></th>\n",
       "    </tr>\n",
       "  </thead>\n",
       "  <tbody>\n",
       "    <tr>\n",
       "      <th>2007-01-03</th>\n",
       "      <td>14451</td>\n",
       "      <td>14455</td>\n",
       "      <td>14195</td>\n",
       "      <td>14232</td>\n",
       "      <td>1106268</td>\n",
       "      <td>-0.014268</td>\n",
       "    </tr>\n",
       "    <tr>\n",
       "      <th>2007-01-04</th>\n",
       "      <td>14181</td>\n",
       "      <td>14219</td>\n",
       "      <td>13952</td>\n",
       "      <td>14029</td>\n",
       "      <td>927311</td>\n",
       "      <td>-0.014264</td>\n",
       "    </tr>\n",
       "    <tr>\n",
       "      <th>2007-01-05</th>\n",
       "      <td>14058</td>\n",
       "      <td>14065</td>\n",
       "      <td>13818</td>\n",
       "      <td>13929</td>\n",
       "      <td>2322080</td>\n",
       "      <td>-0.007128</td>\n",
       "    </tr>\n",
       "    <tr>\n",
       "      <th>2007-01-08</th>\n",
       "      <td>13907</td>\n",
       "      <td>13907</td>\n",
       "      <td>13727</td>\n",
       "      <td>13783</td>\n",
       "      <td>1869083</td>\n",
       "      <td>-0.010482</td>\n",
       "    </tr>\n",
       "    <tr>\n",
       "      <th>2007-01-09</th>\n",
       "      <td>13795</td>\n",
       "      <td>13859</td>\n",
       "      <td>13766</td>\n",
       "      <td>13828</td>\n",
       "      <td>828783</td>\n",
       "      <td>0.003265</td>\n",
       "    </tr>\n",
       "    <tr>\n",
       "      <th>...</th>\n",
       "      <td>...</td>\n",
       "      <td>...</td>\n",
       "      <td>...</td>\n",
       "      <td>...</td>\n",
       "      <td>...</td>\n",
       "      <td>...</td>\n",
       "    </tr>\n",
       "    <tr>\n",
       "      <th>2022-05-19</th>\n",
       "      <td>34125</td>\n",
       "      <td>34450</td>\n",
       "      <td>34060</td>\n",
       "      <td>34370</td>\n",
       "      <td>6054919</td>\n",
       "      <td>-0.014339</td>\n",
       "    </tr>\n",
       "    <tr>\n",
       "      <th>2022-05-20</th>\n",
       "      <td>34515</td>\n",
       "      <td>35025</td>\n",
       "      <td>34485</td>\n",
       "      <td>34985</td>\n",
       "      <td>4661990</td>\n",
       "      <td>0.017894</td>\n",
       "    </tr>\n",
       "    <tr>\n",
       "      <th>2022-05-23</th>\n",
       "      <td>35135</td>\n",
       "      <td>35225</td>\n",
       "      <td>34915</td>\n",
       "      <td>35100</td>\n",
       "      <td>5876025</td>\n",
       "      <td>0.003287</td>\n",
       "    </tr>\n",
       "    <tr>\n",
       "      <th>2022-05-24</th>\n",
       "      <td>34950</td>\n",
       "      <td>35030</td>\n",
       "      <td>34450</td>\n",
       "      <td>34450</td>\n",
       "      <td>5416640</td>\n",
       "      <td>-0.018519</td>\n",
       "    </tr>\n",
       "    <tr>\n",
       "      <th>2022-05-25</th>\n",
       "      <td>34660</td>\n",
       "      <td>34825</td>\n",
       "      <td>34430</td>\n",
       "      <td>34595</td>\n",
       "      <td>3548710</td>\n",
       "      <td>0.004209</td>\n",
       "    </tr>\n",
       "  </tbody>\n",
       "</table>\n",
       "<p>3805 rows × 6 columns</p>\n",
       "</div>"
      ],
      "text/plain": [
       "             Open   High    Low  Close   Volume    Change\n",
       "Date                                                     \n",
       "2007-01-03  14451  14455  14195  14232  1106268 -0.014268\n",
       "2007-01-04  14181  14219  13952  14029   927311 -0.014264\n",
       "2007-01-05  14058  14065  13818  13929  2322080 -0.007128\n",
       "2007-01-08  13907  13907  13727  13783  1869083 -0.010482\n",
       "2007-01-09  13795  13859  13766  13828   828783  0.003265\n",
       "...           ...    ...    ...    ...      ...       ...\n",
       "2022-05-19  34125  34450  34060  34370  6054919 -0.014339\n",
       "2022-05-20  34515  35025  34485  34985  4661990  0.017894\n",
       "2022-05-23  35135  35225  34915  35100  5876025  0.003287\n",
       "2022-05-24  34950  35030  34450  34450  5416640 -0.018519\n",
       "2022-05-25  34660  34825  34430  34595  3548710  0.004209\n",
       "\n",
       "[3805 rows x 6 columns]"
      ]
     },
     "execution_count": 4,
     "metadata": {},
     "output_type": "execute_result"
    }
   ],
   "source": [
    "data = data.reset_index()\n",
    "\n",
    "data.columns = ['Date', 'Open', 'High', 'Low', 'Close', 'Volume', 'Change']\n",
    "data['Date'] = pd.to_datetime(data['Date'])\n",
    "\n",
    "data.index = data['Date']\n",
    "data.set_index('Date', inplace=True)\n",
    "\n",
    "data"
   ]
  },
  {
   "cell_type": "code",
   "execution_count": 9,
   "id": "6196bc26",
   "metadata": {
    "scrolled": false
   },
   "outputs": [
    {
     "name": "stdout",
     "output_type": "stream",
     "text": [
      "<class 'pandas.core.frame.DataFrame'>\n",
      "DatetimeIndex: 3805 entries, 2007-01-03 to 2022-05-25\n",
      "Data columns (total 6 columns):\n",
      " #   Column  Non-Null Count  Dtype  \n",
      "---  ------  --------------  -----  \n",
      " 0   Open    3805 non-null   int64  \n",
      " 1   High    3805 non-null   int64  \n",
      " 2   Low     3805 non-null   int64  \n",
      " 3   Close   3805 non-null   int64  \n",
      " 4   Volume  3805 non-null   int64  \n",
      " 5   Change  3805 non-null   float64\n",
      "dtypes: float64(1), int64(5)\n",
      "memory usage: 208.1 KB\n"
     ]
    }
   ],
   "source": [
    "data.info()"
   ]
  },
  {
   "cell_type": "code",
   "execution_count": 5,
   "id": "873243bc",
   "metadata": {
    "scrolled": true
   },
   "outputs": [
    {
     "data": {
      "image/png": "[encoded data removed]",
      "text/plain": [
       "<Figure size 1440x720 with 1 Axes>"
      ]
     },
     "metadata": {
      "needs_background": "light"
     },
     "output_type": "display_data"
    }
   ],
   "source": [
    "fig = plt.subplots(figsize=(20, 10))\n",
    "data['Close'].plot()\n",
    "plt.title(\"Kodex200 Stock Price\",fontsize=50)\n",
    "plt.xlabel('Date', fontsize=30)\n",
    "plt.ylabel('Close', fontsize=30)\n",
    "plt.show()"
   ]
  },
  {
   "cell_type": "code",
   "execution_count": 6,
   "id": "6ba7df99",
   "metadata": {
    "scrolled": true
   },
   "outputs": [],
   "source": [
    "target = []\n",
    "for i in range(data.shape[0]):\n",
    "    if data['Change'][i] >0:\n",
    "        target.append(1)\n",
    "    else:\n",
    "        target.append(0)\n",
    "data['Target'] = target"
   ]
  },
  {
   "cell_type": "code",
   "execution_count": 7,
   "id": "1775fbbb",
   "metadata": {},
   "outputs": [],
   "source": [
    "\n",
    "date_sentiment= pd.read_csv('date_sentiment.csv')\n",
    "\n"
   ]
  },
  {
   "cell_type": "code",
   "execution_count": 8,
   "id": "13ccc17a",
   "metadata": {},
   "outputs": [],
   "source": [
    "date_sentiment = date_sentiment.drop(['Unnamed: 0', 'Unnamed: 0.1', 'percent'], axis=1)"
   ]
  },
  {
   "cell_type": "code",
   "execution_count": 9,
   "id": "11045b59",
   "metadata": {},
   "outputs": [],
   "source": [
    "date_sentiment = date_sentiment.reset_index()"
   ]
  },
  {
   "cell_type": "code",
   "execution_count": 10,
   "id": "5392b6c8",
   "metadata": {},
   "outputs": [
    {
     "name": "stderr",
     "output_type": "stream",
     "text": [
      "<ipython-input-10-6036fe6b1b9d>:2: SettingWithCopyWarning: \n",
      "A value is trying to be set on a copy of a slice from a DataFrame\n",
      "\n",
      "See the caveats in the documentation: https://pandas.pydata.org/pandas-docs/stable/user_guide/indexing.html#returning-a-view-versus-a-copy\n",
      "  date_sentiment['Date'][i] = date_sentiment['Date'][i][:-4]\n"
     ]
    }
   ],
   "source": [
    "for i in range(len(date_sentiment)):\n",
    "    date_sentiment['Date'][i] = date_sentiment['Date'][i][:-4]\n",
    "    "
   ]
  },
  {
   "cell_type": "code",
   "execution_count": 11,
   "id": "b1d931f8",
   "metadata": {},
   "outputs": [
    {
     "name": "stderr",
     "output_type": "stream",
     "text": [
      "<ipython-input-11-cbe0d13ae7c6>:2: SettingWithCopyWarning: \n",
      "A value is trying to be set on a copy of a slice from a DataFrame\n",
      "\n",
      "See the caveats in the documentation: https://pandas.pydata.org/pandas-docs/stable/user_guide/indexing.html#returning-a-view-versus-a-copy\n",
      "  date_sentiment['Date'][i] = date_sentiment['Date'][i].replace('년','-').replace('월','-')\n"
     ]
    }
   ],
   "source": [
    "for i in range(len(date_sentiment)):\n",
    "    date_sentiment['Date'][i] = date_sentiment['Date'][i].replace('년','-').replace('월','-')"
   ]
  },
  {
   "cell_type": "code",
   "execution_count": 12,
   "id": "e4a6e017",
   "metadata": {},
   "outputs": [],
   "source": [
    "date_sentiment['Date'] = pd.to_datetime(date_sentiment['Date'])"
   ]
  },
  {
   "cell_type": "code",
   "execution_count": 13,
   "id": "cb52775f",
   "metadata": {},
   "outputs": [],
   "source": [
    "date_sentiment = date_sentiment.set_index('Date')"
   ]
  },
  {
   "cell_type": "code",
   "execution_count": 14,
   "id": "52faae36",
   "metadata": {},
   "outputs": [
    {
     "data": {
      "text/html": [
       "<div>\n",
       "<style scoped>\n",
       "    .dataframe tbody tr th:only-of-type {\n",
       "        vertical-align: middle;\n",
       "    }\n",
       "\n",
       "    .dataframe tbody tr th {\n",
       "        vertical-align: top;\n",
       "    }\n",
       "\n",
       "    .dataframe thead th {\n",
       "        text-align: right;\n",
       "    }\n",
       "</style>\n",
       "<table border=\"1\" class=\"dataframe\">\n",
       "  <thead>\n",
       "    <tr style=\"text-align: right;\">\n",
       "      <th></th>\n",
       "      <th>index</th>\n",
       "      <th>label_index</th>\n",
       "    </tr>\n",
       "    <tr>\n",
       "      <th>Date</th>\n",
       "      <th></th>\n",
       "      <th></th>\n",
       "    </tr>\n",
       "  </thead>\n",
       "  <tbody>\n",
       "    <tr>\n",
       "      <th>2007-01-02</th>\n",
       "      <td>0</td>\n",
       "      <td>0.000000</td>\n",
       "    </tr>\n",
       "    <tr>\n",
       "      <th>2007-01-03</th>\n",
       "      <td>1</td>\n",
       "      <td>0.000000</td>\n",
       "    </tr>\n",
       "    <tr>\n",
       "      <th>2007-01-05</th>\n",
       "      <td>2</td>\n",
       "      <td>1.000000</td>\n",
       "    </tr>\n",
       "    <tr>\n",
       "      <th>2007-01-08</th>\n",
       "      <td>3</td>\n",
       "      <td>1.000000</td>\n",
       "    </tr>\n",
       "    <tr>\n",
       "      <th>2007-01-10</th>\n",
       "      <td>4</td>\n",
       "      <td>0.000000</td>\n",
       "    </tr>\n",
       "    <tr>\n",
       "      <th>...</th>\n",
       "      <td>...</td>\n",
       "      <td>...</td>\n",
       "    </tr>\n",
       "    <tr>\n",
       "      <th>2022-05-16</th>\n",
       "      <td>3951</td>\n",
       "      <td>-0.454545</td>\n",
       "    </tr>\n",
       "    <tr>\n",
       "      <th>2022-05-17</th>\n",
       "      <td>3952</td>\n",
       "      <td>-0.400000</td>\n",
       "    </tr>\n",
       "    <tr>\n",
       "      <th>2022-05-18</th>\n",
       "      <td>3953</td>\n",
       "      <td>0.071429</td>\n",
       "    </tr>\n",
       "    <tr>\n",
       "      <th>2022-05-19</th>\n",
       "      <td>3954</td>\n",
       "      <td>-0.800000</td>\n",
       "    </tr>\n",
       "    <tr>\n",
       "      <th>2022-05-20</th>\n",
       "      <td>3955</td>\n",
       "      <td>-0.333333</td>\n",
       "    </tr>\n",
       "  </tbody>\n",
       "</table>\n",
       "<p>3956 rows × 2 columns</p>\n",
       "</div>"
      ],
      "text/plain": [
       "            index  label_index\n",
       "Date                          \n",
       "2007-01-02      0     0.000000\n",
       "2007-01-03      1     0.000000\n",
       "2007-01-05      2     1.000000\n",
       "2007-01-08      3     1.000000\n",
       "2007-01-10      4     0.000000\n",
       "...           ...          ...\n",
       "2022-05-16   3951    -0.454545\n",
       "2022-05-17   3952    -0.400000\n",
       "2022-05-18   3953     0.071429\n",
       "2022-05-19   3954    -0.800000\n",
       "2022-05-20   3955    -0.333333\n",
       "\n",
       "[3956 rows x 2 columns]"
      ]
     },
     "execution_count": 14,
     "metadata": {},
     "output_type": "execute_result"
    }
   ],
   "source": [
    "date_sentiment"
   ]
  },
  {
   "cell_type": "markdown",
   "id": "1b06195c",
   "metadata": {},
   "source": [
    "# 거시경제지표\n",
    "### 나스닥, 금값, 은값, 환율, 유가, 외환 시장"
   ]
  },
  {
   "cell_type": "code",
   "execution_count": 15,
   "id": "d4a8407b",
   "metadata": {
    "scrolled": true
   },
   "outputs": [
    {
     "data": {
      "text/html": [
       "<div>\n",
       "<style scoped>\n",
       "    .dataframe tbody tr th:only-of-type {\n",
       "        vertical-align: middle;\n",
       "    }\n",
       "\n",
       "    .dataframe tbody tr th {\n",
       "        vertical-align: top;\n",
       "    }\n",
       "\n",
       "    .dataframe thead th {\n",
       "        text-align: right;\n",
       "    }\n",
       "</style>\n",
       "<table border=\"1\" class=\"dataframe\">\n",
       "  <thead>\n",
       "    <tr style=\"text-align: right;\">\n",
       "      <th></th>\n",
       "      <th>NASDAQCOM</th>\n",
       "    </tr>\n",
       "    <tr>\n",
       "      <th>DATE</th>\n",
       "      <th></th>\n",
       "    </tr>\n",
       "  </thead>\n",
       "  <tbody>\n",
       "    <tr>\n",
       "      <th>2007-01-03</th>\n",
       "      <td>2423.16</td>\n",
       "    </tr>\n",
       "    <tr>\n",
       "      <th>2007-01-04</th>\n",
       "      <td>2453.43</td>\n",
       "    </tr>\n",
       "    <tr>\n",
       "      <th>2007-01-05</th>\n",
       "      <td>2434.25</td>\n",
       "    </tr>\n",
       "    <tr>\n",
       "      <th>2007-01-08</th>\n",
       "      <td>2438.20</td>\n",
       "    </tr>\n",
       "    <tr>\n",
       "      <th>2007-01-09</th>\n",
       "      <td>2443.83</td>\n",
       "    </tr>\n",
       "    <tr>\n",
       "      <th>...</th>\n",
       "      <td>...</td>\n",
       "    </tr>\n",
       "    <tr>\n",
       "      <th>2022-05-18</th>\n",
       "      <td>11418.15</td>\n",
       "    </tr>\n",
       "    <tr>\n",
       "      <th>2022-05-19</th>\n",
       "      <td>11388.50</td>\n",
       "    </tr>\n",
       "    <tr>\n",
       "      <th>2022-05-20</th>\n",
       "      <td>11354.62</td>\n",
       "    </tr>\n",
       "    <tr>\n",
       "      <th>2022-05-23</th>\n",
       "      <td>11535.27</td>\n",
       "    </tr>\n",
       "    <tr>\n",
       "      <th>2022-05-24</th>\n",
       "      <td>11264.45</td>\n",
       "    </tr>\n",
       "  </tbody>\n",
       "</table>\n",
       "<p>4015 rows × 1 columns</p>\n",
       "</div>"
      ],
      "text/plain": [
       "            NASDAQCOM\n",
       "DATE                 \n",
       "2007-01-03    2423.16\n",
       "2007-01-04    2453.43\n",
       "2007-01-05    2434.25\n",
       "2007-01-08    2438.20\n",
       "2007-01-09    2443.83\n",
       "...               ...\n",
       "2022-05-18   11418.15\n",
       "2022-05-19   11388.50\n",
       "2022-05-20   11354.62\n",
       "2022-05-23   11535.27\n",
       "2022-05-24   11264.45\n",
       "\n",
       "[4015 rows x 1 columns]"
      ]
     },
     "execution_count": 15,
     "metadata": {},
     "output_type": "execute_result"
    }
   ],
   "source": [
    "nasdaq_df = fdr.DataReader('NASDAQCOM', data_source='fred', start = '2007-01-02')\n",
    "nasdaq_df"
   ]
  },
  {
   "cell_type": "markdown",
   "id": "2b0005f5",
   "metadata": {},
   "source": [
    "### 나스닥"
   ]
  },
  {
   "cell_type": "code",
   "execution_count": 21,
   "id": "b3d75eae",
   "metadata": {
    "scrolled": true
   },
   "outputs": [
    {
     "data": {
      "image/png": "[encoded data removed]",
      "text/plain": [
       "<Figure size 432x288 with 1 Axes>"
      ]
     },
     "metadata": {
      "needs_background": "light"
     },
     "output_type": "display_data"
    }
   ],
   "source": [
    "fig = plt.subplots(figsize=(6, 4))\n",
    "nasdaq_df['NASDAQCOM'].plot()\n",
    "plt.title(\"Nasdaq Stock Price\",fontsize=30)\n",
    "plt.xlabel('Date', fontsize=15)\n",
    "\n",
    "plt.show()"
   ]
  },
  {
   "cell_type": "markdown",
   "id": "2d70f84c",
   "metadata": {},
   "source": [
    "### 다우종합지수"
   ]
  },
  {
   "cell_type": "code",
   "execution_count": 16,
   "id": "b846dabd",
   "metadata": {},
   "outputs": [
    {
     "data": {
      "text/html": [
       "<div>\n",
       "<style scoped>\n",
       "    .dataframe tbody tr th:only-of-type {\n",
       "        vertical-align: middle;\n",
       "    }\n",
       "\n",
       "    .dataframe tbody tr th {\n",
       "        vertical-align: top;\n",
       "    }\n",
       "\n",
       "    .dataframe thead th {\n",
       "        text-align: right;\n",
       "    }\n",
       "</style>\n",
       "<table border=\"1\" class=\"dataframe\">\n",
       "  <thead>\n",
       "    <tr style=\"text-align: right;\">\n",
       "      <th></th>\n",
       "      <th>Close</th>\n",
       "      <th>Open</th>\n",
       "      <th>High</th>\n",
       "      <th>Low</th>\n",
       "      <th>Volume</th>\n",
       "      <th>Change</th>\n",
       "    </tr>\n",
       "    <tr>\n",
       "      <th>Date</th>\n",
       "      <th></th>\n",
       "      <th></th>\n",
       "      <th></th>\n",
       "      <th></th>\n",
       "      <th></th>\n",
       "      <th></th>\n",
       "    </tr>\n",
       "  </thead>\n",
       "  <tbody>\n",
       "    <tr>\n",
       "      <th>2007-01-03</th>\n",
       "      <td>12474.52</td>\n",
       "      <td>12459.54</td>\n",
       "      <td>12580.35</td>\n",
       "      <td>12404.82</td>\n",
       "      <td>327200000.0</td>\n",
       "      <td>0.0009</td>\n",
       "    </tr>\n",
       "    <tr>\n",
       "      <th>2007-01-04</th>\n",
       "      <td>12480.69</td>\n",
       "      <td>12473.16</td>\n",
       "      <td>12510.41</td>\n",
       "      <td>12403.86</td>\n",
       "      <td>259060000.0</td>\n",
       "      <td>0.0005</td>\n",
       "    </tr>\n",
       "    <tr>\n",
       "      <th>2007-01-05</th>\n",
       "      <td>12398.01</td>\n",
       "      <td>12480.05</td>\n",
       "      <td>12480.13</td>\n",
       "      <td>12365.41</td>\n",
       "      <td>235220000.0</td>\n",
       "      <td>-0.0066</td>\n",
       "    </tr>\n",
       "    <tr>\n",
       "      <th>2007-01-08</th>\n",
       "      <td>12423.49</td>\n",
       "      <td>12392.01</td>\n",
       "      <td>12445.92</td>\n",
       "      <td>12337.37</td>\n",
       "      <td>223500000.0</td>\n",
       "      <td>0.0021</td>\n",
       "    </tr>\n",
       "    <tr>\n",
       "      <th>2007-01-09</th>\n",
       "      <td>12416.60</td>\n",
       "      <td>12424.77</td>\n",
       "      <td>12466.43</td>\n",
       "      <td>12369.17</td>\n",
       "      <td>225160000.0</td>\n",
       "      <td>-0.0006</td>\n",
       "    </tr>\n",
       "    <tr>\n",
       "      <th>...</th>\n",
       "      <td>...</td>\n",
       "      <td>...</td>\n",
       "      <td>...</td>\n",
       "      <td>...</td>\n",
       "      <td>...</td>\n",
       "      <td>...</td>\n",
       "    </tr>\n",
       "    <tr>\n",
       "      <th>2022-05-18</th>\n",
       "      <td>31493.56</td>\n",
       "      <td>32468.67</td>\n",
       "      <td>32468.67</td>\n",
       "      <td>31394.68</td>\n",
       "      <td>443960000.0</td>\n",
       "      <td>-0.0356</td>\n",
       "    </tr>\n",
       "    <tr>\n",
       "      <th>2022-05-19</th>\n",
       "      <td>31253.26</td>\n",
       "      <td>31262.62</td>\n",
       "      <td>31567.57</td>\n",
       "      <td>31018.06</td>\n",
       "      <td>503760000.0</td>\n",
       "      <td>-0.0076</td>\n",
       "    </tr>\n",
       "    <tr>\n",
       "      <th>2022-05-20</th>\n",
       "      <td>31260.58</td>\n",
       "      <td>31426.94</td>\n",
       "      <td>31514.07</td>\n",
       "      <td>30635.76</td>\n",
       "      <td>479030000.0</td>\n",
       "      <td>0.0002</td>\n",
       "    </tr>\n",
       "    <tr>\n",
       "      <th>2022-05-23</th>\n",
       "      <td>31880.64</td>\n",
       "      <td>31497.56</td>\n",
       "      <td>31968.42</td>\n",
       "      <td>31484.02</td>\n",
       "      <td>389260000.0</td>\n",
       "      <td>0.0198</td>\n",
       "    </tr>\n",
       "    <tr>\n",
       "      <th>2022-05-24</th>\n",
       "      <td>31931.06</td>\n",
       "      <td>31717.61</td>\n",
       "      <td>32014.86</td>\n",
       "      <td>31367.33</td>\n",
       "      <td>373850000.0</td>\n",
       "      <td>0.0016</td>\n",
       "    </tr>\n",
       "  </tbody>\n",
       "</table>\n",
       "<p>3876 rows × 6 columns</p>\n",
       "</div>"
      ],
      "text/plain": [
       "               Close      Open      High       Low       Volume  Change\n",
       "Date                                                                   \n",
       "2007-01-03  12474.52  12459.54  12580.35  12404.82  327200000.0  0.0009\n",
       "2007-01-04  12480.69  12473.16  12510.41  12403.86  259060000.0  0.0005\n",
       "2007-01-05  12398.01  12480.05  12480.13  12365.41  235220000.0 -0.0066\n",
       "2007-01-08  12423.49  12392.01  12445.92  12337.37  223500000.0  0.0021\n",
       "2007-01-09  12416.60  12424.77  12466.43  12369.17  225160000.0 -0.0006\n",
       "...              ...       ...       ...       ...          ...     ...\n",
       "2022-05-18  31493.56  32468.67  32468.67  31394.68  443960000.0 -0.0356\n",
       "2022-05-19  31253.26  31262.62  31567.57  31018.06  503760000.0 -0.0076\n",
       "2022-05-20  31260.58  31426.94  31514.07  30635.76  479030000.0  0.0002\n",
       "2022-05-23  31880.64  31497.56  31968.42  31484.02  389260000.0  0.0198\n",
       "2022-05-24  31931.06  31717.61  32014.86  31367.33  373850000.0  0.0016\n",
       "\n",
       "[3876 rows x 6 columns]"
      ]
     },
     "execution_count": 16,
     "metadata": {},
     "output_type": "execute_result"
    }
   ],
   "source": [
    "dji_df = fdr.DataReader('DJI', '2007-01-01')\n",
    "dji_df"
   ]
  },
  {
   "cell_type": "code",
   "execution_count": 23,
   "id": "fe4368d2",
   "metadata": {
    "scrolled": true
   },
   "outputs": [
    {
     "data": {
      "image/png": "[encoded data removed]",
      "text/plain": [
       "<Figure size 432x288 with 1 Axes>"
      ]
     },
     "metadata": {
      "needs_background": "light"
     },
     "output_type": "display_data"
    }
   ],
   "source": [
    "fig = plt.subplots(figsize=(6, 4))\n",
    "dji_df['Close'].plot()\n",
    "plt.title(\"DJI Stock Price\",fontsize=30)\n",
    "plt.xlabel('Date', fontsize=15)\n",
    "plt.ylabel('Close', fontsize=15)\n",
    "plt.show()"
   ]
  },
  {
   "cell_type": "markdown",
   "id": "d101842e",
   "metadata": {},
   "source": [
    "### 금 선물"
   ]
  },
  {
   "cell_type": "code",
   "execution_count": 24,
   "id": "c87f1141",
   "metadata": {
    "scrolled": true
   },
   "outputs": [
    {
     "data": {
      "text/html": [
       "<div>\n",
       "<style scoped>\n",
       "    .dataframe tbody tr th:only-of-type {\n",
       "        vertical-align: middle;\n",
       "    }\n",
       "\n",
       "    .dataframe tbody tr th {\n",
       "        vertical-align: top;\n",
       "    }\n",
       "\n",
       "    .dataframe thead th {\n",
       "        text-align: right;\n",
       "    }\n",
       "</style>\n",
       "<table border=\"1\" class=\"dataframe\">\n",
       "  <thead>\n",
       "    <tr style=\"text-align: right;\">\n",
       "      <th></th>\n",
       "      <th>Close</th>\n",
       "      <th>Open</th>\n",
       "      <th>High</th>\n",
       "      <th>Low</th>\n",
       "      <th>Volume</th>\n",
       "      <th>Change</th>\n",
       "    </tr>\n",
       "    <tr>\n",
       "      <th>Date</th>\n",
       "      <th></th>\n",
       "      <th></th>\n",
       "      <th></th>\n",
       "      <th></th>\n",
       "      <th></th>\n",
       "      <th></th>\n",
       "    </tr>\n",
       "  </thead>\n",
       "  <tbody>\n",
       "    <tr>\n",
       "      <th>2007-01-03</th>\n",
       "      <td>627.1</td>\n",
       "      <td>640.4</td>\n",
       "      <td>640.4</td>\n",
       "      <td>628.5</td>\n",
       "      <td>40.0</td>\n",
       "      <td>-0.0128</td>\n",
       "    </tr>\n",
       "    <tr>\n",
       "      <th>2007-01-05</th>\n",
       "      <td>604.9</td>\n",
       "      <td>623.7</td>\n",
       "      <td>623.7</td>\n",
       "      <td>617.3</td>\n",
       "      <td>530.0</td>\n",
       "      <td>-0.0305</td>\n",
       "    </tr>\n",
       "    <tr>\n",
       "      <th>2007-01-08</th>\n",
       "      <td>607.5</td>\n",
       "      <td>607.5</td>\n",
       "      <td>607.5</td>\n",
       "      <td>607.5</td>\n",
       "      <td>1000.0</td>\n",
       "      <td>0.0043</td>\n",
       "    </tr>\n",
       "    <tr>\n",
       "      <th>2007-01-30</th>\n",
       "      <td>644.2</td>\n",
       "      <td>643.0</td>\n",
       "      <td>647.5</td>\n",
       "      <td>640.8</td>\n",
       "      <td>25820.0</td>\n",
       "      <td>0.0017</td>\n",
       "    </tr>\n",
       "    <tr>\n",
       "      <th>2007-01-31</th>\n",
       "      <td>652.0</td>\n",
       "      <td>646.5</td>\n",
       "      <td>655.5</td>\n",
       "      <td>641.8</td>\n",
       "      <td>3050.0</td>\n",
       "      <td>0.0121</td>\n",
       "    </tr>\n",
       "    <tr>\n",
       "      <th>...</th>\n",
       "      <td>...</td>\n",
       "      <td>...</td>\n",
       "      <td>...</td>\n",
       "      <td>...</td>\n",
       "      <td>...</td>\n",
       "      <td>...</td>\n",
       "    </tr>\n",
       "    <tr>\n",
       "      <th>2022-05-18</th>\n",
       "      <td>1815.9</td>\n",
       "      <td>1813.2</td>\n",
       "      <td>1822.9</td>\n",
       "      <td>1805.0</td>\n",
       "      <td>150350.0</td>\n",
       "      <td>-0.0016</td>\n",
       "    </tr>\n",
       "    <tr>\n",
       "      <th>2022-05-19</th>\n",
       "      <td>1841.2</td>\n",
       "      <td>1815.1</td>\n",
       "      <td>1848.2</td>\n",
       "      <td>1808.4</td>\n",
       "      <td>175240.0</td>\n",
       "      <td>0.0139</td>\n",
       "    </tr>\n",
       "    <tr>\n",
       "      <th>2022-05-20</th>\n",
       "      <td>1842.1</td>\n",
       "      <td>1839.6</td>\n",
       "      <td>1847.8</td>\n",
       "      <td>1830.6</td>\n",
       "      <td>143050.0</td>\n",
       "      <td>0.0005</td>\n",
       "    </tr>\n",
       "    <tr>\n",
       "      <th>2022-05-23</th>\n",
       "      <td>1847.8</td>\n",
       "      <td>1844.4</td>\n",
       "      <td>1864.3</td>\n",
       "      <td>1843.3</td>\n",
       "      <td>163270.0</td>\n",
       "      <td>0.0031</td>\n",
       "    </tr>\n",
       "    <tr>\n",
       "      <th>2022-05-24</th>\n",
       "      <td>1865.4</td>\n",
       "      <td>1852.3</td>\n",
       "      <td>1869.1</td>\n",
       "      <td>1847.6</td>\n",
       "      <td>174760.0</td>\n",
       "      <td>0.0095</td>\n",
       "    </tr>\n",
       "  </tbody>\n",
       "</table>\n",
       "<p>3725 rows × 6 columns</p>\n",
       "</div>"
      ],
      "text/plain": [
       "             Close    Open    High     Low    Volume  Change\n",
       "Date                                                        \n",
       "2007-01-03   627.1   640.4   640.4   628.5      40.0 -0.0128\n",
       "2007-01-05   604.9   623.7   623.7   617.3     530.0 -0.0305\n",
       "2007-01-08   607.5   607.5   607.5   607.5    1000.0  0.0043\n",
       "2007-01-30   644.2   643.0   647.5   640.8   25820.0  0.0017\n",
       "2007-01-31   652.0   646.5   655.5   641.8    3050.0  0.0121\n",
       "...            ...     ...     ...     ...       ...     ...\n",
       "2022-05-18  1815.9  1813.2  1822.9  1805.0  150350.0 -0.0016\n",
       "2022-05-19  1841.2  1815.1  1848.2  1808.4  175240.0  0.0139\n",
       "2022-05-20  1842.1  1839.6  1847.8  1830.6  143050.0  0.0005\n",
       "2022-05-23  1847.8  1844.4  1864.3  1843.3  163270.0  0.0031\n",
       "2022-05-24  1865.4  1852.3  1869.1  1847.6  174760.0  0.0095\n",
       "\n",
       "[3725 rows x 6 columns]"
      ]
     },
     "execution_count": 24,
     "metadata": {},
     "output_type": "execute_result"
    }
   ],
   "source": [
    "gold_df = fdr.DataReader('ZG', start='2007-01-01')\n",
    "gold_df"
   ]
  },
  {
   "cell_type": "code",
   "execution_count": 25,
   "id": "82dd4e05",
   "metadata": {},
   "outputs": [
    {
     "data": {
      "image/png": "[encoded data removed]",
      "text/plain": [
       "<Figure size 432x288 with 1 Axes>"
      ]
     },
     "metadata": {
      "needs_background": "light"
     },
     "output_type": "display_data"
    }
   ],
   "source": [
    "fig = plt.subplots(figsize=(6, 4))\n",
    "gold_df['Close'].plot()\n",
    "plt.title(\"Gold Price\",fontsize=30)\n",
    "plt.xlabel('Date', fontsize=15)\n",
    "plt.ylabel('Close', fontsize=15)\n",
    "plt.show()"
   ]
  },
  {
   "cell_type": "markdown",
   "id": "0b15f054",
   "metadata": {},
   "source": [
    "### 은 선물"
   ]
  },
  {
   "cell_type": "code",
   "execution_count": 26,
   "id": "f7ceab47",
   "metadata": {},
   "outputs": [],
   "source": [
    "# silver_df = fdr.DataReader('ZI', start='2007-01-01')\n",
    "# silver_df"
   ]
  },
  {
   "cell_type": "code",
   "execution_count": 27,
   "id": "eba12081",
   "metadata": {
    "scrolled": true
   },
   "outputs": [],
   "source": [
    "# fig = plt.subplots(figsize=(6, 4))\n",
    "# silver_df['Close'].plot()\n",
    "# plt.title(\"Silver Price\",fontsize=30)\n",
    "# plt.xlabel('Date', fontsize=15)\n",
    "# plt.ylabel('Close', fontsize=15)\n",
    "# plt.show()"
   ]
  },
  {
   "cell_type": "markdown",
   "id": "aea5e88a",
   "metadata": {},
   "source": [
    "### 환율"
   ]
  },
  {
   "cell_type": "code",
   "execution_count": 17,
   "id": "11f8edb6",
   "metadata": {},
   "outputs": [],
   "source": [
    "usdkrw_df = fdr.DataReader('USD/KRW', '2007-01-01') # 달러 원화\n",
    "usdeur_df = fdr.DataReader('USD/EUR', '2007-01-01') # 달러 유로화\n",
    "usdcny_df = fdr.DataReader('USD/CNY', '2007-01-01') # 달러 위엔화"
   ]
  },
  {
   "cell_type": "code",
   "execution_count": 19,
   "id": "c890c54b",
   "metadata": {},
   "outputs": [
    {
     "data": {
      "text/html": [
       "<div>\n",
       "<style scoped>\n",
       "    .dataframe tbody tr th:only-of-type {\n",
       "        vertical-align: middle;\n",
       "    }\n",
       "\n",
       "    .dataframe tbody tr th {\n",
       "        vertical-align: top;\n",
       "    }\n",
       "\n",
       "    .dataframe thead th {\n",
       "        text-align: right;\n",
       "    }\n",
       "</style>\n",
       "<table border=\"1\" class=\"dataframe\">\n",
       "  <thead>\n",
       "    <tr style=\"text-align: right;\">\n",
       "      <th></th>\n",
       "      <th>Close</th>\n",
       "      <th>Open</th>\n",
       "      <th>High</th>\n",
       "      <th>Low</th>\n",
       "      <th>Change</th>\n",
       "    </tr>\n",
       "    <tr>\n",
       "      <th>Date</th>\n",
       "      <th></th>\n",
       "      <th></th>\n",
       "      <th></th>\n",
       "      <th></th>\n",
       "      <th></th>\n",
       "    </tr>\n",
       "  </thead>\n",
       "  <tbody>\n",
       "    <tr>\n",
       "      <th>2007-01-01</th>\n",
       "      <td>0.7576</td>\n",
       "      <td>0.7576</td>\n",
       "      <td>0.7590</td>\n",
       "      <td>0.7572</td>\n",
       "      <td>0.0001</td>\n",
       "    </tr>\n",
       "    <tr>\n",
       "      <th>2007-01-02</th>\n",
       "      <td>0.7530</td>\n",
       "      <td>0.7575</td>\n",
       "      <td>0.7578</td>\n",
       "      <td>0.7519</td>\n",
       "      <td>-0.0061</td>\n",
       "    </tr>\n",
       "    <tr>\n",
       "      <th>2007-01-03</th>\n",
       "      <td>0.7597</td>\n",
       "      <td>0.7532</td>\n",
       "      <td>0.7607</td>\n",
       "      <td>0.7522</td>\n",
       "      <td>0.0089</td>\n",
       "    </tr>\n",
       "    <tr>\n",
       "      <th>2007-01-04</th>\n",
       "      <td>0.7644</td>\n",
       "      <td>0.7594</td>\n",
       "      <td>0.7648</td>\n",
       "      <td>0.7584</td>\n",
       "      <td>0.0062</td>\n",
       "    </tr>\n",
       "    <tr>\n",
       "      <th>2007-01-05</th>\n",
       "      <td>0.7689</td>\n",
       "      <td>0.7641</td>\n",
       "      <td>0.7703</td>\n",
       "      <td>0.7628</td>\n",
       "      <td>0.0059</td>\n",
       "    </tr>\n",
       "    <tr>\n",
       "      <th>...</th>\n",
       "      <td>...</td>\n",
       "      <td>...</td>\n",
       "      <td>...</td>\n",
       "      <td>...</td>\n",
       "      <td>...</td>\n",
       "    </tr>\n",
       "    <tr>\n",
       "      <th>2022-05-19</th>\n",
       "      <td>0.9442</td>\n",
       "      <td>0.9551</td>\n",
       "      <td>0.9560</td>\n",
       "      <td>0.9427</td>\n",
       "      <td>-0.0114</td>\n",
       "    </tr>\n",
       "    <tr>\n",
       "      <th>2022-05-20</th>\n",
       "      <td>0.9466</td>\n",
       "      <td>0.9445</td>\n",
       "      <td>0.9495</td>\n",
       "      <td>0.9434</td>\n",
       "      <td>0.0025</td>\n",
       "    </tr>\n",
       "    <tr>\n",
       "      <th>2022-05-23</th>\n",
       "      <td>0.9352</td>\n",
       "      <td>0.9459</td>\n",
       "      <td>0.9471</td>\n",
       "      <td>0.9347</td>\n",
       "      <td>-0.0120</td>\n",
       "    </tr>\n",
       "    <tr>\n",
       "      <th>2022-05-24</th>\n",
       "      <td>0.9314</td>\n",
       "      <td>0.9354</td>\n",
       "      <td>0.9380</td>\n",
       "      <td>0.9302</td>\n",
       "      <td>-0.0041</td>\n",
       "    </tr>\n",
       "    <tr>\n",
       "      <th>2022-05-25</th>\n",
       "      <td>0.9384</td>\n",
       "      <td>0.9317</td>\n",
       "      <td>0.9396</td>\n",
       "      <td>0.9313</td>\n",
       "      <td>0.0075</td>\n",
       "    </tr>\n",
       "  </tbody>\n",
       "</table>\n",
       "<p>4018 rows × 5 columns</p>\n",
       "</div>"
      ],
      "text/plain": [
       "             Close    Open    High     Low  Change\n",
       "Date                                              \n",
       "2007-01-01  0.7576  0.7576  0.7590  0.7572  0.0001\n",
       "2007-01-02  0.7530  0.7575  0.7578  0.7519 -0.0061\n",
       "2007-01-03  0.7597  0.7532  0.7607  0.7522  0.0089\n",
       "2007-01-04  0.7644  0.7594  0.7648  0.7584  0.0062\n",
       "2007-01-05  0.7689  0.7641  0.7703  0.7628  0.0059\n",
       "...            ...     ...     ...     ...     ...\n",
       "2022-05-19  0.9442  0.9551  0.9560  0.9427 -0.0114\n",
       "2022-05-20  0.9466  0.9445  0.9495  0.9434  0.0025\n",
       "2022-05-23  0.9352  0.9459  0.9471  0.9347 -0.0120\n",
       "2022-05-24  0.9314  0.9354  0.9380  0.9302 -0.0041\n",
       "2022-05-25  0.9384  0.9317  0.9396  0.9313  0.0075\n",
       "\n",
       "[4018 rows x 5 columns]"
      ]
     },
     "execution_count": 19,
     "metadata": {},
     "output_type": "execute_result"
    }
   ],
   "source": [
    "usdeur_df"
   ]
  },
  {
   "cell_type": "code",
   "execution_count": 29,
   "id": "044c34b5",
   "metadata": {
    "scrolled": false
   },
   "outputs": [
    {
     "data": {
      "text/plain": [
       "<AxesSubplot:xlabel='Date'>"
      ]
     },
     "execution_count": 29,
     "metadata": {},
     "output_type": "execute_result"
    },
    {
     "data": {
      "image/png": "[encoded data removed]",
      "text/plain": [
       "<Figure size 1080x360 with 3 Axes>"
      ]
     },
     "metadata": {
      "needs_background": "light"
     },
     "output_type": "display_data"
    }
   ],
   "source": [
    "f, ax = plt.subplots(ncols=3)\n",
    "f.set_size_inches((15,5))\n",
    "\n",
    "\n",
    "usdkrw_df['Close'].plot(ax=ax[0])\n",
    "usdeur_df['Close'].plot(ax=ax[1])\n",
    "usdcny_df['Close'].plot(ax=ax[2])\n"
   ]
  },
  {
   "cell_type": "code",
   "execution_count": null,
   "id": "f524a604",
   "metadata": {},
   "outputs": [],
   "source": []
  },
  {
   "cell_type": "code",
   "execution_count": 30,
   "id": "5e07e0e6",
   "metadata": {},
   "outputs": [
    {
     "data": {
      "text/html": [
       "<div>\n",
       "<style scoped>\n",
       "    .dataframe tbody tr th:only-of-type {\n",
       "        vertical-align: middle;\n",
       "    }\n",
       "\n",
       "    .dataframe tbody tr th {\n",
       "        vertical-align: top;\n",
       "    }\n",
       "\n",
       "    .dataframe thead th {\n",
       "        text-align: right;\n",
       "    }\n",
       "</style>\n",
       "<table border=\"1\" class=\"dataframe\">\n",
       "  <thead>\n",
       "    <tr style=\"text-align: right;\">\n",
       "      <th></th>\n",
       "      <th>POILWTIUSDM</th>\n",
       "    </tr>\n",
       "    <tr>\n",
       "      <th>DATE</th>\n",
       "      <th></th>\n",
       "    </tr>\n",
       "  </thead>\n",
       "  <tbody>\n",
       "    <tr>\n",
       "      <th>2000-01-01</th>\n",
       "      <td>27.240000</td>\n",
       "    </tr>\n",
       "    <tr>\n",
       "      <th>2000-02-01</th>\n",
       "      <td>29.210000</td>\n",
       "    </tr>\n",
       "    <tr>\n",
       "      <th>2000-03-01</th>\n",
       "      <td>29.920000</td>\n",
       "    </tr>\n",
       "    <tr>\n",
       "      <th>2000-04-01</th>\n",
       "      <td>25.780000</td>\n",
       "    </tr>\n",
       "    <tr>\n",
       "      <th>2000-05-01</th>\n",
       "      <td>28.780000</td>\n",
       "    </tr>\n",
       "    <tr>\n",
       "      <th>...</th>\n",
       "      <td>...</td>\n",
       "    </tr>\n",
       "    <tr>\n",
       "      <th>2021-07-01</th>\n",
       "      <td>72.581818</td>\n",
       "    </tr>\n",
       "    <tr>\n",
       "      <th>2021-08-01</th>\n",
       "      <td>67.727273</td>\n",
       "    </tr>\n",
       "    <tr>\n",
       "      <th>2021-09-01</th>\n",
       "      <td>71.460455</td>\n",
       "    </tr>\n",
       "    <tr>\n",
       "      <th>2021-10-01</th>\n",
       "      <td>81.322857</td>\n",
       "    </tr>\n",
       "    <tr>\n",
       "      <th>2021-11-01</th>\n",
       "      <td>79.105000</td>\n",
       "    </tr>\n",
       "  </tbody>\n",
       "</table>\n",
       "<p>263 rows × 1 columns</p>\n",
       "</div>"
      ],
      "text/plain": [
       "            POILWTIUSDM\n",
       "DATE                   \n",
       "2000-01-01    27.240000\n",
       "2000-02-01    29.210000\n",
       "2000-03-01    29.920000\n",
       "2000-04-01    25.780000\n",
       "2000-05-01    28.780000\n",
       "...                 ...\n",
       "2021-07-01    72.581818\n",
       "2021-08-01    67.727273\n",
       "2021-09-01    71.460455\n",
       "2021-10-01    81.322857\n",
       "2021-11-01    79.105000\n",
       "\n",
       "[263 rows x 1 columns]"
      ]
     },
     "execution_count": 30,
     "metadata": {},
     "output_type": "execute_result"
    }
   ],
   "source": [
    "wt_df = pdr.DataReader('POILWTIUSDM', 'fred', start='2000-01-01')\n",
    "wt_df"
   ]
  },
  {
   "cell_type": "code",
   "execution_count": 31,
   "id": "130cb09c",
   "metadata": {
    "scrolled": true
   },
   "outputs": [
    {
     "data": {
      "text/plain": [
       "<AxesSubplot:xlabel='DATE'>"
      ]
     },
     "execution_count": 31,
     "metadata": {},
     "output_type": "execute_result"
    },
    {
     "data": {
      "image/png": "[encoded data removed]",
      "text/plain": [
       "<Figure size 432x288 with 1 Axes>"
      ]
     },
     "metadata": {
      "needs_background": "light"
     },
     "output_type": "display_data"
    }
   ],
   "source": [
    "fig = plt.subplots(figsize=(6, 4))\n",
    "wt_df['POILWTIUSDM'].plot()\n"
   ]
  },
  {
   "cell_type": "markdown",
   "id": "e35ba763",
   "metadata": {},
   "source": [
    "# 경제지표 df 만들기"
   ]
  },
  {
   "cell_type": "code",
   "execution_count": 32,
   "id": "2154d1fd",
   "metadata": {},
   "outputs": [],
   "source": [
    "#nasdaq_df, dji_df, gold_df, usdkrw_df, usdeur_df ,usdcny_df"
   ]
  },
  {
   "cell_type": "code",
   "execution_count": 33,
   "id": "855ca54e",
   "metadata": {
    "scrolled": true
   },
   "outputs": [
    {
     "name": "stdout",
     "output_type": "stream",
     "text": [
      "<class 'pandas.core.frame.DataFrame'>\n",
      "DatetimeIndex: 4014 entries, 2007-01-03 to 2022-05-23\n",
      "Data columns (total 1 columns):\n",
      " #   Column     Non-Null Count  Dtype  \n",
      "---  ------     --------------  -----  \n",
      " 0   NASDAQCOM  4014 non-null   float64\n",
      "dtypes: float64(1)\n",
      "memory usage: 62.7 KB\n"
     ]
    }
   ],
   "source": [
    "nasdaq_df.info()"
   ]
  },
  {
   "cell_type": "code",
   "execution_count": 34,
   "id": "faa93320",
   "metadata": {},
   "outputs": [],
   "source": [
    "date_sentiment = date_sentiment['label_index']"
   ]
  },
  {
   "cell_type": "code",
   "execution_count": 35,
   "id": "f75224d1",
   "metadata": {},
   "outputs": [],
   "source": [
    "nasdaq = nasdaq_df['NASDAQCOM']\n",
    "dji = dji_df['Close']\n",
    "gold = gold_df['Close']\n",
    "usdkrw = usdkrw_df['Close']\n",
    "usdeur = usdeur_df['Close']\n",
    "usdcny = usdcny_df['Close']"
   ]
  },
  {
   "cell_type": "code",
   "execution_count": 36,
   "id": "61b2cbad",
   "metadata": {},
   "outputs": [],
   "source": [
    "merge_df = pd.concat([nasdaq, dji, gold, usdkrw, usdeur, usdcny,date_sentiment],axis=1, join='inner')   #열방향(axis=1), 교집합(inner)"
   ]
  },
  {
   "cell_type": "code",
   "execution_count": 37,
   "id": "47c45a0b",
   "metadata": {},
   "outputs": [],
   "source": [
    "columns=['NASDAQ','DJI', 'GOLD', 'KRW', 'EUR', 'CNY', 'sentiment']"
   ]
  },
  {
   "cell_type": "code",
   "execution_count": 38,
   "id": "7dd7f0c1",
   "metadata": {},
   "outputs": [],
   "source": [
    "merge_df.columns= columns"
   ]
  },
  {
   "cell_type": "code",
   "execution_count": 39,
   "id": "0a476595",
   "metadata": {},
   "outputs": [
    {
     "name": "stdout",
     "output_type": "stream",
     "text": [
      "<class 'pandas.core.frame.DataFrame'>\n",
      "DatetimeIndex: 3664 entries, 2007-01-03 to 2022-05-20\n",
      "Data columns (total 7 columns):\n",
      " #   Column     Non-Null Count  Dtype  \n",
      "---  ------     --------------  -----  \n",
      " 0   NASDAQ     3664 non-null   float64\n",
      " 1   DJI        3664 non-null   float64\n",
      " 2   GOLD       3664 non-null   float64\n",
      " 3   KRW        3664 non-null   float64\n",
      " 4   EUR        3664 non-null   float64\n",
      " 5   CNY        3664 non-null   float64\n",
      " 6   sentiment  3664 non-null   float64\n",
      "dtypes: float64(7)\n",
      "memory usage: 229.0 KB\n"
     ]
    }
   ],
   "source": [
    "merge_df.info()"
   ]
  },
  {
   "cell_type": "code",
   "execution_count": 40,
   "id": "52842448",
   "metadata": {},
   "outputs": [
    {
     "name": "stdout",
     "output_type": "stream",
     "text": [
      "<class 'pandas.core.frame.DataFrame'>\n",
      "DatetimeIndex: 3805 entries, 2007-01-03 to 2022-05-25\n",
      "Data columns (total 7 columns):\n",
      " #   Column  Non-Null Count  Dtype  \n",
      "---  ------  --------------  -----  \n",
      " 0   Open    3805 non-null   int64  \n",
      " 1   High    3805 non-null   int64  \n",
      " 2   Low     3805 non-null   int64  \n",
      " 3   Close   3805 non-null   int64  \n",
      " 4   Volume  3805 non-null   int64  \n",
      " 5   Change  3805 non-null   float64\n",
      " 6   Target  3805 non-null   int64  \n",
      "dtypes: float64(1), int64(6)\n",
      "memory usage: 237.8 KB\n"
     ]
    }
   ],
   "source": [
    "data.info()"
   ]
  },
  {
   "cell_type": "markdown",
   "id": "b43cba7e",
   "metadata": {},
   "source": [
    "# kodex200, merge_df 중복되는 일자만 남기기"
   ]
  },
  {
   "cell_type": "code",
   "execution_count": 41,
   "id": "b2fe43f2",
   "metadata": {},
   "outputs": [
    {
     "data": {
      "text/html": [
       "<div>\n",
       "<style scoped>\n",
       "    .dataframe tbody tr th:only-of-type {\n",
       "        vertical-align: middle;\n",
       "    }\n",
       "\n",
       "    .dataframe tbody tr th {\n",
       "        vertical-align: top;\n",
       "    }\n",
       "\n",
       "    .dataframe thead th {\n",
       "        text-align: right;\n",
       "    }\n",
       "</style>\n",
       "<table border=\"1\" class=\"dataframe\">\n",
       "  <thead>\n",
       "    <tr style=\"text-align: right;\">\n",
       "      <th></th>\n",
       "      <th>Open</th>\n",
       "      <th>High</th>\n",
       "      <th>Low</th>\n",
       "      <th>Close</th>\n",
       "      <th>Volume</th>\n",
       "      <th>Change</th>\n",
       "      <th>Target</th>\n",
       "      <th>NASDAQ</th>\n",
       "      <th>DJI</th>\n",
       "      <th>GOLD</th>\n",
       "      <th>KRW</th>\n",
       "      <th>EUR</th>\n",
       "      <th>CNY</th>\n",
       "      <th>sentiment</th>\n",
       "    </tr>\n",
       "  </thead>\n",
       "  <tbody>\n",
       "    <tr>\n",
       "      <th>2007-01-03</th>\n",
       "      <td>14451</td>\n",
       "      <td>14455</td>\n",
       "      <td>14195</td>\n",
       "      <td>14232</td>\n",
       "      <td>1106268</td>\n",
       "      <td>-0.014268</td>\n",
       "      <td>0</td>\n",
       "      <td>2423.16</td>\n",
       "      <td>12474.52</td>\n",
       "      <td>627.1</td>\n",
       "      <td>926.15</td>\n",
       "      <td>0.7597</td>\n",
       "      <td>7.8160</td>\n",
       "      <td>0.000000</td>\n",
       "    </tr>\n",
       "    <tr>\n",
       "      <th>2007-01-05</th>\n",
       "      <td>14058</td>\n",
       "      <td>14065</td>\n",
       "      <td>13818</td>\n",
       "      <td>13929</td>\n",
       "      <td>2322080</td>\n",
       "      <td>-0.007128</td>\n",
       "      <td>0</td>\n",
       "      <td>2434.25</td>\n",
       "      <td>12398.01</td>\n",
       "      <td>604.9</td>\n",
       "      <td>934.45</td>\n",
       "      <td>0.7689</td>\n",
       "      <td>7.8090</td>\n",
       "      <td>1.000000</td>\n",
       "    </tr>\n",
       "    <tr>\n",
       "      <th>2007-01-08</th>\n",
       "      <td>13907</td>\n",
       "      <td>13907</td>\n",
       "      <td>13727</td>\n",
       "      <td>13783</td>\n",
       "      <td>1869083</td>\n",
       "      <td>-0.010482</td>\n",
       "      <td>0</td>\n",
       "      <td>2438.20</td>\n",
       "      <td>12423.49</td>\n",
       "      <td>607.5</td>\n",
       "      <td>938.10</td>\n",
       "      <td>0.7680</td>\n",
       "      <td>7.8127</td>\n",
       "      <td>1.000000</td>\n",
       "    </tr>\n",
       "    <tr>\n",
       "      <th>2007-02-02</th>\n",
       "      <td>13916</td>\n",
       "      <td>14214</td>\n",
       "      <td>13916</td>\n",
       "      <td>14208</td>\n",
       "      <td>1357483</td>\n",
       "      <td>0.021350</td>\n",
       "      <td>1</td>\n",
       "      <td>2475.88</td>\n",
       "      <td>12653.49</td>\n",
       "      <td>646.2</td>\n",
       "      <td>937.25</td>\n",
       "      <td>0.7712</td>\n",
       "      <td>7.7560</td>\n",
       "      <td>-1.000000</td>\n",
       "    </tr>\n",
       "    <tr>\n",
       "      <th>2007-02-05</th>\n",
       "      <td>14195</td>\n",
       "      <td>14284</td>\n",
       "      <td>14113</td>\n",
       "      <td>14300</td>\n",
       "      <td>1572882</td>\n",
       "      <td>0.006475</td>\n",
       "      <td>1</td>\n",
       "      <td>2470.60</td>\n",
       "      <td>12661.74</td>\n",
       "      <td>650.9</td>\n",
       "      <td>935.80</td>\n",
       "      <td>0.7733</td>\n",
       "      <td>7.7585</td>\n",
       "      <td>0.000000</td>\n",
       "    </tr>\n",
       "    <tr>\n",
       "      <th>...</th>\n",
       "      <td>...</td>\n",
       "      <td>...</td>\n",
       "      <td>...</td>\n",
       "      <td>...</td>\n",
       "      <td>...</td>\n",
       "      <td>...</td>\n",
       "      <td>...</td>\n",
       "      <td>...</td>\n",
       "      <td>...</td>\n",
       "      <td>...</td>\n",
       "      <td>...</td>\n",
       "      <td>...</td>\n",
       "      <td>...</td>\n",
       "      <td>...</td>\n",
       "    </tr>\n",
       "    <tr>\n",
       "      <th>2022-05-16</th>\n",
       "      <td>34850</td>\n",
       "      <td>34925</td>\n",
       "      <td>34395</td>\n",
       "      <td>34470</td>\n",
       "      <td>7376786</td>\n",
       "      <td>-0.003901</td>\n",
       "      <td>0</td>\n",
       "      <td>11662.79</td>\n",
       "      <td>32224.01</td>\n",
       "      <td>1814.0</td>\n",
       "      <td>1280.38</td>\n",
       "      <td>0.9583</td>\n",
       "      <td>6.7822</td>\n",
       "      <td>-0.454545</td>\n",
       "    </tr>\n",
       "    <tr>\n",
       "      <th>2022-05-17</th>\n",
       "      <td>34525</td>\n",
       "      <td>34850</td>\n",
       "      <td>34520</td>\n",
       "      <td>34805</td>\n",
       "      <td>3999458</td>\n",
       "      <td>0.009719</td>\n",
       "      <td>1</td>\n",
       "      <td>11984.52</td>\n",
       "      <td>32655.05</td>\n",
       "      <td>1818.9</td>\n",
       "      <td>1266.50</td>\n",
       "      <td>0.9478</td>\n",
       "      <td>6.7337</td>\n",
       "      <td>-0.400000</td>\n",
       "    </tr>\n",
       "    <tr>\n",
       "      <th>2022-05-18</th>\n",
       "      <td>34990</td>\n",
       "      <td>35145</td>\n",
       "      <td>34770</td>\n",
       "      <td>34870</td>\n",
       "      <td>6376438</td>\n",
       "      <td>0.001868</td>\n",
       "      <td>1</td>\n",
       "      <td>11418.15</td>\n",
       "      <td>31493.56</td>\n",
       "      <td>1815.9</td>\n",
       "      <td>1275.33</td>\n",
       "      <td>0.9551</td>\n",
       "      <td>6.7540</td>\n",
       "      <td>0.071429</td>\n",
       "    </tr>\n",
       "    <tr>\n",
       "      <th>2022-05-19</th>\n",
       "      <td>34125</td>\n",
       "      <td>34450</td>\n",
       "      <td>34060</td>\n",
       "      <td>34370</td>\n",
       "      <td>6054919</td>\n",
       "      <td>-0.014339</td>\n",
       "      <td>0</td>\n",
       "      <td>11388.50</td>\n",
       "      <td>31253.26</td>\n",
       "      <td>1841.2</td>\n",
       "      <td>1262.61</td>\n",
       "      <td>0.9442</td>\n",
       "      <td>6.7085</td>\n",
       "      <td>-0.800000</td>\n",
       "    </tr>\n",
       "    <tr>\n",
       "      <th>2022-05-20</th>\n",
       "      <td>34515</td>\n",
       "      <td>35025</td>\n",
       "      <td>34485</td>\n",
       "      <td>34985</td>\n",
       "      <td>4661990</td>\n",
       "      <td>0.017894</td>\n",
       "      <td>1</td>\n",
       "      <td>11354.62</td>\n",
       "      <td>31260.58</td>\n",
       "      <td>1842.1</td>\n",
       "      <td>1273.59</td>\n",
       "      <td>0.9466</td>\n",
       "      <td>6.6921</td>\n",
       "      <td>-0.333333</td>\n",
       "    </tr>\n",
       "  </tbody>\n",
       "</table>\n",
       "<p>3503 rows × 14 columns</p>\n",
       "</div>"
      ],
      "text/plain": [
       "             Open   High    Low  Close   Volume    Change  Target    NASDAQ  \\\n",
       "2007-01-03  14451  14455  14195  14232  1106268 -0.014268       0   2423.16   \n",
       "2007-01-05  14058  14065  13818  13929  2322080 -0.007128       0   2434.25   \n",
       "2007-01-08  13907  13907  13727  13783  1869083 -0.010482       0   2438.20   \n",
       "2007-02-02  13916  14214  13916  14208  1357483  0.021350       1   2475.88   \n",
       "2007-02-05  14195  14284  14113  14300  1572882  0.006475       1   2470.60   \n",
       "...           ...    ...    ...    ...      ...       ...     ...       ...   \n",
       "2022-05-16  34850  34925  34395  34470  7376786 -0.003901       0  11662.79   \n",
       "2022-05-17  34525  34850  34520  34805  3999458  0.009719       1  11984.52   \n",
       "2022-05-18  34990  35145  34770  34870  6376438  0.001868       1  11418.15   \n",
       "2022-05-19  34125  34450  34060  34370  6054919 -0.014339       0  11388.50   \n",
       "2022-05-20  34515  35025  34485  34985  4661990  0.017894       1  11354.62   \n",
       "\n",
       "                 DJI    GOLD      KRW     EUR     CNY  sentiment  \n",
       "2007-01-03  12474.52   627.1   926.15  0.7597  7.8160   0.000000  \n",
       "2007-01-05  12398.01   604.9   934.45  0.7689  7.8090   1.000000  \n",
       "2007-01-08  12423.49   607.5   938.10  0.7680  7.8127   1.000000  \n",
       "2007-02-02  12653.49   646.2   937.25  0.7712  7.7560  -1.000000  \n",
       "2007-02-05  12661.74   650.9   935.80  0.7733  7.7585   0.000000  \n",
       "...              ...     ...      ...     ...     ...        ...  \n",
       "2022-05-16  32224.01  1814.0  1280.38  0.9583  6.7822  -0.454545  \n",
       "2022-05-17  32655.05  1818.9  1266.50  0.9478  6.7337  -0.400000  \n",
       "2022-05-18  31493.56  1815.9  1275.33  0.9551  6.7540   0.071429  \n",
       "2022-05-19  31253.26  1841.2  1262.61  0.9442  6.7085  -0.800000  \n",
       "2022-05-20  31260.58  1842.1  1273.59  0.9466  6.6921  -0.333333  \n",
       "\n",
       "[3503 rows x 14 columns]"
      ]
     },
     "execution_count": 41,
     "metadata": {},
     "output_type": "execute_result"
    }
   ],
   "source": [
    "data_merge_df = pd.concat([data, merge_df],axis=1, join='inner')\n",
    "data_merge_df"
   ]
  },
  {
   "cell_type": "code",
   "execution_count": 42,
   "id": "c2d9ebf1",
   "metadata": {},
   "outputs": [],
   "source": [
    "kodex_df = data_merge_df.iloc[:,:7]"
   ]
  },
  {
   "cell_type": "code",
   "execution_count": 43,
   "id": "670fd5d4",
   "metadata": {},
   "outputs": [
    {
     "data": {
      "text/html": [
       "<div>\n",
       "<style scoped>\n",
       "    .dataframe tbody tr th:only-of-type {\n",
       "        vertical-align: middle;\n",
       "    }\n",
       "\n",
       "    .dataframe tbody tr th {\n",
       "        vertical-align: top;\n",
       "    }\n",
       "\n",
       "    .dataframe thead th {\n",
       "        text-align: right;\n",
       "    }\n",
       "</style>\n",
       "<table border=\"1\" class=\"dataframe\">\n",
       "  <thead>\n",
       "    <tr style=\"text-align: right;\">\n",
       "      <th></th>\n",
       "      <th>NASDAQ</th>\n",
       "      <th>DJI</th>\n",
       "      <th>GOLD</th>\n",
       "      <th>KRW</th>\n",
       "      <th>EUR</th>\n",
       "      <th>CNY</th>\n",
       "      <th>sentiment</th>\n",
       "    </tr>\n",
       "  </thead>\n",
       "  <tbody>\n",
       "    <tr>\n",
       "      <th>2007-01-03</th>\n",
       "      <td>2423.16</td>\n",
       "      <td>12474.52</td>\n",
       "      <td>627.1</td>\n",
       "      <td>926.15</td>\n",
       "      <td>0.7597</td>\n",
       "      <td>7.8160</td>\n",
       "      <td>0.0</td>\n",
       "    </tr>\n",
       "    <tr>\n",
       "      <th>2007-01-05</th>\n",
       "      <td>2434.25</td>\n",
       "      <td>12398.01</td>\n",
       "      <td>604.9</td>\n",
       "      <td>934.45</td>\n",
       "      <td>0.7689</td>\n",
       "      <td>7.8090</td>\n",
       "      <td>1.0</td>\n",
       "    </tr>\n",
       "    <tr>\n",
       "      <th>2007-01-08</th>\n",
       "      <td>2438.20</td>\n",
       "      <td>12423.49</td>\n",
       "      <td>607.5</td>\n",
       "      <td>938.10</td>\n",
       "      <td>0.7680</td>\n",
       "      <td>7.8127</td>\n",
       "      <td>1.0</td>\n",
       "    </tr>\n",
       "    <tr>\n",
       "      <th>2007-02-02</th>\n",
       "      <td>2475.88</td>\n",
       "      <td>12653.49</td>\n",
       "      <td>646.2</td>\n",
       "      <td>937.25</td>\n",
       "      <td>0.7712</td>\n",
       "      <td>7.7560</td>\n",
       "      <td>-1.0</td>\n",
       "    </tr>\n",
       "    <tr>\n",
       "      <th>2007-02-05</th>\n",
       "      <td>2470.60</td>\n",
       "      <td>12661.74</td>\n",
       "      <td>650.9</td>\n",
       "      <td>935.80</td>\n",
       "      <td>0.7733</td>\n",
       "      <td>7.7585</td>\n",
       "      <td>0.0</td>\n",
       "    </tr>\n",
       "  </tbody>\n",
       "</table>\n",
       "</div>"
      ],
      "text/plain": [
       "             NASDAQ       DJI   GOLD     KRW     EUR     CNY  sentiment\n",
       "2007-01-03  2423.16  12474.52  627.1  926.15  0.7597  7.8160        0.0\n",
       "2007-01-05  2434.25  12398.01  604.9  934.45  0.7689  7.8090        1.0\n",
       "2007-01-08  2438.20  12423.49  607.5  938.10  0.7680  7.8127        1.0\n",
       "2007-02-02  2475.88  12653.49  646.2  937.25  0.7712  7.7560       -1.0\n",
       "2007-02-05  2470.60  12661.74  650.9  935.80  0.7733  7.7585        0.0"
      ]
     },
     "execution_count": 43,
     "metadata": {},
     "output_type": "execute_result"
    }
   ],
   "source": [
    "economy_df = data_merge_df.iloc[:,7:]\n",
    "economy_df.head()"
   ]
  },
  {
   "cell_type": "code",
   "execution_count": null,
   "id": "95e3f270",
   "metadata": {},
   "outputs": [],
   "source": []
  },
  {
   "cell_type": "code",
   "execution_count": null,
   "id": "a04b6656",
   "metadata": {},
   "outputs": [],
   "source": []
  },
  {
   "cell_type": "markdown",
   "id": "f0334338",
   "metadata": {},
   "source": [
    "# Normalization"
   ]
  },
  {
   "cell_type": "code",
   "execution_count": 44,
   "id": "64c476fe",
   "metadata": {
    "scrolled": true
   },
   "outputs": [
    {
     "data": {
      "text/html": [
       "<div>\n",
       "<style scoped>\n",
       "    .dataframe tbody tr th:only-of-type {\n",
       "        vertical-align: middle;\n",
       "    }\n",
       "\n",
       "    .dataframe tbody tr th {\n",
       "        vertical-align: top;\n",
       "    }\n",
       "\n",
       "    .dataframe thead th {\n",
       "        text-align: right;\n",
       "    }\n",
       "</style>\n",
       "<table border=\"1\" class=\"dataframe\">\n",
       "  <thead>\n",
       "    <tr style=\"text-align: right;\">\n",
       "      <th></th>\n",
       "      <th>NASDAQ</th>\n",
       "      <th>DJI</th>\n",
       "      <th>GOLD</th>\n",
       "      <th>KRW</th>\n",
       "      <th>EUR</th>\n",
       "      <th>CNY</th>\n",
       "      <th>sentiment</th>\n",
       "    </tr>\n",
       "  </thead>\n",
       "  <tbody>\n",
       "    <tr>\n",
       "      <th>0</th>\n",
       "      <td>0.078067</td>\n",
       "      <td>0.195933</td>\n",
       "      <td>0.015314</td>\n",
       "      <td>0.037844</td>\n",
       "      <td>0.397633</td>\n",
       "      <td>1.000000</td>\n",
       "      <td>0.500000</td>\n",
       "    </tr>\n",
       "    <tr>\n",
       "      <th>1</th>\n",
       "      <td>0.078817</td>\n",
       "      <td>0.193404</td>\n",
       "      <td>0.000000</td>\n",
       "      <td>0.050235</td>\n",
       "      <td>0.424852</td>\n",
       "      <td>0.996056</td>\n",
       "      <td>1.000000</td>\n",
       "    </tr>\n",
       "    <tr>\n",
       "      <th>2</th>\n",
       "      <td>0.079084</td>\n",
       "      <td>0.194246</td>\n",
       "      <td>0.001793</td>\n",
       "      <td>0.055684</td>\n",
       "      <td>0.422189</td>\n",
       "      <td>0.998141</td>\n",
       "      <td>1.000000</td>\n",
       "    </tr>\n",
       "    <tr>\n",
       "      <th>3</th>\n",
       "      <td>0.081632</td>\n",
       "      <td>0.201848</td>\n",
       "      <td>0.028489</td>\n",
       "      <td>0.054415</td>\n",
       "      <td>0.431657</td>\n",
       "      <td>0.966193</td>\n",
       "      <td>0.000000</td>\n",
       "    </tr>\n",
       "    <tr>\n",
       "      <th>4</th>\n",
       "      <td>0.081275</td>\n",
       "      <td>0.202121</td>\n",
       "      <td>0.031731</td>\n",
       "      <td>0.052251</td>\n",
       "      <td>0.437870</td>\n",
       "      <td>0.967602</td>\n",
       "      <td>0.500000</td>\n",
       "    </tr>\n",
       "    <tr>\n",
       "      <th>...</th>\n",
       "      <td>...</td>\n",
       "      <td>...</td>\n",
       "      <td>...</td>\n",
       "      <td>...</td>\n",
       "      <td>...</td>\n",
       "      <td>...</td>\n",
       "      <td>...</td>\n",
       "    </tr>\n",
       "    <tr>\n",
       "      <th>3498</th>\n",
       "      <td>0.702839</td>\n",
       "      <td>0.848752</td>\n",
       "      <td>0.834035</td>\n",
       "      <td>0.566664</td>\n",
       "      <td>0.985207</td>\n",
       "      <td>0.417512</td>\n",
       "      <td>0.272727</td>\n",
       "    </tr>\n",
       "    <tr>\n",
       "      <th>3499</th>\n",
       "      <td>0.724594</td>\n",
       "      <td>0.863000</td>\n",
       "      <td>0.837415</td>\n",
       "      <td>0.545943</td>\n",
       "      <td>0.954142</td>\n",
       "      <td>0.390185</td>\n",
       "      <td>0.300000</td>\n",
       "    </tr>\n",
       "    <tr>\n",
       "      <th>3500</th>\n",
       "      <td>0.686297</td>\n",
       "      <td>0.824607</td>\n",
       "      <td>0.835345</td>\n",
       "      <td>0.559125</td>\n",
       "      <td>0.975740</td>\n",
       "      <td>0.401623</td>\n",
       "      <td>0.535714</td>\n",
       "    </tr>\n",
       "    <tr>\n",
       "      <th>3501</th>\n",
       "      <td>0.684292</td>\n",
       "      <td>0.816664</td>\n",
       "      <td>0.852797</td>\n",
       "      <td>0.540136</td>\n",
       "      <td>0.943491</td>\n",
       "      <td>0.375986</td>\n",
       "      <td>0.100000</td>\n",
       "    </tr>\n",
       "    <tr>\n",
       "      <th>3502</th>\n",
       "      <td>0.682001</td>\n",
       "      <td>0.816906</td>\n",
       "      <td>0.853418</td>\n",
       "      <td>0.556528</td>\n",
       "      <td>0.950592</td>\n",
       "      <td>0.366746</td>\n",
       "      <td>0.333333</td>\n",
       "    </tr>\n",
       "  </tbody>\n",
       "</table>\n",
       "<p>3503 rows × 7 columns</p>\n",
       "</div>"
      ],
      "text/plain": [
       "        NASDAQ       DJI      GOLD       KRW       EUR       CNY  sentiment\n",
       "0     0.078067  0.195933  0.015314  0.037844  0.397633  1.000000   0.500000\n",
       "1     0.078817  0.193404  0.000000  0.050235  0.424852  0.996056   1.000000\n",
       "2     0.079084  0.194246  0.001793  0.055684  0.422189  0.998141   1.000000\n",
       "3     0.081632  0.201848  0.028489  0.054415  0.431657  0.966193   0.000000\n",
       "4     0.081275  0.202121  0.031731  0.052251  0.437870  0.967602   0.500000\n",
       "...        ...       ...       ...       ...       ...       ...        ...\n",
       "3498  0.702839  0.848752  0.834035  0.566664  0.985207  0.417512   0.272727\n",
       "3499  0.724594  0.863000  0.837415  0.545943  0.954142  0.390185   0.300000\n",
       "3500  0.686297  0.824607  0.835345  0.559125  0.975740  0.401623   0.535714\n",
       "3501  0.684292  0.816664  0.852797  0.540136  0.943491  0.375986   0.100000\n",
       "3502  0.682001  0.816906  0.853418  0.556528  0.950592  0.366746   0.333333\n",
       "\n",
       "[3503 rows x 7 columns]"
      ]
     },
     "execution_count": 44,
     "metadata": {},
     "output_type": "execute_result"
    }
   ],
   "source": [
    "scaler = MinMaxScaler()\n",
    "\n",
    "columns=['NASDAQ','DJI', 'GOLD', 'KRW', 'EUR', 'CNY', 'sentiment']\n",
    "# 스케일 후 columns\n",
    "scaled_data = scaler.fit_transform(economy_df[columns])\n",
    "scaled_data\n",
    "\n",
    "scaled_economy_df = pd.DataFrame(scaled_data, columns=columns)\n",
    "scaled_economy_df"
   ]
  },
  {
   "cell_type": "code",
   "execution_count": 45,
   "id": "bae4f816",
   "metadata": {},
   "outputs": [
    {
     "data": {
      "text/plain": [
       "array([[0.1474378 , 0.12676938, 0.14295473, ..., 0.01383945, 0.34209774,\n",
       "        0.        ],\n",
       "       [0.13576985, 0.11514736, 0.13175716, ..., 0.03345628, 0.37079408,\n",
       "        0.        ],\n",
       "       [0.13128674, 0.11043895, 0.12905429, ..., 0.02614729, 0.35731514,\n",
       "        0.        ],\n",
       "       ...,\n",
       "       [0.75722938, 0.74333224, 0.75406915, ..., 0.09887234, 0.40694936,\n",
       "        1.        ],\n",
       "       [0.73154801, 0.72262121, 0.73298087, ..., 0.09368471, 0.3418121 ,\n",
       "        0.        ],\n",
       "       [0.74312689, 0.73975624, 0.74560413, ..., 0.07121015, 0.47136091,\n",
       "        1.        ]])"
      ]
     },
     "execution_count": 45,
     "metadata": {},
     "output_type": "execute_result"
    }
   ],
   "source": [
    "scaler = MinMaxScaler()\n",
    "\n",
    "columns = ['Open', 'High', 'Low', 'Close', 'Volume','Change', 'Target']\n",
    "# 스케일 후 columns\n",
    "scaled_data = scaler.fit_transform(kodex_df[columns])\n",
    "scaled_data\n"
   ]
  },
  {
   "cell_type": "code",
   "execution_count": 46,
   "id": "f6f1a569",
   "metadata": {
    "scrolled": false
   },
   "outputs": [
    {
     "data": {
      "text/html": [
       "<div>\n",
       "<style scoped>\n",
       "    .dataframe tbody tr th:only-of-type {\n",
       "        vertical-align: middle;\n",
       "    }\n",
       "\n",
       "    .dataframe tbody tr th {\n",
       "        vertical-align: top;\n",
       "    }\n",
       "\n",
       "    .dataframe thead th {\n",
       "        text-align: right;\n",
       "    }\n",
       "</style>\n",
       "<table border=\"1\" class=\"dataframe\">\n",
       "  <thead>\n",
       "    <tr style=\"text-align: right;\">\n",
       "      <th></th>\n",
       "      <th>Open</th>\n",
       "      <th>High</th>\n",
       "      <th>Low</th>\n",
       "      <th>Close</th>\n",
       "      <th>Volume</th>\n",
       "      <th>Change</th>\n",
       "      <th>Target</th>\n",
       "    </tr>\n",
       "  </thead>\n",
       "  <tbody>\n",
       "    <tr>\n",
       "      <th>0</th>\n",
       "      <td>0.147438</td>\n",
       "      <td>0.126769</td>\n",
       "      <td>0.142955</td>\n",
       "      <td>0.132393</td>\n",
       "      <td>0.013839</td>\n",
       "      <td>0.342098</td>\n",
       "      <td>0.0</td>\n",
       "    </tr>\n",
       "    <tr>\n",
       "      <th>1</th>\n",
       "      <td>0.135770</td>\n",
       "      <td>0.115147</td>\n",
       "      <td>0.131757</td>\n",
       "      <td>0.123301</td>\n",
       "      <td>0.033456</td>\n",
       "      <td>0.370794</td>\n",
       "      <td>0.0</td>\n",
       "    </tr>\n",
       "    <tr>\n",
       "      <th>2</th>\n",
       "      <td>0.131287</td>\n",
       "      <td>0.110439</td>\n",
       "      <td>0.129054</td>\n",
       "      <td>0.118920</td>\n",
       "      <td>0.026147</td>\n",
       "      <td>0.357315</td>\n",
       "      <td>0.0</td>\n",
       "    </tr>\n",
       "    <tr>\n",
       "      <th>3</th>\n",
       "      <td>0.131554</td>\n",
       "      <td>0.119588</td>\n",
       "      <td>0.134668</td>\n",
       "      <td>0.131673</td>\n",
       "      <td>0.017893</td>\n",
       "      <td>0.485253</td>\n",
       "      <td>1.0</td>\n",
       "    </tr>\n",
       "    <tr>\n",
       "      <th>4</th>\n",
       "      <td>0.139837</td>\n",
       "      <td>0.121674</td>\n",
       "      <td>0.140519</td>\n",
       "      <td>0.134434</td>\n",
       "      <td>0.021368</td>\n",
       "      <td>0.425469</td>\n",
       "      <td>1.0</td>\n",
       "    </tr>\n",
       "    <tr>\n",
       "      <th>...</th>\n",
       "      <td>...</td>\n",
       "      <td>...</td>\n",
       "      <td>...</td>\n",
       "      <td>...</td>\n",
       "      <td>...</td>\n",
       "      <td>...</td>\n",
       "      <td>...</td>\n",
       "    </tr>\n",
       "    <tr>\n",
       "      <th>3498</th>\n",
       "      <td>0.753073</td>\n",
       "      <td>0.736776</td>\n",
       "      <td>0.742931</td>\n",
       "      <td>0.739685</td>\n",
       "      <td>0.115013</td>\n",
       "      <td>0.383764</td>\n",
       "      <td>0.0</td>\n",
       "    </tr>\n",
       "    <tr>\n",
       "      <th>3499</th>\n",
       "      <td>0.743424</td>\n",
       "      <td>0.734541</td>\n",
       "      <td>0.746644</td>\n",
       "      <td>0.749737</td>\n",
       "      <td>0.060520</td>\n",
       "      <td>0.438504</td>\n",
       "      <td>1.0</td>\n",
       "    </tr>\n",
       "    <tr>\n",
       "      <th>3500</th>\n",
       "      <td>0.757229</td>\n",
       "      <td>0.743332</td>\n",
       "      <td>0.754069</td>\n",
       "      <td>0.751688</td>\n",
       "      <td>0.098872</td>\n",
       "      <td>0.406949</td>\n",
       "      <td>1.0</td>\n",
       "    </tr>\n",
       "    <tr>\n",
       "      <th>3501</th>\n",
       "      <td>0.731548</td>\n",
       "      <td>0.722621</td>\n",
       "      <td>0.732981</td>\n",
       "      <td>0.736684</td>\n",
       "      <td>0.093685</td>\n",
       "      <td>0.341812</td>\n",
       "      <td>0.0</td>\n",
       "    </tr>\n",
       "    <tr>\n",
       "      <th>3502</th>\n",
       "      <td>0.743127</td>\n",
       "      <td>0.739756</td>\n",
       "      <td>0.745604</td>\n",
       "      <td>0.755139</td>\n",
       "      <td>0.071210</td>\n",
       "      <td>0.471361</td>\n",
       "      <td>1.0</td>\n",
       "    </tr>\n",
       "  </tbody>\n",
       "</table>\n",
       "<p>3503 rows × 7 columns</p>\n",
       "</div>"
      ],
      "text/plain": [
       "          Open      High       Low     Close    Volume    Change  Target\n",
       "0     0.147438  0.126769  0.142955  0.132393  0.013839  0.342098     0.0\n",
       "1     0.135770  0.115147  0.131757  0.123301  0.033456  0.370794     0.0\n",
       "2     0.131287  0.110439  0.129054  0.118920  0.026147  0.357315     0.0\n",
       "3     0.131554  0.119588  0.134668  0.131673  0.017893  0.485253     1.0\n",
       "4     0.139837  0.121674  0.140519  0.134434  0.021368  0.425469     1.0\n",
       "...        ...       ...       ...       ...       ...       ...     ...\n",
       "3498  0.753073  0.736776  0.742931  0.739685  0.115013  0.383764     0.0\n",
       "3499  0.743424  0.734541  0.746644  0.749737  0.060520  0.438504     1.0\n",
       "3500  0.757229  0.743332  0.754069  0.751688  0.098872  0.406949     1.0\n",
       "3501  0.731548  0.722621  0.732981  0.736684  0.093685  0.341812     0.0\n",
       "3502  0.743127  0.739756  0.745604  0.755139  0.071210  0.471361     1.0\n",
       "\n",
       "[3503 rows x 7 columns]"
      ]
     },
     "execution_count": 46,
     "metadata": {},
     "output_type": "execute_result"
    }
   ],
   "source": [
    "scaled_kodex_df = pd.DataFrame(scaled_data, columns=columns)\n",
    "scaled_kodex_df"
   ]
  },
  {
   "cell_type": "code",
   "execution_count": null,
   "id": "f621fb7a",
   "metadata": {},
   "outputs": [],
   "source": []
  },
  {
   "cell_type": "markdown",
   "id": "6d867977",
   "metadata": {},
   "source": [
    "# 다변수 LSTM  (경제지표) 분류"
   ]
  },
  {
   "cell_type": "code",
   "execution_count": 47,
   "id": "c2c1b572",
   "metadata": {},
   "outputs": [
    {
     "data": {
      "text/plain": [
       "0       0.0\n",
       "1       0.0\n",
       "2       0.0\n",
       "3       1.0\n",
       "4       1.0\n",
       "       ... \n",
       "3498    0.0\n",
       "3499    1.0\n",
       "3500    1.0\n",
       "3501    0.0\n",
       "3502    1.0\n",
       "Name: Target, Length: 3503, dtype: float64"
      ]
     },
     "execution_count": 47,
     "metadata": {},
     "output_type": "execute_result"
    }
   ],
   "source": [
    "\n",
    "label= scaled_kodex_df['Target']\n",
    "label"
   ]
  },
  {
   "cell_type": "code",
   "execution_count": 48,
   "id": "0e390b0f",
   "metadata": {},
   "outputs": [
    {
     "data": {
      "text/plain": [
       "3452"
      ]
     },
     "execution_count": 48,
     "metadata": {},
     "output_type": "execute_result"
    }
   ],
   "source": [
    "# create windows\n",
    "# 최근 50일간의 데이터를 바탕으로 다음날 예측\n",
    "window_size = 50\n",
    "sequence_length = window_size + 1\n",
    "\n",
    "result = []\n",
    "label_list = []\n",
    "for index in range(len(scaled_economy_df) - sequence_length):\n",
    "    result.append(scaled_economy_df[index:index+window_size])\n",
    "    label_list.append(label[index+window_size])\n",
    "len(result)\n",
    "#3452개의 window 생성"
   ]
  },
  {
   "cell_type": "code",
   "execution_count": 49,
   "id": "8c8f4b90",
   "metadata": {},
   "outputs": [
    {
     "name": "stdout",
     "output_type": "stream",
     "text": [
      "(3452, 50, 7) (3452,)\n"
     ]
    }
   ],
   "source": [
    "x = np.array(result)\n",
    "y = np.array(label_list)\n",
    "print(x.shape,y.shape)\n"
   ]
  },
  {
   "cell_type": "code",
   "execution_count": 50,
   "id": "19f4c4ab",
   "metadata": {
    "scrolled": true
   },
   "outputs": [
    {
     "name": "stdout",
     "output_type": "stream",
     "text": [
      "(3352, 50, 7) (3352,)\n",
      "(100, 50, 7) (100,)\n"
     ]
    }
   ],
   "source": [
    "split = -100\n",
    "\n",
    "x_train = x[:split]\n",
    "y_train = y[:split]\n",
    "\n",
    "x_test = x[split:]\n",
    "y_test = y[split:]\n",
    "print(x_train.shape,y_train.shape)\n",
    "print(x_test.shape,y_test.shape)"
   ]
  },
  {
   "cell_type": "code",
   "execution_count": 51,
   "id": "5e84641b",
   "metadata": {},
   "outputs": [
    {
     "name": "stdout",
     "output_type": "stream",
     "text": [
      "Model: \"sequential\"\n",
      "_________________________________________________________________\n",
      "Layer (type)                 Output Shape              Param #   \n",
      "=================================================================\n",
      "lstm (LSTM)                  (None, 50, 50)            11600     \n",
      "_________________________________________________________________\n",
      "lstm_1 (LSTM)                (None, 64)                29440     \n",
      "_________________________________________________________________\n",
      "dense (Dense)                (None, 1)                 65        \n",
      "=================================================================\n",
      "Total params: 41,105\n",
      "Trainable params: 41,105\n",
      "Non-trainable params: 0\n",
      "_________________________________________________________________\n"
     ]
    }
   ],
   "source": [
    "model = Sequential()\n",
    "\n",
    "model.add(LSTM(50, return_sequences=True, input_shape=(50,7))) # 50 -> window size\n",
    "\n",
    "model.add(LSTM(64, return_sequences=False))\n",
    "\n",
    "model.add(Dense(1,activation='sigmoid')) # 다음날 하루 예측\n",
    "\n",
    "model.compile(optimizer='adam', loss='binary_crossentropy',metrics=['accuracy'])\n",
    "\n",
    "model.summary()"
   ]
  },
  {
   "cell_type": "code",
   "execution_count": 52,
   "id": "4cd67fc2",
   "metadata": {
    "scrolled": true
   },
   "outputs": [
    {
     "name": "stdout",
     "output_type": "stream",
     "text": [
      "Epoch 1/10\n",
      "336/336 [==============================] - 25s 23ms/step - loss: 0.6922 - accuracy: 0.5302 - val_loss: 0.6911 - val_accuracy: 0.5500\n",
      "Epoch 2/10\n",
      "336/336 [==============================] - 7s 20ms/step - loss: 0.6907 - accuracy: 0.5300 - val_loss: 0.6930 - val_accuracy: 0.5000\n",
      "Epoch 3/10\n",
      "336/336 [==============================] - 7s 20ms/step - loss: 0.6922 - accuracy: 0.5080 - val_loss: 0.6974 - val_accuracy: 0.4600\n",
      "Epoch 4/10\n",
      "336/336 [==============================] - 7s 20ms/step - loss: 0.6914 - accuracy: 0.5233 - val_loss: 0.6993 - val_accuracy: 0.4600\n",
      "Epoch 5/10\n",
      "336/336 [==============================] - 7s 20ms/step - loss: 0.6911 - accuracy: 0.5253 - val_loss: 0.6933 - val_accuracy: 0.5100\n",
      "Epoch 6/10\n",
      "336/336 [==============================] - 7s 21ms/step - loss: 0.6923 - accuracy: 0.5267 - val_loss: 0.6955 - val_accuracy: 0.4600\n",
      "Epoch 7/10\n",
      "336/336 [==============================] - 7s 20ms/step - loss: 0.6907 - accuracy: 0.5230 - val_loss: 0.6996 - val_accuracy: 0.4600\n",
      "Epoch 8/10\n",
      "336/336 [==============================] - 7s 20ms/step - loss: 0.6914 - accuracy: 0.5202 - val_loss: 0.6976 - val_accuracy: 0.4600\n",
      "Epoch 9/10\n",
      "336/336 [==============================] - 7s 20ms/step - loss: 0.6899 - accuracy: 0.5296 - val_loss: 0.6960 - val_accuracy: 0.4600\n",
      "Epoch 10/10\n",
      "336/336 [==============================] - 7s 20ms/step - loss: 0.6909 - accuracy: 0.5164 - val_loss: 0.6973 - val_accuracy: 0.4600\n"
     ]
    },
    {
     "data": {
      "text/plain": [
       "<keras.callbacks.History at 0x240ccabe1c0>"
      ]
     },
     "execution_count": 52,
     "metadata": {},
     "output_type": "execute_result"
    }
   ],
   "source": [
    "model.fit(x_train, y_train,\n",
    "    validation_data=(x_test, y_test),\n",
    "    batch_size=10,\n",
    "    epochs=10)"
   ]
  },
  {
   "cell_type": "code",
   "execution_count": 53,
   "id": "287d8330",
   "metadata": {},
   "outputs": [
    {
     "data": {
      "text/plain": [
       "50"
      ]
     },
     "execution_count": 53,
     "metadata": {},
     "output_type": "execute_result"
    }
   ],
   "source": [
    "x_test[-1].shape[0]"
   ]
  },
  {
   "cell_type": "code",
   "execution_count": 54,
   "id": "cb06e62a",
   "metadata": {},
   "outputs": [
    {
     "data": {
      "text/plain": [
       "(100, 50, 7)"
      ]
     },
     "execution_count": 54,
     "metadata": {},
     "output_type": "execute_result"
    }
   ],
   "source": [
    "x_test.shape"
   ]
  },
  {
   "cell_type": "markdown",
   "id": "ac5bbe29",
   "metadata": {},
   "source": [
    "# 마지막날 예측 \n",
    "ex> 날짜 -> 그 날부터 22-5-20까지 추가 , db 업뎃\n",
    "    -> 예측 "
   ]
  },
  {
   "cell_type": "code",
   "execution_count": 55,
   "id": "3086fa12",
   "metadata": {},
   "outputs": [
    {
     "data": {
      "text/plain": [
       "(1, 50, 7)"
      ]
     },
     "execution_count": 55,
     "metadata": {},
     "output_type": "execute_result"
    }
   ],
   "source": [
    "temp = np.reshape(x_test[-1], (1, x_test[-1].shape[0],x_test[-1].shape[1]))\n",
    "temp.shape"
   ]
  },
  {
   "cell_type": "code",
   "execution_count": 56,
   "id": "21ce29f1",
   "metadata": {
    "scrolled": true
   },
   "outputs": [
    {
     "data": {
      "text/plain": [
       "array([[0.547019]], dtype=float32)"
      ]
     },
     "execution_count": 56,
     "metadata": {},
     "output_type": "execute_result"
    }
   ],
   "source": [
    "model.predict(temp)"
   ]
  },
  {
   "cell_type": "code",
   "execution_count": null,
   "id": "3dcee974",
   "metadata": {},
   "outputs": [],
   "source": []
  },
  {
   "cell_type": "code",
   "execution_count": null,
   "id": "d39b9cbe",
   "metadata": {},
   "outputs": [],
   "source": []
  },
  {
   "cell_type": "code",
   "execution_count": null,
   "id": "64071cc0",
   "metadata": {},
   "outputs": [],
   "source": []
  },
  {
   "cell_type": "code",
   "execution_count": null,
   "id": "f8aba23a",
   "metadata": {},
   "outputs": [],
   "source": []
  },
  {
   "cell_type": "code",
   "execution_count": null,
   "id": "4e645910",
   "metadata": {},
   "outputs": [],
   "source": []
  },
  {
   "cell_type": "code",
   "execution_count": null,
   "id": "8a474db4",
   "metadata": {},
   "outputs": [],
   "source": []
  },
  {
   "cell_type": "code",
   "execution_count": null,
   "id": "5828db84",
   "metadata": {},
   "outputs": [],
   "source": []
  },
  {
   "cell_type": "code",
   "execution_count": null,
   "id": "992a00a6",
   "metadata": {},
   "outputs": [],
   "source": []
  },
  {
   "cell_type": "code",
   "execution_count": null,
   "id": "6dea995d",
   "metadata": {},
   "outputs": [],
   "source": []
  },
  {
   "cell_type": "markdown",
   "id": "42c46004",
   "metadata": {},
   "source": [
    "------------------------------------------------------------------------------------------------"
   ]
  },
  {
   "cell_type": "markdown",
   "id": "1b09eacd",
   "metadata": {},
   "source": [
    "# 다변수 LSTM  (경제지표) 회귀"
   ]
  },
  {
   "cell_type": "code",
   "execution_count": 57,
   "id": "a8c97d44",
   "metadata": {},
   "outputs": [
    {
     "data": {
      "text/plain": [
       "0       0.132393\n",
       "1       0.123301\n",
       "2       0.118920\n",
       "3       0.131673\n",
       "4       0.134434\n",
       "          ...   \n",
       "3498    0.739685\n",
       "3499    0.749737\n",
       "3500    0.751688\n",
       "3501    0.736684\n",
       "3502    0.755139\n",
       "Name: Close, Length: 3503, dtype: float64"
      ]
     },
     "execution_count": 57,
     "metadata": {},
     "output_type": "execute_result"
    }
   ],
   "source": [
    "label = scaled_kodex_df['Close']\n",
    "label"
   ]
  },
  {
   "cell_type": "code",
   "execution_count": 58,
   "id": "2ad8f419",
   "metadata": {},
   "outputs": [
    {
     "data": {
      "text/plain": [
       "3452"
      ]
     },
     "execution_count": 58,
     "metadata": {},
     "output_type": "execute_result"
    }
   ],
   "source": [
    "# create windows\n",
    "# 최근 50일간의 데이터를 바탕으로 다음날 예측\n",
    "window_size = 50\n",
    "sequence_length = window_size + 1\n",
    "\n",
    "result = []\n",
    "label_list = []\n",
    "for index in range(len(scaled_economy_df) - sequence_length):\n",
    "    result.append(scaled_economy_df[index:index+window_size])\n",
    "    label_list.append(label[index+window_size])\n",
    "len(result)\n",
    "#3481개의 window 생성"
   ]
  },
  {
   "cell_type": "code",
   "execution_count": 59,
   "id": "65a9b2c1",
   "metadata": {},
   "outputs": [
    {
     "data": {
      "text/plain": [
       "(3452, 50, 7)"
      ]
     },
     "execution_count": 59,
     "metadata": {},
     "output_type": "execute_result"
    }
   ],
   "source": [
    "x = np.array(result)\n",
    "x.shape"
   ]
  },
  {
   "cell_type": "code",
   "execution_count": 60,
   "id": "ae8bf50a",
   "metadata": {},
   "outputs": [
    {
     "data": {
      "text/plain": [
       "(3452,)"
      ]
     },
     "execution_count": 60,
     "metadata": {},
     "output_type": "execute_result"
    }
   ],
   "source": [
    "y = np.array(label_list)\n",
    "y.shape"
   ]
  },
  {
   "cell_type": "code",
   "execution_count": 61,
   "id": "770abc6d",
   "metadata": {},
   "outputs": [
    {
     "name": "stdout",
     "output_type": "stream",
     "text": [
      "(3352, 50, 7) (3352,)\n",
      "(100, 50, 7) (100,)\n"
     ]
    }
   ],
   "source": [
    "split = -100\n",
    "\n",
    "x_train = x[:split]\n",
    "y_train = y[:split]\n",
    "\n",
    "x_test = x[split:]\n",
    "y_test = y[split:]\n",
    "print(x_train.shape,y_train.shape)\n",
    "print(x_test.shape,y_test.shape)"
   ]
  },
  {
   "cell_type": "code",
   "execution_count": 62,
   "id": "107c76c8",
   "metadata": {},
   "outputs": [
    {
     "name": "stdout",
     "output_type": "stream",
     "text": [
      "Model: \"sequential_1\"\n",
      "_________________________________________________________________\n",
      "Layer (type)                 Output Shape              Param #   \n",
      "=================================================================\n",
      "lstm_2 (LSTM)                (None, 50, 50)            11600     \n",
      "_________________________________________________________________\n",
      "lstm_3 (LSTM)                (None, 64)                29440     \n",
      "_________________________________________________________________\n",
      "dense_1 (Dense)              (None, 1)                 65        \n",
      "=================================================================\n",
      "Total params: 41,105\n",
      "Trainable params: 41,105\n",
      "Non-trainable params: 0\n",
      "_________________________________________________________________\n"
     ]
    }
   ],
   "source": [
    "model = Sequential()\n",
    "\n",
    "model.add(LSTM(50, return_sequences=True, input_shape=(50,7))) # 50 -> window size\n",
    "\n",
    "model.add(LSTM(64, return_sequences=False))\n",
    "\n",
    "model.add(Dense(1, activation='linear')) # 다음날 하루 예측\n",
    "\n",
    "model.compile(loss='mse', optimizer='rmsprop')\n",
    "\n",
    "model.summary()"
   ]
  },
  {
   "cell_type": "code",
   "execution_count": 63,
   "id": "476999a4",
   "metadata": {},
   "outputs": [
    {
     "name": "stdout",
     "output_type": "stream",
     "text": [
      "Epoch 1/10\n",
      "336/336 [==============================] - 11s 23ms/step - loss: 0.0087 - val_loss: 8.7841e-04\n",
      "Epoch 2/10\n",
      "336/336 [==============================] - 7s 20ms/step - loss: 0.0028 - val_loss: 0.0088\n",
      "Epoch 3/10\n",
      "336/336 [==============================] - 7s 20ms/step - loss: 0.0021 - val_loss: 0.0033\n",
      "Epoch 4/10\n",
      "336/336 [==============================] - 7s 20ms/step - loss: 0.0016 - val_loss: 0.0021\n",
      "Epoch 5/10\n",
      "336/336 [==============================] - 7s 20ms/step - loss: 0.0014 - val_loss: 0.0059\n",
      "Epoch 6/10\n",
      "336/336 [==============================] - 7s 20ms/step - loss: 0.0013 - val_loss: 0.0046\n",
      "Epoch 7/10\n",
      "336/336 [==============================] - 6s 19ms/step - loss: 0.0011 - val_loss: 0.0034\n",
      "Epoch 8/10\n",
      "336/336 [==============================] - 7s 20ms/step - loss: 9.0220e-04 - val_loss: 0.0039\n",
      "Epoch 9/10\n",
      "336/336 [==============================] - 7s 20ms/step - loss: 8.6064e-04 - val_loss: 0.0114\n",
      "Epoch 10/10\n",
      "336/336 [==============================] - 7s 20ms/step - loss: 7.6101e-04 - val_loss: 0.0013\n"
     ]
    },
    {
     "data": {
      "text/plain": [
       "<keras.callbacks.History at 0x240de1fd160>"
      ]
     },
     "execution_count": 63,
     "metadata": {},
     "output_type": "execute_result"
    }
   ],
   "source": [
    "model.fit(x_train, y_train,\n",
    "    validation_data=(x_test, y_test),\n",
    "    batch_size=10,\n",
    "    epochs=10)"
   ]
  },
  {
   "cell_type": "code",
   "execution_count": 64,
   "id": "d1355568",
   "metadata": {
    "scrolled": false
   },
   "outputs": [
    {
     "data": {
      "image/png": "[encoded data removed]",
      "text/plain": [
       "<Figure size 1440x720 with 1 Axes>"
      ]
     },
     "metadata": {},
     "output_type": "display_data"
    }
   ],
   "source": [
    "pred = model.predict(x_test)\n",
    "\n",
    "fig = plt.figure(facecolor='white', figsize=(20, 10))\n",
    "ax = fig.add_subplot(111)\n",
    "ax.plot(y_test, label='True')\n",
    "ax.plot(pred, label='Prediction')\n",
    "ax.legend()\n",
    "plt.show()"
   ]
  },
  {
   "cell_type": "markdown",
   "id": "d5d0ca92",
   "metadata": {},
   "source": [
    "# LSTM 초안 (가격만으로)"
   ]
  },
  {
   "cell_type": "code",
   "execution_count": 65,
   "id": "d72bf11c",
   "metadata": {},
   "outputs": [],
   "source": [
    "# compute mid price\n",
    "high_prices = data['High'].values\n",
    "low_prices = data['Low'].values\n",
    "mid_prices = (high_prices + low_prices) / 2"
   ]
  },
  {
   "cell_type": "markdown",
   "id": "d574e81b",
   "metadata": {},
   "source": []
  },
  {
   "cell_type": "code",
   "execution_count": 76,
   "id": "8828f552",
   "metadata": {},
   "outputs": [
    {
     "data": {
      "text/plain": [
       "3754"
      ]
     },
     "execution_count": 76,
     "metadata": {},
     "output_type": "execute_result"
    }
   ],
   "source": [
    "# create windows\n",
    "# 최근 50일간의 데이터를 바탕으로 다음날 예측\n",
    "window_size = 50\n",
    "sequence_length = window_size + 1\n",
    "\n",
    "result = []\n",
    "for index in range(len(mid_prices) - sequence_length):\n",
    "    result.append(mid_prices[index: index + sequence_length])\n",
    "len(result)\n",
    "#4800개의 window 생성"
   ]
  },
  {
   "cell_type": "code",
   "execution_count": 77,
   "id": "9283e192",
   "metadata": {},
   "outputs": [],
   "source": [
    "normalized_data = []\n",
    "window_mean = []\n",
    "window_std = []\n",
    "\n",
    "for window in result:\n",
    "    normalized_window = [((p - np.mean(window)) / np.std(window)) for p in window]\n",
    "    normalized_data.append(normalized_window)\n",
    "    window_mean.append(np.mean(window))\n",
    "    window_std.append(np.std(window))\n",
    "result = np.array(normalized_data)"
   ]
  },
  {
   "cell_type": "code",
   "execution_count": 78,
   "id": "cb8028cf",
   "metadata": {},
   "outputs": [],
   "source": [
    "train = result[:3654, :]\n",
    "#np.random.shuffle(train)\n",
    "x_train = train[:, :-1]\n",
    "x_train = np.reshape(x_train, (x_train.shape[0], x_train.shape[1], 1))\n",
    "y_train = train[:, -1]"
   ]
  },
  {
   "cell_type": "code",
   "execution_count": 79,
   "id": "32494c88",
   "metadata": {},
   "outputs": [
    {
     "data": {
      "text/plain": [
       "(3654, 51)"
      ]
     },
     "execution_count": 79,
     "metadata": {},
     "output_type": "execute_result"
    }
   ],
   "source": [
    "train.shape"
   ]
  },
  {
   "cell_type": "code",
   "execution_count": 80,
   "id": "b7254d88",
   "metadata": {},
   "outputs": [
    {
     "data": {
      "text/plain": [
       "(3654, 50, 1)"
      ]
     },
     "execution_count": 80,
     "metadata": {},
     "output_type": "execute_result"
    }
   ],
   "source": [
    "x_train.shape"
   ]
  },
  {
   "cell_type": "code",
   "execution_count": 81,
   "id": "fb87a970",
   "metadata": {},
   "outputs": [],
   "source": [
    "x_test = result[3654:, :-1]\n",
    "x_test = np.reshape(x_test, (x_test.shape[0], x_test.shape[1], 1))\n",
    "y_test = result[3654:, -1]\n"
   ]
  },
  {
   "cell_type": "code",
   "execution_count": 82,
   "id": "f2ae9f3e",
   "metadata": {},
   "outputs": [
    {
     "name": "stdout",
     "output_type": "stream",
     "text": [
      "Model: \"sequential_3\"\n",
      "_________________________________________________________________\n",
      "Layer (type)                 Output Shape              Param #   \n",
      "=================================================================\n",
      "lstm_6 (LSTM)                (None, 50, 50)            10400     \n",
      "_________________________________________________________________\n",
      "lstm_7 (LSTM)                (None, 64)                29440     \n",
      "_________________________________________________________________\n",
      "dense_3 (Dense)              (None, 1)                 65        \n",
      "=================================================================\n",
      "Total params: 39,905\n",
      "Trainable params: 39,905\n",
      "Non-trainable params: 0\n",
      "_________________________________________________________________\n"
     ]
    }
   ],
   "source": [
    "model = Sequential()\n",
    "\n",
    "model.add(LSTM(50, return_sequences=True, input_shape=(50, 1))) # 50 -> window size\n",
    "\n",
    "model.add(LSTM(64, return_sequences=False))\n",
    "\n",
    "model.add(Dense(1, activation='linear')) # 다음날 하루 예측\n",
    "\n",
    "model.compile(loss='mse', optimizer='rmsprop')\n",
    "\n",
    "model.summary()"
   ]
  },
  {
   "cell_type": "code",
   "execution_count": 83,
   "id": "3f0005de",
   "metadata": {},
   "outputs": [
    {
     "name": "stdout",
     "output_type": "stream",
     "text": [
      "Epoch 1/10\n",
      "366/366 [==============================] - 10s 21ms/step - loss: 0.5738 - val_loss: 0.2811\n",
      "Epoch 2/10\n",
      "366/366 [==============================] - 7s 20ms/step - loss: 0.1613 - val_loss: 0.2529\n",
      "Epoch 3/10\n",
      "366/366 [==============================] - 7s 20ms/step - loss: 0.1526 - val_loss: 0.2363\n",
      "Epoch 4/10\n",
      "366/366 [==============================] - 7s 20ms/step - loss: 0.1481 - val_loss: 0.2465\n",
      "Epoch 5/10\n",
      "366/366 [==============================] - 7s 20ms/step - loss: 0.1406 - val_loss: 0.2702\n",
      "Epoch 6/10\n",
      "366/366 [==============================] - 7s 20ms/step - loss: 0.1446 - val_loss: 0.2414\n",
      "Epoch 7/10\n",
      "366/366 [==============================] - 7s 20ms/step - loss: 0.1410 - val_loss: 0.2442\n",
      "Epoch 8/10\n",
      "366/366 [==============================] - 7s 20ms/step - loss: 0.1458 - val_loss: 0.2433\n",
      "Epoch 9/10\n",
      "366/366 [==============================] - 8s 21ms/step - loss: 0.1410 - val_loss: 0.2425\n",
      "Epoch 10/10\n",
      "366/366 [==============================] - 8s 21ms/step - loss: 0.1467 - val_loss: 0.2372\n"
     ]
    },
    {
     "data": {
      "text/plain": [
       "<keras.callbacks.History at 0x240ea959910>"
      ]
     },
     "execution_count": 83,
     "metadata": {},
     "output_type": "execute_result"
    }
   ],
   "source": [
    "model.fit(x_train, y_train,\n",
    "    validation_data=(x_test, y_test),\n",
    "    batch_size=10,\n",
    "    epochs=10)"
   ]
  },
  {
   "cell_type": "code",
   "execution_count": 84,
   "id": "4aab6744",
   "metadata": {},
   "outputs": [
    {
     "data": {
      "image/png": "[encoded data removed]",
      "text/plain": [
       "<Figure size 1440x720 with 1 Axes>"
      ]
     },
     "metadata": {},
     "output_type": "display_data"
    }
   ],
   "source": [
    "pred = model.predict(x_test)\n",
    "\n",
    "fig = plt.figure(facecolor='white', figsize=(20, 10))\n",
    "ax = fig.add_subplot(111)\n",
    "ax.plot(y_test, label='True')\n",
    "ax.plot(pred, label='Prediction')\n",
    "ax.legend()\n",
    "plt.show()"
   ]
  },
  {
   "cell_type": "code",
   "execution_count": null,
   "id": "63104658",
   "metadata": {},
   "outputs": [],
   "source": []
  },
  {
   "cell_type": "code",
   "execution_count": null,
   "id": "3ecfa016",
   "metadata": {},
   "outputs": [],
   "source": []
  },
  {
   "cell_type": "code",
   "execution_count": null,
   "id": "527eb4f9",
   "metadata": {},
   "outputs": [],
   "source": []
  },
  {
   "cell_type": "markdown",
   "id": "aa801fa8",
   "metadata": {},
   "source": [
    "# news 감정 3가지로 나누기 테스트"
   ]
  },
  {
   "cell_type": "code",
   "execution_count": null,
   "id": "e27365f2",
   "metadata": {
    "scrolled": true
   },
   "outputs": [],
   "source": [
    "news_sentiment= pd.read_csv('news_sentiment.csv')\n",
    "news_sentiment"
   ]
  },
  {
   "cell_type": "code",
   "execution_count": null,
   "id": "28227824",
   "metadata": {},
   "outputs": [],
   "source": [
    "news_sentiment.loc[news_sentiment['label'] == '긍정', 'label_index'] = 1\n",
    "news_sentiment.loc[news_sentiment['label'] == '부정', 'label_index'] = 0"
   ]
  },
  {
   "cell_type": "code",
   "execution_count": null,
   "id": "2319d015",
   "metadata": {},
   "outputs": [],
   "source": [
    "groups = news_sentiment.groupby('Date')"
   ]
  },
  {
   "cell_type": "code",
   "execution_count": null,
   "id": "23f5ae07",
   "metadata": {},
   "outputs": [],
   "source": [
    "date_sentiment = groups.mean()\n",
    "date_sentiment"
   ]
  },
  {
   "cell_type": "code",
   "execution_count": null,
   "id": "d9760687",
   "metadata": {},
   "outputs": [],
   "source": []
  }
 ],
 "metadata": {
  "interpreter": {
   "hash": "6494861ce0a9247699d4b666f0b06cd8da3baab5a92264a9fe7e94a414e538ea"
  },
  "kernelspec": {
   "display_name": "Python 3",
   "language": "python",
   "name": "python3"
  },
  "language_info": {
   "codemirror_mode": {
    "name": "ipython",
    "version": 3
   },
   "file_extension": ".py",
   "mimetype": "text/x-python",
   "name": "python",
   "nbconvert_exporter": "python",
   "pygments_lexer": "ipython3",
   "version": "3.8.8"
  },
  "toc": {
   "base_numbering": 1,
   "nav_menu": {},
   "number_sections": true,
   "sideBar": true,
   "skip_h1_title": false,
   "title_cell": "Table of Contents",
   "title_sidebar": "Contents",
   "toc_cell": false,
   "toc_position": {},
   "toc_section_display": true,
   "toc_window_display": false
  },
  "varInspector": {
   "cols": {
    "lenName": 16,
    "lenType": 16,
    "lenVar": 40
   },
   "kernels_config": {
    "python": {
     "delete_cmd_postfix": "",
     "delete_cmd_prefix": "del ",
     "library": "var_list.py",
     "varRefreshCmd": "print(var_dic_list())"
    },
    "r": {
     "delete_cmd_postfix": ") ",
     "delete_cmd_prefix": "rm(",
     "library": "var_list.r",
     "varRefreshCmd": "cat(var_dic_list()) "
    }
   },
   "types_to_exclude": [
    "module",
    "function",
    "builtin_function_or_method",
    "instance",
    "_Feature"
   ],
   "window_display": false
  }
 },
 "nbformat": 4,
 "nbformat_minor": 5
}
