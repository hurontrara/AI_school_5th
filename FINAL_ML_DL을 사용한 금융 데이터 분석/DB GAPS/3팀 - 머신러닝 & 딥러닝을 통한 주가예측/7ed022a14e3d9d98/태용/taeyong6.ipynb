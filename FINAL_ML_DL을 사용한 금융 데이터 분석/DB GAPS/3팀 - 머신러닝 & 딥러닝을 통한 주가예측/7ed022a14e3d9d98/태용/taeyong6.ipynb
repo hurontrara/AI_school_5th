{
 "cells": [
  {
   "cell_type": "code",
   "execution_count": 1,
   "metadata": {
    "ExecuteTime": {
     "end_time": "2022-05-26T15:55:37.556609Z",
     "start_time": "2022-05-26T15:55:37.542699Z"
    },
    "id": "kh_UWY-EqGBp"
   },
   "outputs": [],
   "source": [
    "import sys\n",
    "import warnings\n",
    "\n",
    "if not sys.warnoptions:\n",
    "    warnings.simplefilter('ignore')"
   ]
  },
  {
   "cell_type": "code",
   "execution_count": 2,
   "metadata": {
    "ExecuteTime": {
     "end_time": "2022-05-26T15:55:37.572082Z",
     "start_time": "2022-05-26T15:55:37.558603Z"
    },
    "colab": {
     "base_uri": "https://localhost:8080/",
     "height": 398
    },
    "id": "idd4ZXsiqGBs",
    "outputId": "2fbe4a48-d82b-4141-f2ab-bbff258df3b3"
   },
   "outputs": [],
   "source": [
    "import tensorflow as tf\n",
    "import numpy as np\n",
    "import matplotlib.pyplot as plt\n",
    "import seaborn as sns\n",
    "import pandas as pd\n",
    "import math\n",
    "from sklearn.preprocessing import MinMaxScaler\n",
    "from datetime import datetime\n",
    "from datetime import timedelta\n",
    "from tqdm import tqdm\n",
    "sns.set()"
   ]
  },
  {
   "cell_type": "code",
   "execution_count": 3,
   "metadata": {
    "ExecuteTime": {
     "end_time": "2022-05-26T15:55:37.588040Z",
     "start_time": "2022-05-26T15:55:37.574077Z"
    },
    "id": "iH_9BCIfqGBv"
   },
   "outputs": [
    {
     "data": {
      "text/plain": [
       "'2.5.0'"
      ]
     },
     "execution_count": 3,
     "metadata": {},
     "output_type": "execute_result"
    }
   ],
   "source": [
    "tf.__version__"
   ]
  },
  {
   "cell_type": "code",
   "execution_count": 4,
   "metadata": {
    "ExecuteTime": {
     "end_time": "2022-05-26T15:55:37.604002Z",
     "start_time": "2022-05-26T15:55:37.590035Z"
    },
    "id": "rZmxaUsp__po"
   },
   "outputs": [],
   "source": [
    "# from google.colab import drive\n",
    "# drive.mount('/content/drive') # 원하는 세부 경로로 변경이 가능합니다."
   ]
  },
  {
   "cell_type": "code",
   "execution_count": 5,
   "metadata": {
    "ExecuteTime": {
     "end_time": "2022-05-26T15:55:37.619954Z",
     "start_time": "2022-05-26T15:55:37.605991Z"
    },
    "id": "EvDxvchqqhbY"
   },
   "outputs": [],
   "source": [
    "# pip install -U finance-datareader"
   ]
  },
  {
   "cell_type": "code",
   "execution_count": 6,
   "metadata": {
    "ExecuteTime": {
     "end_time": "2022-05-26T15:55:37.634914Z",
     "start_time": "2022-05-26T15:55:37.621949Z"
    },
    "id": "1sigKZM2qGBx"
   },
   "outputs": [],
   "source": [
    "import FinanceDataReader as fdr\n"
   ]
  },
  {
   "cell_type": "code",
   "execution_count": 7,
   "metadata": {
    "ExecuteTime": {
     "end_time": "2022-05-26T16:08:30.290727Z",
     "start_time": "2022-05-26T16:08:30.142281Z"
    },
    "id": "VfdZVdvrqGBy",
    "scrolled": true
   },
   "outputs": [
    {
     "data": {
      "text/html": [
       "<div>\n",
       "<style scoped>\n",
       "    .dataframe tbody tr th:only-of-type {\n",
       "        vertical-align: middle;\n",
       "    }\n",
       "\n",
       "    .dataframe tbody tr th {\n",
       "        vertical-align: top;\n",
       "    }\n",
       "\n",
       "    .dataframe thead th {\n",
       "        text-align: right;\n",
       "    }\n",
       "</style>\n",
       "<table border=\"1\" class=\"dataframe\">\n",
       "  <thead>\n",
       "    <tr style=\"text-align: right;\">\n",
       "      <th></th>\n",
       "      <th>Open</th>\n",
       "      <th>High</th>\n",
       "      <th>Low</th>\n",
       "      <th>Close</th>\n",
       "      <th>Volume</th>\n",
       "      <th>Change</th>\n",
       "    </tr>\n",
       "    <tr>\n",
       "      <th>Date</th>\n",
       "      <th></th>\n",
       "      <th></th>\n",
       "      <th></th>\n",
       "      <th></th>\n",
       "      <th></th>\n",
       "      <th></th>\n",
       "    </tr>\n",
       "  </thead>\n",
       "  <tbody>\n",
       "    <tr>\n",
       "      <th>2012-01-02</th>\n",
       "      <td>20242</td>\n",
       "      <td>20346</td>\n",
       "      <td>20092</td>\n",
       "      <td>20265</td>\n",
       "      <td>2047695</td>\n",
       "      <td>0.002027</td>\n",
       "    </tr>\n",
       "    <tr>\n",
       "      <th>2012-01-03</th>\n",
       "      <td>20445</td>\n",
       "      <td>20902</td>\n",
       "      <td>20323</td>\n",
       "      <td>20902</td>\n",
       "      <td>6309724</td>\n",
       "      <td>0.031434</td>\n",
       "    </tr>\n",
       "    <tr>\n",
       "      <th>2012-01-04</th>\n",
       "      <td>21017</td>\n",
       "      <td>21025</td>\n",
       "      <td>20769</td>\n",
       "      <td>20783</td>\n",
       "      <td>10832944</td>\n",
       "      <td>-0.005693</td>\n",
       "    </tr>\n",
       "    <tr>\n",
       "      <th>2012-01-05</th>\n",
       "      <td>20798</td>\n",
       "      <td>20879</td>\n",
       "      <td>20685</td>\n",
       "      <td>20747</td>\n",
       "      <td>5014582</td>\n",
       "      <td>-0.001732</td>\n",
       "    </tr>\n",
       "    <tr>\n",
       "      <th>2012-01-06</th>\n",
       "      <td>20725</td>\n",
       "      <td>20742</td>\n",
       "      <td>20179</td>\n",
       "      <td>20455</td>\n",
       "      <td>4309016</td>\n",
       "      <td>-0.014074</td>\n",
       "    </tr>\n",
       "    <tr>\n",
       "      <th>...</th>\n",
       "      <td>...</td>\n",
       "      <td>...</td>\n",
       "      <td>...</td>\n",
       "      <td>...</td>\n",
       "      <td>...</td>\n",
       "      <td>...</td>\n",
       "    </tr>\n",
       "    <tr>\n",
       "      <th>2022-05-23</th>\n",
       "      <td>35135</td>\n",
       "      <td>35225</td>\n",
       "      <td>34915</td>\n",
       "      <td>35100</td>\n",
       "      <td>5876025</td>\n",
       "      <td>0.003287</td>\n",
       "    </tr>\n",
       "    <tr>\n",
       "      <th>2022-05-24</th>\n",
       "      <td>34950</td>\n",
       "      <td>35030</td>\n",
       "      <td>34450</td>\n",
       "      <td>34450</td>\n",
       "      <td>5416640</td>\n",
       "      <td>-0.018519</td>\n",
       "    </tr>\n",
       "    <tr>\n",
       "      <th>2022-05-25</th>\n",
       "      <td>34660</td>\n",
       "      <td>34825</td>\n",
       "      <td>34430</td>\n",
       "      <td>34595</td>\n",
       "      <td>6735545</td>\n",
       "      <td>0.004209</td>\n",
       "    </tr>\n",
       "    <tr>\n",
       "      <th>2022-05-26</th>\n",
       "      <td>34595</td>\n",
       "      <td>34945</td>\n",
       "      <td>34355</td>\n",
       "      <td>34480</td>\n",
       "      <td>6777076</td>\n",
       "      <td>-0.003324</td>\n",
       "    </tr>\n",
       "    <tr>\n",
       "      <th>2022-05-27</th>\n",
       "      <td>34835</td>\n",
       "      <td>34985</td>\n",
       "      <td>34790</td>\n",
       "      <td>34880</td>\n",
       "      <td>1942681</td>\n",
       "      <td>0.011601</td>\n",
       "    </tr>\n",
       "  </tbody>\n",
       "</table>\n",
       "<p>2562 rows × 6 columns</p>\n",
       "</div>"
      ],
      "text/plain": [
       "             Open   High    Low  Close    Volume    Change\n",
       "Date                                                      \n",
       "2012-01-02  20242  20346  20092  20265   2047695  0.002027\n",
       "2012-01-03  20445  20902  20323  20902   6309724  0.031434\n",
       "2012-01-04  21017  21025  20769  20783  10832944 -0.005693\n",
       "2012-01-05  20798  20879  20685  20747   5014582 -0.001732\n",
       "2012-01-06  20725  20742  20179  20455   4309016 -0.014074\n",
       "...           ...    ...    ...    ...       ...       ...\n",
       "2022-05-23  35135  35225  34915  35100   5876025  0.003287\n",
       "2022-05-24  34950  35030  34450  34450   5416640 -0.018519\n",
       "2022-05-25  34660  34825  34430  34595   6735545  0.004209\n",
       "2022-05-26  34595  34945  34355  34480   6777076 -0.003324\n",
       "2022-05-27  34835  34985  34790  34880   1942681  0.011601\n",
       "\n",
       "[2562 rows x 6 columns]"
      ]
     },
     "execution_count": 7,
     "metadata": {},
     "output_type": "execute_result"
    }
   ],
   "source": [
    "df = fdr.DataReader(\"069500\",start= '2012-01-01')\n",
    "df"
   ]
  },
  {
   "cell_type": "code",
   "execution_count": 8,
   "metadata": {
    "ExecuteTime": {
     "end_time": "2022-05-26T16:08:30.322439Z",
     "start_time": "2022-05-26T16:08:30.293514Z"
    },
    "id": "h1skvvbxqGBy"
   },
   "outputs": [],
   "source": [
    "target = []\n",
    "for i in range(df.shape[0]):\n",
    "    if df['Change'][i] >0:\n",
    "        target.append(1)\n",
    "    else:\n",
    "        target.append(0)\n",
    "df['Target'] = target\n"
   ]
  },
  {
   "cell_type": "code",
   "execution_count": 9,
   "metadata": {
    "ExecuteTime": {
     "end_time": "2022-05-26T16:08:30.353354Z",
     "start_time": "2022-05-26T16:08:30.325429Z"
    },
    "id": "NxTkJD4SqGBz"
   },
   "outputs": [
    {
     "data": {
      "text/html": [
       "<div>\n",
       "<style scoped>\n",
       "    .dataframe tbody tr th:only-of-type {\n",
       "        vertical-align: middle;\n",
       "    }\n",
       "\n",
       "    .dataframe tbody tr th {\n",
       "        vertical-align: top;\n",
       "    }\n",
       "\n",
       "    .dataframe thead th {\n",
       "        text-align: right;\n",
       "    }\n",
       "</style>\n",
       "<table border=\"1\" class=\"dataframe\">\n",
       "  <thead>\n",
       "    <tr style=\"text-align: right;\">\n",
       "      <th></th>\n",
       "      <th>Open</th>\n",
       "      <th>High</th>\n",
       "      <th>Low</th>\n",
       "      <th>Close</th>\n",
       "      <th>Volume</th>\n",
       "      <th>Change</th>\n",
       "      <th>Target</th>\n",
       "    </tr>\n",
       "    <tr>\n",
       "      <th>Date</th>\n",
       "      <th></th>\n",
       "      <th></th>\n",
       "      <th></th>\n",
       "      <th></th>\n",
       "      <th></th>\n",
       "      <th></th>\n",
       "      <th></th>\n",
       "    </tr>\n",
       "  </thead>\n",
       "  <tbody>\n",
       "    <tr>\n",
       "      <th>2012-01-02</th>\n",
       "      <td>20242</td>\n",
       "      <td>20346</td>\n",
       "      <td>20092</td>\n",
       "      <td>20265</td>\n",
       "      <td>2047695</td>\n",
       "      <td>0.002027</td>\n",
       "      <td>1</td>\n",
       "    </tr>\n",
       "    <tr>\n",
       "      <th>2012-01-03</th>\n",
       "      <td>20445</td>\n",
       "      <td>20902</td>\n",
       "      <td>20323</td>\n",
       "      <td>20902</td>\n",
       "      <td>6309724</td>\n",
       "      <td>0.031434</td>\n",
       "      <td>1</td>\n",
       "    </tr>\n",
       "    <tr>\n",
       "      <th>2012-01-04</th>\n",
       "      <td>21017</td>\n",
       "      <td>21025</td>\n",
       "      <td>20769</td>\n",
       "      <td>20783</td>\n",
       "      <td>10832944</td>\n",
       "      <td>-0.005693</td>\n",
       "      <td>0</td>\n",
       "    </tr>\n",
       "    <tr>\n",
       "      <th>2012-01-05</th>\n",
       "      <td>20798</td>\n",
       "      <td>20879</td>\n",
       "      <td>20685</td>\n",
       "      <td>20747</td>\n",
       "      <td>5014582</td>\n",
       "      <td>-0.001732</td>\n",
       "      <td>0</td>\n",
       "    </tr>\n",
       "    <tr>\n",
       "      <th>2012-01-06</th>\n",
       "      <td>20725</td>\n",
       "      <td>20742</td>\n",
       "      <td>20179</td>\n",
       "      <td>20455</td>\n",
       "      <td>4309016</td>\n",
       "      <td>-0.014074</td>\n",
       "      <td>0</td>\n",
       "    </tr>\n",
       "    <tr>\n",
       "      <th>2012-01-09</th>\n",
       "      <td>20333</td>\n",
       "      <td>20333</td>\n",
       "      <td>20025</td>\n",
       "      <td>20194</td>\n",
       "      <td>7237398</td>\n",
       "      <td>-0.012760</td>\n",
       "      <td>0</td>\n",
       "    </tr>\n",
       "    <tr>\n",
       "      <th>2012-01-10</th>\n",
       "      <td>20314</td>\n",
       "      <td>20632</td>\n",
       "      <td>20304</td>\n",
       "      <td>20538</td>\n",
       "      <td>6836552</td>\n",
       "      <td>0.017035</td>\n",
       "      <td>1</td>\n",
       "    </tr>\n",
       "    <tr>\n",
       "      <th>2012-01-11</th>\n",
       "      <td>20617</td>\n",
       "      <td>20632</td>\n",
       "      <td>20408</td>\n",
       "      <td>20489</td>\n",
       "      <td>3679568</td>\n",
       "      <td>-0.002386</td>\n",
       "      <td>0</td>\n",
       "    </tr>\n",
       "    <tr>\n",
       "      <th>2012-01-12</th>\n",
       "      <td>20495</td>\n",
       "      <td>20655</td>\n",
       "      <td>20359</td>\n",
       "      <td>20642</td>\n",
       "      <td>2097337</td>\n",
       "      <td>0.007467</td>\n",
       "      <td>1</td>\n",
       "    </tr>\n",
       "    <tr>\n",
       "      <th>2012-01-13</th>\n",
       "      <td>20636</td>\n",
       "      <td>20906</td>\n",
       "      <td>20614</td>\n",
       "      <td>20871</td>\n",
       "      <td>4876617</td>\n",
       "      <td>0.011094</td>\n",
       "      <td>1</td>\n",
       "    </tr>\n",
       "  </tbody>\n",
       "</table>\n",
       "</div>"
      ],
      "text/plain": [
       "             Open   High    Low  Close    Volume    Change  Target\n",
       "Date                                                              \n",
       "2012-01-02  20242  20346  20092  20265   2047695  0.002027       1\n",
       "2012-01-03  20445  20902  20323  20902   6309724  0.031434       1\n",
       "2012-01-04  21017  21025  20769  20783  10832944 -0.005693       0\n",
       "2012-01-05  20798  20879  20685  20747   5014582 -0.001732       0\n",
       "2012-01-06  20725  20742  20179  20455   4309016 -0.014074       0\n",
       "2012-01-09  20333  20333  20025  20194   7237398 -0.012760       0\n",
       "2012-01-10  20314  20632  20304  20538   6836552  0.017035       1\n",
       "2012-01-11  20617  20632  20408  20489   3679568 -0.002386       0\n",
       "2012-01-12  20495  20655  20359  20642   2097337  0.007467       1\n",
       "2012-01-13  20636  20906  20614  20871   4876617  0.011094       1"
      ]
     },
     "execution_count": 9,
     "metadata": {},
     "output_type": "execute_result"
    }
   ],
   "source": [
    "df.head(10)"
   ]
  },
  {
   "cell_type": "code",
   "execution_count": 10,
   "metadata": {
    "ExecuteTime": {
     "end_time": "2022-05-26T16:08:30.739462Z",
     "start_time": "2022-05-26T16:08:30.356347Z"
    },
    "id": "k7S94bWcqGB0"
   },
   "outputs": [
    {
     "data": {
      "image/png": "[encoded data removed]",
      "text/plain": [
       "<Figure size 1152x576 with 1 Axes>"
      ]
     },
     "metadata": {},
     "output_type": "display_data"
    }
   ],
   "source": [
    "plt.figure(figsize=(16,8))\n",
    "plt.title('Close Price History')\n",
    "plt.plot(df['Close'])\n",
    "plt.xlabel('Date', fontsize=18)\n",
    "plt.ylabel('Close Price Won', fontsize=18)\n",
    "plt.show()"
   ]
  },
  {
   "cell_type": "code",
   "execution_count": 11,
   "metadata": {
    "ExecuteTime": {
     "end_time": "2022-05-26T16:08:30.769382Z",
     "start_time": "2022-05-26T16:08:30.741458Z"
    },
    "id": "2zzgJgTcqGB1"
   },
   "outputs": [
    {
     "data": {
      "text/html": [
       "<div>\n",
       "<style scoped>\n",
       "    .dataframe tbody tr th:only-of-type {\n",
       "        vertical-align: middle;\n",
       "    }\n",
       "\n",
       "    .dataframe tbody tr th {\n",
       "        vertical-align: top;\n",
       "    }\n",
       "\n",
       "    .dataframe thead th {\n",
       "        text-align: right;\n",
       "    }\n",
       "</style>\n",
       "<table border=\"1\" class=\"dataframe\">\n",
       "  <thead>\n",
       "    <tr style=\"text-align: right;\">\n",
       "      <th></th>\n",
       "      <th>0</th>\n",
       "      <th>1</th>\n",
       "      <th>2</th>\n",
       "      <th>3</th>\n",
       "      <th>4</th>\n",
       "      <th>5</th>\n",
       "      <th>6</th>\n",
       "    </tr>\n",
       "  </thead>\n",
       "  <tbody>\n",
       "    <tr>\n",
       "      <th>0</th>\n",
       "      <td>0.046540</td>\n",
       "      <td>0.029836</td>\n",
       "      <td>0.051244</td>\n",
       "      <td>0.047024</td>\n",
       "      <td>0.010043</td>\n",
       "      <td>0.453722</td>\n",
       "      <td>1.0</td>\n",
       "    </tr>\n",
       "    <tr>\n",
       "      <th>1</th>\n",
       "      <td>0.054983</td>\n",
       "      <td>0.052876</td>\n",
       "      <td>0.060790</td>\n",
       "      <td>0.073556</td>\n",
       "      <td>0.080154</td>\n",
       "      <td>0.630805</td>\n",
       "      <td>1.0</td>\n",
       "    </tr>\n",
       "    <tr>\n",
       "      <th>2</th>\n",
       "      <td>0.078772</td>\n",
       "      <td>0.057973</td>\n",
       "      <td>0.079221</td>\n",
       "      <td>0.068599</td>\n",
       "      <td>0.154562</td>\n",
       "      <td>0.407229</td>\n",
       "      <td>0.0</td>\n",
       "    </tr>\n",
       "    <tr>\n",
       "      <th>3</th>\n",
       "      <td>0.069664</td>\n",
       "      <td>0.051923</td>\n",
       "      <td>0.075750</td>\n",
       "      <td>0.067100</td>\n",
       "      <td>0.058849</td>\n",
       "      <td>0.431083</td>\n",
       "      <td>0.0</td>\n",
       "    </tr>\n",
       "    <tr>\n",
       "      <th>4</th>\n",
       "      <td>0.066628</td>\n",
       "      <td>0.046246</td>\n",
       "      <td>0.054839</td>\n",
       "      <td>0.054938</td>\n",
       "      <td>0.047242</td>\n",
       "      <td>0.356759</td>\n",
       "      <td>0.0</td>\n",
       "    </tr>\n",
       "  </tbody>\n",
       "</table>\n",
       "</div>"
      ],
      "text/plain": [
       "          0         1         2         3         4         5    6\n",
       "0  0.046540  0.029836  0.051244  0.047024  0.010043  0.453722  1.0\n",
       "1  0.054983  0.052876  0.060790  0.073556  0.080154  0.630805  1.0\n",
       "2  0.078772  0.057973  0.079221  0.068599  0.154562  0.407229  0.0\n",
       "3  0.069664  0.051923  0.075750  0.067100  0.058849  0.431083  0.0\n",
       "4  0.066628  0.046246  0.054839  0.054938  0.047242  0.356759  0.0"
      ]
     },
     "execution_count": 11,
     "metadata": {},
     "output_type": "execute_result"
    }
   ],
   "source": [
    "minmax = MinMaxScaler().fit(df.iloc[:, 0:7].astype('float32')) # Close index\n",
    "scaled_data = minmax.transform(df.iloc[:, 0:7].astype('float32')) # Close index\n",
    "scaled_data = pd.DataFrame(scaled_data)\n",
    "scaled_data.head()"
   ]
  },
  {
   "cell_type": "code",
   "execution_count": 12,
   "metadata": {
    "ExecuteTime": {
     "end_time": "2022-05-26T16:08:30.786337Z",
     "start_time": "2022-05-26T16:08:30.771378Z"
    },
    "id": "oytopK1oqGB3"
   },
   "outputs": [
    {
     "data": {
      "text/plain": [
       "pandas.core.frame.DataFrame"
      ]
     },
     "execution_count": 12,
     "metadata": {},
     "output_type": "execute_result"
    }
   ],
   "source": [
    "type(scaled_data)"
   ]
  },
  {
   "cell_type": "code",
   "execution_count": 13,
   "metadata": {
    "ExecuteTime": {
     "end_time": "2022-05-26T16:08:31.354784Z",
     "start_time": "2022-05-26T16:08:30.788333Z"
    },
    "id": "kHdaWksIqGB4"
   },
   "outputs": [],
   "source": [
    "#create the training data set\n",
    "#create the scaled training data set\n",
    "train_data = scaled_data.iloc[0:-100,:]\n",
    "#Split the data\n",
    "x_train = []\n",
    "y_train = []\n",
    "\n",
    "for i in range(60, len(train_data)):\n",
    "    x_train.append(train_data.iloc[i-60:i,0:6])\n",
    "    y_train.append(train_data.iloc[i,6])"
   ]
  },
  {
   "cell_type": "code",
   "execution_count": 14,
   "metadata": {
    "ExecuteTime": {
     "end_time": "2022-05-26T16:08:31.461374Z",
     "start_time": "2022-05-26T16:08:31.357781Z"
    },
    "id": "8W7iS3YmqGB4"
   },
   "outputs": [],
   "source": [
    "#Convert the train data to numpy arrrays\n",
    "x_train, y_train = np.array(x_train), np.array(y_train)\n"
   ]
  },
  {
   "cell_type": "code",
   "execution_count": 15,
   "metadata": {
    "ExecuteTime": {
     "end_time": "2022-05-26T16:08:31.477333Z",
     "start_time": "2022-05-26T16:08:31.465363Z"
    },
    "id": "WTUNShdKqGB5"
   },
   "outputs": [
    {
     "data": {
      "text/plain": [
       "(2402, 60, 6)"
      ]
     },
     "execution_count": 15,
     "metadata": {},
     "output_type": "execute_result"
    }
   ],
   "source": [
    "#Reshape the data\n",
    "x_train = np.reshape(x_train, (x_train.shape[0], x_train.shape[1],6))\n",
    "x_train.shape"
   ]
  },
  {
   "cell_type": "code",
   "execution_count": 17,
   "metadata": {
    "ExecuteTime": {
     "end_time": "2022-05-26T16:08:31.493287Z",
     "start_time": "2022-05-26T16:08:31.481320Z"
    },
    "id": "g8itRnlCrYnp"
   },
   "outputs": [],
   "source": [
    "from tensorflow.keras.models import Sequential\n",
    "from tensorflow.keras.layers import Dense, LSTM"
   ]
  },
  {
   "cell_type": "code",
   "execution_count": 23,
   "metadata": {
    "ExecuteTime": {
     "end_time": "2022-05-26T16:08:32.036622Z",
     "start_time": "2022-05-26T16:08:31.496280Z"
    },
    "id": "6PqL12EnqGB5"
   },
   "outputs": [],
   "source": [
    "#Build the LSTM model\n",
    "model = Sequential()\n",
    "model.add(LSTM(50,return_sequences=True, input_shape=(x_train.shape[1],6)))\n",
    "model.add(LSTM(50, return_sequences=False))\n",
    "model.add(Dense(25))\n",
    "model.add(Dense(1))\n",
    "#Compile the model\n",
    "model.compile(loss='binary_crossentropy',metrics=['accuracy'])"
   ]
  },
  {
   "cell_type": "code",
   "execution_count": 24,
   "metadata": {
    "ExecuteTime": {
     "end_time": "2022-05-26T16:17:44.718636Z",
     "start_time": "2022-05-26T16:08:32.038613Z"
    },
    "id": "Y2YC8K3asVQ_"
   },
   "outputs": [
    {
     "name": "stdout",
     "output_type": "stream",
     "text": [
      "Epoch 1/10\n",
      "25/25 [==============================] - 9s 39ms/step - loss: 0.7438 - accuracy: 0.4983\n",
      "Epoch 2/10\n",
      "25/25 [==============================] - 1s 33ms/step - loss: 0.7046 - accuracy: 0.4992\n",
      "Epoch 3/10\n",
      "25/25 [==============================] - 1s 32ms/step - loss: 0.7100 - accuracy: 0.5000\n",
      "Epoch 4/10\n",
      "25/25 [==============================] - 1s 32ms/step - loss: 0.7423 - accuracy: 0.5004\n",
      "Epoch 5/10\n",
      "25/25 [==============================] - 1s 32ms/step - loss: 0.7047 - accuracy: 0.4996\n",
      "Epoch 6/10\n",
      "25/25 [==============================] - 1s 32ms/step - loss: 0.7005 - accuracy: 0.5071\n",
      "Epoch 7/10\n",
      "25/25 [==============================] - 1s 34ms/step - loss: 0.6968 - accuracy: 0.5125\n",
      "Epoch 8/10\n",
      "25/25 [==============================] - 1s 33ms/step - loss: 0.6978 - accuracy: 0.4933\n",
      "Epoch 9/10\n",
      "25/25 [==============================] - 1s 32ms/step - loss: 0.6982 - accuracy: 0.5179\n",
      "Epoch 10/10\n",
      "25/25 [==============================] - 1s 31ms/step - loss: 0.6982 - accuracy: 0.5067\n"
     ]
    }
   ],
   "source": [
    "#Train the model\n",
    "\n",
    "with tf.device('/GPU:0'):\n",
    "    model.fit(x_train, y_train, batch_size=100, epochs=10)"
   ]
  },
  {
   "cell_type": "code",
   "execution_count": null,
   "metadata": {
    "ExecuteTime": {
     "end_time": "2022-05-26T16:17:44.748650Z",
     "start_time": "2022-05-26T16:17:44.720743Z"
    },
    "id": "GmZg8nUSAlIz"
   },
   "outputs": [],
   "source": [
    "#Create the testing data set\n",
    "#Create a new array containg scaled values for test data set\n",
    "test_data = scaled_data.iloc[-160:,:]\n",
    "x_test=[]\n",
    "y_test=scaled_data.iloc[-100:,6]\n",
    "for i in range(60, len(test_data)):\n",
    "    x_test.append(test_data.iloc[i-60:i,0:6])"
   ]
  },
  {
   "cell_type": "code",
   "execution_count": null,
   "metadata": {
    "ExecuteTime": {
     "end_time": "2022-05-26T16:17:44.884659Z",
     "start_time": "2022-05-26T16:17:44.750693Z"
    },
    "id": "7a0l-pdbB_Gu"
   },
   "outputs": [],
   "source": [
    "#Convert the data to a numpy array\n",
    "x_test = np.array(x_test)"
   ]
  },
  {
   "cell_type": "code",
   "execution_count": null,
   "metadata": {
    "ExecuteTime": {
     "end_time": "2022-05-26T16:17:44.961685Z",
     "start_time": "2022-05-26T16:17:44.887652Z"
    },
    "id": "k6ZXQkGnCFt2"
   },
   "outputs": [],
   "source": [
    "#REshape the data\n",
    "x_test = np.reshape(x_test,(x_test.shape[0],x_test.shape[1],6))\n"
   ]
  },
  {
   "cell_type": "code",
   "execution_count": null,
   "metadata": {
    "ExecuteTime": {
     "end_time": "2022-05-26T16:17:49.812599Z",
     "start_time": "2022-05-26T16:17:44.963680Z"
    },
    "id": "4h45oZXJC173"
   },
   "outputs": [],
   "source": [
    "predictions = model.predict(x_test)"
   ]
  },
  {
   "cell_type": "code",
   "execution_count": null,
   "metadata": {
    "ExecuteTime": {
     "end_time": "2022-05-26T16:17:56.771641Z",
     "start_time": "2022-05-26T16:17:49.816587Z"
    },
    "id": "MSEdKwALCS3O"
   },
   "outputs": [],
   "source": [
    "result = model.evaluate(x_test, y_test, batch_size=1)"
   ]
  },
  {
   "cell_type": "code",
   "execution_count": 33,
   "metadata": {
    "ExecuteTime": {
     "end_time": "2022-05-26T16:20:39.428161Z",
     "start_time": "2022-05-26T16:20:39.391024Z"
    },
    "id": "t3Ir1bcm2kos"
   },
   "outputs": [],
   "source": [
    "model.save_weights('models/LSTM2')"
   ]
  },
  {
   "cell_type": "code",
   "execution_count": 30,
   "metadata": {},
   "outputs": [],
   "source": [
    "import absl.logging\n",
    "absl.logging.set_verbosity(absl.logging.ERROR)"
   ]
  },
  {
   "cell_type": "code",
   "execution_count": 32,
   "metadata": {
    "ExecuteTime": {
     "end_time": "2022-05-26T16:20:49.056037Z",
     "start_time": "2022-05-26T16:20:40.747634Z"
    }
   },
   "outputs": [
    {
     "name": "stdout",
     "output_type": "stream",
     "text": [
      "INFO:tensorflow:Assets written to: models/LSTM2\\assets\n"
     ]
    },
    {
     "name": "stderr",
     "output_type": "stream",
     "text": [
      "INFO:tensorflow:Assets written to: models/LSTM2\\assets\n"
     ]
    }
   ],
   "source": [
    "model.save('models/LSTM2')"
   ]
  },
  {
   "cell_type": "code",
   "execution_count": 100,
   "metadata": {
    "ExecuteTime": {
     "end_time": "2022-05-26T16:29:16.940301Z",
     "start_time": "2022-05-26T16:29:16.927336Z"
    }
   },
   "outputs": [
    {
     "data": {
      "text/plain": [
       "[]"
      ]
     },
     "execution_count": 100,
     "metadata": {},
     "output_type": "execute_result"
    }
   ],
   "source": [
    "tf.config.list_physical_devices('GPU')"
   ]
  },
  {
   "cell_type": "markdown",
   "metadata": {
    "id": "42lVJLMm2x60"
   },
   "source": []
  }
 ],
 "metadata": {
  "accelerator": "GPU",
  "colab": {
   "collapsed_sections": [],
   "name": "taeyong6.ipynb",
   "provenance": []
  },
  "kernelspec": {
   "display_name": "Python 3",
   "language": "python",
   "name": "python3"
  },
  "language_info": {
   "codemirror_mode": {
    "name": "ipython",
    "version": 3
   },
   "file_extension": ".py",
   "mimetype": "text/x-python",
   "name": "python",
   "nbconvert_exporter": "python",
   "pygments_lexer": "ipython3",
   "version": "3.8.8"
  },
  "toc": {
   "base_numbering": 1,
   "nav_menu": {},
   "number_sections": true,
   "sideBar": true,
   "skip_h1_title": false,
   "title_cell": "Table of Contents",
   "title_sidebar": "Contents",
   "toc_cell": false,
   "toc_position": {},
   "toc_section_display": true,
   "toc_window_display": false
  },
  "varInspector": {
   "cols": {
    "lenName": 16,
    "lenType": 16,
    "lenVar": 40
   },
   "kernels_config": {
    "python": {
     "delete_cmd_postfix": "",
     "delete_cmd_prefix": "del ",
     "library": "var_list.py",
     "varRefreshCmd": "print(var_dic_list())"
    },
    "r": {
     "delete_cmd_postfix": ") ",
     "delete_cmd_prefix": "rm(",
     "library": "var_list.r",
     "varRefreshCmd": "cat(var_dic_list()) "
    }
   },
   "types_to_exclude": [
    "module",
    "function",
    "builtin_function_or_method",
    "instance",
    "_Feature"
   ],
   "window_display": false
  }
 },
 "nbformat": 4,
 "nbformat_minor": 1
}
