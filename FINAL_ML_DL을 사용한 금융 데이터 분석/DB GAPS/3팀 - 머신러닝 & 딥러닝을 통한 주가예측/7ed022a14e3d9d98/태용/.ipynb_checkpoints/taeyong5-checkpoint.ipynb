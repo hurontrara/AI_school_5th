{
 "cells": [
  {
   "cell_type": "code",
   "execution_count": 4,
   "metadata": {
    "ExecuteTime": {
     "end_time": "2022-05-23T15:00:44.926576Z",
     "start_time": "2022-05-23T15:00:44.908620Z"
    },
    "id": "kh_UWY-EqGBp"
   },
   "outputs": [],
   "source": [
    "import sys\n",
    "import warnings\n",
    "\n",
    "if not sys.warnoptions:\n",
    "    warnings.simplefilter('ignore')"
   ]
  },
  {
   "cell_type": "code",
   "execution_count": 5,
   "metadata": {
    "ExecuteTime": {
     "end_time": "2022-05-23T15:46:04.482047Z",
     "start_time": "2022-05-23T15:46:04.465863Z"
    },
    "id": "idd4ZXsiqGBs"
   },
   "outputs": [],
   "source": [
    "import tensorflow as tf\n",
    "import numpy as np\n",
    "import matplotlib.pyplot as plt\n",
    "import seaborn as sns\n",
    "import pandas as pd\n",
    "import math\n",
    "from sklearn.preprocessing import MinMaxScaler\n",
    "from datetime import datetime\n",
    "from datetime import timedelta\n",
    "from tqdm import tqdm\n",
    "sns.set()\n",
    "# tf.compat.v1.random.set_random_seed(1234)"
   ]
  },
  {
   "cell_type": "code",
   "execution_count": 3,
   "metadata": {
    "ExecuteTime": {
     "end_time": "2022-05-23T15:00:53.019036Z",
     "start_time": "2022-05-23T15:00:53.006284Z"
    },
    "colab": {
     "base_uri": "https://localhost:8080/",
     "height": 35
    },
    "id": "iH_9BCIfqGBv",
    "outputId": "0f4b1879-d01e-467b-94fd-af286e9ab262"
   },
   "outputs": [
    {
     "data": {
      "application/vnd.google.colaboratory.intrinsic+json": {
       "type": "string"
      },
      "text/plain": [
       "'2.8.0'"
      ]
     },
     "execution_count": 3,
     "metadata": {},
     "output_type": "execute_result"
    }
   ],
   "source": [
    "tf.__version__"
   ]
  },
  {
   "cell_type": "code",
   "execution_count": 4,
   "metadata": {
    "colab": {
     "base_uri": "https://localhost:8080/"
    },
    "id": "rZmxaUsp__po",
    "outputId": "658b8e21-8a2e-431e-928f-e898b3d4c226"
   },
   "outputs": [
    {
     "name": "stdout",
     "output_type": "stream",
     "text": [
      "Mounted at /content/drive\n"
     ]
    }
   ],
   "source": [
    "from google.colab import drive\n",
    "drive.mount('/content/drive') # 원하는 세부 경로로 변경이 가능합니다."
   ]
  },
  {
   "cell_type": "code",
   "execution_count": 5,
   "metadata": {
    "colab": {
     "base_uri": "https://localhost:8080/"
    },
    "id": "EvDxvchqqhbY",
    "outputId": "c8b90935-766f-48e4-829a-581505acc7d6"
   },
   "outputs": [
    {
     "name": "stdout",
     "output_type": "stream",
     "text": [
      "Looking in indexes: https://pypi.org/simple, https://us-python.pkg.dev/colab-wheels/public/simple/\n",
      "Collecting finance-datareader\n",
      "  Downloading finance_datareader-0.9.33-py3-none-any.whl (48 kB)\n",
      "\u001b[K     |████████████████████████████████| 48 kB 2.9 MB/s \n",
      "\u001b[?25hCollecting requests-file\n",
      "  Downloading requests_file-1.5.1-py2.py3-none-any.whl (3.7 kB)\n",
      "Requirement already satisfied: lxml in /usr/local/lib/python3.7/dist-packages (from finance-datareader) (4.2.6)\n",
      "Requirement already satisfied: tqdm in /usr/local/lib/python3.7/dist-packages (from finance-datareader) (4.64.0)\n",
      "Requirement already satisfied: pandas>=0.19.2 in /usr/local/lib/python3.7/dist-packages (from finance-datareader) (1.3.5)\n",
      "Requirement already satisfied: requests>=2.3.0 in /usr/local/lib/python3.7/dist-packages (from finance-datareader) (2.23.0)\n",
      "Requirement already satisfied: pytz>=2017.3 in /usr/local/lib/python3.7/dist-packages (from pandas>=0.19.2->finance-datareader) (2022.1)\n",
      "Requirement already satisfied: python-dateutil>=2.7.3 in /usr/local/lib/python3.7/dist-packages (from pandas>=0.19.2->finance-datareader) (2.8.2)\n",
      "Requirement already satisfied: numpy>=1.17.3 in /usr/local/lib/python3.7/dist-packages (from pandas>=0.19.2->finance-datareader) (1.21.6)\n",
      "Requirement already satisfied: six>=1.5 in /usr/local/lib/python3.7/dist-packages (from python-dateutil>=2.7.3->pandas>=0.19.2->finance-datareader) (1.15.0)\n",
      "Requirement already satisfied: certifi>=2017.4.17 in /usr/local/lib/python3.7/dist-packages (from requests>=2.3.0->finance-datareader) (2022.5.18.1)\n",
      "Requirement already satisfied: chardet<4,>=3.0.2 in /usr/local/lib/python3.7/dist-packages (from requests>=2.3.0->finance-datareader) (3.0.4)\n",
      "Requirement already satisfied: urllib3!=1.25.0,!=1.25.1,<1.26,>=1.21.1 in /usr/local/lib/python3.7/dist-packages (from requests>=2.3.0->finance-datareader) (1.24.3)\n",
      "Requirement already satisfied: idna<3,>=2.5 in /usr/local/lib/python3.7/dist-packages (from requests>=2.3.0->finance-datareader) (2.10)\n",
      "Installing collected packages: requests-file, finance-datareader\n",
      "Successfully installed finance-datareader-0.9.33 requests-file-1.5.1\n"
     ]
    }
   ],
   "source": [
    "pip install -U finance-datareader"
   ]
  },
  {
   "cell_type": "code",
   "execution_count": 2,
   "metadata": {
    "ExecuteTime": {
     "end_time": "2022-05-23T15:00:53.223493Z",
     "start_time": "2022-05-23T15:00:53.069894Z"
    },
    "id": "1sigKZM2qGBx"
   },
   "outputs": [],
   "source": [
    "import FinanceDataReader as fdr\n"
   ]
  },
  {
   "cell_type": "code",
   "execution_count": 3,
   "metadata": {
    "ExecuteTime": {
     "end_time": "2022-05-23T15:06:14.820335Z",
     "start_time": "2022-05-23T15:06:14.683508Z"
    },
    "colab": {
     "base_uri": "https://localhost:8080/",
     "height": 455
    },
    "id": "VfdZVdvrqGBy",
    "outputId": "866cd0f2-71c9-4393-a3a3-c10267b1b149",
    "scrolled": false
   },
   "outputs": [
    {
     "data": {
      "text/html": [
       "<div>\n",
       "<style scoped>\n",
       "    .dataframe tbody tr th:only-of-type {\n",
       "        vertical-align: middle;\n",
       "    }\n",
       "\n",
       "    .dataframe tbody tr th {\n",
       "        vertical-align: top;\n",
       "    }\n",
       "\n",
       "    .dataframe thead th {\n",
       "        text-align: right;\n",
       "    }\n",
       "</style>\n",
       "<table border=\"1\" class=\"dataframe\">\n",
       "  <thead>\n",
       "    <tr style=\"text-align: right;\">\n",
       "      <th></th>\n",
       "      <th>Open</th>\n",
       "      <th>High</th>\n",
       "      <th>Low</th>\n",
       "      <th>Close</th>\n",
       "      <th>Volume</th>\n",
       "      <th>Change</th>\n",
       "    </tr>\n",
       "    <tr>\n",
       "      <th>Date</th>\n",
       "      <th></th>\n",
       "      <th></th>\n",
       "      <th></th>\n",
       "      <th></th>\n",
       "      <th></th>\n",
       "      <th></th>\n",
       "    </tr>\n",
       "  </thead>\n",
       "  <tbody>\n",
       "    <tr>\n",
       "      <th>2012-01-02</th>\n",
       "      <td>20242</td>\n",
       "      <td>20346</td>\n",
       "      <td>20092</td>\n",
       "      <td>20265</td>\n",
       "      <td>2047695</td>\n",
       "      <td>0.002027</td>\n",
       "    </tr>\n",
       "    <tr>\n",
       "      <th>2012-01-03</th>\n",
       "      <td>20445</td>\n",
       "      <td>20902</td>\n",
       "      <td>20323</td>\n",
       "      <td>20902</td>\n",
       "      <td>6309724</td>\n",
       "      <td>0.031434</td>\n",
       "    </tr>\n",
       "    <tr>\n",
       "      <th>2012-01-04</th>\n",
       "      <td>21017</td>\n",
       "      <td>21025</td>\n",
       "      <td>20769</td>\n",
       "      <td>20783</td>\n",
       "      <td>10832944</td>\n",
       "      <td>-0.005693</td>\n",
       "    </tr>\n",
       "    <tr>\n",
       "      <th>2012-01-05</th>\n",
       "      <td>20798</td>\n",
       "      <td>20879</td>\n",
       "      <td>20685</td>\n",
       "      <td>20747</td>\n",
       "      <td>5014582</td>\n",
       "      <td>-0.001732</td>\n",
       "    </tr>\n",
       "    <tr>\n",
       "      <th>2012-01-06</th>\n",
       "      <td>20725</td>\n",
       "      <td>20742</td>\n",
       "      <td>20179</td>\n",
       "      <td>20455</td>\n",
       "      <td>4309016</td>\n",
       "      <td>-0.014074</td>\n",
       "    </tr>\n",
       "    <tr>\n",
       "      <th>...</th>\n",
       "      <td>...</td>\n",
       "      <td>...</td>\n",
       "      <td>...</td>\n",
       "      <td>...</td>\n",
       "      <td>...</td>\n",
       "      <td>...</td>\n",
       "    </tr>\n",
       "    <tr>\n",
       "      <th>2022-05-20</th>\n",
       "      <td>34515</td>\n",
       "      <td>35025</td>\n",
       "      <td>34485</td>\n",
       "      <td>34985</td>\n",
       "      <td>4661990</td>\n",
       "      <td>0.017894</td>\n",
       "    </tr>\n",
       "    <tr>\n",
       "      <th>2022-05-23</th>\n",
       "      <td>35135</td>\n",
       "      <td>35225</td>\n",
       "      <td>34915</td>\n",
       "      <td>35100</td>\n",
       "      <td>5876025</td>\n",
       "      <td>0.003287</td>\n",
       "    </tr>\n",
       "    <tr>\n",
       "      <th>2022-05-24</th>\n",
       "      <td>34950</td>\n",
       "      <td>35030</td>\n",
       "      <td>34450</td>\n",
       "      <td>34450</td>\n",
       "      <td>5416640</td>\n",
       "      <td>-0.018519</td>\n",
       "    </tr>\n",
       "    <tr>\n",
       "      <th>2022-05-25</th>\n",
       "      <td>34660</td>\n",
       "      <td>34825</td>\n",
       "      <td>34430</td>\n",
       "      <td>34595</td>\n",
       "      <td>6735545</td>\n",
       "      <td>0.004209</td>\n",
       "    </tr>\n",
       "    <tr>\n",
       "      <th>2022-05-26</th>\n",
       "      <td>34595</td>\n",
       "      <td>34945</td>\n",
       "      <td>34475</td>\n",
       "      <td>34495</td>\n",
       "      <td>2378186</td>\n",
       "      <td>-0.002891</td>\n",
       "    </tr>\n",
       "  </tbody>\n",
       "</table>\n",
       "<p>2561 rows × 6 columns</p>\n",
       "</div>"
      ],
      "text/plain": [
       "             Open   High    Low  Close    Volume    Change\n",
       "Date                                                      \n",
       "2012-01-02  20242  20346  20092  20265   2047695  0.002027\n",
       "2012-01-03  20445  20902  20323  20902   6309724  0.031434\n",
       "2012-01-04  21017  21025  20769  20783  10832944 -0.005693\n",
       "2012-01-05  20798  20879  20685  20747   5014582 -0.001732\n",
       "2012-01-06  20725  20742  20179  20455   4309016 -0.014074\n",
       "...           ...    ...    ...    ...       ...       ...\n",
       "2022-05-20  34515  35025  34485  34985   4661990  0.017894\n",
       "2022-05-23  35135  35225  34915  35100   5876025  0.003287\n",
       "2022-05-24  34950  35030  34450  34450   5416640 -0.018519\n",
       "2022-05-25  34660  34825  34430  34595   6735545  0.004209\n",
       "2022-05-26  34595  34945  34475  34495   2378186 -0.002891\n",
       "\n",
       "[2561 rows x 6 columns]"
      ]
     },
     "execution_count": 3,
     "metadata": {},
     "output_type": "execute_result"
    }
   ],
   "source": [
    "df = fdr.DataReader(\"069500\",start= '2012-01-01')\n",
    "df"
   ]
  },
  {
   "cell_type": "code",
   "execution_count": 8,
   "metadata": {
    "ExecuteTime": {
     "end_time": "2022-05-23T15:29:13.611193Z",
     "start_time": "2022-05-23T15:29:13.584265Z"
    },
    "id": "h1skvvbxqGBy"
   },
   "outputs": [],
   "source": [
    "target = []\n",
    "for i in range(df.shape[0]):\n",
    "    if df['Change'][i] >0:\n",
    "        target.append(1)\n",
    "    else:\n",
    "        target.append(0)\n",
    "df['Target'] = target\n"
   ]
  },
  {
   "cell_type": "code",
   "execution_count": 9,
   "metadata": {
    "ExecuteTime": {
     "end_time": "2022-05-23T15:29:13.992814Z",
     "start_time": "2022-05-23T15:29:13.968829Z"
    },
    "colab": {
     "base_uri": "https://localhost:8080/",
     "height": 394
    },
    "id": "NxTkJD4SqGBz",
    "outputId": "6ee63279-948f-49b2-c7eb-8c2b197e180b"
   },
   "outputs": [
    {
     "data": {
      "text/html": [
       "<div>\n",
       "<style scoped>\n",
       "    .dataframe tbody tr th:only-of-type {\n",
       "        vertical-align: middle;\n",
       "    }\n",
       "\n",
       "    .dataframe tbody tr th {\n",
       "        vertical-align: top;\n",
       "    }\n",
       "\n",
       "    .dataframe thead th {\n",
       "        text-align: right;\n",
       "    }\n",
       "</style>\n",
       "<table border=\"1\" class=\"dataframe\">\n",
       "  <thead>\n",
       "    <tr style=\"text-align: right;\">\n",
       "      <th></th>\n",
       "      <th>Open</th>\n",
       "      <th>High</th>\n",
       "      <th>Low</th>\n",
       "      <th>Close</th>\n",
       "      <th>Volume</th>\n",
       "      <th>Change</th>\n",
       "      <th>Target</th>\n",
       "    </tr>\n",
       "    <tr>\n",
       "      <th>Date</th>\n",
       "      <th></th>\n",
       "      <th></th>\n",
       "      <th></th>\n",
       "      <th></th>\n",
       "      <th></th>\n",
       "      <th></th>\n",
       "      <th></th>\n",
       "    </tr>\n",
       "  </thead>\n",
       "  <tbody>\n",
       "    <tr>\n",
       "      <th>2012-01-02</th>\n",
       "      <td>20242</td>\n",
       "      <td>20346</td>\n",
       "      <td>20092</td>\n",
       "      <td>20265</td>\n",
       "      <td>2047695</td>\n",
       "      <td>0.002027</td>\n",
       "      <td>1</td>\n",
       "    </tr>\n",
       "    <tr>\n",
       "      <th>2012-01-03</th>\n",
       "      <td>20445</td>\n",
       "      <td>20902</td>\n",
       "      <td>20323</td>\n",
       "      <td>20902</td>\n",
       "      <td>6309724</td>\n",
       "      <td>0.031434</td>\n",
       "      <td>1</td>\n",
       "    </tr>\n",
       "    <tr>\n",
       "      <th>2012-01-04</th>\n",
       "      <td>21017</td>\n",
       "      <td>21025</td>\n",
       "      <td>20769</td>\n",
       "      <td>20783</td>\n",
       "      <td>10832944</td>\n",
       "      <td>-0.005693</td>\n",
       "      <td>0</td>\n",
       "    </tr>\n",
       "    <tr>\n",
       "      <th>2012-01-05</th>\n",
       "      <td>20798</td>\n",
       "      <td>20879</td>\n",
       "      <td>20685</td>\n",
       "      <td>20747</td>\n",
       "      <td>5014582</td>\n",
       "      <td>-0.001732</td>\n",
       "      <td>0</td>\n",
       "    </tr>\n",
       "    <tr>\n",
       "      <th>2012-01-06</th>\n",
       "      <td>20725</td>\n",
       "      <td>20742</td>\n",
       "      <td>20179</td>\n",
       "      <td>20455</td>\n",
       "      <td>4309016</td>\n",
       "      <td>-0.014074</td>\n",
       "      <td>0</td>\n",
       "    </tr>\n",
       "    <tr>\n",
       "      <th>2012-01-09</th>\n",
       "      <td>20333</td>\n",
       "      <td>20333</td>\n",
       "      <td>20025</td>\n",
       "      <td>20194</td>\n",
       "      <td>7237398</td>\n",
       "      <td>-0.012760</td>\n",
       "      <td>0</td>\n",
       "    </tr>\n",
       "    <tr>\n",
       "      <th>2012-01-10</th>\n",
       "      <td>20314</td>\n",
       "      <td>20632</td>\n",
       "      <td>20304</td>\n",
       "      <td>20538</td>\n",
       "      <td>6836552</td>\n",
       "      <td>0.017035</td>\n",
       "      <td>1</td>\n",
       "    </tr>\n",
       "    <tr>\n",
       "      <th>2012-01-11</th>\n",
       "      <td>20617</td>\n",
       "      <td>20632</td>\n",
       "      <td>20408</td>\n",
       "      <td>20489</td>\n",
       "      <td>3679568</td>\n",
       "      <td>-0.002386</td>\n",
       "      <td>0</td>\n",
       "    </tr>\n",
       "    <tr>\n",
       "      <th>2012-01-12</th>\n",
       "      <td>20495</td>\n",
       "      <td>20655</td>\n",
       "      <td>20359</td>\n",
       "      <td>20642</td>\n",
       "      <td>2097337</td>\n",
       "      <td>0.007467</td>\n",
       "      <td>1</td>\n",
       "    </tr>\n",
       "    <tr>\n",
       "      <th>2012-01-13</th>\n",
       "      <td>20636</td>\n",
       "      <td>20906</td>\n",
       "      <td>20614</td>\n",
       "      <td>20871</td>\n",
       "      <td>4876617</td>\n",
       "      <td>0.011094</td>\n",
       "      <td>1</td>\n",
       "    </tr>\n",
       "  </tbody>\n",
       "</table>\n",
       "</div>"
      ],
      "text/plain": [
       "             Open   High    Low  Close    Volume    Change  Target\n",
       "Date                                                              \n",
       "2012-01-02  20242  20346  20092  20265   2047695  0.002027       1\n",
       "2012-01-03  20445  20902  20323  20902   6309724  0.031434       1\n",
       "2012-01-04  21017  21025  20769  20783  10832944 -0.005693       0\n",
       "2012-01-05  20798  20879  20685  20747   5014582 -0.001732       0\n",
       "2012-01-06  20725  20742  20179  20455   4309016 -0.014074       0\n",
       "2012-01-09  20333  20333  20025  20194   7237398 -0.012760       0\n",
       "2012-01-10  20314  20632  20304  20538   6836552  0.017035       1\n",
       "2012-01-11  20617  20632  20408  20489   3679568 -0.002386       0\n",
       "2012-01-12  20495  20655  20359  20642   2097337  0.007467       1\n",
       "2012-01-13  20636  20906  20614  20871   4876617  0.011094       1"
      ]
     },
     "execution_count": 9,
     "metadata": {},
     "output_type": "execute_result"
    }
   ],
   "source": [
    "df.head(10)"
   ]
  },
  {
   "cell_type": "code",
   "execution_count": 10,
   "metadata": {
    "ExecuteTime": {
     "end_time": "2022-05-23T15:10:16.356355Z",
     "start_time": "2022-05-23T15:10:15.995780Z"
    },
    "colab": {
     "base_uri": "https://localhost:8080/",
     "height": 523
    },
    "id": "k7S94bWcqGB0",
    "outputId": "0004caf5-8fc4-4529-c030-b199d91f972b"
   },
   "outputs": [
    {
     "data": {
      "image/png": "[encoded data removed]",
      "text/plain": [
       "<Figure size 1152x576 with 1 Axes>"
      ]
     },
     "metadata": {},
     "output_type": "display_data"
    }
   ],
   "source": [
    "plt.figure(figsize=(16,8))\n",
    "plt.title('Close Price History')\n",
    "plt.plot(df['Close'])\n",
    "plt.xlabel('Date', fontsize=18)\n",
    "plt.ylabel('Close Price Won', fontsize=18)\n",
    "plt.show()"
   ]
  },
  {
   "cell_type": "code",
   "execution_count": 11,
   "metadata": {
    "ExecuteTime": {
     "end_time": "2022-05-23T15:47:51.010807Z",
     "start_time": "2022-05-23T15:47:50.978893Z"
    },
    "colab": {
     "base_uri": "https://localhost:8080/",
     "height": 206
    },
    "id": "2zzgJgTcqGB1",
    "outputId": "f9f4ae06-97d4-42d9-8b9c-2d5b81d74579"
   },
   "outputs": [
    {
     "data": {
      "text/html": [
       "<div>\n",
       "<style scoped>\n",
       "    .dataframe tbody tr th:only-of-type {\n",
       "        vertical-align: middle;\n",
       "    }\n",
       "\n",
       "    .dataframe tbody tr th {\n",
       "        vertical-align: top;\n",
       "    }\n",
       "\n",
       "    .dataframe thead th {\n",
       "        text-align: right;\n",
       "    }\n",
       "</style>\n",
       "<table border=\"1\" class=\"dataframe\">\n",
       "  <thead>\n",
       "    <tr style=\"text-align: right;\">\n",
       "      <th></th>\n",
       "      <th>0</th>\n",
       "      <th>1</th>\n",
       "    </tr>\n",
       "  </thead>\n",
       "  <tbody>\n",
       "    <tr>\n",
       "      <th>0</th>\n",
       "      <td>0.010043</td>\n",
       "      <td>1.0</td>\n",
       "    </tr>\n",
       "    <tr>\n",
       "      <th>1</th>\n",
       "      <td>0.080154</td>\n",
       "      <td>1.0</td>\n",
       "    </tr>\n",
       "    <tr>\n",
       "      <th>2</th>\n",
       "      <td>0.154562</td>\n",
       "      <td>0.0</td>\n",
       "    </tr>\n",
       "    <tr>\n",
       "      <th>3</th>\n",
       "      <td>0.058849</td>\n",
       "      <td>0.0</td>\n",
       "    </tr>\n",
       "    <tr>\n",
       "      <th>4</th>\n",
       "      <td>0.047242</td>\n",
       "      <td>0.0</td>\n",
       "    </tr>\n",
       "  </tbody>\n",
       "</table>\n",
       "</div>"
      ],
      "text/plain": [
       "          0    1\n",
       "0  0.010043  1.0\n",
       "1  0.080154  1.0\n",
       "2  0.154562  0.0\n",
       "3  0.058849  0.0\n",
       "4  0.047242  0.0"
      ]
     },
     "execution_count": 11,
     "metadata": {},
     "output_type": "execute_result"
    }
   ],
   "source": [
    "minmax = MinMaxScaler().fit(df.iloc[:, [4,6]].astype('float32')) # Close index\n",
    "scaled_data = minmax.transform(df.iloc[:, [4,6]].astype('float32')) # Close index\n",
    "scaled_data = pd.DataFrame(scaled_data)\n",
    "scaled_data.head()"
   ]
  },
  {
   "cell_type": "code",
   "execution_count": 12,
   "metadata": {
    "ExecuteTime": {
     "end_time": "2022-05-23T15:57:44.369407Z",
     "start_time": "2022-05-23T15:57:44.354442Z"
    },
    "colab": {
     "base_uri": "https://localhost:8080/"
    },
    "id": "oytopK1oqGB3",
    "outputId": "38e1a9c0-0871-45bf-dc84-4f2d67c9e056"
   },
   "outputs": [
    {
     "data": {
      "text/html": [
       "<div>\n",
       "<style scoped>\n",
       "    .dataframe tbody tr th:only-of-type {\n",
       "        vertical-align: middle;\n",
       "    }\n",
       "\n",
       "    .dataframe tbody tr th {\n",
       "        vertical-align: top;\n",
       "    }\n",
       "\n",
       "    .dataframe thead th {\n",
       "        text-align: right;\n",
       "    }\n",
       "</style>\n",
       "<table border=\"1\" class=\"dataframe\">\n",
       "  <thead>\n",
       "    <tr style=\"text-align: right;\">\n",
       "      <th></th>\n",
       "      <th>0</th>\n",
       "      <th>1</th>\n",
       "    </tr>\n",
       "  </thead>\n",
       "  <tbody>\n",
       "    <tr>\n",
       "      <th>0</th>\n",
       "      <td>0.010043</td>\n",
       "      <td>1.0</td>\n",
       "    </tr>\n",
       "    <tr>\n",
       "      <th>1</th>\n",
       "      <td>0.080154</td>\n",
       "      <td>1.0</td>\n",
       "    </tr>\n",
       "    <tr>\n",
       "      <th>2</th>\n",
       "      <td>0.154562</td>\n",
       "      <td>0.0</td>\n",
       "    </tr>\n",
       "    <tr>\n",
       "      <th>3</th>\n",
       "      <td>0.058849</td>\n",
       "      <td>0.0</td>\n",
       "    </tr>\n",
       "    <tr>\n",
       "      <th>4</th>\n",
       "      <td>0.047242</td>\n",
       "      <td>0.0</td>\n",
       "    </tr>\n",
       "    <tr>\n",
       "      <th>...</th>\n",
       "      <td>...</td>\n",
       "      <td>...</td>\n",
       "    </tr>\n",
       "    <tr>\n",
       "      <th>2555</th>\n",
       "      <td>0.075963</td>\n",
       "      <td>0.0</td>\n",
       "    </tr>\n",
       "    <tr>\n",
       "      <th>2556</th>\n",
       "      <td>0.053048</td>\n",
       "      <td>1.0</td>\n",
       "    </tr>\n",
       "    <tr>\n",
       "      <th>2557</th>\n",
       "      <td>0.073020</td>\n",
       "      <td>1.0</td>\n",
       "    </tr>\n",
       "    <tr>\n",
       "      <th>2558</th>\n",
       "      <td>0.065463</td>\n",
       "      <td>0.0</td>\n",
       "    </tr>\n",
       "    <tr>\n",
       "      <th>2559</th>\n",
       "      <td>0.034735</td>\n",
       "      <td>1.0</td>\n",
       "    </tr>\n",
       "  </tbody>\n",
       "</table>\n",
       "<p>2560 rows × 2 columns</p>\n",
       "</div>"
      ],
      "text/plain": [
       "             0    1\n",
       "0     0.010043  1.0\n",
       "1     0.080154  1.0\n",
       "2     0.154562  0.0\n",
       "3     0.058849  0.0\n",
       "4     0.047242  0.0\n",
       "...        ...  ...\n",
       "2555  0.075963  0.0\n",
       "2556  0.053048  1.0\n",
       "2557  0.073020  1.0\n",
       "2558  0.065463  0.0\n",
       "2559  0.034735  1.0\n",
       "\n",
       "[2560 rows x 2 columns]"
      ]
     },
     "execution_count": 12,
     "metadata": {},
     "output_type": "execute_result"
    }
   ],
   "source": [
    "scaled_data"
   ]
  },
  {
   "cell_type": "code",
   "execution_count": 13,
   "metadata": {
    "ExecuteTime": {
     "end_time": "2022-05-23T15:58:25.440037Z",
     "start_time": "2022-05-23T15:58:25.062047Z"
    },
    "id": "kHdaWksIqGB4"
   },
   "outputs": [],
   "source": [
    "#create the training data set\n",
    "#create the scaled training data set\n",
    "train_data = scaled_data.iloc[0:-100,:]\n",
    "#Split the data\n",
    "x_train = []\n",
    "y_train = []\n",
    "\n",
    "for i in range(60, len(train_data)):\n",
    "    x_train.append(train_data.iloc[i-60:i,0])\n",
    "    y_train.append(train_data.iloc[i,1])"
   ]
  },
  {
   "cell_type": "code",
   "execution_count": 14,
   "metadata": {
    "ExecuteTime": {
     "end_time": "2022-05-23T15:59:40.356470Z",
     "start_time": "2022-05-23T15:59:40.254197Z"
    },
    "id": "8W7iS3YmqGB4"
   },
   "outputs": [],
   "source": [
    "#Convert the train data to numpy arrrays\n",
    "x_train, y_train = np.array(x_train), np.array(y_train)\n"
   ]
  },
  {
   "cell_type": "code",
   "execution_count": 18,
   "metadata": {
    "ExecuteTime": {
     "end_time": "2022-05-23T16:00:34.674216Z",
     "start_time": "2022-05-23T16:00:34.665239Z"
    },
    "colab": {
     "base_uri": "https://localhost:8080/"
    },
    "id": "WTUNShdKqGB5",
    "outputId": "23c7fe26-2821-43cd-98f9-b164fc8192ba"
   },
   "outputs": [
    {
     "data": {
      "text/plain": [
       "(2400, 60, 1)"
      ]
     },
     "execution_count": 18,
     "metadata": {},
     "output_type": "execute_result"
    }
   ],
   "source": [
    "#Reshape the data\n",
    "x_train = np.reshape(x_train, (x_train.shape[0], x_train.shape[1],1))\n",
    "x_train.shape"
   ]
  },
  {
   "cell_type": "code",
   "execution_count": 26,
   "metadata": {
    "id": "g8itRnlCrYnp"
   },
   "outputs": [],
   "source": [
    "from tensorflow.keras import Sequential\n",
    "from tensorflow.keras.layers import Dense, LSTM\n"
   ]
  },
  {
   "cell_type": "code",
   "execution_count": 17,
   "metadata": {
    "id": "6PqL12EnqGB5"
   },
   "outputs": [],
   "source": [
    "#Build the LSTM model\n",
    "model = Sequential()\n",
    "model.add(LSTM(50,return_sequences=True, input_shape=(x_train.shape[1],1)))\n",
    "model.add(LSTM(50, return_sequences=False))\n",
    "model.add(Dense(25))\n",
    "model.add(Dense(1))"
   ]
  },
  {
   "cell_type": "code",
   "execution_count": 18,
   "metadata": {
    "id": "CGVymaZjrsXR"
   },
   "outputs": [],
   "source": [
    "#Compile the model\n",
    "model.compile(optimizer='adam', loss='binary_crossentropy',metrics=['accuracy'])"
   ]
  },
  {
   "cell_type": "code",
   "execution_count": 19,
   "metadata": {
    "colab": {
     "base_uri": "https://localhost:8080/"
    },
    "id": "Y2YC8K3asVQ_",
    "outputId": "8445d7c7-c4e7-48ec-c761-da85e6f81ec9"
   },
   "outputs": [
    {
     "name": "stdout",
     "output_type": "stream",
     "text": [
      "2400/2400 [==============================] - 34s 8ms/step - loss: 8.1174 - accuracy: 0.4737\n"
     ]
    },
    {
     "data": {
      "text/plain": [
       "<keras.callbacks.History at 0x7fd30efa1510>"
      ]
     },
     "execution_count": 19,
     "metadata": {},
     "output_type": "execute_result"
    }
   ],
   "source": [
    "#Train the model\n",
    "model.fit(x_train, y_train, batch_size=1, epochs=1)"
   ]
  },
  {
   "cell_type": "code",
   "execution_count": 20,
   "metadata": {
    "id": "Ppd_Y7KYANqH"
   },
   "outputs": [],
   "source": [
    "model.save('/content/drive/MyDrive/Colab Notebooks/my_model.h5')"
   ]
  },
  {
   "cell_type": "code",
   "execution_count": 33,
   "metadata": {
    "id": "GmZg8nUSAlIz"
   },
   "outputs": [],
   "source": [
    "#Create the testing data set\n",
    "#Create a new array containg scaled values for test data set\n",
    "test_data = scaled_data.iloc[-160:,:]\n",
    "x_test=[]\n",
    "y_test=scaled_data.iloc[-100:,1]\n",
    "for i in range(60, len(test_data)):\n",
    "    x_test.append(test_data.iloc[i-60:i,0])"
   ]
  },
  {
   "cell_type": "code",
   "execution_count": 34,
   "metadata": {
    "id": "7a0l-pdbB_Gu"
   },
   "outputs": [],
   "source": [
    "#Convert the data to a numpy array\n",
    "x_test = np.array(x_test)"
   ]
  },
  {
   "cell_type": "code",
   "execution_count": 35,
   "metadata": {
    "id": "k6ZXQkGnCFt2"
   },
   "outputs": [],
   "source": [
    "#REshape the data\n",
    "x_test = np.reshape(x_test,(x_test.shape[0],x_test.shape[1],1))\n"
   ]
  },
  {
   "cell_type": "code",
   "execution_count": 24,
   "metadata": {
    "id": "4h45oZXJC173"
   },
   "outputs": [],
   "source": [
    "predictions = model.predict(x_test)"
   ]
  },
  {
   "cell_type": "code",
   "execution_count": 25,
   "metadata": {
    "colab": {
     "base_uri": "https://localhost:8080/"
    },
    "id": "MSEdKwALCS3O",
    "outputId": "c75a0449-319f-49d4-d379-099601354bd3"
   },
   "outputs": [
    {
     "name": "stdout",
     "output_type": "stream",
     "text": [
      "100/100 [==============================] - 1s 4ms/step - loss: 6.9412 - accuracy: 0.5500\n"
     ]
    }
   ],
   "source": [
    "result = model.evaluate(x_test, y_test, batch_size=1)"
   ]
  },
  {
   "cell_type": "code",
   "execution_count": 26,
   "metadata": {
    "id": "AOVDQjU6C6RI"
   },
   "outputs": [],
   "source": [
    "### keras-tuner"
   ]
  },
  {
   "cell_type": "code",
   "execution_count": 27,
   "metadata": {
    "colab": {
     "base_uri": "https://localhost:8080/"
    },
    "id": "d973eAdyqGCM",
    "outputId": "e2b21f48-cae9-4efa-cccd-61e890481d82"
   },
   "outputs": [
    {
     "name": "stdout",
     "output_type": "stream",
     "text": [
      "\u001b[?25l\r",
      "\u001b[K     |██▌                             | 10 kB 26.6 MB/s eta 0:00:01\r",
      "\u001b[K     |█████                           | 20 kB 10.5 MB/s eta 0:00:01\r",
      "\u001b[K     |███████▍                        | 30 kB 8.8 MB/s eta 0:00:01\r",
      "\u001b[K     |█████████▉                      | 40 kB 4.2 MB/s eta 0:00:01\r",
      "\u001b[K     |████████████▎                   | 51 kB 4.2 MB/s eta 0:00:01\r",
      "\u001b[K     |██████████████▊                 | 61 kB 5.0 MB/s eta 0:00:01\r",
      "\u001b[K     |█████████████████▏              | 71 kB 5.1 MB/s eta 0:00:01\r",
      "\u001b[K     |███████████████████▋            | 81 kB 5.2 MB/s eta 0:00:01\r",
      "\u001b[K     |██████████████████████          | 92 kB 5.8 MB/s eta 0:00:01\r",
      "\u001b[K     |████████████████████████▌       | 102 kB 4.9 MB/s eta 0:00:01\r",
      "\u001b[K     |███████████████████████████     | 112 kB 4.9 MB/s eta 0:00:01\r",
      "\u001b[K     |█████████████████████████████▍  | 122 kB 4.9 MB/s eta 0:00:01\r",
      "\u001b[K     |███████████████████████████████▉| 133 kB 4.9 MB/s eta 0:00:01\r",
      "\u001b[K     |████████████████████████████████| 133 kB 4.9 MB/s \n",
      "\u001b[?25h"
     ]
    }
   ],
   "source": [
    "!pip install -q -U keras-tuner"
   ]
  },
  {
   "cell_type": "code",
   "execution_count": 38,
   "metadata": {
    "colab": {
     "base_uri": "https://localhost:8080/"
    },
    "id": "7vT4SiICD0r0",
    "outputId": "227670de-77d8-4d19-bbdf-bf5e162fad08"
   },
   "outputs": [
    {
     "name": "stdout",
     "output_type": "stream",
     "text": [
      "2.5.0\n",
      "1.1.2\n"
     ]
    }
   ],
   "source": [
    "import tensorflow as tf\n",
    "import keras_tuner as kt\n",
    "\n",
    "print(tf.__version__)\n",
    "print(kt.__version__)"
   ]
  },
  {
   "cell_type": "code",
   "execution_count": 39,
   "metadata": {
    "id": "xl-asQXXD2jU"
   },
   "outputs": [],
   "source": [
    "import tensorflow as tf\n",
    "tf.compat.v1.logging.set_verbosity(tf.compat.v1.logging.ERROR)\n",
    "\n",
    "from tensorflow import keras \n",
    "from tensorflow.keras import layers\n",
    "\n",
    "import keras_tuner as kt\n",
    "import numpy as np\n",
    "import IPython"
   ]
  },
  {
   "cell_type": "code",
   "execution_count": 1,
   "metadata": {
    "id": "lx2w7XRQiUQO"
   },
   "outputs": [],
   "source": [
    "def model_builder(hp):\n",
    "    L2_NUM_FILTERS = hp.Int('input_unit',min_value=25,max_value=100,step=25)\n",
    "    L1_NUM_FILTERS = hp.Int('input_unit',min_value=25,max_value=100,step=25)\n",
    "\n",
    "\n",
    "    model = keras.Sequential()\n",
    "    model.add(LSTM(L1_NUM_FILTERS, return_sequences=True, input_shape=(x_train.shape[1],1)))\n",
    "    for i in range(hp.Int('n_layers', 0, 2)):\n",
    "        model.add(LSTM(hp.Int(f'lstm_{i}_units',min_value=25,max_value=100,step=25),return_sequences=True))\n",
    "    model.add(LSTM(L2_NUM_FILTERS, return_sequences=False))\n",
    "    model.add(Dense(25))\n",
    "    model.add(Dense(1))\n",
    "    model.compile(optimizer='adam', loss='binary_crossentropy',metrics=['accuracy'])\n",
    "    return model"
   ]
  },
  {
   "cell_type": "code",
   "execution_count": 2,
   "metadata": {
    "colab": {
     "base_uri": "https://localhost:8080/"
    },
    "id": "YEaHke6wl17l",
    "outputId": "7831abb9-3c60-46eb-d500-52f7cd3014d1"
   },
   "outputs": [],
   "source": [
    "tuner = kt.BayesianOptimization(model_builder,\n",
    "                                objective = 'val_accuracy', # Hyper-params tuning을 위한 목적함수 설정 (metric to minimize or maximize)\n",
    "                                max_trials = 50, # 서로 다른 Hyper-params 조합으로 시도할 총 Trial 횟수 설정\n",
    "                                directory = '/content/drive/MyDrive/Colab Notebooks/', # Path to the working directory\n",
    "                                project_name = 'mymodel'\n",
    "                                ) # Name to use as directory name for files saved by this Tuner\n",
    "tuner.search_space_summary()"
   ]
  },
  {
   "cell_type": "code",
   "execution_count": 31,
   "metadata": {
    "id": "xRunjeAotqxB"
   },
   "outputs": [
    {
     "ename": "NameError",
     "evalue": "name 'x_test' is not defined",
     "output_type": "error",
     "traceback": [
      "\u001b[1;31m---------------------------------------------------------------------------\u001b[0m",
      "\u001b[1;31mNameError\u001b[0m                                 Traceback (most recent call last)",
      "\u001b[1;32m<ipython-input-31-b70d7c7707fc>\u001b[0m in \u001b[0;36m<module>\u001b[1;34m\u001b[0m\n\u001b[1;32m----> 1\u001b[1;33m \u001b[0mtuner\u001b[0m\u001b[1;33m.\u001b[0m\u001b[0msearch\u001b[0m\u001b[1;33m(\u001b[0m\u001b[0mx_train\u001b[0m\u001b[1;33m,\u001b[0m \u001b[0my_train\u001b[0m\u001b[1;33m,\u001b[0m \u001b[0mepochs\u001b[0m\u001b[1;33m=\u001b[0m\u001b[1;36m10\u001b[0m\u001b[1;33m,\u001b[0m \u001b[0mvalidation_data\u001b[0m \u001b[1;33m=\u001b[0m \u001b[1;33m(\u001b[0m\u001b[0mx_test\u001b[0m\u001b[1;33m,\u001b[0m \u001b[0my_test\u001b[0m\u001b[1;33m)\u001b[0m\u001b[1;33m)\u001b[0m\u001b[1;33m\u001b[0m\u001b[1;33m\u001b[0m\u001b[0m\n\u001b[0m",
      "\u001b[1;31mNameError\u001b[0m: name 'x_test' is not defined"
     ]
    }
   ],
   "source": [
    "tuner.search(x_train, y_train, epochs=10, validation_data = (x_test, y_test))"
   ]
  },
  {
   "cell_type": "code",
   "execution_count": 37,
   "metadata": {
    "colab": {
     "base_uri": "https://localhost:8080/"
    },
    "id": "N9hn7KThuCy2",
    "outputId": "3d88d494-7d8f-4e94-b174-bdc7706ab9f2"
   },
   "outputs": [
    {
     "name": "stdout",
     "output_type": "stream",
     "text": [
      "Results summary\n",
      "Results in /content/drive/MyDrive/Colab Notebooks/mymodel\n",
      "Showing 3 best trials\n",
      "<keras_tuner.engine.objective.Objective object at 0x000001A7AFD26BB0>\n"
     ]
    }
   ],
   "source": [
    "tuner.results_summary(num_trials=3)"
   ]
  },
  {
   "cell_type": "code",
   "execution_count": 34,
   "metadata": {
    "colab": {
     "base_uri": "https://localhost:8080/"
    },
    "id": "hwwgaXFBuPw1",
    "outputId": "fd37f7f2-e202-4ce5-e652-fe29cc31e0ca"
   },
   "outputs": [
    {
     "name": "stdout",
     "output_type": "stream",
     "text": [
      "Model: \"sequential\"\n",
      "_________________________________________________________________\n",
      " Layer (type)                Output Shape              Param #   \n",
      "=================================================================\n",
      " lstm (LSTM)                 (None, 60, 25)            2700      \n",
      "                                                                 \n",
      " lstm_1 (LSTM)               (None, 60, 100)           50400     \n",
      "                                                                 \n",
      " lstm_2 (LSTM)               (None, 25)                12600     \n",
      "                                                                 \n",
      " dense (Dense)               (None, 25)                650       \n",
      "                                                                 \n",
      " dense_1 (Dense)             (None, 1)                 26        \n",
      "                                                                 \n",
      "=================================================================\n",
      "Total params: 66,376\n",
      "Trainable params: 66,376\n",
      "Non-trainable params: 0\n",
      "_________________________________________________________________\n",
      "\n",
      "4/4 [==============================] - 4s 16ms/step - loss: 0.6878 - accuracy: 0.6000\n",
      "Cross-entropy : 0.6877973079681396\n",
      "Accuracy : 0.6000000238418579\n"
     ]
    }
   ],
   "source": [
    "# Get the best model from trials\n",
    "\n",
    "models = tuner.get_best_models(num_models=3) # Keras Sequential models\n",
    "top_model = models[0]\n",
    "top_model.summary()\n",
    "print()\n",
    "\n",
    "results = top_model.evaluate(x_test, y_test)\n",
    "print('Cross-entropy :', results[0])\n",
    "print('Accuracy :', results[1])"
   ]
  },
  {
   "cell_type": "code",
   "execution_count": 35,
   "metadata": {
    "colab": {
     "base_uri": "https://localhost:8080/"
    },
    "id": "t3Ir1bcm2kos",
    "outputId": "24e0406d-1cfb-4fc8-943c-2c5fffd752c9"
   },
   "outputs": [
    {
     "name": "stderr",
     "output_type": "stream",
     "text": [
      "WARNING:absl:Found untraced functions such as lstm_cell_layer_call_fn, lstm_cell_layer_call_and_return_conditional_losses, lstm_cell_1_layer_call_fn, lstm_cell_1_layer_call_and_return_conditional_losses, lstm_cell_2_layer_call_fn while saving (showing 5 of 6). These functions will not be directly callable after loading.\n",
      "WARNING:absl:<keras.layers.recurrent.LSTMCell object at 0x7fd29220f490> has the same name 'LSTMCell' as a built-in Keras object. Consider renaming <class 'keras.layers.recurrent.LSTMCell'> to avoid naming conflicts when loading with `tf.keras.models.load_model`. If renaming is not possible, pass the object in the `custom_objects` parameter of the load function.\n",
      "WARNING:absl:<keras.layers.recurrent.LSTMCell object at 0x7fd28d337d10> has the same name 'LSTMCell' as a built-in Keras object. Consider renaming <class 'keras.layers.recurrent.LSTMCell'> to avoid naming conflicts when loading with `tf.keras.models.load_model`. If renaming is not possible, pass the object in the `custom_objects` parameter of the load function.\n",
      "WARNING:absl:<keras.layers.recurrent.LSTMCell object at 0x7fd28d390e10> has the same name 'LSTMCell' as a built-in Keras object. Consider renaming <class 'keras.layers.recurrent.LSTMCell'> to avoid naming conflicts when loading with `tf.keras.models.load_model`. If renaming is not possible, pass the object in the `custom_objects` parameter of the load function.\n"
     ]
    }
   ],
   "source": [
    "top_model.save('/content/drive/MyDrive/Colab Notebooks/top_model')"
   ]
  },
  {
   "cell_type": "markdown",
   "metadata": {
    "id": "42lVJLMm2x60"
   },
   "source": []
  }
 ],
 "metadata": {
  "accelerator": "GPU",
  "colab": {
   "collapsed_sections": [],
   "name": "taeyong5.ipynb",
   "provenance": []
  },
  "kernelspec": {
   "display_name": "Python 3",
   "language": "python",
   "name": "python3"
  },
  "language_info": {
   "codemirror_mode": {
    "name": "ipython",
    "version": 3
   },
   "file_extension": ".py",
   "mimetype": "text/x-python",
   "name": "python",
   "nbconvert_exporter": "python",
   "pygments_lexer": "ipython3",
   "version": "3.8.8"
  },
  "toc": {
   "base_numbering": 1,
   "nav_menu": {},
   "number_sections": true,
   "sideBar": true,
   "skip_h1_title": false,
   "title_cell": "Table of Contents",
   "title_sidebar": "Contents",
   "toc_cell": false,
   "toc_position": {},
   "toc_section_display": true,
   "toc_window_display": false
  },
  "varInspector": {
   "cols": {
    "lenName": 16,
    "lenType": 16,
    "lenVar": 40
   },
   "kernels_config": {
    "python": {
     "delete_cmd_postfix": "",
     "delete_cmd_prefix": "del ",
     "library": "var_list.py",
     "varRefreshCmd": "print(var_dic_list())"
    },
    "r": {
     "delete_cmd_postfix": ") ",
     "delete_cmd_prefix": "rm(",
     "library": "var_list.r",
     "varRefreshCmd": "cat(var_dic_list()) "
    }
   },
   "types_to_exclude": [
    "module",
    "function",
    "builtin_function_or_method",
    "instance",
    "_Feature"
   ],
   "window_display": false
  }
 },
 "nbformat": 4,
 "nbformat_minor": 1
}
