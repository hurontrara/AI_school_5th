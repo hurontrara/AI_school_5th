{
 "cells": [
  {
   "cell_type": "code",
   "execution_count": 1,
   "id": "62ae9a3a",
   "metadata": {
    "ExecuteTime": {
     "end_time": "2022-05-21T14:38:53.963719Z",
     "start_time": "2022-05-21T14:38:49.369082Z"
    }
   },
   "outputs": [],
   "source": [
    "import tensorflow as tf"
   ]
  },
  {
   "cell_type": "code",
   "execution_count": 2,
   "id": "8460e478",
   "metadata": {
    "ExecuteTime": {
     "end_time": "2022-05-21T14:48:48.485116Z",
     "start_time": "2022-05-21T14:48:48.464172Z"
    },
    "scrolled": false
   },
   "outputs": [
    {
     "name": "stdout",
     "output_type": "stream",
     "text": [
      "WARNING:tensorflow:From C:\\Users\\LEE\\AppData\\Local\\Temp/ipykernel_15724/337460670.py:1: is_gpu_available (from tensorflow.python.framework.test_util) is deprecated and will be removed in a future version.\n",
      "Instructions for updating:\n",
      "Use `tf.config.list_physical_devices('GPU')` instead.\n"
     ]
    },
    {
     "data": {
      "text/plain": [
       "False"
      ]
     },
     "execution_count": 2,
     "metadata": {},
     "output_type": "execute_result"
    }
   ],
   "source": [
    "tf.test.is_gpu_available()"
   ]
  },
  {
   "cell_type": "code",
   "execution_count": 107,
   "id": "24fbd811",
   "metadata": {},
   "outputs": [
    {
     "name": "stdout",
     "output_type": "stream",
     "text": [
      "Collecting pandas_datareader\n",
      "  Downloading pandas_datareader-0.10.0-py3-none-any.whl (109 kB)\n",
      "Requirement already satisfied: requests>=2.19.0 in c:\\users\\lee\\anaconda3\\lib\\site-packages (from pandas_datareader) (2.27.1)\n",
      "Requirement already satisfied: lxml in c:\\users\\lee\\anaconda3\\lib\\site-packages (from pandas_datareader) (4.6.3)\n",
      "Requirement already satisfied: pandas>=0.23 in c:\\users\\lee\\anaconda3\\lib\\site-packages (from pandas_datareader) (1.2.4)\n",
      "Requirement already satisfied: pytz>=2017.3 in c:\\users\\lee\\anaconda3\\lib\\site-packages (from pandas>=0.23->pandas_datareader) (2021.3)\n",
      "Requirement already satisfied: numpy>=1.16.5 in c:\\users\\lee\\anaconda3\\lib\\site-packages (from pandas>=0.23->pandas_datareader) (1.19.5)\n",
      "Requirement already satisfied: python-dateutil>=2.7.3 in c:\\users\\lee\\anaconda3\\lib\\site-packages (from pandas>=0.23->pandas_datareader) (2.8.2)\n",
      "Requirement already satisfied: six>=1.5 in c:\\users\\lee\\anaconda3\\lib\\site-packages (from python-dateutil>=2.7.3->pandas>=0.23->pandas_datareader) (1.15.0)\n",
      "Requirement already satisfied: urllib3<1.27,>=1.21.1 in c:\\users\\lee\\anaconda3\\lib\\site-packages (from requests>=2.19.0->pandas_datareader) (1.26.8)\n",
      "Requirement already satisfied: charset-normalizer~=2.0.0 in c:\\users\\lee\\anaconda3\\lib\\site-packages (from requests>=2.19.0->pandas_datareader) (2.0.12)\n",
      "Requirement already satisfied: certifi>=2017.4.17 in c:\\users\\lee\\anaconda3\\lib\\site-packages (from requests>=2.19.0->pandas_datareader) (2021.10.8)\n",
      "Requirement already satisfied: idna<4,>=2.5 in c:\\users\\lee\\anaconda3\\lib\\site-packages (from requests>=2.19.0->pandas_datareader) (3.3)\n",
      "Installing collected packages: pandas-datareader\n",
      "Successfully installed pandas-datareader-0.10.0\n"
     ]
    }
   ],
   "source": [
    "#!pip install pandas_datareader"
   ]
  },
  {
   "cell_type": "code",
   "execution_count": 6,
   "id": "7aeced1e",
   "metadata": {},
   "outputs": [
    {
     "name": "stdout",
     "output_type": "stream",
     "text": [
      "Collecting finance-datareader\n",
      "  Downloading finance_datareader-0.9.33-py3-none-any.whl (48 kB)\n",
      "Requirement already satisfied: requests>=2.3.0 in c:\\users\\lee\\anaconda3\\lib\\site-packages (from finance-datareader) (2.27.1)\n",
      "Requirement already satisfied: lxml in c:\\users\\lee\\anaconda3\\lib\\site-packages (from finance-datareader) (4.6.3)\n",
      "Requirement already satisfied: pandas>=0.19.2 in c:\\users\\lee\\anaconda3\\lib\\site-packages (from finance-datareader) (1.2.4)\n",
      "Collecting requests-file\n",
      "  Downloading requests_file-1.5.1-py2.py3-none-any.whl (3.7 kB)\n",
      "Requirement already satisfied: tqdm in c:\\users\\lee\\anaconda3\\lib\\site-packages (from finance-datareader) (4.62.3)\n",
      "Requirement already satisfied: numpy>=1.16.5 in c:\\users\\lee\\anaconda3\\lib\\site-packages (from pandas>=0.19.2->finance-datareader) (1.19.5)\n",
      "Requirement already satisfied: python-dateutil>=2.7.3 in c:\\users\\lee\\anaconda3\\lib\\site-packages (from pandas>=0.19.2->finance-datareader) (2.8.2)\n",
      "Requirement already satisfied: pytz>=2017.3 in c:\\users\\lee\\anaconda3\\lib\\site-packages (from pandas>=0.19.2->finance-datareader) (2021.3)\n",
      "Requirement already satisfied: six>=1.5 in c:\\users\\lee\\anaconda3\\lib\\site-packages (from python-dateutil>=2.7.3->pandas>=0.19.2->finance-datareader) (1.15.0)\n",
      "Requirement already satisfied: idna<4,>=2.5 in c:\\users\\lee\\anaconda3\\lib\\site-packages (from requests>=2.3.0->finance-datareader) (3.3)\n",
      "Requirement already satisfied: charset-normalizer~=2.0.0 in c:\\users\\lee\\anaconda3\\lib\\site-packages (from requests>=2.3.0->finance-datareader) (2.0.12)\n",
      "Requirement already satisfied: certifi>=2017.4.17 in c:\\users\\lee\\anaconda3\\lib\\site-packages (from requests>=2.3.0->finance-datareader) (2021.10.8)\n",
      "Requirement already satisfied: urllib3<1.27,>=1.21.1 in c:\\users\\lee\\anaconda3\\lib\\site-packages (from requests>=2.3.0->finance-datareader) (1.26.8)\n",
      "Requirement already satisfied: colorama in c:\\users\\lee\\anaconda3\\lib\\site-packages (from tqdm->finance-datareader) (0.4.4)\n",
      "Installing collected packages: requests-file, finance-datareader\n",
      "Successfully installed finance-datareader-0.9.33 requests-file-1.5.1\n"
     ]
    }
   ],
   "source": [
    "#!pip install finance-datareader"
   ]
  },
  {
   "cell_type": "code",
   "execution_count": 3,
   "id": "94554cb0",
   "metadata": {
    "ExecuteTime": {
     "end_time": "2022-05-21T14:33:16.947324Z",
     "start_time": "2022-05-21T14:33:16.936352Z"
    }
   },
   "outputs": [],
   "source": [
    "from tqdm import tqdm as tq"
   ]
  },
  {
   "cell_type": "code",
   "execution_count": 4,
   "id": "6ecffdf9",
   "metadata": {
    "ExecuteTime": {
     "end_time": "2022-05-21T14:36:36.207991Z",
     "start_time": "2022-05-21T14:34:05.434273Z"
    },
    "scrolled": true
   },
   "outputs": [
    {
     "name": "stderr",
     "output_type": "stream",
     "text": [
      "100%|██████████████████████████████████████████████████████████████████████████████| 1000/1000 [01:57<00:00,  8.54it/s]"
     ]
    },
    {
     "name": "stdout",
     "output_type": "stream",
     "text": [
      "499500000000\n"
     ]
    },
    {
     "name": "stderr",
     "output_type": "stream",
     "text": [
      "\n"
     ]
    }
   ],
   "source": [
    "ans = 0\n",
    "for i in tq(range(1000)):\n",
    "    for j in range(1000):\n",
    "        for k in range(1000):\n",
    "            ans+=k\n",
    "print(ans)"
   ]
  },
  {
   "cell_type": "code",
   "execution_count": 3,
   "id": "d91332a4",
   "metadata": {
    "ExecuteTime": {
     "end_time": "2022-05-21T14:31:01.579082Z",
     "start_time": "2022-05-21T14:30:59.613646Z"
    }
   },
   "outputs": [],
   "source": [
    "import warnings\n",
    "import FinanceDataReader as fdr\n",
    "import matplotlib.pyplot as plt\n",
    "from matplotlib.figure import Figure\n",
    "import pandas as pd\n",
    "import numpy as np\n",
    "\n",
    "warnings.filterwarnings('ignore')"
   ]
  },
  {
   "cell_type": "code",
   "execution_count": 108,
   "id": "b22b46c7",
   "metadata": {},
   "outputs": [],
   "source": [
    "import pandas_datareader as pdr"
   ]
  },
  {
   "cell_type": "code",
   "execution_count": 4,
   "id": "cb05ab5e",
   "metadata": {},
   "outputs": [],
   "source": [
    "from sklearn.preprocessing import MinMaxScaler"
   ]
  },
  {
   "cell_type": "code",
   "execution_count": 5,
   "id": "575e52ec",
   "metadata": {},
   "outputs": [],
   "source": [
    "# https://github.com/FinanceData/FinanceDataReader\n",
    "# 금, 은과 같은 현물, 달러와 같은 화폐 데이터"
   ]
  },
  {
   "cell_type": "code",
   "execution_count": null,
   "id": "219a863f",
   "metadata": {},
   "outputs": [],
   "source": []
  },
  {
   "cell_type": "code",
   "execution_count": 6,
   "id": "a2a0e49c",
   "metadata": {
    "ExecuteTime": {
     "end_time": "2022-05-19T15:05:44.470836Z",
     "start_time": "2022-05-19T15:05:40.753939Z"
    },
    "scrolled": false
   },
   "outputs": [
    {
     "data": {
      "text/html": [
       "<div>\n",
       "<style scoped>\n",
       "    .dataframe tbody tr th:only-of-type {\n",
       "        vertical-align: middle;\n",
       "    }\n",
       "\n",
       "    .dataframe tbody tr th {\n",
       "        vertical-align: top;\n",
       "    }\n",
       "\n",
       "    .dataframe thead th {\n",
       "        text-align: right;\n",
       "    }\n",
       "</style>\n",
       "<table border=\"1\" class=\"dataframe\">\n",
       "  <thead>\n",
       "    <tr style=\"text-align: right;\">\n",
       "      <th></th>\n",
       "      <th>Open</th>\n",
       "      <th>High</th>\n",
       "      <th>Low</th>\n",
       "      <th>Close</th>\n",
       "      <th>Volume</th>\n",
       "      <th>Change</th>\n",
       "    </tr>\n",
       "    <tr>\n",
       "      <th>Date</th>\n",
       "      <th></th>\n",
       "      <th></th>\n",
       "      <th></th>\n",
       "      <th></th>\n",
       "      <th></th>\n",
       "      <th></th>\n",
       "    </tr>\n",
       "  </thead>\n",
       "  <tbody>\n",
       "    <tr>\n",
       "      <th>2002-10-14</th>\n",
       "      <td>5432</td>\n",
       "      <td>5571</td>\n",
       "      <td>5283</td>\n",
       "      <td>5412</td>\n",
       "      <td>3690121</td>\n",
       "      <td>NaN</td>\n",
       "    </tr>\n",
       "    <tr>\n",
       "      <th>2002-10-15</th>\n",
       "      <td>5469</td>\n",
       "      <td>5557</td>\n",
       "      <td>5363</td>\n",
       "      <td>5545</td>\n",
       "      <td>3277092</td>\n",
       "      <td>0.024575</td>\n",
       "    </tr>\n",
       "    <tr>\n",
       "      <th>2002-10-16</th>\n",
       "      <td>5601</td>\n",
       "      <td>5601</td>\n",
       "      <td>5508</td>\n",
       "      <td>5569</td>\n",
       "      <td>2919684</td>\n",
       "      <td>0.004328</td>\n",
       "    </tr>\n",
       "    <tr>\n",
       "      <th>2002-10-17</th>\n",
       "      <td>5557</td>\n",
       "      <td>5699</td>\n",
       "      <td>5482</td>\n",
       "      <td>5646</td>\n",
       "      <td>2995040</td>\n",
       "      <td>0.013827</td>\n",
       "    </tr>\n",
       "    <tr>\n",
       "      <th>2002-10-18</th>\n",
       "      <td>5783</td>\n",
       "      <td>5921</td>\n",
       "      <td>5747</td>\n",
       "      <td>5886</td>\n",
       "      <td>1891859</td>\n",
       "      <td>0.042508</td>\n",
       "    </tr>\n",
       "    <tr>\n",
       "      <th>...</th>\n",
       "      <td>...</td>\n",
       "      <td>...</td>\n",
       "      <td>...</td>\n",
       "      <td>...</td>\n",
       "      <td>...</td>\n",
       "      <td>...</td>\n",
       "    </tr>\n",
       "    <tr>\n",
       "      <th>2022-05-18</th>\n",
       "      <td>34990</td>\n",
       "      <td>35145</td>\n",
       "      <td>34770</td>\n",
       "      <td>34870</td>\n",
       "      <td>6376438</td>\n",
       "      <td>0.001868</td>\n",
       "    </tr>\n",
       "    <tr>\n",
       "      <th>2022-05-19</th>\n",
       "      <td>34125</td>\n",
       "      <td>34450</td>\n",
       "      <td>34060</td>\n",
       "      <td>34370</td>\n",
       "      <td>6054919</td>\n",
       "      <td>-0.014339</td>\n",
       "    </tr>\n",
       "    <tr>\n",
       "      <th>2022-05-20</th>\n",
       "      <td>34515</td>\n",
       "      <td>35025</td>\n",
       "      <td>34485</td>\n",
       "      <td>34985</td>\n",
       "      <td>4661990</td>\n",
       "      <td>0.017894</td>\n",
       "    </tr>\n",
       "    <tr>\n",
       "      <th>2022-05-23</th>\n",
       "      <td>35135</td>\n",
       "      <td>35225</td>\n",
       "      <td>34915</td>\n",
       "      <td>35100</td>\n",
       "      <td>5876025</td>\n",
       "      <td>0.003287</td>\n",
       "    </tr>\n",
       "    <tr>\n",
       "      <th>2022-05-24</th>\n",
       "      <td>34950</td>\n",
       "      <td>35030</td>\n",
       "      <td>34875</td>\n",
       "      <td>35000</td>\n",
       "      <td>289547</td>\n",
       "      <td>-0.002849</td>\n",
       "    </tr>\n",
       "  </tbody>\n",
       "</table>\n",
       "<p>4851 rows × 6 columns</p>\n",
       "</div>"
      ],
      "text/plain": [
       "             Open   High    Low  Close   Volume    Change\n",
       "Date                                                     \n",
       "2002-10-14   5432   5571   5283   5412  3690121       NaN\n",
       "2002-10-15   5469   5557   5363   5545  3277092  0.024575\n",
       "2002-10-16   5601   5601   5508   5569  2919684  0.004328\n",
       "2002-10-17   5557   5699   5482   5646  2995040  0.013827\n",
       "2002-10-18   5783   5921   5747   5886  1891859  0.042508\n",
       "...           ...    ...    ...    ...      ...       ...\n",
       "2022-05-18  34990  35145  34770  34870  6376438  0.001868\n",
       "2022-05-19  34125  34450  34060  34370  6054919 -0.014339\n",
       "2022-05-20  34515  35025  34485  34985  4661990  0.017894\n",
       "2022-05-23  35135  35225  34915  35100  5876025  0.003287\n",
       "2022-05-24  34950  35030  34875  35000   289547 -0.002849\n",
       "\n",
       "[4851 rows x 6 columns]"
      ]
     },
     "execution_count": 6,
     "metadata": {},
     "output_type": "execute_result"
    }
   ],
   "source": [
    "# finance datareader로부터 데이터 불러오기\n",
    "\n",
    "# Ford(F), 1980-01-01 ~ 2019-12-30 (40년 데이터)\n",
    "#ford = fdr.DataReader('F', '1980-01-01', '2019-12-30')\n",
    "data = fdr.DataReader('069500')\n",
    "data"
   ]
  },
  {
   "cell_type": "code",
   "execution_count": null,
   "id": "36074c71",
   "metadata": {},
   "outputs": [],
   "source": []
  },
  {
   "cell_type": "code",
   "execution_count": 113,
   "id": "5e07e0e6",
   "metadata": {},
   "outputs": [
    {
     "ename": "ValueError",
     "evalue": "The Quandl API key must be provided either through the api_key variable or through the environmental variable QUANDL_API_KEY.",
     "output_type": "error",
     "traceback": [
      "\u001b[1;31m---------------------------------------------------------------------------\u001b[0m",
      "\u001b[1;31mValueError\u001b[0m                                Traceback (most recent call last)",
      "\u001b[1;32m~\\AppData\\Local\\Temp/ipykernel_15724/1014396580.py\u001b[0m in \u001b[0;36m<module>\u001b[1;34m\u001b[0m\n\u001b[1;32m----> 1\u001b[1;33m \u001b[0mdf_silver\u001b[0m \u001b[1;33m=\u001b[0m \u001b[0mpdr\u001b[0m\u001b[1;33m.\u001b[0m\u001b[0mDataReader\u001b[0m\u001b[1;33m(\u001b[0m\u001b[1;34m'LBMA/SILVER'\u001b[0m\u001b[1;33m,\u001b[0m \u001b[1;34m'quandl'\u001b[0m\u001b[1;33m,\u001b[0m \u001b[0mstart\u001b[0m\u001b[1;33m=\u001b[0m\u001b[1;34m'2000-01-01'\u001b[0m\u001b[1;33m)\u001b[0m\u001b[1;33m\u001b[0m\u001b[1;33m\u001b[0m\u001b[0m\n\u001b[0m\u001b[0;32m      2\u001b[0m \u001b[0mdf_silver\u001b[0m\u001b[1;33m\u001b[0m\u001b[1;33m\u001b[0m\u001b[0m\n",
      "\u001b[1;32m~\\anaconda3\\lib\\site-packages\\pandas\\util\\_decorators.py\u001b[0m in \u001b[0;36mwrapper\u001b[1;34m(*args, **kwargs)\u001b[0m\n\u001b[0;32m    197\u001b[0m                 \u001b[1;32melse\u001b[0m\u001b[1;33m:\u001b[0m\u001b[1;33m\u001b[0m\u001b[1;33m\u001b[0m\u001b[0m\n\u001b[0;32m    198\u001b[0m                     \u001b[0mkwargs\u001b[0m\u001b[1;33m[\u001b[0m\u001b[0mnew_arg_name\u001b[0m\u001b[1;33m]\u001b[0m \u001b[1;33m=\u001b[0m \u001b[0mnew_arg_value\u001b[0m\u001b[1;33m\u001b[0m\u001b[1;33m\u001b[0m\u001b[0m\n\u001b[1;32m--> 199\u001b[1;33m             \u001b[1;32mreturn\u001b[0m \u001b[0mfunc\u001b[0m\u001b[1;33m(\u001b[0m\u001b[1;33m*\u001b[0m\u001b[0margs\u001b[0m\u001b[1;33m,\u001b[0m \u001b[1;33m**\u001b[0m\u001b[0mkwargs\u001b[0m\u001b[1;33m)\u001b[0m\u001b[1;33m\u001b[0m\u001b[1;33m\u001b[0m\u001b[0m\n\u001b[0m\u001b[0;32m    200\u001b[0m \u001b[1;33m\u001b[0m\u001b[0m\n\u001b[0;32m    201\u001b[0m         \u001b[1;32mreturn\u001b[0m \u001b[0mcast\u001b[0m\u001b[1;33m(\u001b[0m\u001b[0mF\u001b[0m\u001b[1;33m,\u001b[0m \u001b[0mwrapper\u001b[0m\u001b[1;33m)\u001b[0m\u001b[1;33m\u001b[0m\u001b[1;33m\u001b[0m\u001b[0m\n",
      "\u001b[1;32m~\\anaconda3\\lib\\site-packages\\pandas_datareader\\data.py\u001b[0m in \u001b[0;36mDataReader\u001b[1;34m(name, data_source, start, end, retry_count, pause, session, api_key)\u001b[0m\n\u001b[0;32m    492\u001b[0m \u001b[1;33m\u001b[0m\u001b[0m\n\u001b[0;32m    493\u001b[0m     \u001b[1;32melif\u001b[0m \u001b[0mdata_source\u001b[0m \u001b[1;33m==\u001b[0m \u001b[1;34m\"quandl\"\u001b[0m\u001b[1;33m:\u001b[0m\u001b[1;33m\u001b[0m\u001b[1;33m\u001b[0m\u001b[0m\n\u001b[1;32m--> 494\u001b[1;33m         return QuandlReader(\n\u001b[0m\u001b[0;32m    495\u001b[0m             \u001b[0msymbols\u001b[0m\u001b[1;33m=\u001b[0m\u001b[0mname\u001b[0m\u001b[1;33m,\u001b[0m\u001b[1;33m\u001b[0m\u001b[1;33m\u001b[0m\u001b[0m\n\u001b[0;32m    496\u001b[0m             \u001b[0mstart\u001b[0m\u001b[1;33m=\u001b[0m\u001b[0mstart\u001b[0m\u001b[1;33m,\u001b[0m\u001b[1;33m\u001b[0m\u001b[1;33m\u001b[0m\u001b[0m\n",
      "\u001b[1;32m~\\anaconda3\\lib\\site-packages\\pandas_datareader\\quandl.py\u001b[0m in \u001b[0;36m__init__\u001b[1;34m(self, symbols, start, end, retry_count, pause, session, chunksize, api_key)\u001b[0m\n\u001b[0;32m     63\u001b[0m             \u001b[0mapi_key\u001b[0m \u001b[1;33m=\u001b[0m \u001b[0mos\u001b[0m\u001b[1;33m.\u001b[0m\u001b[0mgetenv\u001b[0m\u001b[1;33m(\u001b[0m\u001b[1;34m\"QUANDL_API_KEY\"\u001b[0m\u001b[1;33m)\u001b[0m\u001b[1;33m\u001b[0m\u001b[1;33m\u001b[0m\u001b[0m\n\u001b[0;32m     64\u001b[0m         \u001b[1;32mif\u001b[0m \u001b[1;32mnot\u001b[0m \u001b[0mapi_key\u001b[0m \u001b[1;32mor\u001b[0m \u001b[1;32mnot\u001b[0m \u001b[0misinstance\u001b[0m\u001b[1;33m(\u001b[0m\u001b[0mapi_key\u001b[0m\u001b[1;33m,\u001b[0m \u001b[0mstr\u001b[0m\u001b[1;33m)\u001b[0m\u001b[1;33m:\u001b[0m\u001b[1;33m\u001b[0m\u001b[1;33m\u001b[0m\u001b[0m\n\u001b[1;32m---> 65\u001b[1;33m             raise ValueError(\n\u001b[0m\u001b[0;32m     66\u001b[0m                 \u001b[1;34m\"The Quandl API key must be provided either \"\u001b[0m\u001b[1;33m\u001b[0m\u001b[1;33m\u001b[0m\u001b[0m\n\u001b[0;32m     67\u001b[0m                 \u001b[1;34m\"through the api_key variable or through the \"\u001b[0m\u001b[1;33m\u001b[0m\u001b[1;33m\u001b[0m\u001b[0m\n",
      "\u001b[1;31mValueError\u001b[0m: The Quandl API key must be provided either through the api_key variable or through the environmental variable QUANDL_API_KEY."
     ]
    }
   ],
   "source": [
    "df_silver = pdr.DataReader('LBMA/SILVER', 'quandl', start='2000-01-01')\n",
    "df_silver"
   ]
  },
  {
   "cell_type": "code",
   "execution_count": null,
   "id": "130cb09c",
   "metadata": {},
   "outputs": [],
   "source": []
  },
  {
   "cell_type": "code",
   "execution_count": 7,
   "id": "1cb9b61a",
   "metadata": {},
   "outputs": [
    {
     "data": {
      "text/html": [
       "<div>\n",
       "<style scoped>\n",
       "    .dataframe tbody tr th:only-of-type {\n",
       "        vertical-align: middle;\n",
       "    }\n",
       "\n",
       "    .dataframe tbody tr th {\n",
       "        vertical-align: top;\n",
       "    }\n",
       "\n",
       "    .dataframe thead th {\n",
       "        text-align: right;\n",
       "    }\n",
       "</style>\n",
       "<table border=\"1\" class=\"dataframe\">\n",
       "  <thead>\n",
       "    <tr style=\"text-align: right;\">\n",
       "      <th></th>\n",
       "      <th>Open</th>\n",
       "      <th>High</th>\n",
       "      <th>Low</th>\n",
       "      <th>Close</th>\n",
       "      <th>Volume</th>\n",
       "      <th>Change</th>\n",
       "    </tr>\n",
       "    <tr>\n",
       "      <th>Date</th>\n",
       "      <th></th>\n",
       "      <th></th>\n",
       "      <th></th>\n",
       "      <th></th>\n",
       "      <th></th>\n",
       "      <th></th>\n",
       "    </tr>\n",
       "  </thead>\n",
       "  <tbody>\n",
       "    <tr>\n",
       "      <th>2002-10-14</th>\n",
       "      <td>5432</td>\n",
       "      <td>5571</td>\n",
       "      <td>5283</td>\n",
       "      <td>5412</td>\n",
       "      <td>3690121</td>\n",
       "      <td>NaN</td>\n",
       "    </tr>\n",
       "    <tr>\n",
       "      <th>2002-10-15</th>\n",
       "      <td>5469</td>\n",
       "      <td>5557</td>\n",
       "      <td>5363</td>\n",
       "      <td>5545</td>\n",
       "      <td>3277092</td>\n",
       "      <td>0.024575</td>\n",
       "    </tr>\n",
       "    <tr>\n",
       "      <th>2002-10-16</th>\n",
       "      <td>5601</td>\n",
       "      <td>5601</td>\n",
       "      <td>5508</td>\n",
       "      <td>5569</td>\n",
       "      <td>2919684</td>\n",
       "      <td>0.004328</td>\n",
       "    </tr>\n",
       "    <tr>\n",
       "      <th>2002-10-17</th>\n",
       "      <td>5557</td>\n",
       "      <td>5699</td>\n",
       "      <td>5482</td>\n",
       "      <td>5646</td>\n",
       "      <td>2995040</td>\n",
       "      <td>0.013827</td>\n",
       "    </tr>\n",
       "    <tr>\n",
       "      <th>2002-10-18</th>\n",
       "      <td>5783</td>\n",
       "      <td>5921</td>\n",
       "      <td>5747</td>\n",
       "      <td>5886</td>\n",
       "      <td>1891859</td>\n",
       "      <td>0.042508</td>\n",
       "    </tr>\n",
       "    <tr>\n",
       "      <th>...</th>\n",
       "      <td>...</td>\n",
       "      <td>...</td>\n",
       "      <td>...</td>\n",
       "      <td>...</td>\n",
       "      <td>...</td>\n",
       "      <td>...</td>\n",
       "    </tr>\n",
       "    <tr>\n",
       "      <th>2022-05-18</th>\n",
       "      <td>34990</td>\n",
       "      <td>35145</td>\n",
       "      <td>34770</td>\n",
       "      <td>34870</td>\n",
       "      <td>6376438</td>\n",
       "      <td>0.001868</td>\n",
       "    </tr>\n",
       "    <tr>\n",
       "      <th>2022-05-19</th>\n",
       "      <td>34125</td>\n",
       "      <td>34450</td>\n",
       "      <td>34060</td>\n",
       "      <td>34370</td>\n",
       "      <td>6054919</td>\n",
       "      <td>-0.014339</td>\n",
       "    </tr>\n",
       "    <tr>\n",
       "      <th>2022-05-20</th>\n",
       "      <td>34515</td>\n",
       "      <td>35025</td>\n",
       "      <td>34485</td>\n",
       "      <td>34985</td>\n",
       "      <td>4661990</td>\n",
       "      <td>0.017894</td>\n",
       "    </tr>\n",
       "    <tr>\n",
       "      <th>2022-05-23</th>\n",
       "      <td>35135</td>\n",
       "      <td>35225</td>\n",
       "      <td>34915</td>\n",
       "      <td>35100</td>\n",
       "      <td>5876025</td>\n",
       "      <td>0.003287</td>\n",
       "    </tr>\n",
       "    <tr>\n",
       "      <th>2022-05-24</th>\n",
       "      <td>34950</td>\n",
       "      <td>35030</td>\n",
       "      <td>34875</td>\n",
       "      <td>35000</td>\n",
       "      <td>289547</td>\n",
       "      <td>-0.002849</td>\n",
       "    </tr>\n",
       "  </tbody>\n",
       "</table>\n",
       "<p>4851 rows × 6 columns</p>\n",
       "</div>"
      ],
      "text/plain": [
       "             Open   High    Low  Close   Volume    Change\n",
       "Date                                                     \n",
       "2002-10-14   5432   5571   5283   5412  3690121       NaN\n",
       "2002-10-15   5469   5557   5363   5545  3277092  0.024575\n",
       "2002-10-16   5601   5601   5508   5569  2919684  0.004328\n",
       "2002-10-17   5557   5699   5482   5646  2995040  0.013827\n",
       "2002-10-18   5783   5921   5747   5886  1891859  0.042508\n",
       "...           ...    ...    ...    ...      ...       ...\n",
       "2022-05-18  34990  35145  34770  34870  6376438  0.001868\n",
       "2022-05-19  34125  34450  34060  34370  6054919 -0.014339\n",
       "2022-05-20  34515  35025  34485  34985  4661990  0.017894\n",
       "2022-05-23  35135  35225  34915  35100  5876025  0.003287\n",
       "2022-05-24  34950  35030  34875  35000   289547 -0.002849\n",
       "\n",
       "[4851 rows x 6 columns]"
      ]
     },
     "execution_count": 7,
     "metadata": {},
     "output_type": "execute_result"
    }
   ],
   "source": [
    "data = data.reset_index()\n",
    "\n",
    "data.columns = ['Date', 'Open', 'High', 'Low', 'Close', 'Volume', 'Change']\n",
    "data['Date'] = pd.to_datetime(data['Date'])\n",
    "\n",
    "data.index = data['Date']\n",
    "data.set_index('Date', inplace=True)\n",
    "\n",
    "data"
   ]
  },
  {
   "cell_type": "code",
   "execution_count": 8,
   "id": "6196bc26",
   "metadata": {
    "scrolled": true
   },
   "outputs": [
    {
     "name": "stdout",
     "output_type": "stream",
     "text": [
      "<class 'pandas.core.frame.DataFrame'>\n",
      "DatetimeIndex: 4851 entries, 2002-10-14 to 2022-05-24\n",
      "Data columns (total 6 columns):\n",
      " #   Column  Non-Null Count  Dtype  \n",
      "---  ------  --------------  -----  \n",
      " 0   Open    4851 non-null   int64  \n",
      " 1   High    4851 non-null   int64  \n",
      " 2   Low     4851 non-null   int64  \n",
      " 3   Close   4851 non-null   int64  \n",
      " 4   Volume  4851 non-null   int64  \n",
      " 5   Change  4850 non-null   float64\n",
      "dtypes: float64(1), int64(5)\n",
      "memory usage: 265.3 KB\n"
     ]
    }
   ],
   "source": [
    "data.info()"
   ]
  },
  {
   "cell_type": "code",
   "execution_count": 9,
   "id": "873243bc",
   "metadata": {},
   "outputs": [
    {
     "data": {
      "image/png": "[encoded data removed]",
      "text/plain": [
       "<Figure size 1440x1080 with 1 Axes>"
      ]
     },
     "metadata": {
      "needs_background": "light"
     },
     "output_type": "display_data"
    }
   ],
   "source": [
    "fig = plt.subplots(figsize=(20, 15))\n",
    "data['Close'].plot()\n",
    "plt.title(\"Kodex200 Stock Price\",fontsize=50)\n",
    "plt.xlabel('Date', fontsize=30)\n",
    "plt.ylabel('Close', fontsize=30)\n",
    "plt.show()"
   ]
  },
  {
   "cell_type": "code",
   "execution_count": null,
   "id": "a04b6656",
   "metadata": {},
   "outputs": [],
   "source": []
  },
  {
   "cell_type": "markdown",
   "id": "f0334338",
   "metadata": {},
   "source": [
    "# Normalization"
   ]
  },
  {
   "cell_type": "code",
   "execution_count": 10,
   "id": "bae4f816",
   "metadata": {},
   "outputs": [
    {
     "data": {
      "text/plain": [
       "array([[0.01472623, 0.01762194, 0.01540748, 0.01724183, 0.0565942 ],\n",
       "       [0.01569232, 0.01726178, 0.01749309, 0.02070582, 0.0499376 ],\n",
       "       [0.01913888, 0.0183937 , 0.02127327, 0.0213309 , 0.04417741],\n",
       "       ...,\n",
       "       [0.77409332, 0.77533958, 0.7767089 , 0.78747233, 0.07225739],\n",
       "       [0.79028173, 0.78048467, 0.78791908, 0.79046751, 0.09182346],\n",
       "       [0.78545132, 0.7754682 , 0.78687627, 0.787863  , 0.00178865]])"
      ]
     },
     "execution_count": 10,
     "metadata": {},
     "output_type": "execute_result"
    }
   ],
   "source": [
    "scaler = MinMaxScaler()\n",
    "\n",
    "columns = ['Open', 'High', 'Low', 'Close', 'Volume']\n",
    "# 스케일 후 columns\n",
    "scaled_data = scaler.fit_transform(data[columns])\n",
    "scaled_data"
   ]
  },
  {
   "cell_type": "code",
   "execution_count": 11,
   "id": "f6f1a569",
   "metadata": {},
   "outputs": [
    {
     "data": {
      "text/html": [
       "<div>\n",
       "<style scoped>\n",
       "    .dataframe tbody tr th:only-of-type {\n",
       "        vertical-align: middle;\n",
       "    }\n",
       "\n",
       "    .dataframe tbody tr th {\n",
       "        vertical-align: top;\n",
       "    }\n",
       "\n",
       "    .dataframe thead th {\n",
       "        text-align: right;\n",
       "    }\n",
       "</style>\n",
       "<table border=\"1\" class=\"dataframe\">\n",
       "  <thead>\n",
       "    <tr style=\"text-align: right;\">\n",
       "      <th></th>\n",
       "      <th>Open</th>\n",
       "      <th>High</th>\n",
       "      <th>Low</th>\n",
       "      <th>Close</th>\n",
       "      <th>Volume</th>\n",
       "    </tr>\n",
       "  </thead>\n",
       "  <tbody>\n",
       "    <tr>\n",
       "      <th>0</th>\n",
       "      <td>0.014726</td>\n",
       "      <td>0.017622</td>\n",
       "      <td>0.015407</td>\n",
       "      <td>0.017242</td>\n",
       "      <td>0.056594</td>\n",
       "    </tr>\n",
       "    <tr>\n",
       "      <th>1</th>\n",
       "      <td>0.015692</td>\n",
       "      <td>0.017262</td>\n",
       "      <td>0.017493</td>\n",
       "      <td>0.020706</td>\n",
       "      <td>0.049938</td>\n",
       "    </tr>\n",
       "    <tr>\n",
       "      <th>2</th>\n",
       "      <td>0.019139</td>\n",
       "      <td>0.018394</td>\n",
       "      <td>0.021273</td>\n",
       "      <td>0.021331</td>\n",
       "      <td>0.044177</td>\n",
       "    </tr>\n",
       "    <tr>\n",
       "      <th>3</th>\n",
       "      <td>0.017990</td>\n",
       "      <td>0.020915</td>\n",
       "      <td>0.020595</td>\n",
       "      <td>0.023336</td>\n",
       "      <td>0.045392</td>\n",
       "    </tr>\n",
       "    <tr>\n",
       "      <th>4</th>\n",
       "      <td>0.023891</td>\n",
       "      <td>0.026626</td>\n",
       "      <td>0.027504</td>\n",
       "      <td>0.029587</td>\n",
       "      <td>0.027612</td>\n",
       "    </tr>\n",
       "    <tr>\n",
       "      <th>...</th>\n",
       "      <td>...</td>\n",
       "      <td>...</td>\n",
       "      <td>...</td>\n",
       "      <td>...</td>\n",
       "      <td>...</td>\n",
       "    </tr>\n",
       "    <tr>\n",
       "      <th>4846</th>\n",
       "      <td>0.786496</td>\n",
       "      <td>0.778427</td>\n",
       "      <td>0.784139</td>\n",
       "      <td>0.784477</td>\n",
       "      <td>0.099888</td>\n",
       "    </tr>\n",
       "    <tr>\n",
       "      <th>4847</th>\n",
       "      <td>0.763910</td>\n",
       "      <td>0.760547</td>\n",
       "      <td>0.765629</td>\n",
       "      <td>0.771455</td>\n",
       "      <td>0.094707</td>\n",
       "    </tr>\n",
       "    <tr>\n",
       "      <th>4848</th>\n",
       "      <td>0.774093</td>\n",
       "      <td>0.775340</td>\n",
       "      <td>0.776709</td>\n",
       "      <td>0.787472</td>\n",
       "      <td>0.072257</td>\n",
       "    </tr>\n",
       "    <tr>\n",
       "      <th>4849</th>\n",
       "      <td>0.790282</td>\n",
       "      <td>0.780485</td>\n",
       "      <td>0.787919</td>\n",
       "      <td>0.790468</td>\n",
       "      <td>0.091823</td>\n",
       "    </tr>\n",
       "    <tr>\n",
       "      <th>4850</th>\n",
       "      <td>0.785451</td>\n",
       "      <td>0.775468</td>\n",
       "      <td>0.786876</td>\n",
       "      <td>0.787863</td>\n",
       "      <td>0.001789</td>\n",
       "    </tr>\n",
       "  </tbody>\n",
       "</table>\n",
       "<p>4851 rows × 5 columns</p>\n",
       "</div>"
      ],
      "text/plain": [
       "          Open      High       Low     Close    Volume\n",
       "0     0.014726  0.017622  0.015407  0.017242  0.056594\n",
       "1     0.015692  0.017262  0.017493  0.020706  0.049938\n",
       "2     0.019139  0.018394  0.021273  0.021331  0.044177\n",
       "3     0.017990  0.020915  0.020595  0.023336  0.045392\n",
       "4     0.023891  0.026626  0.027504  0.029587  0.027612\n",
       "...        ...       ...       ...       ...       ...\n",
       "4846  0.786496  0.778427  0.784139  0.784477  0.099888\n",
       "4847  0.763910  0.760547  0.765629  0.771455  0.094707\n",
       "4848  0.774093  0.775340  0.776709  0.787472  0.072257\n",
       "4849  0.790282  0.780485  0.787919  0.790468  0.091823\n",
       "4850  0.785451  0.775468  0.786876  0.787863  0.001789\n",
       "\n",
       "[4851 rows x 5 columns]"
      ]
     },
     "execution_count": 11,
     "metadata": {},
     "output_type": "execute_result"
    }
   ],
   "source": [
    "scaled_data = pd.DataFrame(scaled_data, columns=columns)\n",
    "scaled_data"
   ]
  },
  {
   "cell_type": "code",
   "execution_count": 25,
   "id": "33148574",
   "metadata": {},
   "outputs": [],
   "source": [
    "scaled_data.index = data.index"
   ]
  },
  {
   "cell_type": "code",
   "execution_count": 26,
   "id": "720e4c19",
   "metadata": {},
   "outputs": [
    {
     "data": {
      "text/html": [
       "<div>\n",
       "<style scoped>\n",
       "    .dataframe tbody tr th:only-of-type {\n",
       "        vertical-align: middle;\n",
       "    }\n",
       "\n",
       "    .dataframe tbody tr th {\n",
       "        vertical-align: top;\n",
       "    }\n",
       "\n",
       "    .dataframe thead th {\n",
       "        text-align: right;\n",
       "    }\n",
       "</style>\n",
       "<table border=\"1\" class=\"dataframe\">\n",
       "  <thead>\n",
       "    <tr style=\"text-align: right;\">\n",
       "      <th></th>\n",
       "      <th>Open</th>\n",
       "      <th>High</th>\n",
       "      <th>Low</th>\n",
       "      <th>Close</th>\n",
       "      <th>Volume</th>\n",
       "    </tr>\n",
       "    <tr>\n",
       "      <th>Date</th>\n",
       "      <th></th>\n",
       "      <th></th>\n",
       "      <th></th>\n",
       "      <th></th>\n",
       "      <th></th>\n",
       "    </tr>\n",
       "  </thead>\n",
       "  <tbody>\n",
       "    <tr>\n",
       "      <th>2002-10-14</th>\n",
       "      <td>0.014726</td>\n",
       "      <td>0.017622</td>\n",
       "      <td>0.015407</td>\n",
       "      <td>0.017242</td>\n",
       "      <td>0.056594</td>\n",
       "    </tr>\n",
       "    <tr>\n",
       "      <th>2002-10-15</th>\n",
       "      <td>0.015692</td>\n",
       "      <td>0.017262</td>\n",
       "      <td>0.017493</td>\n",
       "      <td>0.020706</td>\n",
       "      <td>0.049938</td>\n",
       "    </tr>\n",
       "    <tr>\n",
       "      <th>2002-10-16</th>\n",
       "      <td>0.019139</td>\n",
       "      <td>0.018394</td>\n",
       "      <td>0.021273</td>\n",
       "      <td>0.021331</td>\n",
       "      <td>0.044177</td>\n",
       "    </tr>\n",
       "    <tr>\n",
       "      <th>2002-10-17</th>\n",
       "      <td>0.017990</td>\n",
       "      <td>0.020915</td>\n",
       "      <td>0.020595</td>\n",
       "      <td>0.023336</td>\n",
       "      <td>0.045392</td>\n",
       "    </tr>\n",
       "    <tr>\n",
       "      <th>2002-10-18</th>\n",
       "      <td>0.023891</td>\n",
       "      <td>0.026626</td>\n",
       "      <td>0.027504</td>\n",
       "      <td>0.029587</td>\n",
       "      <td>0.027612</td>\n",
       "    </tr>\n",
       "    <tr>\n",
       "      <th>...</th>\n",
       "      <td>...</td>\n",
       "      <td>...</td>\n",
       "      <td>...</td>\n",
       "      <td>...</td>\n",
       "      <td>...</td>\n",
       "    </tr>\n",
       "    <tr>\n",
       "      <th>2022-05-18</th>\n",
       "      <td>0.786496</td>\n",
       "      <td>0.778427</td>\n",
       "      <td>0.784139</td>\n",
       "      <td>0.784477</td>\n",
       "      <td>0.099888</td>\n",
       "    </tr>\n",
       "    <tr>\n",
       "      <th>2022-05-19</th>\n",
       "      <td>0.763910</td>\n",
       "      <td>0.760547</td>\n",
       "      <td>0.765629</td>\n",
       "      <td>0.771455</td>\n",
       "      <td>0.094707</td>\n",
       "    </tr>\n",
       "    <tr>\n",
       "      <th>2022-05-20</th>\n",
       "      <td>0.774093</td>\n",
       "      <td>0.775340</td>\n",
       "      <td>0.776709</td>\n",
       "      <td>0.787472</td>\n",
       "      <td>0.072257</td>\n",
       "    </tr>\n",
       "    <tr>\n",
       "      <th>2022-05-23</th>\n",
       "      <td>0.790282</td>\n",
       "      <td>0.780485</td>\n",
       "      <td>0.787919</td>\n",
       "      <td>0.790468</td>\n",
       "      <td>0.091823</td>\n",
       "    </tr>\n",
       "    <tr>\n",
       "      <th>2022-05-24</th>\n",
       "      <td>0.785451</td>\n",
       "      <td>0.775468</td>\n",
       "      <td>0.786876</td>\n",
       "      <td>0.787863</td>\n",
       "      <td>0.001789</td>\n",
       "    </tr>\n",
       "  </tbody>\n",
       "</table>\n",
       "<p>4851 rows × 5 columns</p>\n",
       "</div>"
      ],
      "text/plain": [
       "                Open      High       Low     Close    Volume\n",
       "Date                                                        \n",
       "2002-10-14  0.014726  0.017622  0.015407  0.017242  0.056594\n",
       "2002-10-15  0.015692  0.017262  0.017493  0.020706  0.049938\n",
       "2002-10-16  0.019139  0.018394  0.021273  0.021331  0.044177\n",
       "2002-10-17  0.017990  0.020915  0.020595  0.023336  0.045392\n",
       "2002-10-18  0.023891  0.026626  0.027504  0.029587  0.027612\n",
       "...              ...       ...       ...       ...       ...\n",
       "2022-05-18  0.786496  0.778427  0.784139  0.784477  0.099888\n",
       "2022-05-19  0.763910  0.760547  0.765629  0.771455  0.094707\n",
       "2022-05-20  0.774093  0.775340  0.776709  0.787472  0.072257\n",
       "2022-05-23  0.790282  0.780485  0.787919  0.790468  0.091823\n",
       "2022-05-24  0.785451  0.775468  0.786876  0.787863  0.001789\n",
       "\n",
       "[4851 rows x 5 columns]"
      ]
     },
     "execution_count": 26,
     "metadata": {},
     "output_type": "execute_result"
    }
   ],
   "source": [
    "scaled_data"
   ]
  },
  {
   "cell_type": "code",
   "execution_count": null,
   "id": "d10d89fd",
   "metadata": {},
   "outputs": [],
   "source": []
  },
  {
   "cell_type": "markdown",
   "id": "d5d0ca92",
   "metadata": {},
   "source": [
    "# LSTM 초안 (가격만으로)"
   ]
  },
  {
   "cell_type": "code",
   "execution_count": 51,
   "id": "b77e4ddf",
   "metadata": {},
   "outputs": [],
   "source": [
    "from keras.models import Sequential\n",
    "from keras.layers import LSTM, Dropout, Dense, Activation, Conv1D"
   ]
  },
  {
   "cell_type": "code",
   "execution_count": null,
   "id": "d72bf11c",
   "metadata": {},
   "outputs": [],
   "source": [
    "# compute mid price\n",
    "high_prices = data['High'].values\n",
    "low_prices = data['Low'].values\n",
    "mid_prices = (high_prices + low_prices) / 2"
   ]
  },
  {
   "cell_type": "markdown",
   "id": "d574e81b",
   "metadata": {},
   "source": []
  },
  {
   "cell_type": "code",
   "execution_count": 92,
   "id": "8828f552",
   "metadata": {},
   "outputs": [
    {
     "data": {
      "text/plain": [
       "4800"
      ]
     },
     "execution_count": 92,
     "metadata": {},
     "output_type": "execute_result"
    }
   ],
   "source": [
    "# create windows\n",
    "# 최근 50일간의 데이터를 바탕으로 다음날 예측\n",
    "window_size = 50\n",
    "sequence_length = window_size + 1\n",
    "\n",
    "result = []\n",
    "for index in range(len(mid_prices) - sequence_length):\n",
    "    result.append(mid_prices[index: index + sequence_length])\n",
    "len(result)\n",
    "#4800개의 window 생성"
   ]
  },
  {
   "cell_type": "code",
   "execution_count": 95,
   "id": "9283e192",
   "metadata": {},
   "outputs": [],
   "source": [
    "normalized_data = []\n",
    "window_mean = []\n",
    "window_std = []\n",
    "\n",
    "for window in result:\n",
    "    normalized_window = [((p - np.mean(window)) / np.std(window)) for p in window]\n",
    "    normalized_data.append(normalized_window)\n",
    "    window_mean.append(np.mean(window))\n",
    "    window_std.append(np.std(window))\n",
    "result = np.array(normalized_data)"
   ]
  },
  {
   "cell_type": "code",
   "execution_count": 77,
   "id": "7a97baa6",
   "metadata": {},
   "outputs": [
    {
     "data": {
      "text/plain": [
       "array([-2.1250841 , -2.00161971, -1.64806258, -1.51337416, -0.60235659,\n",
       "       -0.79129452, -1.18787712, -1.36184967, -0.94468968, -0.94094833,\n",
       "       -0.34233309, -0.17210188, -0.63977004, -0.67344215, -1.04009398,\n",
       "       -0.58926188, -0.46953883, -0.11972305,  0.05424951, -0.42090134,\n",
       "       -0.66221811, -1.05505936, -0.99332716, -0.89979353, -0.43399605,\n",
       "       -0.30491964, -0.41903067, -0.12720574,  0.61732197,  0.72956232,\n",
       "        0.79316519,  0.81374259,  0.77819981,  1.3805564 ,  1.35062564,\n",
       "        1.55639963,  1.80894043,  1.39365111,  1.25896268,  1.27205739,\n",
       "        1.12801559,  0.68466618,  0.70150224,  0.87547479,  0.80251856,\n",
       "        0.50321094,  0.83431999,  0.88108681,  1.045706  ,  0.9091469 ,\n",
       "        0.30679031])"
      ]
     },
     "execution_count": 77,
     "metadata": {},
     "output_type": "execute_result"
    }
   ],
   "source": [
    "train[0]"
   ]
  },
  {
   "cell_type": "code",
   "execution_count": 96,
   "id": "cb8028cf",
   "metadata": {},
   "outputs": [],
   "source": [
    "train = result[:4700, :]\n",
    "#np.random.shuffle(train)\n",
    "x_train = train[:, :-1]\n",
    "x_train = np.reshape(x_train, (x_train.shape[0], x_train.shape[1], 1))\n",
    "y_train = train[:, -1]"
   ]
  },
  {
   "cell_type": "code",
   "execution_count": 97,
   "id": "b7254d88",
   "metadata": {},
   "outputs": [
    {
     "data": {
      "text/plain": [
       "4700"
      ]
     },
     "execution_count": 97,
     "metadata": {},
     "output_type": "execute_result"
    }
   ],
   "source": [
    "len(x_train)"
   ]
  },
  {
   "cell_type": "code",
   "execution_count": 99,
   "id": "fb87a970",
   "metadata": {},
   "outputs": [],
   "source": [
    "x_test = result[4700:, :-1]\n",
    "x_test = np.reshape(x_test, (x_test.shape[0], x_test.shape[1], 1))\n",
    "y_test = result[4700:, -1]\n"
   ]
  },
  {
   "cell_type": "code",
   "execution_count": 100,
   "id": "f2ae9f3e",
   "metadata": {},
   "outputs": [
    {
     "name": "stdout",
     "output_type": "stream",
     "text": [
      "Model: \"sequential_1\"\n",
      "_________________________________________________________________\n",
      "Layer (type)                 Output Shape              Param #   \n",
      "=================================================================\n",
      "lstm_2 (LSTM)                (None, 50, 50)            10400     \n",
      "_________________________________________________________________\n",
      "lstm_3 (LSTM)                (None, 64)                29440     \n",
      "_________________________________________________________________\n",
      "dense_1 (Dense)              (None, 1)                 65        \n",
      "=================================================================\n",
      "Total params: 39,905\n",
      "Trainable params: 39,905\n",
      "Non-trainable params: 0\n",
      "_________________________________________________________________\n"
     ]
    }
   ],
   "source": [
    "model = Sequential()\n",
    "\n",
    "model.add(LSTM(50, return_sequences=True, input_shape=(50, 1))) # 50 -> window size\n",
    "\n",
    "model.add(LSTM(64, return_sequences=False))\n",
    "\n",
    "model.add(Dense(1, activation='linear')) # 다음날 하루 예측\n",
    "\n",
    "model.compile(loss='mse', optimizer='rmsprop')\n",
    "\n",
    "model.summary()"
   ]
  },
  {
   "cell_type": "code",
   "execution_count": 101,
   "id": "3f0005de",
   "metadata": {},
   "outputs": [
    {
     "name": "stdout",
     "output_type": "stream",
     "text": [
      "Epoch 1/20\n",
      "470/470 [==============================] - 22s 16ms/step - loss: 0.4454 - val_loss: 0.2444\n",
      "Epoch 2/20\n",
      "470/470 [==============================] - 7s 15ms/step - loss: 0.1415 - val_loss: 0.2291\n",
      "Epoch 3/20\n",
      "470/470 [==============================] - 7s 15ms/step - loss: 0.1437 - val_loss: 0.2447\n",
      "Epoch 4/20\n",
      "470/470 [==============================] - 7s 14ms/step - loss: 0.1315 - val_loss: 0.2761\n",
      "Epoch 5/20\n",
      "470/470 [==============================] - 7s 14ms/step - loss: 0.1376 - val_loss: 0.2386\n",
      "Epoch 6/20\n",
      "470/470 [==============================] - 7s 14ms/step - loss: 0.1380 - val_loss: 0.2496\n",
      "Epoch 7/20\n",
      "470/470 [==============================] - 7s 14ms/step - loss: 0.1372 - val_loss: 0.2459\n",
      "Epoch 8/20\n",
      "470/470 [==============================] - 7s 15ms/step - loss: 0.1344 - val_loss: 0.2641\n",
      "Epoch 9/20\n",
      "470/470 [==============================] - 7s 14ms/step - loss: 0.1360 - val_loss: 0.2536\n",
      "Epoch 10/20\n",
      "470/470 [==============================] - 7s 14ms/step - loss: 0.1409 - val_loss: 0.2440\n",
      "Epoch 11/20\n",
      "470/470 [==============================] - 7s 14ms/step - loss: 0.1409 - val_loss: 0.2367\n",
      "Epoch 12/20\n",
      "470/470 [==============================] - 7s 15ms/step - loss: 0.1368 - val_loss: 0.2528\n",
      "Epoch 13/20\n",
      "470/470 [==============================] - 7s 14ms/step - loss: 0.1352 - val_loss: 0.2437\n",
      "Epoch 14/20\n",
      "470/470 [==============================] - 7s 15ms/step - loss: 0.1416 - val_loss: 0.2416\n",
      "Epoch 15/20\n",
      "470/470 [==============================] - 8s 16ms/step - loss: 0.1357 - val_loss: 0.2425\n",
      "Epoch 16/20\n",
      "470/470 [==============================] - 7s 15ms/step - loss: 0.1300 - val_loss: 0.2420\n",
      "Epoch 17/20\n",
      "470/470 [==============================] - 7s 15ms/step - loss: 0.1293 - val_loss: 0.2299\n",
      "Epoch 18/20\n",
      "470/470 [==============================] - 7s 15ms/step - loss: 0.1397 - val_loss: 0.2327\n",
      "Epoch 19/20\n",
      "470/470 [==============================] - 7s 15ms/step - loss: 0.1351 - val_loss: 0.2343\n",
      "Epoch 20/20\n",
      "470/470 [==============================] - 7s 15ms/step - loss: 0.1349 - val_loss: 0.2312\n"
     ]
    },
    {
     "data": {
      "text/plain": [
       "<keras.callbacks.History at 0x22a2c707ac0>"
      ]
     },
     "execution_count": 101,
     "metadata": {},
     "output_type": "execute_result"
    }
   ],
   "source": [
    "model.fit(x_train, y_train,\n",
    "    validation_data=(x_test, y_test),\n",
    "    batch_size=10,\n",
    "    epochs=20)"
   ]
  },
  {
   "cell_type": "code",
   "execution_count": 102,
   "id": "4aab6744",
   "metadata": {},
   "outputs": [
    {
     "data": {
      "image/png": "[encoded data removed]",
      "text/plain": [
       "<Figure size 1440x720 with 1 Axes>"
      ]
     },
     "metadata": {},
     "output_type": "display_data"
    }
   ],
   "source": [
    "pred = model.predict(x_test)\n",
    "\n",
    "fig = plt.figure(facecolor='white', figsize=(20, 10))\n",
    "ax = fig.add_subplot(111)\n",
    "ax.plot(y_test, label='True')\n",
    "ax.plot(pred, label='Prediction')\n",
    "ax.legend()\n",
    "plt.show()"
   ]
  },
  {
   "cell_type": "code",
   "execution_count": null,
   "id": "63104658",
   "metadata": {},
   "outputs": [],
   "source": []
  },
  {
   "cell_type": "markdown",
   "id": "f6440ba0",
   "metadata": {},
   "source": [
    "# LSTM 뉴스 기사 + 거시경제지표 이용 분석"
   ]
  },
  {
   "cell_type": "code",
   "execution_count": null,
   "id": "f2ce869e",
   "metadata": {},
   "outputs": [],
   "source": []
  },
  {
   "cell_type": "code",
   "execution_count": null,
   "id": "cf518cf4",
   "metadata": {},
   "outputs": [],
   "source": []
  },
  {
   "cell_type": "markdown",
   "id": "444d9cc5",
   "metadata": {},
   "source": [
    "# train, test data 분할"
   ]
  },
  {
   "cell_type": "code",
   "execution_count": 27,
   "id": "1f7f58b5",
   "metadata": {},
   "outputs": [],
   "source": [
    "X = scaled_data.drop(columns='Close')"
   ]
  },
  {
   "cell_type": "code",
   "execution_count": 28,
   "id": "17a8dcde",
   "metadata": {},
   "outputs": [
    {
     "data": {
      "text/html": [
       "<div>\n",
       "<style scoped>\n",
       "    .dataframe tbody tr th:only-of-type {\n",
       "        vertical-align: middle;\n",
       "    }\n",
       "\n",
       "    .dataframe tbody tr th {\n",
       "        vertical-align: top;\n",
       "    }\n",
       "\n",
       "    .dataframe thead th {\n",
       "        text-align: right;\n",
       "    }\n",
       "</style>\n",
       "<table border=\"1\" class=\"dataframe\">\n",
       "  <thead>\n",
       "    <tr style=\"text-align: right;\">\n",
       "      <th></th>\n",
       "      <th>Open</th>\n",
       "      <th>High</th>\n",
       "      <th>Low</th>\n",
       "      <th>Volume</th>\n",
       "    </tr>\n",
       "    <tr>\n",
       "      <th>Date</th>\n",
       "      <th></th>\n",
       "      <th></th>\n",
       "      <th></th>\n",
       "      <th></th>\n",
       "    </tr>\n",
       "  </thead>\n",
       "  <tbody>\n",
       "    <tr>\n",
       "      <th>2002-10-14</th>\n",
       "      <td>0.014726</td>\n",
       "      <td>0.017622</td>\n",
       "      <td>0.015407</td>\n",
       "      <td>0.056594</td>\n",
       "    </tr>\n",
       "    <tr>\n",
       "      <th>2002-10-15</th>\n",
       "      <td>0.015692</td>\n",
       "      <td>0.017262</td>\n",
       "      <td>0.017493</td>\n",
       "      <td>0.049938</td>\n",
       "    </tr>\n",
       "    <tr>\n",
       "      <th>2002-10-16</th>\n",
       "      <td>0.019139</td>\n",
       "      <td>0.018394</td>\n",
       "      <td>0.021273</td>\n",
       "      <td>0.044177</td>\n",
       "    </tr>\n",
       "    <tr>\n",
       "      <th>2002-10-17</th>\n",
       "      <td>0.017990</td>\n",
       "      <td>0.020915</td>\n",
       "      <td>0.020595</td>\n",
       "      <td>0.045392</td>\n",
       "    </tr>\n",
       "    <tr>\n",
       "      <th>2002-10-18</th>\n",
       "      <td>0.023891</td>\n",
       "      <td>0.026626</td>\n",
       "      <td>0.027504</td>\n",
       "      <td>0.027612</td>\n",
       "    </tr>\n",
       "    <tr>\n",
       "      <th>...</th>\n",
       "      <td>...</td>\n",
       "      <td>...</td>\n",
       "      <td>...</td>\n",
       "      <td>...</td>\n",
       "    </tr>\n",
       "    <tr>\n",
       "      <th>2022-05-18</th>\n",
       "      <td>0.786496</td>\n",
       "      <td>0.778427</td>\n",
       "      <td>0.784139</td>\n",
       "      <td>0.099888</td>\n",
       "    </tr>\n",
       "    <tr>\n",
       "      <th>2022-05-19</th>\n",
       "      <td>0.763910</td>\n",
       "      <td>0.760547</td>\n",
       "      <td>0.765629</td>\n",
       "      <td>0.094707</td>\n",
       "    </tr>\n",
       "    <tr>\n",
       "      <th>2022-05-20</th>\n",
       "      <td>0.774093</td>\n",
       "      <td>0.775340</td>\n",
       "      <td>0.776709</td>\n",
       "      <td>0.072257</td>\n",
       "    </tr>\n",
       "    <tr>\n",
       "      <th>2022-05-23</th>\n",
       "      <td>0.790282</td>\n",
       "      <td>0.780485</td>\n",
       "      <td>0.787919</td>\n",
       "      <td>0.091823</td>\n",
       "    </tr>\n",
       "    <tr>\n",
       "      <th>2022-05-24</th>\n",
       "      <td>0.785451</td>\n",
       "      <td>0.775468</td>\n",
       "      <td>0.786876</td>\n",
       "      <td>0.001789</td>\n",
       "    </tr>\n",
       "  </tbody>\n",
       "</table>\n",
       "<p>4851 rows × 4 columns</p>\n",
       "</div>"
      ],
      "text/plain": [
       "                Open      High       Low    Volume\n",
       "Date                                              \n",
       "2002-10-14  0.014726  0.017622  0.015407  0.056594\n",
       "2002-10-15  0.015692  0.017262  0.017493  0.049938\n",
       "2002-10-16  0.019139  0.018394  0.021273  0.044177\n",
       "2002-10-17  0.017990  0.020915  0.020595  0.045392\n",
       "2002-10-18  0.023891  0.026626  0.027504  0.027612\n",
       "...              ...       ...       ...       ...\n",
       "2022-05-18  0.786496  0.778427  0.784139  0.099888\n",
       "2022-05-19  0.763910  0.760547  0.765629  0.094707\n",
       "2022-05-20  0.774093  0.775340  0.776709  0.072257\n",
       "2022-05-23  0.790282  0.780485  0.787919  0.091823\n",
       "2022-05-24  0.785451  0.775468  0.786876  0.001789\n",
       "\n",
       "[4851 rows x 4 columns]"
      ]
     },
     "execution_count": 28,
     "metadata": {},
     "output_type": "execute_result"
    }
   ],
   "source": [
    "X"
   ]
  },
  {
   "cell_type": "code",
   "execution_count": 29,
   "id": "10cf64a6",
   "metadata": {},
   "outputs": [
    {
     "name": "stdout",
     "output_type": "stream",
     "text": [
      "               Close\n",
      "Date                \n",
      "2002-10-14  0.017242\n",
      "2002-10-15  0.020706\n",
      "2002-10-16  0.021331\n",
      "2002-10-17  0.023336\n",
      "2002-10-18  0.029587\n",
      "...              ...\n",
      "2022-05-18  0.784477\n",
      "2022-05-19  0.771455\n",
      "2022-05-20  0.787472\n",
      "2022-05-23  0.790468\n",
      "2022-05-24  0.787863\n",
      "\n",
      "[4851 rows x 1 columns]\n"
     ]
    }
   ],
   "source": [
    "y = scaled_data.iloc[:, 3:4]\n",
    "print(y)"
   ]
  },
  {
   "cell_type": "code",
   "execution_count": 33,
   "id": "2c6a5662",
   "metadata": {
    "scrolled": true
   },
   "outputs": [
    {
     "data": {
      "text/html": [
       "<div>\n",
       "<style scoped>\n",
       "    .dataframe tbody tr th:only-of-type {\n",
       "        vertical-align: middle;\n",
       "    }\n",
       "\n",
       "    .dataframe tbody tr th {\n",
       "        vertical-align: top;\n",
       "    }\n",
       "\n",
       "    .dataframe thead th {\n",
       "        text-align: right;\n",
       "    }\n",
       "</style>\n",
       "<table border=\"1\" class=\"dataframe\">\n",
       "  <thead>\n",
       "    <tr style=\"text-align: right;\">\n",
       "      <th></th>\n",
       "      <th>Open</th>\n",
       "      <th>High</th>\n",
       "      <th>Low</th>\n",
       "      <th>Volume</th>\n",
       "    </tr>\n",
       "    <tr>\n",
       "      <th>Date</th>\n",
       "      <th></th>\n",
       "      <th></th>\n",
       "      <th></th>\n",
       "      <th></th>\n",
       "    </tr>\n",
       "  </thead>\n",
       "  <tbody>\n",
       "    <tr>\n",
       "      <th>2021-12-27</th>\n",
       "      <td>0.904071</td>\n",
       "      <td>0.890667</td>\n",
       "      <td>0.900855</td>\n",
       "      <td>0.058247</td>\n",
       "    </tr>\n",
       "    <tr>\n",
       "      <th>2021-12-28</th>\n",
       "      <td>0.901773</td>\n",
       "      <td>0.892185</td>\n",
       "      <td>0.897388</td>\n",
       "      <td>0.080000</td>\n",
       "    </tr>\n",
       "    <tr>\n",
       "      <th>2021-12-29</th>\n",
       "      <td>0.906003</td>\n",
       "      <td>0.896481</td>\n",
       "      <td>0.905600</td>\n",
       "      <td>0.067700</td>\n",
       "    </tr>\n",
       "    <tr>\n",
       "      <th>2021-12-30</th>\n",
       "      <td>0.904462</td>\n",
       "      <td>0.893445</td>\n",
       "      <td>0.898535</td>\n",
       "      <td>0.060386</td>\n",
       "    </tr>\n",
       "    <tr>\n",
       "      <th>2022-01-03</th>\n",
       "      <td>0.902034</td>\n",
       "      <td>0.895709</td>\n",
       "      <td>0.899447</td>\n",
       "      <td>0.077753</td>\n",
       "    </tr>\n",
       "    <tr>\n",
       "      <th>...</th>\n",
       "      <td>...</td>\n",
       "      <td>...</td>\n",
       "      <td>...</td>\n",
       "      <td>...</td>\n",
       "    </tr>\n",
       "    <tr>\n",
       "      <th>2022-05-18</th>\n",
       "      <td>0.786496</td>\n",
       "      <td>0.778427</td>\n",
       "      <td>0.784139</td>\n",
       "      <td>0.099888</td>\n",
       "    </tr>\n",
       "    <tr>\n",
       "      <th>2022-05-19</th>\n",
       "      <td>0.763910</td>\n",
       "      <td>0.760547</td>\n",
       "      <td>0.765629</td>\n",
       "      <td>0.094707</td>\n",
       "    </tr>\n",
       "    <tr>\n",
       "      <th>2022-05-20</th>\n",
       "      <td>0.774093</td>\n",
       "      <td>0.775340</td>\n",
       "      <td>0.776709</td>\n",
       "      <td>0.072257</td>\n",
       "    </tr>\n",
       "    <tr>\n",
       "      <th>2022-05-23</th>\n",
       "      <td>0.790282</td>\n",
       "      <td>0.780485</td>\n",
       "      <td>0.787919</td>\n",
       "      <td>0.091823</td>\n",
       "    </tr>\n",
       "    <tr>\n",
       "      <th>2022-05-24</th>\n",
       "      <td>0.785451</td>\n",
       "      <td>0.775468</td>\n",
       "      <td>0.786876</td>\n",
       "      <td>0.001789</td>\n",
       "    </tr>\n",
       "  </tbody>\n",
       "</table>\n",
       "<p>100 rows × 4 columns</p>\n",
       "</div>"
      ],
      "text/plain": [
       "                Open      High       Low    Volume\n",
       "Date                                              \n",
       "2021-12-27  0.904071  0.890667  0.900855  0.058247\n",
       "2021-12-28  0.901773  0.892185  0.897388  0.080000\n",
       "2021-12-29  0.906003  0.896481  0.905600  0.067700\n",
       "2021-12-30  0.904462  0.893445  0.898535  0.060386\n",
       "2022-01-03  0.902034  0.895709  0.899447  0.077753\n",
       "...              ...       ...       ...       ...\n",
       "2022-05-18  0.786496  0.778427  0.784139  0.099888\n",
       "2022-05-19  0.763910  0.760547  0.765629  0.094707\n",
       "2022-05-20  0.774093  0.775340  0.776709  0.072257\n",
       "2022-05-23  0.790282  0.780485  0.787919  0.091823\n",
       "2022-05-24  0.785451  0.775468  0.786876  0.001789\n",
       "\n",
       "[100 rows x 4 columns]"
      ]
     },
     "execution_count": 33,
     "metadata": {},
     "output_type": "execute_result"
    }
   ],
   "source": [
    "X_train = X.iloc[:-100, :] \n",
    "X_test = X.iloc[-100:, : ]\n",
    "X_test\n"
   ]
  },
  {
   "cell_type": "code",
   "execution_count": 36,
   "id": "ba092411",
   "metadata": {
    "scrolled": true
   },
   "outputs": [
    {
     "data": {
      "text/html": [
       "<div>\n",
       "<style scoped>\n",
       "    .dataframe tbody tr th:only-of-type {\n",
       "        vertical-align: middle;\n",
       "    }\n",
       "\n",
       "    .dataframe tbody tr th {\n",
       "        vertical-align: top;\n",
       "    }\n",
       "\n",
       "    .dataframe thead th {\n",
       "        text-align: right;\n",
       "    }\n",
       "</style>\n",
       "<table border=\"1\" class=\"dataframe\">\n",
       "  <thead>\n",
       "    <tr style=\"text-align: right;\">\n",
       "      <th></th>\n",
       "      <th>Close</th>\n",
       "    </tr>\n",
       "    <tr>\n",
       "      <th>Date</th>\n",
       "      <th></th>\n",
       "    </tr>\n",
       "  </thead>\n",
       "  <tbody>\n",
       "    <tr>\n",
       "      <th>2021-12-27</th>\n",
       "      <td>0.898502</td>\n",
       "    </tr>\n",
       "    <tr>\n",
       "      <th>2021-12-28</th>\n",
       "      <td>0.906837</td>\n",
       "    </tr>\n",
       "    <tr>\n",
       "      <th>2021-12-29</th>\n",
       "      <td>0.904519</td>\n",
       "    </tr>\n",
       "    <tr>\n",
       "      <th>2021-12-30</th>\n",
       "      <td>0.898268</td>\n",
       "    </tr>\n",
       "    <tr>\n",
       "      <th>2022-01-03</th>\n",
       "      <td>0.900664</td>\n",
       "    </tr>\n",
       "    <tr>\n",
       "      <th>...</th>\n",
       "      <td>...</td>\n",
       "    </tr>\n",
       "    <tr>\n",
       "      <th>2022-05-18</th>\n",
       "      <td>0.784477</td>\n",
       "    </tr>\n",
       "    <tr>\n",
       "      <th>2022-05-19</th>\n",
       "      <td>0.771455</td>\n",
       "    </tr>\n",
       "    <tr>\n",
       "      <th>2022-05-20</th>\n",
       "      <td>0.787472</td>\n",
       "    </tr>\n",
       "    <tr>\n",
       "      <th>2022-05-23</th>\n",
       "      <td>0.790468</td>\n",
       "    </tr>\n",
       "    <tr>\n",
       "      <th>2022-05-24</th>\n",
       "      <td>0.787863</td>\n",
       "    </tr>\n",
       "  </tbody>\n",
       "</table>\n",
       "<p>100 rows × 1 columns</p>\n",
       "</div>"
      ],
      "text/plain": [
       "               Close\n",
       "Date                \n",
       "2021-12-27  0.898502\n",
       "2021-12-28  0.906837\n",
       "2021-12-29  0.904519\n",
       "2021-12-30  0.898268\n",
       "2022-01-03  0.900664\n",
       "...              ...\n",
       "2022-05-18  0.784477\n",
       "2022-05-19  0.771455\n",
       "2022-05-20  0.787472\n",
       "2022-05-23  0.790468\n",
       "2022-05-24  0.787863\n",
       "\n",
       "[100 rows x 1 columns]"
      ]
     },
     "execution_count": 36,
     "metadata": {},
     "output_type": "execute_result"
    }
   ],
   "source": [
    "y_train = y.iloc[:-100, :] \n",
    "y_test = y.iloc[-100:, :]\n",
    "y_test"
   ]
  },
  {
   "cell_type": "code",
   "execution_count": 37,
   "id": "4aea4741",
   "metadata": {
    "ExecuteTime": {
     "end_time": "2022-05-19T14:34:10.441838Z",
     "start_time": "2022-05-19T14:34:10.428689Z"
    }
   },
   "outputs": [],
   "source": [
    "# 종가만 추출\n",
    "close = data['Close']\n",
    "\n",
    "# 비교 기준 구간\n",
    "start_date = '2021-12-27'\n",
    "end_date = '2022-05-23'"
   ]
  },
  {
   "cell_type": "code",
   "execution_count": 38,
   "id": "a8fbc401",
   "metadata": {
    "ExecuteTime": {
     "end_time": "2022-05-19T14:34:10.752332Z",
     "start_time": "2022-05-19T14:34:10.443833Z"
    }
   },
   "outputs": [
    {
     "data": {
      "image/png": "[encoded data removed]",
      "text/plain": [
       "<Figure size 432x288 with 1 Axes>"
      ]
     },
     "metadata": {
      "needs_background": "light"
     },
     "output_type": "display_data"
    }
   ],
   "source": [
    "# 기준 구간 시계열 차트\n",
    "close[start_date:end_date].plot();"
   ]
  }
 ],
 "metadata": {
  "interpreter": {
   "hash": "6494861ce0a9247699d4b666f0b06cd8da3baab5a92264a9fe7e94a414e538ea"
  },
  "kernelspec": {
   "display_name": "Python 3 (ipykernel)",
   "language": "python",
   "name": "python3"
  },
  "language_info": {
   "codemirror_mode": {
    "name": "ipython",
    "version": 3
   },
   "file_extension": ".py",
   "mimetype": "text/x-python",
   "name": "python",
   "nbconvert_exporter": "python",
   "pygments_lexer": "ipython3",
   "version": "3.9.7"
  },
  "toc": {
   "base_numbering": 1,
   "nav_menu": {},
   "number_sections": true,
   "sideBar": true,
   "skip_h1_title": false,
   "title_cell": "Table of Contents",
   "title_sidebar": "Contents",
   "toc_cell": false,
   "toc_position": {},
   "toc_section_display": true,
   "toc_window_display": false
  },
  "varInspector": {
   "cols": {
    "lenName": 16,
    "lenType": 16,
    "lenVar": 40
   },
   "kernels_config": {
    "python": {
     "delete_cmd_postfix": "",
     "delete_cmd_prefix": "del ",
     "library": "var_list.py",
     "varRefreshCmd": "print(var_dic_list())"
    },
    "r": {
     "delete_cmd_postfix": ") ",
     "delete_cmd_prefix": "rm(",
     "library": "var_list.r",
     "varRefreshCmd": "cat(var_dic_list()) "
    }
   },
   "types_to_exclude": [
    "module",
    "function",
    "builtin_function_or_method",
    "instance",
    "_Feature"
   ],
   "window_display": false
  }
 },
 "nbformat": 4,
 "nbformat_minor": 5
}
